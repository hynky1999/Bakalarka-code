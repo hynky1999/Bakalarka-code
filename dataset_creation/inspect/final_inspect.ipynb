{
 "cells": [
  {
   "cell_type": "code",
   "execution_count": 3,
   "metadata": {},
   "outputs": [
    {
     "name": "stderr",
     "output_type": "stream",
     "text": [
      "Found cached dataset dataset (/home/kydliceh/.cache/huggingface/datasets/dataset/default/0.0.0/dd40f907db796b1c96c399ea8c9ec6f99ebe75363e9a0f0f63f6a15c6f03423f)\n",
      "Loading cached processed dataset at /home/kydliceh/.cache/huggingface/datasets/dataset/default/0.0.0/dd40f907db796b1c96c399ea8c9ec6f99ebe75363e9a0f0f63f6a15c6f03423f/cache-004177b97eafd937_*_of_00004.arrow\n",
      "Loading cached processed dataset at /home/kydliceh/.cache/huggingface/datasets/dataset/default/0.0.0/dd40f907db796b1c96c399ea8c9ec6f99ebe75363e9a0f0f63f6a15c6f03423f/cache-23354c45ea8bbeb1_*_of_00004.arrow\n",
      "Found cached dataset dataset (/home/kydliceh/.cache/huggingface/datasets/dataset/default/0.0.0/dd40f907db796b1c96c399ea8c9ec6f99ebe75363e9a0f0f63f6a15c6f03423f)\n",
      "Loading cached processed dataset at /home/kydliceh/.cache/huggingface/datasets/dataset/default/0.0.0/dd40f907db796b1c96c399ea8c9ec6f99ebe75363e9a0f0f63f6a15c6f03423f/cache-8f433d48169dd42a_*_of_00004.arrow\n",
      "Loading cached processed dataset at /home/kydliceh/.cache/huggingface/datasets/dataset/default/0.0.0/dd40f907db796b1c96c399ea8c9ec6f99ebe75363e9a0f0f63f6a15c6f03423f/cache-aa0dbd845ed31a25_*_of_00004.arrow\n",
      "Found cached dataset dataset (/home/kydliceh/.cache/huggingface/datasets/dataset/default/0.0.0/dd40f907db796b1c96c399ea8c9ec6f99ebe75363e9a0f0f63f6a15c6f03423f)\n",
      "Loading cached processed dataset at /home/kydliceh/.cache/huggingface/datasets/dataset/default/0.0.0/dd40f907db796b1c96c399ea8c9ec6f99ebe75363e9a0f0f63f6a15c6f03423f/cache-4d0f1906ce0d03a6_*_of_00004.arrow\n",
      "Loading cached processed dataset at /home/kydliceh/.cache/huggingface/datasets/dataset/default/0.0.0/dd40f907db796b1c96c399ea8c9ec6f99ebe75363e9a0f0f63f6a15c6f03423f/cache-f3ebd94bd6552dd8_*_of_00004.arrow\n",
      "Loading cached processed dataset at /home/kydliceh/.cache/huggingface/datasets/dataset/default/0.0.0/dd40f907db796b1c96c399ea8c9ec6f99ebe75363e9a0f0f63f6a15c6f03423f/cache-bc8b848ea81e2900_*_of_00004.arrow\n",
      "Loading cached processed dataset at /home/kydliceh/.cache/huggingface/datasets/dataset/default/0.0.0/dd40f907db796b1c96c399ea8c9ec6f99ebe75363e9a0f0f63f6a15c6f03423f/cache-f9dbbf8bb3a57899_*_of_00004.arrow\n"
     ]
    },
    {
     "name": "stdout",
     "output_type": "stream",
     "text": [
      "Server seznamzpravy has 65472 rows, 382 authors, 11 categories, and time range (datetime.date(2016, 9, 14), datetime.date(2022, 8, 6)) and avg words 463.0216122922776\n"
     ]
    },
    {
     "data": {
      "application/vnd.jupyter.widget-view+json": {
       "model_id": "bcea2cd3acb649dc9a67bb9eb8ad18be",
       "version_major": 2,
       "version_minor": 0
      },
      "text/plain": [
       "Filter (num_proc=4):   0%|          | 0/1627410 [00:00<?, ? examples/s]"
      ]
     },
     "metadata": {},
     "output_type": "display_data"
    },
    {
     "name": "stdout",
     "output_type": "stream",
     "text": [
      "Server idnes has 295840 rows, 4386 authors, 21 categories, and time range (datetime.date(2000, 1, 3), datetime.date(2022, 8, 9)) and avg words 442.35492833964304\n"
     ]
    },
    {
     "data": {
      "application/vnd.jupyter.widget-view+json": {
       "model_id": "c43e12268e954e1996a0b7a2f4f029c4",
       "version_major": 2,
       "version_minor": 0
      },
      "text/plain": [
       "Filter (num_proc=4):   0%|          | 0/1627410 [00:00<?, ? examples/s]"
      ]
     },
     "metadata": {},
     "output_type": "display_data"
    },
    {
     "name": "stdout",
     "output_type": "stream",
     "text": [
      "Server aktualne has 112960 rows, 633 authors, 19 categories, and time range (datetime.date(2005, 10, 26), datetime.date(2022, 8, 6)) and avg words 488.95486898017\n"
     ]
    },
    {
     "data": {
      "application/vnd.jupyter.widget-view+json": {
       "model_id": "418196b87dc041c69f478f9f04212e84",
       "version_major": 2,
       "version_minor": 0
      },
      "text/plain": [
       "Filter (num_proc=4):   0%|          | 0/1627410 [00:00<?, ? examples/s]"
      ]
     },
     "metadata": {},
     "output_type": "display_data"
    },
    {
     "name": "stdout",
     "output_type": "stream",
     "text": [
      "Server novinky has 321417 rows, 2518 authors, 17 categories, and time range (datetime.date(2002, 12, 20), datetime.date(2022, 8, 6)) and avg words 285.8204637589175\n"
     ]
    },
    {
     "data": {
      "application/vnd.jupyter.widget-view+json": {
       "model_id": "69b53cb9e63c43948b14259cb756d72b",
       "version_major": 2,
       "version_minor": 0
      },
      "text/plain": [
       "Filter (num_proc=4):   0%|          | 0/1627410 [00:00<?, ? examples/s]"
      ]
     },
     "metadata": {},
     "output_type": "display_data"
    },
    {
     "name": "stdout",
     "output_type": "stream",
     "text": [
      "Server denik has 664133 rows, 2497 authors, 18 categories, and time range (datetime.date(2007, 3, 27), datetime.date(2022, 8, 6)) and avg words 347.900257930264\n"
     ]
    },
    {
     "data": {
      "application/vnd.jupyter.widget-view+json": {
       "model_id": "95e00ef556aa46a5a566ad6cee861f63",
       "version_major": 2,
       "version_minor": 0
      },
      "text/plain": [
       "Filter (num_proc=4):   0%|          | 0/1627410 [00:00<?, ? examples/s]"
      ]
     },
     "metadata": {},
     "output_type": "display_data"
    },
    {
     "name": "stdout",
     "output_type": "stream",
     "text": [
      "Server irozhlas has 167588 rows, 1900 authors, 8 categories, and time range (datetime.date(2000, 7, 8), datetime.date(2022, 6, 25)) and avg words 300.23891328734754\n",
      "Server all has 1627410 rows, 10930 authors, 25 categories, and time range (datetime.date(2000, 1, 3), datetime.date(2022, 8, 9)) and avg words 362.32394541019164\n"
     ]
    }
   ],
   "source": [
    "import numpy as np\n",
    "from datasets import load_dataset, concatenate_datasets\n",
    "from Modelling.Baseline.create_baseline_dataset import add_tokenized\n",
    "from pathlib import Path\n",
    "f = str(Path(\"../../final_dataset/dataset.py\"))\n",
    "dataset = map(lambda x: add_tokenized( \"moses\", [\"words\"], 4, load_dataset(str(Path(\"../../final_dataset/dataset.py\")), split=x), batch_size=2000),   [\"train\", \"validation\", \"test\"])\n",
    "dataset = concatenate_datasets(list(dataset))\n",
    "\n",
    "for i,server in enumerate(dataset.features[\"server\"].names + ['all']):\n",
    "    if server == \"all\":\n",
    "        server_rows = dataset\n",
    "    else:\n",
    "        server_rows = dataset.filter(lambda batch: list(map(lambda x: x == i, batch[\"server\"])), batched=True,num_proc=4)\n",
    "    if len(server_rows) == 0:\n",
    "        continue\n",
    "\n",
    "\n",
    "    uniq_authors = np.unique(np.concatenate(list(map(np.array, server_rows[\"authors\"]))))\n",
    "    uniq_category = set(server_rows[\"category\"])\n",
    "    time_range = min(server_rows[\"date\"]), max(server_rows[\"date\"])\n",
    "    avg_words = np.mean(server_rows[\"words\"])\n",
    "\n",
    "    print(f\"Server {server} has {len(server_rows)} rows, {len(uniq_authors)} authors, {len(uniq_category) - 1} categories, and time range {time_range} and avg words {avg_words}\")\n",
    "\n",
    "\n"
   ]
  },
  {
   "cell_type": "code",
   "execution_count": null,
   "metadata": {},
   "outputs": [],
   "source": [
    "for task in [\"server\", \"authors_cum_gender\", \"day_of_week\", \"category\"]:\n",
    "    print(f\"Task {task}\")\n",
    "    train_col = load_dataset(\"hynky/czech_news_dataset\", split=\"train\")[task]\n",
    "    val_col = load_dataset(\"hynky/czech_news_dataset\", split=\"validation\")[task]\n",
    "    test_col = load_dataset(\"hynky/czech_news_dataset\", split=\"test\")[task]\n",
    "\n",
    "    # plot a distribution of the values in the column based on the split\n",
    "    plt.figure(figsize=(10, 5))\n",
    "    plt.hist(train_col, bins=100, alpha=0.5, label=\"train\")\n",
    "    plt.hist(val_col, bins=100, alpha=0.5, label=\"validation\")\n",
    "    plt.hist(test_col, bins=100, alpha=0.5, label=\"test\")\n",
    "\n",
    "\n",
    "\n",
    "\n",
    "\n",
    "\n",
    "\n",
    "\n",
    "\n",
    "    \n"
   ]
  }
 ],
 "metadata": {
  "kernelspec": {
   "display_name": "Python 3 (ipykernel)",
   "language": "python",
   "name": "python3"
  },
  "language_info": {
   "codemirror_mode": {
    "name": "ipython",
    "version": 3
   },
   "file_extension": ".py",
   "mimetype": "text/x-python",
   "name": "python",
   "nbconvert_exporter": "python",
   "pygments_lexer": "ipython3",
   "version": "3.10.4"
  },
  "orig_nbformat": 4
 },
 "nbformat": 4,
 "nbformat_minor": 2
}
