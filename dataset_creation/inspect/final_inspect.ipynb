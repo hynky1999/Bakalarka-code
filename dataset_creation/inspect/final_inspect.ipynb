{
 "cells": [
  {
   "cell_type": "code",
   "execution_count": 3,
   "metadata": {},
   "outputs": [
    {
     "name": "stderr",
     "output_type": "stream",
     "text": [
      "Found cached dataset dataset (/home/kydliceh/.cache/huggingface/datasets/dataset/default/0.0.0/dd40f907db796b1c96c399ea8c9ec6f99ebe75363e9a0f0f63f6a15c6f03423f)\n",
      "Loading cached processed dataset at /home/kydliceh/.cache/huggingface/datasets/dataset/default/0.0.0/dd40f907db796b1c96c399ea8c9ec6f99ebe75363e9a0f0f63f6a15c6f03423f/cache-004177b97eafd937_*_of_00004.arrow\n",
      "Loading cached processed dataset at /home/kydliceh/.cache/huggingface/datasets/dataset/default/0.0.0/dd40f907db796b1c96c399ea8c9ec6f99ebe75363e9a0f0f63f6a15c6f03423f/cache-23354c45ea8bbeb1_*_of_00004.arrow\n",
      "Found cached dataset dataset (/home/kydliceh/.cache/huggingface/datasets/dataset/default/0.0.0/dd40f907db796b1c96c399ea8c9ec6f99ebe75363e9a0f0f63f6a15c6f03423f)\n",
      "Loading cached processed dataset at /home/kydliceh/.cache/huggingface/datasets/dataset/default/0.0.0/dd40f907db796b1c96c399ea8c9ec6f99ebe75363e9a0f0f63f6a15c6f03423f/cache-8f433d48169dd42a_*_of_00004.arrow\n",
      "Loading cached processed dataset at /home/kydliceh/.cache/huggingface/datasets/dataset/default/0.0.0/dd40f907db796b1c96c399ea8c9ec6f99ebe75363e9a0f0f63f6a15c6f03423f/cache-aa0dbd845ed31a25_*_of_00004.arrow\n",
      "Found cached dataset dataset (/home/kydliceh/.cache/huggingface/datasets/dataset/default/0.0.0/dd40f907db796b1c96c399ea8c9ec6f99ebe75363e9a0f0f63f6a15c6f03423f)\n",
      "Loading cached processed dataset at /home/kydliceh/.cache/huggingface/datasets/dataset/default/0.0.0/dd40f907db796b1c96c399ea8c9ec6f99ebe75363e9a0f0f63f6a15c6f03423f/cache-4d0f1906ce0d03a6_*_of_00004.arrow\n",
      "Loading cached processed dataset at /home/kydliceh/.cache/huggingface/datasets/dataset/default/0.0.0/dd40f907db796b1c96c399ea8c9ec6f99ebe75363e9a0f0f63f6a15c6f03423f/cache-f3ebd94bd6552dd8_*_of_00004.arrow\n",
      "Loading cached processed dataset at /home/kydliceh/.cache/huggingface/datasets/dataset/default/0.0.0/dd40f907db796b1c96c399ea8c9ec6f99ebe75363e9a0f0f63f6a15c6f03423f/cache-bc8b848ea81e2900_*_of_00004.arrow\n",
      "Loading cached processed dataset at /home/kydliceh/.cache/huggingface/datasets/dataset/default/0.0.0/dd40f907db796b1c96c399ea8c9ec6f99ebe75363e9a0f0f63f6a15c6f03423f/cache-f9dbbf8bb3a57899_*_of_00004.arrow\n"
     ]
    },
    {
     "name": "stdout",
     "output_type": "stream",
     "text": [
      "Server seznamzpravy has 65472 rows, 382 authors, 11 categories, and time range (datetime.date(2016, 9, 14), datetime.date(2022, 8, 6)) and avg words 463.0216122922776\n"
     ]
    },
    {
     "data": {
      "application/vnd.jupyter.widget-view+json": {
       "model_id": "bcea2cd3acb649dc9a67bb9eb8ad18be",
       "version_major": 2,
       "version_minor": 0
      },
      "text/plain": [
       "Filter (num_proc=4):   0%|          | 0/1627410 [00:00<?, ? examples/s]"
      ]
     },
     "metadata": {},
     "output_type": "display_data"
    },
    {
     "name": "stdout",
     "output_type": "stream",
     "text": [
      "Server idnes has 295840 rows, 4386 authors, 21 categories, and time range (datetime.date(2000, 1, 3), datetime.date(2022, 8, 9)) and avg words 442.35492833964304\n"
     ]
    },
    {
     "data": {
      "application/vnd.jupyter.widget-view+json": {
       "model_id": "c43e12268e954e1996a0b7a2f4f029c4",
       "version_major": 2,
       "version_minor": 0
      },
      "text/plain": [
       "Filter (num_proc=4):   0%|          | 0/1627410 [00:00<?, ? examples/s]"
      ]
     },
     "metadata": {},
     "output_type": "display_data"
    },
    {
     "name": "stdout",
     "output_type": "stream",
     "text": [
      "Server aktualne has 112960 rows, 633 authors, 19 categories, and time range (datetime.date(2005, 10, 26), datetime.date(2022, 8, 6)) and avg words 488.95486898017\n"
     ]
    },
    {
     "data": {
      "application/vnd.jupyter.widget-view+json": {
       "model_id": "418196b87dc041c69f478f9f04212e84",
       "version_major": 2,
       "version_minor": 0
      },
      "text/plain": [
       "Filter (num_proc=4):   0%|          | 0/1627410 [00:00<?, ? examples/s]"
      ]
     },
     "metadata": {},
     "output_type": "display_data"
    },
    {
     "name": "stdout",
     "output_type": "stream",
     "text": [
      "Server novinky has 321417 rows, 2518 authors, 17 categories, and time range (datetime.date(2002, 12, 20), datetime.date(2022, 8, 6)) and avg words 285.8204637589175\n"
     ]
    },
    {
     "data": {
      "application/vnd.jupyter.widget-view+json": {
       "model_id": "69b53cb9e63c43948b14259cb756d72b",
       "version_major": 2,
       "version_minor": 0
      },
      "text/plain": [
       "Filter (num_proc=4):   0%|          | 0/1627410 [00:00<?, ? examples/s]"
      ]
     },
     "metadata": {},
     "output_type": "display_data"
    },
    {
     "name": "stdout",
     "output_type": "stream",
     "text": [
      "Server denik has 664133 rows, 2497 authors, 18 categories, and time range (datetime.date(2007, 3, 27), datetime.date(2022, 8, 6)) and avg words 347.900257930264\n"
     ]
    },
    {
     "data": {
      "application/vnd.jupyter.widget-view+json": {
       "model_id": "95e00ef556aa46a5a566ad6cee861f63",
       "version_major": 2,
       "version_minor": 0
      },
      "text/plain": [
       "Filter (num_proc=4):   0%|          | 0/1627410 [00:00<?, ? examples/s]"
      ]
     },
     "metadata": {},
     "output_type": "display_data"
    },
    {
     "name": "stdout",
     "output_type": "stream",
     "text": [
      "Server irozhlas has 167588 rows, 1900 authors, 8 categories, and time range (datetime.date(2000, 7, 8), datetime.date(2022, 6, 25)) and avg words 300.23891328734754\n",
      "Server all has 1627410 rows, 10930 authors, 25 categories, and time range (datetime.date(2000, 1, 3), datetime.date(2022, 8, 9)) and avg words 362.32394541019164\n"
     ]
    }
   ],
   "source": [
    "import numpy as np\n",
    "from datasets import load_dataset, concatenate_datasets\n",
    "from Modelling.Baseline.create_baseline_dataset import add_tokenized\n",
    "from pathlib import Path\n",
    "f = str(Path(\"../../final_dataset/dataset.py\"))\n",
    "dataset = map(lambda x: add_tokenized( \"moses\", [\"words\"], 4, load_dataset(str(Path(\"../../final_dataset/dataset.py\")), split=x), batch_size=2000),   [\"train\", \"validation\", \"test\"])\n",
    "dataset = concatenate_datasets(list(dataset))\n",
    "\n",
    "for i,server in enumerate(dataset.features[\"server\"].names + ['all']):\n",
    "    if server == \"all\":\n",
    "        server_rows = dataset\n",
    "    else:\n",
    "        server_rows = dataset.filter(lambda batch: list(map(lambda x: x == i, batch[\"server\"])), batched=True,num_proc=4)\n",
    "    if len(server_rows) == 0:\n",
    "        continue\n",
    "\n",
    "\n",
    "    uniq_authors = np.unique(np.concatenate(list(map(np.array, server_rows[\"authors\"]))))\n",
    "    uniq_category = set(server_rows[\"category\"])\n",
    "    time_range = min(server_rows[\"date\"]), max(server_rows[\"date\"])\n",
    "    avg_words = np.mean(server_rows[\"words\"])\n",
    "\n",
    "    print(f\"Server {server} has {len(server_rows)} rows, {len(uniq_authors)} authors, {len(uniq_category) - 1} categories, and time range {time_range} and avg words {avg_words}\")\n",
    "\n",
    "\n"
   ]
  },
  {
   "cell_type": "code",
   "execution_count": 43,
   "metadata": {},
   "outputs": [
    {
     "name": "stderr",
     "output_type": "stream",
     "text": [
      "Found cached dataset parquet (/home/kydliceh/.cache/huggingface/datasets/hynky___parquet/hynky--czech_news_dataset-0cbab0cb100c6b2f/0.0.0/2a3b91fbd88a2c90d1dbbb32b460cf621d31bd5b05b934492fdef7d8d6f236ec)\n"
     ]
    },
    {
     "data": {
      "application/vnd.jupyter.widget-view+json": {
       "model_id": "a1e9d89db6db426991907a0a49db5464",
       "version_major": 2,
       "version_minor": 0
      },
      "text/plain": [
       "  0%|          | 0/3 [00:00<?, ?it/s]"
      ]
     },
     "metadata": {},
     "output_type": "display_data"
    }
   ],
   "source": [
    "from datasets import load_dataset, concatenate_datasets\n",
    "task = \"server\"\n",
    "columns_to_keep = [\"server\", \"category\", \"authors_cum_gender\", \"day_of_week\"]\n",
    "dst = load_dataset(\"hynky/czech_news_dataset\")\n",
    "dst = dst.remove_columns(set(dst['train'].column_names) - set(columns_to_keep))"
   ]
  },
  {
   "cell_type": "code",
   "execution_count": 124,
   "metadata": {},
   "outputs": [
    {
     "name": "stderr",
     "output_type": "stream",
     "text": [
      "Loading cached processed dataset at /home/kydliceh/.cache/huggingface/datasets/hynky___parquet/hynky--czech_news_dataset-0cbab0cb100c6b2f/0.0.0/2a3b91fbd88a2c90d1dbbb32b460cf621d31bd5b05b934492fdef7d8d6f236ec/cache-a2e957478a039e18_*_of_00004.arrow\n",
      "Loading cached processed dataset at /home/kydliceh/.cache/huggingface/datasets/hynky___parquet/hynky--czech_news_dataset-0cbab0cb100c6b2f/0.0.0/2a3b91fbd88a2c90d1dbbb32b460cf621d31bd5b05b934492fdef7d8d6f236ec/cache-3f050d0139d47721_*_of_00004.arrow\n",
      "Loading cached processed dataset at /home/kydliceh/.cache/huggingface/datasets/hynky___parquet/hynky--czech_news_dataset-0cbab0cb100c6b2f/0.0.0/2a3b91fbd88a2c90d1dbbb32b460cf621d31bd5b05b934492fdef7d8d6f236ec/cache-d8e3507f8bfab267_*_of_00004.arrow\n",
      "Loading cached processed dataset at /home/kydliceh/.cache/huggingface/datasets/hynky___parquet/hynky--czech_news_dataset-0cbab0cb100c6b2f/0.0.0/2a3b91fbd88a2c90d1dbbb32b460cf621d31bd5b05b934492fdef7d8d6f236ec/cache-8514e6ea80dac6ad_*_of_00004.arrow\n",
      "Loading cached processed dataset at /home/kydliceh/.cache/huggingface/datasets/hynky___parquet/hynky--czech_news_dataset-0cbab0cb100c6b2f/0.0.0/2a3b91fbd88a2c90d1dbbb32b460cf621d31bd5b05b934492fdef7d8d6f236ec/cache-75ce58c68b443b0e_*_of_00004.arrow\n",
      "Loading cached processed dataset at /home/kydliceh/.cache/huggingface/datasets/hynky___parquet/hynky--czech_news_dataset-0cbab0cb100c6b2f/0.0.0/2a3b91fbd88a2c90d1dbbb32b460cf621d31bd5b05b934492fdef7d8d6f236ec/cache-61bd8a4fffa380e1_*_of_00004.arrow\n",
      "Loading cached processed dataset at /home/kydliceh/.cache/huggingface/datasets/hynky___parquet/hynky--czech_news_dataset-0cbab0cb100c6b2f/0.0.0/2a3b91fbd88a2c90d1dbbb32b460cf621d31bd5b05b934492fdef7d8d6f236ec/cache-837adfef5e07dcce_*_of_00004.arrow\n",
      "Loading cached processed dataset at /home/kydliceh/.cache/huggingface/datasets/hynky___parquet/hynky--czech_news_dataset-0cbab0cb100c6b2f/0.0.0/2a3b91fbd88a2c90d1dbbb32b460cf621d31bd5b05b934492fdef7d8d6f236ec/cache-222cec6bbc7e144f_*_of_00004.arrow\n",
      "Loading cached processed dataset at /home/kydliceh/.cache/huggingface/datasets/hynky___parquet/hynky--czech_news_dataset-0cbab0cb100c6b2f/0.0.0/2a3b91fbd88a2c90d1dbbb32b460cf621d31bd5b05b934492fdef7d8d6f236ec/cache-1c6017233c9ba7b2_*_of_00004.arrow\n",
      "Loading cached processed dataset at /home/kydliceh/.cache/huggingface/datasets/hynky___parquet/hynky--czech_news_dataset-0cbab0cb100c6b2f/0.0.0/2a3b91fbd88a2c90d1dbbb32b460cf621d31bd5b05b934492fdef7d8d6f236ec/cache-c42703f443dbb7e6_*_of_00004.arrow\n",
      "Loading cached processed dataset at /home/kydliceh/.cache/huggingface/datasets/hynky___parquet/hynky--czech_news_dataset-0cbab0cb100c6b2f/0.0.0/2a3b91fbd88a2c90d1dbbb32b460cf621d31bd5b05b934492fdef7d8d6f236ec/cache-9327dec7c767e860_*_of_00004.arrow\n",
      "Loading cached processed dataset at /home/kydliceh/.cache/huggingface/datasets/hynky___parquet/hynky--czech_news_dataset-0cbab0cb100c6b2f/0.0.0/2a3b91fbd88a2c90d1dbbb32b460cf621d31bd5b05b934492fdef7d8d6f236ec/cache-30c04e0c8f361c7d_*_of_00004.arrow\n"
     ]
    }
   ],
   "source": [
    "import pandas as pd\n",
    "dfs = {}\n",
    "for column in columns_to_keep:\n",
    "    filtered = dst.filter(lambda batch: [i != 0 for i in batch[column]], batched=True, num_proc=4)\n",
    "    train_df = filtered[\"train\"].to_pandas()\n",
    "    val_df = filtered[\"validation\"].to_pandas()\n",
    "    test_df = filtered[\"test\"].to_pandas()\n",
    "    df = pd.DataFrame(\n",
    "        {\n",
    "            \"train\": train_df[column].value_counts(),\n",
    "            \"validation\": val_df[column].value_counts(),\n",
    "            \"test\": test_df[column].value_counts(),\n",
    "        },\n",
    "    ).T\n",
    "    df.columns = [x.capitalize() for x in filtered[\"train\"].features[column].names[1:]]\n",
    "    df.index = [x.capitalize() for x in df.index]\n",
    "    df = df.T\n",
    "    if column in [\"server\", \"category\"]:\n",
    "        df = df.reindex(df[\"Train\"].sort_values(ascending=False).index)\n",
    "\n",
    "    dfs[column] = df\n",
    "\n"
   ]
  },
  {
   "cell_type": "code",
   "execution_count": 141,
   "metadata": {},
   "outputs": [
    {
     "ename": "AttributeError",
     "evalue": "'AxesSubplot' object has no attribute 'savefig'",
     "output_type": "error",
     "traceback": [
      "\u001b[0;31m---------------------------------------------------------------------------\u001b[0m",
      "\u001b[0;31mAttributeError\u001b[0m                            Traceback (most recent call last)",
      "Cell \u001b[0;32mIn[141], line 9\u001b[0m\n\u001b[1;32m      7\u001b[0m ax\u001b[39m.\u001b[39mlegend(loc\u001b[39m=\u001b[39m\u001b[39m'\u001b[39m\u001b[39mupper center\u001b[39m\u001b[39m'\u001b[39m, bbox_to_anchor\u001b[39m=\u001b[39m(\u001b[39m0.5\u001b[39m, \u001b[39m-\u001b[39m\u001b[39m0.1\u001b[39m), fancybox\u001b[39m=\u001b[39m\u001b[39mTrue\u001b[39;00m, shadow\u001b[39m=\u001b[39m\u001b[39mTrue\u001b[39;00m, ncol\u001b[39m=\u001b[39m\u001b[39m4\u001b[39m)\n\u001b[1;32m      8\u001b[0m \u001b[39m# save the plot\u001b[39;00m\n\u001b[0;32m----> 9\u001b[0m ax\u001b[39m.\u001b[39;49msavefig(\u001b[39mf\u001b[39m\u001b[39m\"\u001b[39m\u001b[39mtasks_im/\u001b[39m\u001b[39m{\u001b[39;00mcolumn\u001b[39m}\u001b[39;00m\u001b[39m.png\u001b[39m\u001b[39m\"\u001b[39m, bbox_inches\u001b[39m=\u001b[39m\u001b[39m'\u001b[39m\u001b[39mtight\u001b[39m\u001b[39m'\u001b[39m)\n",
      "\u001b[0;31mAttributeError\u001b[0m: 'AxesSubplot' object has no attribute 'savefig'"
     ]
    },
    {
     "data": {
      "image/png": "[encoded data removed]",
      "text/plain": [
       "<Figure size 1280x880 with 1 Axes>"
      ]
     },
     "metadata": {},
     "output_type": "display_data"
    }
   ],
   "source": [
    "for column in dfs.keys():\n",
    "    with plt.style.context(\"seaborn-poster\"):\n",
    "        df = dfs[column].T\n",
    "        df = df.div(df.sum(axis=1), axis=0)\n",
    "        ax = df.plot.bar(rot=0, stacked=True)\n",
    "        # Put legend under the plot\n",
    "        ax.legend(loc='upper center', bbox_to_anchor=(0.5, -0.1), fancybox=True, shadow=True, ncol=4)\n",
    "        # save the plot\n",
    "        plt.savefig(f\"tasks_im/{column}.png\", bbox_inches='tight')"
   ]
  },
  {
   "cell_type": "code",
   "execution_count": 143,
   "metadata": {},
   "outputs": [
    {
     "name": "stdout",
     "output_type": "stream",
     "text": [
      "\\begin{tabular}{lrrr}\n",
      "\\toprule\n",
      "{} &    Train &  Validation &    Test \\\\\n",
      "\\midrule\n",
      "Denik        &   553799 &       53980 &   56354 \\\\\n",
      "Novinky      &   313274 &        5647 &    2496 \\\\\n",
      "Idnes        &   246441 &       27673 &   21726 \\\\\n",
      "Irozhlas     &   148388 &       10530 &    8670 \\\\\n",
      "Aktualne     &    93281 &       10037 &    9642 \\\\\n",
      "Seznamzpravy &    28115 &       14189 &   23168 \\\\\n",
      "Total        &  1383298 &      122056 &  122056 \\\\\n",
      "\\bottomrule\n",
      "\\end{tabular}\n",
      "\n",
      "\\begin{tabular}{lrrr}\n",
      "\\toprule\n",
      "{} &     Train &  Validation &     Test \\\\\n",
      "\\midrule\n",
      "Domácí         &  216889.0 &     26326.0 &  31195.0 \\\\\n",
      "Sport          &  154743.0 &     18565.0 &  18134.0 \\\\\n",
      "Zahraniční     &  147426.0 &      8344.0 &   9705.0 \\\\\n",
      "Kultura        &   78330.0 &      2838.0 &   3084.0 \\\\\n",
      "Ekonomika      &   70506.0 &      3847.0 &   2761.0 \\\\\n",
      "Krimi          &   53711.0 &       644.0 &   1236.0 \\\\\n",
      "Technologie    &   29337.0 &      1952.0 &   1763.0 \\\\\n",
      "Koktejl        &   23900.0 &       295.0 &    161.0 \\\\\n",
      "Životní styl   &   23129.0 &      1839.0 &   1500.0 \\\\\n",
      "Auto           &   14924.0 &      1356.0 &   1198.0 \\\\\n",
      "Věda           &   11623.0 &      1038.0 &   1117.0 \\\\\n",
      "Finance        &   10001.0 &       415.0 &    392.0 \\\\\n",
      "Podnikání      &    8496.0 &      1303.0 &    500.0 \\\\\n",
      "Cestování      &    7951.0 &       658.0 &    488.0 \\\\\n",
      "Bydlení        &    7682.0 &       561.0 &    399.0 \\\\\n",
      "Komentáře      &    7387.0 &      1836.0 &   1245.0 \\\\\n",
      "Revue          &    4619.0 &       659.0 &    568.0 \\\\\n",
      "Byznys         &    3959.0 &      2390.0 &   3206.0 \\\\\n",
      "Vánoce         &    1327.0 &        20.0 &     16.0 \\\\\n",
      "Rozhovory      &    1084.0 &       139.0 &    162.0 \\\\\n",
      "Literatura     &     724.0 &       154.0 &    179.0 \\\\\n",
      "Výtvarné umění &     678.0 &       105.0 &    166.0 \\\\\n",
      "Koronavirus    &     542.0 &      2495.0 &   2172.0 \\\\\n",
      "Kolo           &      39.0 &         NaN &     61.0 \\\\\n",
      "Podcasty       &      12.0 &       305.0 &    944.0 \\\\\n",
      "Total          &  879019.0 &     78084.0 &  82352.0 \\\\\n",
      "\\bottomrule\n",
      "\\end{tabular}\n",
      "\n",
      "\\begin{tabular}{lrrr}\n",
      "\\toprule\n",
      "{} &   Train &  Validation &   Test \\\\\n",
      "\\midrule\n",
      "Man   &  566270 &       52621 &  52675 \\\\\n",
      "Woman &  312109 &       28829 &  28997 \\\\\n",
      "Mixed &   41461 &        1486 &   1597 \\\\\n",
      "Total &  919840 &       82936 &  83269 \\\\\n",
      "\\bottomrule\n",
      "\\end{tabular}\n",
      "\n",
      "\\begin{tabular}{lrrr}\n",
      "\\toprule\n",
      "{} &    Train &  Validation &    Test \\\\\n",
      "\\midrule\n",
      "Monday    &   216382 &       18746 &   18891 \\\\\n",
      "Tuesday   &   231714 &       20359 &   19968 \\\\\n",
      "Wednesday &   235415 &       20076 &   20479 \\\\\n",
      "Thursday  &   232115 &       19983 &   20547 \\\\\n",
      "Friday    &   221029 &       19194 &   18837 \\\\\n",
      "Saturday  &   131289 &       12487 &   12148 \\\\\n",
      "Sunday    &   115354 &       11211 &   11186 \\\\\n",
      "Total     &  1383298 &      122056 &  122056 \\\\\n",
      "\\bottomrule\n",
      "\\end{tabular}\n",
      "\n"
     ]
    },
    {
     "name": "stderr",
     "output_type": "stream",
     "text": [
      "/COMP.TMP/kydliceh_4383/ipykernel_1717512/329514032.py:16: FutureWarning: In future versions `DataFrame.to_latex` is expected to utilise the base implementation of `Styler.to_latex` for formatting and rendering. The arguments signature may therefore change. It is recommended instead to use `DataFrame.style.to_latex` which also contains additional functionality.\n",
      "  print(df.T.to_latex())\n",
      "/COMP.TMP/kydliceh_4383/ipykernel_1717512/329514032.py:16: FutureWarning: In future versions `DataFrame.to_latex` is expected to utilise the base implementation of `Styler.to_latex` for formatting and rendering. The arguments signature may therefore change. It is recommended instead to use `DataFrame.style.to_latex` which also contains additional functionality.\n",
      "  print(df.T.to_latex())\n",
      "/COMP.TMP/kydliceh_4383/ipykernel_1717512/329514032.py:16: FutureWarning: In future versions `DataFrame.to_latex` is expected to utilise the base implementation of `Styler.to_latex` for formatting and rendering. The arguments signature may therefore change. It is recommended instead to use `DataFrame.style.to_latex` which also contains additional functionality.\n",
      "  print(df.T.to_latex())\n",
      "/COMP.TMP/kydliceh_4383/ipykernel_1717512/329514032.py:16: FutureWarning: In future versions `DataFrame.to_latex` is expected to utilise the base implementation of `Styler.to_latex` for formatting and rendering. The arguments signature may therefore change. It is recommended instead to use `DataFrame.style.to_latex` which also contains additional functionality.\n",
      "  print(df.T.to_latex())\n"
     ]
    }
   ],
   "source": [
    "for column in dfs.keys():\n",
    "    df = dfs[column].T\n",
    "    if len(df.columns) > 10:\n",
    "        # It's already sorted\n",
    "        other = df.iloc[:, 10:].sum(axis=1)\n",
    "        df = df.iloc[:, :10]\n",
    "        df.insert(10, \"Other\", other)\n",
    "        # Cast to int\n",
    "        df = df.astype(int)\n",
    "\n",
    "\n",
    "\n",
    "    # print as latex tabl\n",
    "    # add total\n",
    "    df[\"Total\"] = df.sum(axis=1)\n",
    "    print(df.T.to_latex())"
   ]
  },
  {
   "cell_type": "code",
   "execution_count": 123,
   "metadata": {},
   "outputs": [
    {
     "name": "stdout",
     "output_type": "stream",
     "text": [
      "\\begin{tabular}{lrrr}\n",
      "\\toprule\n",
      "{} &   Train &  Validation &   Test \\\\\n",
      "\\midrule\n",
      "Zahraniční &  147426 &        8344 &   9705 \\\\\n",
      "Domácí     &  216889 &       26326 &  31195 \\\\\n",
      "Sport      &  154743 &       18565 &  18134 \\\\\n",
      "Kultura    &   78330 &        2838 &   3084 \\\\\n",
      "Revue      &    4619 &         659 &    568 \\\\\n",
      "Koktejl    &   23900 &         295 &    161 \\\\\n",
      "Ekonomika  &   70506 &        3847 &   2761 \\\\\n",
      "Krimi      &   53711 &         644 &   1236 \\\\\n",
      "Podnikání  &    8496 &        1303 &    500 \\\\\n",
      "Auto       &   14924 &        1356 &   1198 \\\\\n",
      "Other      &  105475 &       13907 &  13810 \\\\\n",
      "Cumsum     &  879019 &       78084 &  82352 \\\\\n",
      "\\bottomrule\n",
      "\\end{tabular}\n",
      "\n"
     ]
    },
    {
     "name": "stderr",
     "output_type": "stream",
     "text": [
      "/COMP.TMP/kydliceh_4383/ipykernel_1717512/2193873136.py:14: FutureWarning: In future versions `DataFrame.to_latex` is expected to utilise the base implementation of `Styler.to_latex` for formatting and rendering. The arguments signature may therefore change. It is recommended instead to use `DataFrame.style.to_latex` which also contains additional functionality.\n",
      "  print(df_category.T.to_latex())\n"
     ]
    }
   ],
   "source": [
    "other = df_category.iloc[:, 10:].sum(axis=1)\n",
    "df_category = df_category.iloc[:, :10]\n",
    "df_category.insert(10, \"Other\", other)\n",
    "# convert to int\n",
    "df_category = df_category.astype(int)\n",
    "# add cumsum\n",
    "df_category[\"Cumsum\"] = df_category.sum(axis=1)\n",
    "# print as latex table\n",
    "print(df_category.T.to_latex())\n",
    " \n"
   ]
  },
  {
   "cell_type": "code",
   "execution_count": null,
   "metadata": {},
   "outputs": [],
   "source": []
  }
 ],
 "metadata": {
  "kernelspec": {
   "display_name": "Python 3 (ipykernel)",
   "language": "python",
   "name": "python3"
  },
  "language_info": {
   "codemirror_mode": {
    "name": "ipython",
    "version": 3
   },
   "file_extension": ".py",
   "mimetype": "text/x-python",
   "name": "python",
   "nbconvert_exporter": "python",
   "pygments_lexer": "ipython3",
   "version": "3.10.4"
  },
  "orig_nbformat": 4
 },
 "nbformat": 4,
 "nbformat_minor": 2
}
