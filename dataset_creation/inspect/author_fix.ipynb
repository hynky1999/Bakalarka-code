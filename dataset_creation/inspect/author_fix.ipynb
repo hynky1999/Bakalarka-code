{
 "cells": [
  {
   "cell_type": "code",
   "execution_count": 2,
   "metadata": {},
   "outputs": [],
   "source": [
    "import sys\n",
    "sys.path.append(\"../\")"
   ]
  },
  {
   "cell_type": "code",
   "execution_count": 3,
   "metadata": {},
   "outputs": [
    {
     "name": "stderr",
     "output_type": "stream",
     "text": [
      "Warning : `load_model` does not return WordVectorModel or SupervisedModel any more, but a `FastText` object which is very similar.\n"
     ]
    }
   ],
   "source": [
    "from preprocess_utils import get_unique_authors\n",
    "from pathlib import Path"
   ]
  },
  {
   "cell_type": "code",
   "execution_count": 6,
   "metadata": {},
   "outputs": [
    {
     "name": "stderr",
     "output_type": "stream",
     "text": [
      "100%|██████████| 222876/222876 [00:24<00:00, 9233.62it/s] \n",
      "100%|██████████| 1783006/1783006 [02:35<00:00, 11443.92it/s]\n",
      "100%|██████████| 222876/222876 [00:25<00:00, 8850.23it/s] \n"
     ]
    },
    {
     "name": "stdout",
     "output_type": "stream",
     "text": [
      "11248\n",
      "[('Milan Holakovský', 26353), ('Kateřina Perknerová', 11107), ('Libor Kopl', 10071), ('Milan Kopp', 9195), ('Aleš Vojíř', 7771), ('Martin Hromádka', 7466), ('Jaroslav Krupka', 7276), ('Jiří Fejgl', 7259), ('Luboš Palata', 7045), ('Marika Táborská', 6504), ('Stanislav Dvořák', 6368), ('Michal Hrabal', 6289), ('Pavel Kortus', 6255), ('Filip Lukeš', 6156), ('Markéta Kaclová', 5634), ('Jiří Janda', 5581), ('Daniela Tauberová', 5362), ('Jan Charvát', 5245), ('Štěpánka Saadouni', 5116), ('Milan Kilián', 5067), ('Martin Jůzek', 4927), ('Eliška Gáfriková', 4899), ('Petr Turek', 4733), ('Petr Vaňous', 4709), ('Rudolf Muzika', 4584), ('Pavel Mikeš', 4523), ('Alexandr Vanžura', 4495), ('Josef Kopecký', 4457), ('Tomáš Januszek', 4452), ('Kateřina Nič Husárová', 4334), ('Marie Lucová', 4301), ('Luboš Kurzweil', 4299), ('Kamil Dubský', 4292), ('Edwin Otta', 4186), ('Helena Zelená Křížová', 4182), ('Miroslav Elsnic', 4163), ('Martin Singr', 4150), ('Jan Sůra', 4147), ('Mirka Spáčilová', 4146), ('Zdeněk Kellner', 4126), ('Jan Braun', 4039), ('Martin Ruščin', 3974), ('František Kuba', 3961), ('Jaroslav Kára', 3865), ('Kamil Jáša', 3808), ('Bohumil Ortman', 3794), ('Tereza Polaczyková', 3776), ('Václav Havránek', 3762), ('Jaroslav Perdoch', 3754), ('Martin Komárek', 3750), ('Iva Kovářová', 3732), ('Jiří Fišara', 3728), ('Michal Burda', 3702), ('Petr Krňávek', 3666), ('Jaroslav Balvín', 3629), ('Michael Bereň', 3605), ('Daniela Loudová', 3605), ('Martin Slabý', 3580), ('Pavel Cechl', 3555), ('Roman Brhel', 3501), ('Kamila Minaříková', 3471), ('Jiří Kohout', 3456), ('Zdeněk Soukup', 3451), ('Michal Káva', 3418), ('Martin Vokurka', 3375), ('Jiří Louda', 3356), ('Roman Cichocki', 3337), ('Jakub Šťástka', 3304), ('Ivan Pavelek', 3299), ('Dalibor Krutiš', 3272), ('Iveta Nádvorníková', 3210), ('Vladimír Majer', 3191), ('Jaroslav Špulák', 3169), ('Daniel Seifert', 3168), ('Jiří Hošek', 3150), ('Libor Běčák', 3129), ('Martin Dorazín', 3064), ('Petr Kinšt', 3033), ('Přemysl Spěvák', 3024), ('Honza Srp', 2985), ('Roman Martínek', 2919), ('Lenka Novotná', 2894), ('Jan Sedlák', 2881), ('František Bílek', 2851), ('Jana Vandlíčková', 2796), ('Radek Luksza', 2789), ('Ivana Kalinová', 2786), ('Martin Pleva', 2783), ('Zdeněk Plachý', 2754), ('Petr Málek', 2703), ('Vojtěch Žižka', 2694), ('Jiří Drozdík', 2686), ('Iva Haghofer', 2684), ('Zuzana Gabajová', 2671), ('Hana Jakubcová', 2669), ('Jaroslav Zeman', 2647), ('Pavel Bohun', 2637), ('Aleš Honus', 2606), ('Zuzana Kyselová', 2601), ('Jana Kudrhaltová', 2595)]\n"
     ]
    }
   ],
   "source": [
    "authors = dict()\n",
    "author_folder = Path(\"../../final_dataset/\")\n",
    "authors = get_unique_authors(author_folder.iterdir())\n",
    "\n",
    "\n",
    "sorted_authors = sorted(authors.items(), key=lambda x: x[1], reverse=True)\n",
    "print(len(sorted_authors))\n",
    "print(sorted_authors[:100])"
   ]
  },
  {
   "cell_type": "code",
   "execution_count": 7,
   "metadata": {},
   "outputs": [
    {
     "data": {
      "text/plain": [
       "11248"
      ]
     },
     "execution_count": 7,
     "metadata": {},
     "output_type": "execute_result"
    }
   ],
   "source": [
    "len(sorted_authors)"
   ]
  },
  {
   "cell_type": "code",
   "execution_count": 9,
   "metadata": {},
   "outputs": [
    {
     "data": {
      "text/plain": [
       "4787"
      ]
     },
     "execution_count": 9,
     "metadata": {},
     "output_type": "execute_result"
    }
   ],
   "source": [
    "sum([x.endswith('á') for x in authors.keys()])/ len(sorted_authors)"
   ]
  },
  {
   "cell_type": "code",
   "execution_count": 9,
   "metadata": {},
   "outputs": [],
   "source": [
    "names = authors.keys()\n"
   ]
  },
  {
   "cell_type": "code",
   "execution_count": 14,
   "metadata": {},
   "outputs": [],
   "source": [
    "with open(\"authors.txt\", \"w\") as f:\n",
    "    for author, count in sorted_authors:\n",
    "        f.write(f\"{author} {count}\\n\")"
   ]
  },
  {
   "cell_type": "code",
   "execution_count": 15,
   "metadata": {},
   "outputs": [
    {
     "data": {
      "text/plain": [
       "11283"
      ]
     },
     "execution_count": 15,
     "metadata": {},
     "output_type": "execute_result"
    }
   ],
   "source": [
    "len(sorted_authors)"
   ]
  },
  {
   "cell_type": "code",
   "execution_count": 6,
   "metadata": {},
   "outputs": [],
   "source": [
    "import pandas as pd"
   ]
  },
  {
   "cell_type": "code",
   "execution_count": 5,
   "metadata": {},
   "outputs": [],
   "source": [
    "df_all = pd.DataFrame(sorted_authors, columns=[\"author\", \"count\"])"
   ]
  },
  {
   "cell_type": "code",
   "execution_count": 7,
   "metadata": {},
   "outputs": [
    {
     "data": {
      "text/plain": [
       "array([[<AxesSubplot:title={'center':'count'}>]], dtype=object)"
      ]
     },
     "execution_count": 7,
     "metadata": {},
     "output_type": "execute_result"
    },
    {
     "data": {
      "image/png": "[encoded data removed]",
      "text/plain": [
       "<Figure size 640x480 with 1 Axes>"
      ]
     },
     "metadata": {},
     "output_type": "display_data"
    }
   ],
   "source": [
    "df_all.hist(column=\"count\", bins=100)"
   ]
  },
  {
   "cell_type": "code",
   "execution_count": 3,
   "metadata": {},
   "outputs": [
    {
     "name": "stderr",
     "output_type": "stream",
     "text": [
      "100%|██████████| 222746/222746 [00:19<00:00, 11634.46it/s]\n",
      "100%|██████████| 222745/222745 [00:18<00:00, 11927.26it/s]\n",
      "100%|██████████| 1781963/1781963 [02:06<00:00, 14083.44it/s]\n"
     ]
    }
   ],
   "source": [
    "from preprocess_utils import get_unique\n",
    "genders = dict()\n",
    "gender_folder = Path(\"final_dataset\")\n",
    "for file in gender_folder.iterdir():\n",
    "    if file.is_file():\n",
    "        genders = genders | get_unique(file, \"author_genders\")"
   ]
  },
  {
   "cell_type": "code",
   "execution_count": 4,
   "metadata": {},
   "outputs": [
    {
     "data": {
      "text/plain": [
       "{2: 463528, 1: 867690}"
      ]
     },
     "execution_count": 4,
     "metadata": {},
     "output_type": "execute_result"
    }
   ],
   "source": [
    "from proc\n",
    "train = load_json(\"final_dataset/train.json\")"
   ]
  },
  {
   "cell_type": "code",
   "execution_count": null,
   "metadata": {},
   "outputs": [],
   "source": []
  }
 ],
 "metadata": {
  "kernelspec": {
   "display_name": "Python 3 (ipykernel)",
   "language": "python",
   "name": "python3"
  },
  "language_info": {
   "codemirror_mode": {
    "name": "ipython",
    "version": 3
   },
   "file_extension": ".py",
   "mimetype": "text/x-python",
   "name": "python",
   "nbconvert_exporter": "python",
   "pygments_lexer": "ipython3",
   "version": "3.10.4"
  },
  "orig_nbformat": 4,
  "vscode": {
   "interpreter": {
    "hash": "47d1cf54bf9cf5fce4b000eacb105df7d7e5f1fe165267018e0a6855939e5736"
   }
  }
 },
 "nbformat": 4,
 "nbformat_minor": 2
}
