{
 "cells": [
  {
   "cell_type": "code",
   "execution_count": 1,
   "metadata": {},
   "outputs": [],
   "source": [
    "from pathlib import Path\n",
    "from datetime import date "
   ]
  },
  {
   "cell_type": "code",
   "execution_count": 2,
   "metadata": {},
   "outputs": [],
   "source": [
    "import numpy as np\n",
    "def report_stats(dst):\n",
    "    names, counts = np.unique(dst[\"server\"], return_counts=True)\n",
    "    for name, count in zip(names, counts):\n",
    "        print(f\"{name}: {count}\")\n",
    "    print(f\"Total: {sum(counts)}\")"
   ]
  },
  {
   "cell_type": "code",
   "execution_count": 3,
   "metadata": {},
   "outputs": [],
   "source": [
    "NUM_PROCESS = 4"
   ]
  },
  {
   "cell_type": "code",
   "execution_count": 4,
   "metadata": {},
   "outputs": [],
   "source": [
    "from datasets import disable_caching\n",
    "disable_caching()"
   ]
  },
  {
   "cell_type": "code",
   "execution_count": 5,
   "metadata": {},
   "outputs": [
    {
     "name": "stderr",
     "output_type": "stream",
     "text": [
      "Warning : `load_model` does not return WordVectorModel or SupervisedModel any more, but a `FastText` object which is very similar.\n"
     ]
    },
    {
     "name": "stdout",
     "output_type": "stream",
     "text": [
      "Downloading and preparing dataset json/default to /home/kydliceh/.cache/huggingface/datasets/json/default-778ef7b35e31a789/0.0.0...\n"
     ]
    },
    {
     "data": {
      "application/vnd.jupyter.widget-view+json": {
       "model_id": "79005f158ad74338bba1c23b63128a96",
       "version_major": 2,
       "version_minor": 0
      },
      "text/plain": [
       "Downloading data files:   0%|          | 0/1 [00:00<?, ?it/s]"
      ]
     },
     "metadata": {},
     "output_type": "display_data"
    },
    {
     "data": {
      "application/vnd.jupyter.widget-view+json": {
       "model_id": "580aa16e974d49f69e07d117775b4d5e",
       "version_major": 2,
       "version_minor": 0
      },
      "text/plain": [
       "Extracting data files:   0%|          | 0/1 [00:00<?, ?it/s]"
      ]
     },
     "metadata": {},
     "output_type": "display_data"
    },
    {
     "data": {
      "application/vnd.jupyter.widget-view+json": {
       "model_id": "6b3b3b27d2f34344b7d3bca3e9e99be6",
       "version_major": 2,
       "version_minor": 0
      },
      "text/plain": [
       "Generating train split: 0 examples [00:00, ? examples/s]"
      ]
     },
     "metadata": {},
     "output_type": "display_data"
    },
    {
     "name": "stdout",
     "output_type": "stream",
     "text": [
      "Dataset json downloaded and prepared to /home/kydliceh/.cache/huggingface/datasets/json/default-778ef7b35e31a789/0.0.0. Subsequent calls will reuse this data.\n"
     ]
    },
    {
     "data": {
      "application/vnd.jupyter.widget-view+json": {
       "model_id": "92e10f6fb0ac42acb7de114621205100",
       "version_major": 2,
       "version_minor": 0
      },
      "text/plain": [
       "Map (num_proc=8):   0%|          | 0/3193720 [00:00<?, ? examples/s]"
      ]
     },
     "metadata": {},
     "output_type": "display_data"
    },
    {
     "data": {
      "application/vnd.jupyter.widget-view+json": {
       "model_id": "ff93c29890f94aa6a45fdbc133dbc049",
       "version_major": 2,
       "version_minor": 0
      },
      "text/plain": [
       "Filter (num_proc=8):   0%|          | 0/3193720 [00:00<?, ? examples/s]"
      ]
     },
     "metadata": {},
     "output_type": "display_data"
    }
   ],
   "source": [
    "from preprocess_utils import load_jsonb, save_jsonb\n",
    "from datasets import Dataset\n",
    "from datasets import Features, Value\n",
    "from urllib.parse import urlparse\n",
    "from datasets import Sequence\n",
    "\n",
    "\n",
    "def get_server(url):\n",
    "    parsed = urlparse(url).netloc.split(\".\")\n",
    "    server = parsed[-1]\n",
    "    if server == \"cz\":\n",
    "        server = parsed[-2]\n",
    "\n",
    "    if server == \"cz:443\":\n",
    "        server = \"aktualne\"\n",
    "\n",
    "    return server\n",
    "\n",
    "\n",
    "dataset = Dataset.from_json(\n",
    "    \"final.jsonb\",\n",
    "    features=Features(\n",
    "        {\n",
    "            \"url\": Value(\"string\"),\n",
    "           \"author\": Sequence(Value(\"string\")),\n",
    "           \"headline\": Value(\"string\"),\n",
    "           \"brief\": Value(\"string\"),\n",
    "           \"publication_date\": Value(\"string\"),\n",
    "           \"keywords\": Sequence(Value(\"string\")),\n",
    "           \"category\": Value(\"string\"),\n",
    "           \"content\": Value(\"large_string\"),  \n",
    "           \"comments_num\": Value(\"int32\"),\n",
    "        }\n",
    "    ),\n",
    ")\n",
    "# We will postprocess string values later and cast it manually\n",
    "dataset = dataset.map(lambda batch: {\"server\": [get_server(url) for url in batch[\"url\"]]}, num_proc=NUM_PROCESS, batched=True)\n",
    "dataset = dataset.filter(lambda batch: [server != \"ihned\" for server in batch[\"server\"] ], num_proc=NUM_PROCESS, batched=True)\n"
   ]
  },
  {
   "cell_type": "code",
   "execution_count": 14,
   "metadata": {},
   "outputs": [
    {
     "name": "stdout",
     "output_type": "stream",
     "text": [
      "aktualne: 165799\n",
      "denik: 1636639\n",
      "idnes: 530855\n",
      "irozhlas: 201681\n",
      "novinky: 549661\n",
      "seznamzpravy: 77442\n",
      "Total: 3162077\n"
     ]
    }
   ],
   "source": [
    "report_stats(dataset)"
   ]
  },
  {
   "cell_type": "code",
   "execution_count": 6,
   "metadata": {},
   "outputs": [],
   "source": [
    "translate_cat = [\n",
    "    ([\"zprávy z domova\", \"z domova\", \"domov\"], \"domácí\"),\n",
    "    ([\"zprávy ze světa\", \"svět\", \"zahraničí\", \"ze světa\"], \"zahraniční\"),\n",
    "    (\n",
    "        [\"tipy deníku\", \"rádce\", \"rady učitele\", \"eko rady a tipy\"],\n",
    "        \"tipy\",\n",
    "    ),\n",
    "    (\n",
    "        [\n",
    "            \"nepoužívat - věda\",\n",
    "            \"věda a školy\",\n",
    "            \"věda a technologie\",\n",
    "            \"věda a technika\",\n",
    "            \"věda a vesmír\",\n",
    "            \"věda a příroda\",\n",
    "            \"věda & vesmír\",\n",
    "            \"vesmír\",\n",
    "        ],\n",
    "        \"věda\",\n",
    "    ),\n",
    "    (\n",
    "        [\n",
    "            \"technet\",\n",
    "            \"tech & trendy\",\n",
    "            \"tech\",\n",
    "            \"technika\",\n",
    "            \"hardware\",\n",
    "            \"software\",\n",
    "            \"internet\",\n",
    "            \"web\",\n",
    "            \"internet a pc\",\n",
    "            \"aplikace\",\n",
    "            \"bonusweb\",\n",
    "            \"plné hry\",\n",
    "        ],\n",
    "        \"technologie\",\n",
    "    ),\n",
    "    (\n",
    "        [\n",
    "            \"osobní finance\",\n",
    "            \"hypotéky a půjčky\",\n",
    "            \"banky a spoření\",\n",
    "            \"pojištení\",\n",
    "            \"investice\",\n",
    "            \"daně\",\n",
    "            \"penze\",\n",
    "        ],\n",
    "        \"finance\",\n",
    "    ),\n",
    "    (\n",
    "        [\n",
    "            \"nová auta\",\n",
    "            \"automoto\",\n",
    "            \"motorismus\",\n",
    "            \"auta\",\n",
    "            \"moje auto\",\n",
    "            \"auta a motorky\",\n",
    "            \"motocykly\",\n",
    "            \"autohistorie\",\n",
    "            \"ojetá auta\",\n",
    "            \"život řidiče\",\n",
    "            \"motorky\",\n",
    "        ],\n",
    "        \"auto\",\n",
    "    ),\n",
    "    (\n",
    "        [\"televize\", \"film\", \"tv\", \"film a tv\"],\n",
    "        \"kultura\",\n",
    "    ),\n",
    "    ([\"lidé\"], \"člověk\"),\n",
    "    (\n",
    "        [\"na kole po česku\", \"cyklorady\", \"cyklotrasy\"],\n",
    "        \"kolo\",\n",
    "    ),\n",
    "    ([\"stavba\", \"bydlení\", \"koupelna\", \"kuchyně\"], \"bydlení\"),\n",
    "    (\n",
    "        [\"cestovánía dovolená\", \"po česku\", \"cestujeme\"],\n",
    "        \"cestování\",\n",
    "    ),\n",
    "    (\n",
    "        [\n",
    "            \"životní styl a společnost\",\n",
    "            \"ona\",\n",
    "            \"žena\",\n",
    "            \"ženy\",\n",
    "            \"pro ženy\" \"styl\",\n",
    "            \"životnístyl\",\n",
    "            \"nakupování\",\n",
    "            \"nákupy\",\n",
    "            \"móda\",\n",
    "            \"vztahy\",\n",
    "            \"vztahy a sex\",\n",
    "            \"sex\",\n",
    "        ],\n",
    "        \"životní styl\",\n",
    "    ),\n",
    "    ([\"zdraví\", \"zdraví a fitness\", \"fit\", \"krása\"], \"životní styl\"),\n",
    "    ([\"jídelníček a recepty\", \"recepty\"], \"životní styl\"),\n",
    "    (\n",
    "        [\"nepouzivat - kultura\", \"tipy na kulturu\", \"tipyna kulturu\", \"divadlo\"],\n",
    "        \"kultura\",\n",
    "    ),\n",
    "    ([\"česká ekonomika\", \"světová ekonomika\"], \"ekonomika\"),\n",
    "    ([\"práce a podnikání\", \"podniky\", \"byznys\", \"aktuálně o eet\"], \"byznys\"),\n",
    "    (\n",
    "        [\"hokej\", \"ms v hokeji\", \"ms hokej\", \"vancouver - hokej\", \"nhl\", \"extraliga\"],\n",
    "        \"sport\",\n",
    "    ),\n",
    "    (\n",
    "        [\n",
    "            \"kraje\",\n",
    "            \"regiony\",\n",
    "            \"z okolí\",\n",
    "            \"praha\",\n",
    "            \"brněnsko\",\n",
    "            \"blanensko\",\n",
    "            \"Českobudějovicko\",\n",
    "            \"chebsko\",\n",
    "            \"berounsko\",\n",
    "            \"děčínsko\",\n",
    "            \"bruntálsko\",\n",
    "            \"Boleslavsko\",\n",
    "            \"Hradecko\",\n",
    "            \"Českolipsko\",\n",
    "            \"Havlíčkobrodsko\",\n",
    "            \"Břeclavsko\",\n",
    "            \"Domažlicko\",\n",
    "            \"Chrudimsko\",\n",
    "            \"Litoměřicko\",\n",
    "            \"Ústecko\",\n",
    "            \"Karlovarsko\",\n",
    "            \"Benešovsko\",\n",
    "            \"Chomutovsko\",\n",
    "            \"Liberecko\",\n",
    "            \"Frýdecko-místecko\",\n",
    "            \"Českokrumlovsko\",\n",
    "            \"Hranicko\",\n",
    "            \"Žďársko\",\n",
    "            \"Olomoucko\",\n",
    "            \"Hodonínsko\",\n",
    "            \"Prachaticko\",\n",
    "            \"Krkonoše\",\n",
    "            \"Jindřichohradecko\",\n",
    "            \"Jihlavsko\",\n",
    "            \"Jablonecko\",\n",
    "            \"Ostravsko\",\n",
    "            \"Plzeňsko\",\n",
    "            \"Jihomoravský kraj\",\n",
    "            \"Jičínsko\",\n",
    "            \"Rakovnicko\",\n",
    "            \"Slovácko\",\n",
    "            \"Orlicko\",\n",
    "            \"Zlínsko\",\n",
    "            \"Nymbursko\",\n",
    "            \"Žatecko a lounsko\",\n",
    "            \"Prostějovsko\",\n",
    "            \"Ústecký kraj\",\n",
    "            \"Vyškovsko\",\n",
    "            \"Moravskoslezský kraj\",\n",
    "            \"Středočeský kraj\",\n",
    "            \"Písecko\",\n",
    "            \"Strakonicko\",\n",
    "            \"Tachovsko\",\n",
    "            \"Táborsko\",\n",
    "            \"Rokycansko\",\n",
    "            \"Klatovsko\",\n",
    "            \"Novojičínsko\",\n",
    "            \"Kladensko\",\n",
    "            \"Znojemsko\",\n",
    "            \"Kutnohorsko\",\n",
    "            \"Teplicko\",\n",
    "            \"Svitavsko\",\n",
    "            \"Kroměřížsko\",\n",
    "            \"Třebíčsko\",\n",
    "            \"Mostecko\",\n",
    "            \"Opavsko\",\n",
    "            \"Pardubicko\",\n",
    "            \"Přerovsko\",\n",
    "            \"Šumpersko\",\n",
    "            \"Kolínsko\",\n",
    "            \"Zlínský kraj\",\n",
    "            \"Sokolovsko\",\n",
    "            \"Příbramsko\",\n",
    "            \"Olomoucký kraj\",\n",
    "            \"Královéhradecký kraj\",\n",
    "            \"Liberecký kraj\",\n",
    "            \"Karvinsko\",\n",
    "            \"Valašsko\",\n",
    "            \"Pelhřimovsko\",\n",
    "            \"Pardubický kraj\",\n",
    "            \"Plzeňský kraj\",\n",
    "            \"Jihočeský kraj\",\n",
    "            \"Rychnovsko\",\n",
    "            \"Náchodsko\",\n",
    "            \"Kraj vysočina\",\n",
    "            \"Mělnicko\",\n",
    "            \"Karlovarský kraj\",\n",
    "        ],\n",
    "        \"domácí\",\n",
    "    ),\n",
    "    (\n",
    "        [\n",
    "            \"ms ve fotbale\",\n",
    "            \"česká liga\",\n",
    "            \"liga mistrů\",\n",
    "            \"evropská liga\",\n",
    "            \"fotbal\",\n",
    "            \"euro 2016\",\n",
    "            \"euro\",\n",
    "        ],\n",
    "        \"sport\",\n",
    "    ),\n",
    "    (\n",
    "        [\n",
    "            \"klasická hudba\",\n",
    "            \"hudba\",\n",
    "            \"mff kv 2010\",\n",
    "            \"mff kv 2011\",\n",
    "            \"mff kv 2012\",\n",
    "            \"mff kv 2014\",\n",
    "            \"mff kv 2015\",\n",
    "            \"mff kv 2016\",\n",
    "            \"mff kv 2017\",\n",
    "            \"mff kv 2018\",\n",
    "            \"mff kv 2019\",\n",
    "            \"mff kv\",\n",
    "        ],\n",
    "        \"kultura\",\n",
    "    ),\n",
    "    ([\"basket\", \"basketbal\"], \"sport\"),\n",
    "    ([\"mobily\", \"telefony\", \"mobil\"], \"technologie\"),\n",
    "    ([\"názory\"], \"komentáře\"),\n",
    "    (\n",
    "        [\n",
    "            \"loh 2020\",\n",
    "            \"loh 2016 rio de janeiro\",\n",
    "            \"tokio 2021\",\n",
    "            \"tokio 2020\",\n",
    "            \"loh 2012 londýn\",\n",
    "            \"peking 2022\",\n",
    "            \"vancouver - olympijské deníky\",\n",
    "        ],\n",
    "        \"sport\",\n",
    "    ),\n",
    "    (\n",
    "        [\n",
    "            \"tenis\",\n",
    "            \"ostatní sporty\",\n",
    "            \"zahraniční ligy\",\n",
    "            \"atletika\",\n",
    "            \"reprezentace\",\n",
    "            \"formule 1\",\n",
    "            \"zimní sporty\",\n",
    "            \"lyže\",\n",
    "            \"tour de france\",\n",
    "            \"rallye\",\n",
    "            \"biatlon\",\n",
    "        ],\n",
    "        \"sport\",\n",
    "    ),\n",
    "    ([\"černá kronika\"], \"krimi\"),\n",
    "    # Domácí as all other politics are in domácí\n",
    "    ([\"volby\", \"politika\"], \"domácí\"),\n",
    "    ([\"koktejl\", \"kuriozity\", \"zajímavosti\", \"rady a zajímavosti\"], \"koktejl\"),\n",
    "    ([\"revue\", \"modelky\", \"celebrity\"], \"revue\"),\n",
    "    ([\"příběhy a rozhovory\", \"rozhovory\"], \"rozhovory\"),\n",
    "]\n",
    "\n",
    "\n",
    "translate_cat = dict(\n",
    "    [(x, y) for items, res in translate_cat for x, y in zip(items, [res] * len(items))]\n",
    ")\n",
    "\n",
    "with open(\"categories.txt\") as f:\n",
    "    cats = set(f.read().splitlines())\n"
   ]
  },
  {
   "cell_type": "code",
   "execution_count": 10,
   "metadata": {},
   "outputs": [],
   "source": [
    "from postprocessing_utils import Gender\n",
    "authors = {}\n",
    "with open(\"authors.txt\") as f:\n",
    "    for line in f:\n",
    "        author, gender = line.split(\",\")\n",
    "        gender = Gender.MAN if gender.strip() == \"male\" else Gender.WOMAN\n",
    "        authors[author] = gender\n",
    "    "
   ]
  },
  {
   "cell_type": "code",
   "execution_count": 8,
   "metadata": {},
   "outputs": [],
   "source": [
    "with open(\"headline_filter.txt\") as f:\n",
    "    headline_filters = set(f.read().splitlines())"
   ]
  },
  {
   "cell_type": "code",
   "execution_count": 15,
   "metadata": {},
   "outputs": [
    {
     "name": "stdout",
     "output_type": "stream",
     "text": [
      "The autoreload extension is already loaded. To reload it, use:\n",
      "  %reload_ext autoreload\n"
     ]
    }
   ],
   "source": [
    "%load_ext autoreload\n",
    "%autoreload 2"
   ]
  },
  {
   "cell_type": "code",
   "execution_count": 9,
   "metadata": {},
   "outputs": [
    {
     "name": "stderr",
     "output_type": "stream",
     "text": [
      "Warning : `load_model` does not return WordVectorModel or SupervisedModel any more, but a `FastText` object which is very similar.\n"
     ]
    }
   ],
   "source": [
    "from typing import Callable, List\n",
    "from filtering import (\n",
    "    create_filter_by_stats,\n",
    "    create_filter_by_cz_lang,\n",
    "    create_config,\n",
    "    create_tokenized_filter,\n",
    "    create_filter,\n",
    "    is_cz,\n",
    ")\n",
    "from preprocess_utils import load_jsonb, save_jsonb\n",
    "from postprocessing_utils import (\n",
    "    postprocess_authors,\n",
    "    add_day,\n",
    "    filter_author,\n",
    "    create_translate,\n",
    "    create_filter_by_set,\n",
    "    postprocess_brief,\n",
    "    postprocess_category,\n",
    "    postprocess_headline,\n",
    "    postprocess_date,\n",
    "    postprocess_content,\n",
    "    as_Article,\n",
    "    JSONArticleEncoder,\n",
    "    add_cum_gender,\n",
    "    create_add_gender,\n",
    "    postprocess_keywords,\n",
    "    create_none_to_x,\n",
    ")\n"
   ]
  },
  {
   "cell_type": "code",
   "execution_count": 15,
   "metadata": {},
   "outputs": [],
   "source": [
    "# Custom config for each server\n",
    "from filtering import between\n",
    "configs = {\n",
    "    \"idnes\": {},\n",
    "    \"denik\": {},\n",
    "    \"aktualne\": {},\n",
    "    \"irozhlas\": {},\n",
    "    \"seznamzpravy\": {},\n",
    "    \"novinky\": {},\n",
    "}\n",
    "\n",
    "default = {\n",
    "    \"article_length\": between(400, None),\n",
    "    \"avg_word_length\": between(4.0, None),\n",
    "    \"num_words_ratio\": between(0.11, 0.22),\n",
    "    \"headline_length\": between(20, None),\n",
    "    \"brief_length\": between(40, None),\n",
    "    \"non_alpha_ratio\": between(None, 0.045),\n",
    "    \"date\": between(date(2000, 1, 1), date(2022, 8, 31)),\n",
    "}"
   ]
  },
  {
   "cell_type": "code",
   "execution_count": 16,
   "metadata": {},
   "outputs": [
    {
     "data": {
      "application/vnd.jupyter.widget-view+json": {
       "model_id": "d811c8e54a4d4793b1d18959a4dda737",
       "version_major": 2,
       "version_minor": 0
      },
      "text/plain": [
       "Filter (num_proc=8):   0%|          | 0/3162077 [00:00<?, ? examples/s]"
      ]
     },
     "metadata": {},
     "output_type": "display_data"
    },
    {
     "name": "stdout",
     "output_type": "stream",
     "text": [
      "aktualne: 157713\n",
      "denik: 1518244\n",
      "idnes: 477690\n",
      "irozhlas: 197183\n",
      "novinky: 496186\n",
      "seznamzpravy: 76209\n",
      "Total: 2923225\n"
     ]
    },
    {
     "data": {
      "application/vnd.jupyter.widget-view+json": {
       "model_id": "f5ceee3ba0cf40e7a4ec5810256afb2f",
       "version_major": 2,
       "version_minor": 0
      },
      "text/plain": [
       "Filter (num_proc=8):   0%|          | 0/2923225 [00:00<?, ? examples/s]"
      ]
     },
     "metadata": {},
     "output_type": "display_data"
    },
    {
     "name": "stdout",
     "output_type": "stream",
     "text": [
      "aktualne: 154603\n",
      "denik: 1466683\n",
      "idnes: 464481\n",
      "irozhlas: 196200\n",
      "novinky: 492023\n",
      "seznamzpravy: 75294\n",
      "Total: 2849284\n"
     ]
    },
    {
     "data": {
      "application/vnd.jupyter.widget-view+json": {
       "model_id": "1a0dc3fb3cb94e8ab37564e4b8579706",
       "version_major": 2,
       "version_minor": 0
      },
      "text/plain": [
       "Filter (num_proc=8):   0%|          | 0/2849284 [00:00<?, ? examples/s]"
      ]
     },
     "metadata": {},
     "output_type": "display_data"
    },
    {
     "name": "stdout",
     "output_type": "stream",
     "text": [
      "aktualne: 144014\n",
      "denik: 1282138\n",
      "idnes: 446690\n",
      "irozhlas: 181956\n",
      "novinky: 415122\n",
      "seznamzpravy: 72195\n",
      "Total: 2542115\n"
     ]
    }
   ],
   "source": [
    "cz_ratio = 0.85\n",
    "batch_filters = {\n",
    "    \"content\": [create_filter_by_cz_lang(ratio=cz_ratio)],\n",
    "    \"headline\": [create_filter(headline_filters, lambda head,f: head.startswith(f))]\n",
    "}\n",
    "unbatched_filters = [create_filter_by_stats(create_config({}, default))]\n",
    "\n",
    "dataset_filtered = dataset\n",
    "\n",
    "for col, filters in batch_filters.items():\n",
    "    for fc in filters:\n",
    "        dataset_filtered = dataset_filtered.filter(lambda batch: [fc(ct) for ct in batch[col]], batched=True, num_proc=NUM_PROCESS)\n",
    "        report_stats(dataset_filtered)\n",
    "\n",
    "for fc in unbatched_filters:\n",
    "    dataset_filtered = dataset_filtered.filter(fc, num_proc=NUM_PROCESS)\n",
    "    report_stats(dataset_filtered)\n",
    "\n"
   ]
  },
  {
   "cell_type": "code",
   "execution_count": 17,
   "metadata": {},
   "outputs": [
    {
     "data": {
      "application/vnd.jupyter.widget-view+json": {
       "model_id": "41c464be31b54ab198992a96049da9ed",
       "version_major": 2,
       "version_minor": 0
      },
      "text/plain": [
       "Map (num_proc=8):   0%|          | 0/2542115 [00:00<?, ? examples/s]"
      ]
     },
     "metadata": {},
     "output_type": "display_data"
    },
    {
     "data": {
      "application/vnd.jupyter.widget-view+json": {
       "model_id": "d706fdcdc716435f87e96ff345f2a987",
       "version_major": 2,
       "version_minor": 0
      },
      "text/plain": [
       "Map (num_proc=8):   0%|          | 0/2542115 [00:00<?, ? examples/s]"
      ]
     },
     "metadata": {},
     "output_type": "display_data"
    },
    {
     "data": {
      "application/vnd.jupyter.widget-view+json": {
       "model_id": "7c7e37dcb96249be9ac04a2c0a54c2e7",
       "version_major": 2,
       "version_minor": 0
      },
      "text/plain": [
       "Map (num_proc=8):   0%|          | 0/2542115 [00:00<?, ? examples/s]"
      ]
     },
     "metadata": {},
     "output_type": "display_data"
    },
    {
     "data": {
      "application/vnd.jupyter.widget-view+json": {
       "model_id": "728e1954512a47b59143a478fe867bed",
       "version_major": 2,
       "version_minor": 0
      },
      "text/plain": [
       "Map (num_proc=8):   0%|          | 0/2542115 [00:00<?, ? examples/s]"
      ]
     },
     "metadata": {},
     "output_type": "display_data"
    },
    {
     "data": {
      "application/vnd.jupyter.widget-view+json": {
       "model_id": "ca3458e1f73840bfbabc2520b9c9363e",
       "version_major": 2,
       "version_minor": 0
      },
      "text/plain": [
       "Map (num_proc=8):   0%|          | 0/2542115 [00:00<?, ? examples/s]"
      ]
     },
     "metadata": {},
     "output_type": "display_data"
    },
    {
     "data": {
      "application/vnd.jupyter.widget-view+json": {
       "model_id": "812f0337429442bd8645b416ca4677f1",
       "version_major": 2,
       "version_minor": 0
      },
      "text/plain": [
       "Map (num_proc=8):   0%|          | 0/2542115 [00:00<?, ? examples/s]"
      ]
     },
     "metadata": {},
     "output_type": "display_data"
    },
    {
     "data": {
      "application/vnd.jupyter.widget-view+json": {
       "model_id": "990c1deeeb4547b898114a3d3cc408cb",
       "version_major": 2,
       "version_minor": 0
      },
      "text/plain": [
       "Map (num_proc=8):   0%|          | 0/2542115 [00:00<?, ? examples/s]"
      ]
     },
     "metadata": {},
     "output_type": "display_data"
    },
    {
     "data": {
      "application/vnd.jupyter.widget-view+json": {
       "model_id": "fb3aa7af10344da0aeafd41e6ffb6df4",
       "version_major": 2,
       "version_minor": 0
      },
      "text/plain": [
       "Map (num_proc=8):   0%|          | 0/2542115 [00:00<?, ? examples/s]"
      ]
     },
     "metadata": {},
     "output_type": "display_data"
    },
    {
     "data": {
      "application/vnd.jupyter.widget-view+json": {
       "model_id": "902aaf300b5147e3875d0413897b9ccb",
       "version_major": 2,
       "version_minor": 0
      },
      "text/plain": [
       "Map (num_proc=8):   0%|          | 0/2542115 [00:00<?, ? examples/s]"
      ]
     },
     "metadata": {},
     "output_type": "display_data"
    }
   ],
   "source": [
    "from functools import reduce\n",
    "from datetime import datetime\n",
    "\n",
    "\n",
    "def to_date(date_str):\n",
    "    if date_str is None:\n",
    "        return None\n",
    "    return datetime.fromisoformat(date_str).date()\n",
    "\n",
    "\n",
    "postprocessing = {\n",
    "    \"category\": [create_translate(translate_cat, lower=True), postprocess_category, create_filter_by_set(cats, lower=True)],\n",
    "    \"authors\": [postprocess_authors, create_filter_by_set(set(authors.keys()), lower=True), create_non_to_x([])],\n",
    "    \"brief\": [postprocess_brief],\n",
    "    \"headline\": [postprocess_headline],\n",
    "    \"content\": [postprocess_content],\n",
    "    \"publication_date\": [postprocess_date],\n",
    "    \"keywords\": [postprocess_keywords, create_none_to_x([])],\n",
    "}\n",
    "dataset_post = dataset_filtered\n",
    "# Backup catogories\n",
    "dataset_post = dataset_post.map(lambda batch: {\"category_unclean\": batch[\"category\"]}, batched=True, num_proc=NUM_PROCESS)\n",
    "\n",
    "\n",
    "dataset_post = dataset_post.rename_column(\"author\", \"authors\")\n",
    "\n",
    "for col, funcs in postprocessing.items():\n",
    "    dataset_post = dataset_post.map(lambda batch: {col: reduce(lambda arts, f:[ f(art) for art in arts], funcs, batch[col])}, batched=True, num_proc=NUM_PROCESS)\n",
    "\n",
    "# Convert to date\n",
    "dataset_post = dataset_post.map(\n",
    "    lambda batch: { \"date\": [to_date(dtm) for dtm in batch[\"publication_date\"]] }\n",
    "    , batched=True, batch_size=None, num_proc=NUM_PROCESS, remove_columns=[\"publication_date\"]\n",
    ")"
   ]
  },
  {
   "cell_type": "code",
   "execution_count": 18,
   "metadata": {},
   "outputs": [
    {
     "data": {
      "application/vnd.jupyter.widget-view+json": {
       "model_id": "b04fd3ef695d426fa4219bf61c1c9327",
       "version_major": 2,
       "version_minor": 0
      },
      "text/plain": [
       "Saving the dataset (0/18 shards):   0%|          | 0/2542115 [00:00<?, ? examples/s]"
      ]
     },
     "metadata": {},
     "output_type": "display_data"
    }
   ],
   "source": [
    "dataset_post.save_to_disk(\"dataset_post\")"
   ]
  },
  {
   "cell_type": "code",
   "execution_count": 8,
   "metadata": {},
   "outputs": [],
   "source": [
    "from datasets import load_from_disk\n",
    "dataset_post = load_from_disk(\"dataset_post\")"
   ]
  },
  {
   "cell_type": "code",
   "execution_count": 14,
   "metadata": {},
   "outputs": [
    {
     "data": {
      "application/vnd.jupyter.widget-view+json": {
       "model_id": "4e327cafca54477b873567a58db021b9",
       "version_major": 2,
       "version_minor": 0
      },
      "text/plain": [
       "Map (num_proc=8):   0%|          | 0/2542115 [00:00<?, ? examples/s]"
      ]
     },
     "metadata": {},
     "output_type": "display_data"
    },
    {
     "data": {
      "application/vnd.jupyter.widget-view+json": {
       "model_id": "3090290b0ca942468f2ebace0bd296ba",
       "version_major": 2,
       "version_minor": 0
      },
      "text/plain": [
       "Map (num_proc=8):   0%|          | 0/2542115 [00:00<?, ? examples/s]"
      ]
     },
     "metadata": {},
     "output_type": "display_data"
    },
    {
     "data": {
      "application/vnd.jupyter.widget-view+json": {
       "model_id": "8b72ab1932d04f2c8fae395d32bdacd7",
       "version_major": 2,
       "version_minor": 0
      },
      "text/plain": [
       "Map (num_proc=8):   0%|          | 0/2542115 [00:00<?, ? examples/s]"
      ]
     },
     "metadata": {},
     "output_type": "display_data"
    }
   ],
   "source": [
    "augmentations = {\n",
    "    \"authors_gender\": create_add_gender(authors),\n",
    "    \"authors_cum_gender\": add_cum_gender,\n",
    "    \"day_of_week\": add_day,\n",
    "}\n",
    "\n",
    "\n",
    "\n",
    "dataset_augmented = dataset_post\n",
    "\n",
    "for col, func in augmentations.items():\n",
    "    dataset_augmented = dataset_augmented.map(lambda batch: {col: func(batch)}, batched=False, num_proc=NUM_PROCESS)\n"
   ]
  },
  {
   "cell_type": "code",
   "execution_count": 15,
   "metadata": {},
   "outputs": [
    {
     "name": "stderr",
     "output_type": "stream",
     "text": [
      "Found cached dataset parquet (/home/kydliceh/.cache/huggingface/datasets/hynky___parquet/hynky--czech_news_dataset-7e1b6d781523c0de/0.0.0/2a3b91fbd88a2c90d1dbbb32b460cf621d31bd5b05b934492fdef7d8d6f236ec)\n"
     ]
    }
   ],
   "source": [
    "# Keep compatibility\n",
    "from datasets import load_dataset\n",
    "dst = load_dataset(\"hynky/czech_news_dataset\", split=\"test\")\n",
    "NONE_LABEL = dst.features[\"category\"].names[0]\n",
    "\n",
    "def NoneToNoneLabel(dst, column):\n",
    "    return dst.map(lambda batch: {column: [NONE_LABEL if x is None else x for x in batch[column]]}, batched=True, num_proc=NUM_PROCESS)\n"
   ]
  },
  {
   "cell_type": "code",
   "execution_count": 21,
   "metadata": {},
   "outputs": [
    {
     "data": {
      "application/vnd.jupyter.widget-view+json": {
       "model_id": "232860f353574a97a9b62036dbc497ee",
       "version_major": 2,
       "version_minor": 0
      },
      "text/plain": [
       "Map (num_proc=8):   0%|          | 0/2542115 [00:00<?, ? examples/s]"
      ]
     },
     "metadata": {},
     "output_type": "display_data"
    },
    {
     "data": {
      "application/vnd.jupyter.widget-view+json": {
       "model_id": "124fb6b1ddab462a92fd243dd7708e7e",
       "version_major": 2,
       "version_minor": 0
      },
      "text/plain": [
       "Casting the dataset:   0%|          | 0/2542115 [00:00<?, ? examples/s]"
      ]
     },
     "metadata": {},
     "output_type": "display_data"
    },
    {
     "data": {
      "application/vnd.jupyter.widget-view+json": {
       "model_id": "b88450c3c138484abb8823f65d34a948",
       "version_major": 2,
       "version_minor": 0
      },
      "text/plain": [
       "Map (num_proc=8):   0%|          | 0/2542115 [00:00<?, ? examples/s]"
      ]
     },
     "metadata": {},
     "output_type": "display_data"
    },
    {
     "data": {
      "application/vnd.jupyter.widget-view+json": {
       "model_id": "779b27e46fca4c38b47582a898050ca6",
       "version_major": 2,
       "version_minor": 0
      },
      "text/plain": [
       "Casting the dataset:   0%|          | 0/2542115 [00:00<?, ? examples/s]"
      ]
     },
     "metadata": {},
     "output_type": "display_data"
    },
    {
     "data": {
      "application/vnd.jupyter.widget-view+json": {
       "model_id": "9c6ef9caaf074a84809dbc1b34e199a0",
       "version_major": 2,
       "version_minor": 0
      },
      "text/plain": [
       "Casting the dataset:   0%|          | 0/2542115 [00:00<?, ? examples/s]"
      ]
     },
     "metadata": {},
     "output_type": "display_data"
    },
    {
     "data": {
      "application/vnd.jupyter.widget-view+json": {
       "model_id": "f91e95d4144f4dc79114cf78756ae470",
       "version_major": 2,
       "version_minor": 0
      },
      "text/plain": [
       "Casting the dataset:   0%|          | 0/2542115 [00:00<?, ? examples/s]"
      ]
     },
     "metadata": {},
     "output_type": "display_data"
    },
    {
     "ename": "KeyError",
     "evalue": "'day'",
     "output_type": "error",
     "traceback": [
      "\u001b[0;31m---------------------------------------------------------------------------\u001b[0m",
      "\u001b[0;31mKeyError\u001b[0m                                  Traceback (most recent call last)",
      "Cell \u001b[0;32mIn[21], line 10\u001b[0m\n\u001b[1;32m      8\u001b[0m cast_columns \u001b[39m=\u001b[39m [\u001b[39m\"\u001b[39m\u001b[39mauthors_gender\u001b[39m\u001b[39m\"\u001b[39m, \u001b[39m\"\u001b[39m\u001b[39mauthors_cum_gender\u001b[39m\u001b[39m\"\u001b[39m, \u001b[39m\"\u001b[39m\u001b[39mday\u001b[39m\u001b[39m\"\u001b[39m]\n\u001b[1;32m      9\u001b[0m \u001b[39mfor\u001b[39;00m col \u001b[39min\u001b[39;00m cast_columns:\n\u001b[0;32m---> 10\u001b[0m     casted \u001b[39m=\u001b[39m casted\u001b[39m.\u001b[39mcast_column(col, dst\u001b[39m.\u001b[39;49mfeatures[col])\n",
      "\u001b[0;31mKeyError\u001b[0m: 'day'"
     ]
    }
   ],
   "source": [
    "from datasets import ClassLabel, Sequence\n",
    "casted = dataset_augmented\n",
    "cast_columns = [\"category\", \"server\"]\n",
    "for col in cast_columns:\n",
    "    casted = NoneToNoneLabel(casted, col)\n",
    "    casted = casted.cast_column(col, dst.features[col])\n",
    "\n",
    "cast_columns = [\"authors_gender\", \"authors_cum_gender\", \"day_of_week\"]\n",
    "for col in cast_columns:\n",
    "    casted = casted.cast_column(col, dst.features[col])"
   ]
  },
  {
   "cell_type": "code",
   "execution_count": 26,
   "metadata": {},
   "outputs": [
    {
     "data": {
      "application/vnd.jupyter.widget-view+json": {
       "model_id": "ba28c3d4be88405e9d4465c137c3271d",
       "version_major": 2,
       "version_minor": 0
      },
      "text/plain": [
       "Casting the dataset:   0%|          | 0/2542115 [00:00<?, ? examples/s]"
      ]
     },
     "metadata": {},
     "output_type": "display_data"
    }
   ],
   "source": [
    "casted = casted.cast_column(\"day_of_week\", dst.features[\"day_of_week\"])"
   ]
  },
  {
   "cell_type": "code",
   "execution_count": 4,
   "metadata": {},
   "outputs": [
    {
     "ename": "KeyboardInterrupt",
     "evalue": "",
     "output_type": "error",
     "traceback": [
      "\u001b[0;31m---------------------------------------------------------------------------\u001b[0m",
      "\u001b[0;31mKeyboardInterrupt\u001b[0m                         Traceback (most recent call last)",
      "Cell \u001b[0;32mIn[4], line 1\u001b[0m\n\u001b[0;32m----> 1\u001b[0m casted\u001b[39m.\u001b[39;49msave_to_disk(\u001b[39m\"\u001b[39;49m\u001b[39mcasted\u001b[39;49m\u001b[39m\"\u001b[39;49m)\n\u001b[1;32m      2\u001b[0m NUM_PROCESS \u001b[39m=\u001b[39m \u001b[39m12\u001b[39m\n",
      "File \u001b[0;32m/lnet/aic/personal/kydliceh/non_runable/NLP_venv/lib/python3.10/site-packages/datasets/arrow_dataset.py:1332\u001b[0m, in \u001b[0;36mDataset.save_to_disk\u001b[0;34m(self, dataset_path, fs, max_shard_size, num_shards, num_proc, storage_options)\u001b[0m\n\u001b[1;32m   1329\u001b[0m     storage_options \u001b[39m=\u001b[39m fs\u001b[39m.\u001b[39mstorage_options\n\u001b[1;32m   1331\u001b[0m \u001b[39mif\u001b[39;00m num_shards \u001b[39mis\u001b[39;00m \u001b[39mNone\u001b[39;00m:\n\u001b[0;32m-> 1332\u001b[0m     dataset_nbytes \u001b[39m=\u001b[39m \u001b[39mself\u001b[39;49m\u001b[39m.\u001b[39;49m_estimate_nbytes()\n\u001b[1;32m   1333\u001b[0m     max_shard_size \u001b[39m=\u001b[39m convert_file_size_to_int(max_shard_size \u001b[39mor\u001b[39;00m config\u001b[39m.\u001b[39mMAX_SHARD_SIZE)\n\u001b[1;32m   1334\u001b[0m     num_shards \u001b[39m=\u001b[39m \u001b[39mint\u001b[39m(dataset_nbytes \u001b[39m/\u001b[39m max_shard_size) \u001b[39m+\u001b[39m \u001b[39m1\u001b[39m\n",
      "File \u001b[0;32m/lnet/aic/personal/kydliceh/non_runable/NLP_venv/lib/python3.10/site-packages/datasets/arrow_dataset.py:4811\u001b[0m, in \u001b[0;36mDataset._estimate_nbytes\u001b[0;34m(self)\u001b[0m\n\u001b[1;32m   4807\u001b[0m dataset_nbytes \u001b[39m=\u001b[39m \u001b[39mself\u001b[39m\u001b[39m.\u001b[39mdata\u001b[39m.\u001b[39mnbytes\n\u001b[1;32m   4809\u001b[0m \u001b[39m# Find decodable columns, because if there are any, we need to\u001b[39;00m\n\u001b[1;32m   4810\u001b[0m \u001b[39m# adjust the dataset size computation (needed for sharding) to account for possible external files\u001b[39;00m\n\u001b[0;32m-> 4811\u001b[0m decodable_columns \u001b[39m=\u001b[39m [k \u001b[39mfor\u001b[39;00m k, v \u001b[39min\u001b[39;00m \u001b[39mself\u001b[39;49m\u001b[39m.\u001b[39;49mfeatures\u001b[39m.\u001b[39mitems() \u001b[39mif\u001b[39;00m require_decoding(v, ignore_decode_attribute\u001b[39m=\u001b[39m\u001b[39mTrue\u001b[39;00m)]\n\u001b[1;32m   4813\u001b[0m \u001b[39mif\u001b[39;00m decodable_columns:\n\u001b[1;32m   4814\u001b[0m     \u001b[39m# Approximate the space needed to store the bytes from the external files by analyzing the first 1000 examples\u001b[39;00m\n\u001b[1;32m   4815\u001b[0m     extra_nbytes \u001b[39m=\u001b[39m \u001b[39m0\u001b[39m\n",
      "File \u001b[0;32m/lnet/aic/personal/kydliceh/non_runable/NLP_venv/lib/python3.10/site-packages/datasets/arrow_dataset.py:184\u001b[0m, in \u001b[0;36mDatasetInfoMixin.features\u001b[0;34m(self)\u001b[0m\n\u001b[1;32m    180\u001b[0m \u001b[39m@property\u001b[39m\n\u001b[1;32m    181\u001b[0m \u001b[39mdef\u001b[39;00m \u001b[39mdownload_size\u001b[39m(\u001b[39mself\u001b[39m) \u001b[39m-\u001b[39m\u001b[39m>\u001b[39m Optional[\u001b[39mint\u001b[39m]:\n\u001b[1;32m    182\u001b[0m     \u001b[39mreturn\u001b[39;00m \u001b[39mself\u001b[39m\u001b[39m.\u001b[39m_info\u001b[39m.\u001b[39mdownload_size\n\u001b[0;32m--> 184\u001b[0m \u001b[39m@property\u001b[39m\n\u001b[1;32m    185\u001b[0m \u001b[39mdef\u001b[39;00m \u001b[39mfeatures\u001b[39m(\u001b[39mself\u001b[39m) \u001b[39m-\u001b[39m\u001b[39m>\u001b[39m Features:\n\u001b[1;32m    186\u001b[0m     \u001b[39mreturn\u001b[39;00m \u001b[39mself\u001b[39m\u001b[39m.\u001b[39m_info\u001b[39m.\u001b[39mfeatures\n\u001b[1;32m    188\u001b[0m \u001b[39m@property\u001b[39m\n\u001b[1;32m    189\u001b[0m \u001b[39mdef\u001b[39;00m \u001b[39mhomepage\u001b[39m(\u001b[39mself\u001b[39m) \u001b[39m-\u001b[39m\u001b[39m>\u001b[39m Optional[\u001b[39mstr\u001b[39m]:\n",
      "\u001b[0;31mKeyboardInterrupt\u001b[0m: "
     ]
    }
   ],
   "source": [
    "casted.save_to_disk(\"casted\")"
   ]
  },
  {
   "cell_type": "code",
   "execution_count": 1,
   "metadata": {},
   "outputs": [],
   "source": [
    "from datasets import load_from_disk\n",
    "casted = load_from_disk(\"casted\")\n",
    "NUM_PROCESS = 12"
   ]
  },
  {
   "cell_type": "code",
   "execution_count": 6,
   "metadata": {},
   "outputs": [
    {
     "data": {
      "application/vnd.jupyter.widget-view+json": {
       "model_id": "846ea0baead2400ebb772eff652a3d5b",
       "version_major": 2,
       "version_minor": 0
      },
      "text/plain": [
       "Map (num_proc=12):   0%|          | 0/2542115 [00:00<?, ? examples/s]"
      ]
     },
     "metadata": {},
     "output_type": "display_data"
    },
    {
     "data": {
      "application/vnd.jupyter.widget-view+json": {
       "model_id": "1f31b463334b483d899eded3ebc89b77",
       "version_major": 2,
       "version_minor": 0
      },
      "text/plain": [
       "Filter:   0%|          | 0/2542115 [00:00<?, ? examples/s]"
      ]
     },
     "metadata": {},
     "output_type": "display_data"
    },
    {
     "name": "stdout",
     "output_type": "stream",
     "text": [
      "1: 72134\n",
      "2: 436691\n",
      "3: 143752\n",
      "4: 367258\n",
      "5: 762246\n",
      "6: 181753\n",
      "Total: 1963834\n"
     ]
    },
    {
     "data": {
      "application/vnd.jupyter.widget-view+json": {
       "model_id": "f8a27edd805c433a9c2a3f1664e6960b",
       "version_major": 2,
       "version_minor": 0
      },
      "text/plain": [
       "Filter:   0%|          | 0/1963834 [00:00<?, ? examples/s]"
      ]
     },
     "metadata": {},
     "output_type": "display_data"
    },
    {
     "name": "stdout",
     "output_type": "stream",
     "text": [
      "1: 71272\n",
      "2: 433646\n",
      "3: 142164\n",
      "4: 365895\n",
      "5: 743493\n",
      "6: 180396\n",
      "Total: 1936866\n"
     ]
    },
    {
     "data": {
      "application/vnd.jupyter.widget-view+json": {
       "model_id": "7e41d5adfdfa4b7ab8b32f4c120e818b",
       "version_major": 2,
       "version_minor": 0
      },
      "text/plain": [
       "Filter:   0%|          | 0/1936866 [00:00<?, ? examples/s]"
      ]
     },
     "metadata": {},
     "output_type": "display_data"
    },
    {
     "name": "stdout",
     "output_type": "stream",
     "text": [
      "1: 71261\n",
      "2: 433573\n",
      "3: 141961\n",
      "4: 365813\n",
      "5: 738288\n",
      "6: 180248\n",
      "Total: 1931144\n"
     ]
    }
   ],
   "source": [
    "\n",
    "def create_uniq_filter():\n",
    "    uniqs = set()\n",
    "    def filter(item):\n",
    "        if item in uniqs:\n",
    "            return False\n",
    "        uniqs.add(item)\n",
    "        return True\n",
    "\n",
    "    return filter\n",
    "\n",
    "filters = {\n",
    "    \"headline\": create_uniq_filter(),\n",
    "    \"brief\": create_uniq_filter(),\n",
    "    \"content\": create_uniq_filter(),\n",
    "}\n",
    "\n",
    "uniq_dataset = casted\n",
    "uniq_dataset = uniq_dataset.map(lambda item: {\n",
    "    \"not_null\": sum([val != None for val in item.values()]),\n",
    "    \"article_length\": len(item[\"content\"]),\n",
    "    }, batched=False, num_proc=NUM_PROCESS)\n",
    "\n",
    "\n",
    "# Ensures article with most data will survive\n",
    "uniq_dataset = uniq_dataset.sort([\"not_null\", \"article_length\"], reverse=True)\n",
    "for col, fc in filters.items():\n",
    "    # Don't multiprocess, because it's not thread safe\n",
    "    uniq_dataset = uniq_dataset.filter(lambda batch: [fc(item) for item in batch[col] ], batched=True, num_proc=1)\n",
    "    report_stats(uniq_dataset)\n",
    "\n",
    "uniq_dataset = uniq_dataset.remove_columns([\"not_null\", \"article_length\"])"
   ]
  },
  {
   "cell_type": "code",
   "execution_count": 7,
   "metadata": {},
   "outputs": [
    {
     "data": {
      "application/vnd.jupyter.widget-view+json": {
       "model_id": "45e1aff3a7144f34ad26fa4fbc556354",
       "version_major": 2,
       "version_minor": 0
      },
      "text/plain": [
       "Flattening the indices:   0%|          | 0/1931144 [00:00<?, ? examples/s]"
      ]
     },
     "metadata": {},
     "output_type": "display_data"
    },
    {
     "data": {
      "application/vnd.jupyter.widget-view+json": {
       "model_id": "64397d7c24ae456cb2808e091c7d738b",
       "version_major": 2,
       "version_minor": 0
      },
      "text/plain": [
       "Saving the dataset (0/14 shards):   0%|          | 0/1931144 [00:00<?, ? examples/s]"
      ]
     },
     "metadata": {},
     "output_type": "display_data"
    }
   ],
   "source": [
    "uniq_dataset.save_to_disk(\"uniq_dataset\")"
   ]
  },
  {
   "cell_type": "code",
   "execution_count": 7,
   "metadata": {},
   "outputs": [],
   "source": [
    "from datasets import load_from_disk\n",
    "uniq_dataset = load_from_disk(\"uniq_dataset\")"
   ]
  },
  {
   "cell_type": "code",
   "execution_count": 8,
   "metadata": {},
   "outputs": [
    {
     "data": {
      "application/vnd.jupyter.widget-view+json": {
       "model_id": "1a8a41743d124b449e5ebe90b0b79e40",
       "version_major": 2,
       "version_minor": 0
      },
      "text/plain": [
       "Filter (num_proc=4):   0%|          | 0/1931144 [00:00<?, ? examples/s]"
      ]
     },
     "metadata": {},
     "output_type": "display_data"
    },
    {
     "data": {
      "application/vnd.jupyter.widget-view+json": {
       "model_id": "fdfecd50e24245beb6308e2a7e259461",
       "version_major": 2,
       "version_minor": 0
      },
      "text/plain": [
       "Filter (num_proc=4):   0%|          | 0/1931144 [00:00<?, ? examples/s]"
      ]
     },
     "metadata": {},
     "output_type": "display_data"
    }
   ],
   "source": [
    "# Create splits 85/7.5/7.5 by date\n",
    "from datetime import date\n",
    "import random\n",
    "\n",
    "\n",
    "without_date = uniq_dataset.filter(\n",
    "    lambda batch: [art is None for art in batch[\"date\"]],\n",
    "    batched=True,\n",
    "    num_proc=NUM_PROCESS,\n",
    ")\n",
    "with_date = uniq_dataset.filter(\n",
    "    lambda batch: [art is not None for art in batch[\"date\"]],\n",
    "    batched=True,\n",
    "    num_proc=NUM_PROCESS,\n",
    ")\n",
    "\n"
   ]
  },
  {
   "cell_type": "code",
   "execution_count": 9,
   "metadata": {},
   "outputs": [
    {
     "data": {
      "application/vnd.jupyter.widget-view+json": {
       "model_id": "93b955063b0846a6b7836d7d281b9b95",
       "version_major": 2,
       "version_minor": 0
      },
      "text/plain": [
       "Flattening the indices:   0%|          | 0/1310 [00:00<?, ? examples/s]"
      ]
     },
     "metadata": {},
     "output_type": "display_data"
    },
    {
     "data": {
      "application/vnd.jupyter.widget-view+json": {
       "model_id": "3e73251d0a844ffe9b5fd8373bca5885",
       "version_major": 2,
       "version_minor": 0
      },
      "text/plain": [
       "Saving the dataset (0/1 shards):   0%|          | 0/1310 [00:00<?, ? examples/s]"
      ]
     },
     "metadata": {},
     "output_type": "display_data"
    }
   ],
   "source": [
    "without_date.save_to_disk(\"without_date\")"
   ]
  },
  {
   "cell_type": "code",
   "execution_count": 12,
   "metadata": {},
   "outputs": [
    {
     "data": {
      "application/vnd.jupyter.widget-view+json": {
       "model_id": "d2ab500a18c849a996fda0936d0f487d",
       "version_major": 2,
       "version_minor": 0
      },
      "text/plain": [
       "Flattening the indices:   0%|          | 0/1929834 [00:00<?, ? examples/s]"
      ]
     },
     "metadata": {},
     "output_type": "display_data"
    },
    {
     "data": {
      "application/vnd.jupyter.widget-view+json": {
       "model_id": "1dae1330c83f4c56aa2d7103271605e1",
       "version_major": 2,
       "version_minor": 0
      },
      "text/plain": [
       "Saving the dataset (0/13 shards):   0%|          | 0/1929834 [00:00<?, ? examples/s]"
      ]
     },
     "metadata": {},
     "output_type": "display_data"
    }
   ],
   "source": [
    "with_date.save_to_disk(\"with_date\")"
   ]
  },
  {
   "cell_type": "code",
   "execution_count": 13,
   "metadata": {},
   "outputs": [],
   "source": [
    "with_date = load_from_disk(\"with_date\")\n",
    "without_date = load_from_disk(\"without_date\")"
   ]
  },
  {
   "cell_type": "code",
   "execution_count": 15,
   "metadata": {},
   "outputs": [
    {
     "data": {
      "application/vnd.jupyter.widget-view+json": {
       "model_id": "fd2f383b0a9742e5ba8a3097cc331d94",
       "version_major": 2,
       "version_minor": 0
      },
      "text/plain": [
       "Flattening the indices (num_proc=4):   0%|          | 0/1929834 [00:00<?, ? examples/s]"
      ]
     },
     "metadata": {},
     "output_type": "display_data"
    }
   ],
   "source": [
    "with_date = with_date.flatten_indices(num_proc=NUM_PROCESS)"
   ]
  },
  {
   "cell_type": "code",
   "execution_count": 16,
   "metadata": {},
   "outputs": [],
   "source": [
    "\n",
    "with_date = with_date.sort(\"date\")"
   ]
  },
  {
   "cell_type": "code",
   "execution_count": 21,
   "metadata": {},
   "outputs": [
    {
     "data": {
      "application/vnd.jupyter.widget-view+json": {
       "model_id": "7bb6333041094ba68eee819baa190d5b",
       "version_major": 2,
       "version_minor": 0
      },
      "text/plain": [
       "Flattening the indices (num_proc=4):   0%|          | 0/1929834 [00:00<?, ? examples/s]"
      ]
     },
     "metadata": {},
     "output_type": "display_data"
    }
   ],
   "source": [
    "with_date = with_date.flatten_indices(num_proc=NUM_PROCESS)"
   ]
  },
  {
   "cell_type": "code",
   "execution_count": 22,
   "metadata": {},
   "outputs": [
    {
     "data": {
      "application/vnd.jupyter.widget-view+json": {
       "model_id": "698bcce4cc6542cd9d2bc45d8d0992f5",
       "version_major": 2,
       "version_minor": 0
      },
      "text/plain": [
       "Flattening the indices (num_proc=4):   0%|          | 0/1310 [00:00<?, ? examples/s]"
      ]
     },
     "metadata": {},
     "output_type": "display_data"
    }
   ],
   "source": [
    "without_date = without_date.shuffle(seed=42).flatten_indices(num_proc=NUM_PROCESS)"
   ]
  },
  {
   "cell_type": "code",
   "execution_count": null,
   "metadata": {},
   "outputs": [],
   "source": [
    "splits = {\n",
    "    \"train\": 0.85,\n",
    "    \"validation\": 0.925,\n",
    "    \"test\": 1.0\n",
    "}\n",
    "\n",
    "prev_ratio = 0\n",
    "final = {}\n",
    "for split,ratio in splits.items():\n",
    "    dst = [with_date, without_date]\n",
    "    dst = [d.select(range(int(prev_ratio * len(d)), int(ratio * lend(d))), num_proc=NUM_PROCESS) for d in dst]\n",
    "    dst = concatenate_datasets(dst)\n",
    "    final[split] = dst\n"
   ]
  },
  {
   "cell_type": "code",
   "execution_count": 78,
   "metadata": {},
   "outputs": [
    {
     "name": "stderr",
     "output_type": "stream",
     "text": [
      "Pushing split train to the Hub.\n"
     ]
    },
    {
     "data": {
      "application/vnd.jupyter.widget-view+json": {
       "model_id": "7f8668b463974d6196dbc4a5950d8908",
       "version_major": 2,
       "version_minor": 0
      },
      "text/plain": [
       "Pushing dataset shards to the dataset hub:   0%|          | 0/8 [00:00<?, ?it/s]"
      ]
     },
     "metadata": {},
     "output_type": "display_data"
    },
    {
     "data": {
      "application/vnd.jupyter.widget-view+json": {
       "model_id": "f3c23b8db492464281e42e6eb5df9529",
       "version_major": 2,
       "version_minor": 0
      },
      "text/plain": [
       "Creating parquet from Arrow format:   0%|          | 0/173 [00:00<?, ?ba/s]"
      ]
     },
     "metadata": {},
     "output_type": "display_data"
    },
    {
     "data": {
      "application/vnd.jupyter.widget-view+json": {
       "model_id": "c38b752b48ea40fa97d424dfb6714f4d",
       "version_major": 2,
       "version_minor": 0
      },
      "text/plain": [
       "Creating parquet from Arrow format:   0%|          | 0/173 [00:00<?, ?ba/s]"
      ]
     },
     "metadata": {},
     "output_type": "display_data"
    },
    {
     "data": {
      "application/vnd.jupyter.widget-view+json": {
       "model_id": "3b8e2497c28f4971b6065b996caa5585",
       "version_major": 2,
       "version_minor": 0
      },
      "text/plain": [
       "Creating parquet from Arrow format:   0%|          | 0/173 [00:00<?, ?ba/s]"
      ]
     },
     "metadata": {},
     "output_type": "display_data"
    },
    {
     "data": {
      "application/vnd.jupyter.widget-view+json": {
       "model_id": "1d7f8bfd46e84d6dbb687a49b947d7a4",
       "version_major": 2,
       "version_minor": 0
      },
      "text/plain": [
       "Creating parquet from Arrow format:   0%|          | 0/173 [00:00<?, ?ba/s]"
      ]
     },
     "metadata": {},
     "output_type": "display_data"
    },
    {
     "data": {
      "application/vnd.jupyter.widget-view+json": {
       "model_id": "2f006137b6f74e39b99edb6e926d1483",
       "version_major": 2,
       "version_minor": 0
      },
      "text/plain": [
       "Creating parquet from Arrow format:   0%|          | 0/173 [00:00<?, ?ba/s]"
      ]
     },
     "metadata": {},
     "output_type": "display_data"
    },
    {
     "data": {
      "application/vnd.jupyter.widget-view+json": {
       "model_id": "8ac96d11e53d4f68b0e9a8d38cbd321a",
       "version_major": 2,
       "version_minor": 0
      },
      "text/plain": [
       "Creating parquet from Arrow format:   0%|          | 0/173 [00:00<?, ?ba/s]"
      ]
     },
     "metadata": {},
     "output_type": "display_data"
    },
    {
     "data": {
      "application/vnd.jupyter.widget-view+json": {
       "model_id": "697eb89d2a02496e9f9b0d0ab4787a95",
       "version_major": 2,
       "version_minor": 0
      },
      "text/plain": [
       "Creating parquet from Arrow format:   0%|          | 0/173 [00:00<?, ?ba/s]"
      ]
     },
     "metadata": {},
     "output_type": "display_data"
    },
    {
     "data": {
      "application/vnd.jupyter.widget-view+json": {
       "model_id": "8bfdf193610d4afaa410d1c9ed054714",
       "version_major": 2,
       "version_minor": 0
      },
      "text/plain": [
       "Creating parquet from Arrow format:   0%|          | 0/173 [00:00<?, ?ba/s]"
      ]
     },
     "metadata": {},
     "output_type": "display_data"
    },
    {
     "data": {
      "application/vnd.jupyter.widget-view+json": {
       "model_id": "d05403a6576549799611bc2a2e6bb6ab",
       "version_major": 2,
       "version_minor": 0
      },
      "text/plain": [
       "Deleting unused files from dataset repository:   0%|          | 0/8 [00:00<?, ?it/s]"
      ]
     },
     "metadata": {},
     "output_type": "display_data"
    },
    {
     "name": "stderr",
     "output_type": "stream",
     "text": [
      "Pushing split validation to the Hub.\n"
     ]
    },
    {
     "data": {
      "application/vnd.jupyter.widget-view+json": {
       "model_id": "d3ac9e5d7c37425ab05ef45d0103a482",
       "version_major": 2,
       "version_minor": 0
      },
      "text/plain": [
       "Pushing dataset shards to the dataset hub:   0%|          | 0/1 [00:00<?, ?it/s]"
      ]
     },
     "metadata": {},
     "output_type": "display_data"
    },
    {
     "data": {
      "application/vnd.jupyter.widget-view+json": {
       "model_id": "f57aa502abab4e50b65328037962ce4d",
       "version_major": 2,
       "version_minor": 0
      },
      "text/plain": [
       "Creating parquet from Arrow format:   0%|          | 0/123 [00:00<?, ?ba/s]"
      ]
     },
     "metadata": {},
     "output_type": "display_data"
    },
    {
     "data": {
      "application/vnd.jupyter.widget-view+json": {
       "model_id": "df571ca8e0e64edaab95746ee8f0511e",
       "version_major": 2,
       "version_minor": 0
      },
      "text/plain": [
       "Deleting unused files from dataset repository:   0%|          | 0/1 [00:00<?, ?it/s]"
      ]
     },
     "metadata": {},
     "output_type": "display_data"
    },
    {
     "name": "stderr",
     "output_type": "stream",
     "text": [
      "Pushing split test to the Hub.\n"
     ]
    },
    {
     "data": {
      "application/vnd.jupyter.widget-view+json": {
       "model_id": "091d6f1561db4cd5a19024b788105c0d",
       "version_major": 2,
       "version_minor": 0
      },
      "text/plain": [
       "Pushing dataset shards to the dataset hub:   0%|          | 0/1 [00:00<?, ?it/s]"
      ]
     },
     "metadata": {},
     "output_type": "display_data"
    },
    {
     "data": {
      "application/vnd.jupyter.widget-view+json": {
       "model_id": "c8b296bcaa2840d7b63873be5a67e7a2",
       "version_major": 2,
       "version_minor": 0
      },
      "text/plain": [
       "Creating parquet from Arrow format:   0%|          | 0/123 [00:00<?, ?ba/s]"
      ]
     },
     "metadata": {},
     "output_type": "display_data"
    },
    {
     "data": {
      "application/vnd.jupyter.widget-view+json": {
       "model_id": "5f86201292d147f0b5edeca4afacf33b",
       "version_major": 2,
       "version_minor": 0
      },
      "text/plain": [
       "Deleting unused files from dataset repository:   0%|          | 0/1 [00:00<?, ?it/s]"
      ]
     },
     "metadata": {},
     "output_type": "display_data"
    }
   ],
   "source": [
    "from datsets import DatasetDict\n",
    "DatasetDict(final).push_to_hub(\"hynky/czech_news_datasetv_2\", use_auth_token=True)"
   ]
  },
  {
   "cell_type": "code",
   "execution_count": 10,
   "metadata": {},
   "outputs": [
    {
     "ename": "NameError",
     "evalue": "name 'dst' is not defined",
     "output_type": "error",
     "traceback": [
      "\u001b[0;31m---------------------------------------------------------------------------\u001b[0m",
      "\u001b[0;31mNameError\u001b[0m                                 Traceback (most recent call last)",
      "Cell \u001b[0;32mIn[10], line 1\u001b[0m\n\u001b[0;32m----> 1\u001b[0m dst\n",
      "\u001b[0;31mNameError\u001b[0m: name 'dst' is not defined"
     ]
    }
   ],
   "source": [
    "dst"
   ]
  },
  {
   "cell_type": "code",
   "execution_count": 30,
   "metadata": {},
   "outputs": [],
   "source": [
    "cat_names =  [\"None\",\n",
    "\"Zahraniční\",\n",
    "\"Domácí\",\n",
    "\"Sport\",\n",
    "\"Kultura\",\n",
    "\"Revue\",\n",
    "\"Koktejl\",\n",
    "\"Ekonomika\",\n",
    "\"Krimi\",\n",
    "\"Podnikání\",\n",
    "\"Auto\",\n",
    "\"Věda\",\n",
    "\"Komentáře\",\n",
    "\"Cestování\",\n",
    "\"Finance\",\n",
    "\"Technologie\",\n",
    "\"Bydlení\",\n",
    "\"Koronavirus\",\n",
    "\"Byznys\",\n",
    "\"Rozhovory\",\n",
    "\"Podcasty\",\n",
    "\"Životní styl\",\n",
    "\"Literatura\",\n",
    "\"Vánoce\",\n",
    "\"Výtvarné umění\",\n",
    "\"Kolo\"\n",
    "]"
   ]
  },
  {
   "cell_type": "code",
   "execution_count": 32,
   "metadata": {},
   "outputs": [
    {
     "data": {
      "text/plain": [
       "26"
      ]
     },
     "execution_count": 32,
     "metadata": {},
     "output_type": "execute_result"
    }
   ],
   "source": [
    "len(cat_names)"
   ]
  },
  {
   "cell_type": "code",
   "execution_count": 36,
   "metadata": {},
   "outputs": [
    {
     "name": "stderr",
     "output_type": "stream",
     "text": [
      "Found cached dataset parquet (/home/kydliceh/.cache/huggingface/datasets/hynky___parquet/hynky--czech_news_dataset-c5e76f2bb6b5ac40/0.0.0/2a3b91fbd88a2c90d1dbbb32b460cf621d31bd5b05b934492fdef7d8d6f236ec)\n"
     ]
    },
    {
     "data": {
      "application/vnd.jupyter.widget-view+json": {
       "model_id": "7e6f3556526247259b40449c04663322",
       "version_major": 2,
       "version_minor": 0
      },
      "text/plain": [
       "  0%|          | 0/6 [00:00<?, ?it/s]"
      ]
     },
     "metadata": {},
     "output_type": "display_data"
    }
   ],
   "source": [
    "from datasets import load_dataset, Features, Value, Sequence, ClassLabel\n",
    "dst = load_dataset(\"hynky/czech_news_dataset\", features=Features({\n",
    "    \"url\": Value(\"string\"),\n",
    "    \"server\": Value(\"string\"),\n",
    "    \"brief\": Value(\"string\"),\n",
    "    \"headline\": Value(\"string\"),\n",
    "    \"content\": Value(\"large_string\"),\n",
    "    \"authors_gender\": Sequence(ClassLabel(names=[\n",
    "    \"None\", \"Man\", \"Woman\"])),\n",
    "    \"authors_cum_gender\": ClassLabel(names=[\"None\", \"Man\", \"Woman\", \"Mixed\"]),\n",
    "    \"authors\": Sequence(Value(\"string\")),\n",
    "    \"category\": ClassLabel(names=cat_names),\n",
    "    \"day_of_week\": ClassLabel(names=[\"None\", \"Monday\", \"Tuesday\", \"Wednesday\", \"Thursday\", \"Friday\", \"Saturday\", \"Sunday\"]),\n",
    "    \"date\": Value(\"timestamp[us]\")\n",
    "}))\n"
   ]
  },
  {
   "cell_type": "code",
   "execution_count": 39,
   "metadata": {},
   "outputs": [
    {
     "data": {
      "text/plain": [
       "['None',\n",
       " 'Zahraniční',\n",
       " 'Domácí',\n",
       " 'Sport',\n",
       " 'Kultura',\n",
       " 'Revue',\n",
       " 'Koktejl',\n",
       " 'Ekonomika',\n",
       " 'Krimi',\n",
       " 'Podnikání',\n",
       " 'Auto',\n",
       " 'Věda',\n",
       " 'Komentáře',\n",
       " 'Cestování',\n",
       " 'Finance',\n",
       " 'Technologie',\n",
       " 'Bydlení',\n",
       " 'Koronavirus',\n",
       " 'Byznys',\n",
       " 'Rozhovory',\n",
       " 'Podcasty',\n",
       " 'Životní styl',\n",
       " 'Literatura',\n",
       " 'Vánoce',\n",
       " 'Výtvarné umění',\n",
       " 'Kolo']"
      ]
     },
     "execution_count": 39,
     "metadata": {},
     "output_type": "execute_result"
    }
   ],
   "source": [
    "dst.push_to_hub(\"hynky/czech_news_dataset\")"
   ]
  },
  {
   "cell_type": "code",
   "execution_count": 37,
   "metadata": {},
   "outputs": [
    {
     "data": {
      "text/plain": [
       "{'url': 'https://www.idnes.cz/fotbal/prvni-liga/fotbaliste-zacali-pripravu-na-jaro.A_000103_182303_fotbal_vas',\n",
       " 'server': '2',\n",
       " 'brief': 'Do 19. února, kdy začne jarní část fotbalové ligy, je daleko, ale včera se začalo naplno trénovat téměř ve všech týmech. Ty, které se drží v tabulce nahoře, udělaly několik změn',\n",
       " 'headline': 'Fotbalisté začali přípravu na jaro',\n",
       " 'content': 'Slavia: konečně s Kozlem Ligový půlmistr začal vstup do historického roku bez výrazné posily, přesto vyztužený čtyřmi jmény: poprvé od květnové operace kolena maká naplno reprezentant Kozel, už od konce podzimu s týmem trénují bývalí hráči Krištofík a Hyský a z Rychnova nad Kněžnou přišel devatenáctiletý talent Jan Plašil, jehož bratr hraje v Monaku. \"Třeba Krištofík ukázal výkony za béčko, že by nám měl pomoci v důležitých zápasech,\" ocenil trenér František Cipro. Slávisté se budou připravovat nejen na ligu, ale i Pohár UEFA proti Udine. Oba zápasy byly přesunuty ze čtvrtků na úterý, a to 29. února na Strahově a 7. března v Itálii. Sparta: nechybějí ani běžky Do dvou autobusů, které sparťany včera odvezly na soustředění do Františkových Lázní, se překvapivě nakládaly i běžky. Většina předešlých trenérů se bála, aby na nich \"milionové\" nohy hvězd nepřišly k úhoně. \"Já obavy nemám, běžky jsou pro přípravu jenom doplňkem. Z kopce jezdit nebudeme,\" řekl Ivan Hašek, velící zimní přípravě poprvé v trenérské kariéře. S sebou vzal dvaadvacet hráčů, novou tváří je brankář Blažek z Bohemians. A co další posily? Snad do konce ledna. Ve výpravě chyběl gólman Čaloun, jenž odešel do Příbrami, a ještě tři marodi. Zraněná kolena budou doma léčit Labant s Prohászkou, Vlastimila Svobodu čeká rehabilitace přetržené achillovky. Drnovice: bez velkých změn Nikoliv soustředění na turecké Riviéře, ale místo cesty za teplem tréninkové centrum v Blšanech. To je asi jediná velká změna v přípravném plánu Drnovic, překvapivě bronzového týmu z podzimu. Ani v kádru, v němž se to minulá léta mlelo, se příliš nemění. Trenér Karel Večeřa vítal tři nové hráče: Zavadila, který naposledy hrál v Ratíškovicích, Černého z Bruntálu a Měřínského z béčka. \"O nikom dalším neuvažuji, spíš pustíme někoho na hostování. Teď je v kádru dvacet šest hráčů,\" sdělil Večeřa. Nový klubový vlastník, firma Persport, asi výrazné zásahy nechystá. Svědčí o tom prodloužení smlouvy se sportovním ředitelem Ivanem Kopeckým o rok. Bohemians: ztráta gólmana Příprava startovala už druhý den v novém roce, a to na běžkách. Přísný trenér Vlastimil Petržela nakázal první lyžařské kilometry na šumavském Špičáku. Mužstvo se příliš nezměnilo, největší ztrátou je odchod gólmana Blažka do Sparty. Náhradou by mohl být Kamil Čontofalský, brankář reprezentace Slovenska do 21 let. \"Přicházejí ještě další Slovák Kisel a Bednář z Hradce,\" řekl trenér Petržela. Na Bohemians čeká dost zápasů: absolvují třeba zimní turnaj v pražském Karlíně, čtyři přípravná klání a pět halových turnajů v Německu. Liberec: chybí Argentinec Bez své největší hvězdy útočníka Lazzara Liuniho, jenž se zatím nevrátil z rodné Argentiny, začali fotbalisté Liberce. Pro zranění kolena chyběli i Hrbek s brankářem Hauzrem. Nováčkem je slovenský střelec Vladimír Kožuch, jenž přestoupil z Prešova a během zimy ho kontaktovala i Slavia. \"Snad vylepší naši produktivitu,\" věří asistent trenéra Josef Petřík. Liberečtí si naplánovali tři soustředění: nejprve na běžkách v krkonošském Harrachově, poté v Nymburce a na závěr ve slovenské Dunajské Stredě, kde se utkají například s Rapidem Vídeň. Budějovice: nová čtveřice S kvartetem nových hráčů začali hráči Budějovic. Nejblyštivější jméno z nich nosí Karel Vácha, bývalý útočník Slavie, který přišel na půlroční hostování z rakouského klubu Tirol Innsbruck. \"Snad se nám na jaře povede přiblížit se k historicky nejlepšímu umístění klubu v první lize,\" přál si Vácha, který pamatuje šesté místo, budějovické maximum mezi elitou ze sezony 1993/94. Dále přišli Nehoda, Pospíšil a Polomský. Na hostování odcházejí mimo jiné Veselý do Poštorné a Krejčí do Zlína. \"Za šest týdnů nás čeká první zápas, musíme se s kratší přípravou, než bývá jindy, vyrovnat,\" řekl kouč Pavel Tobiáš. Teplice: čeká je Florida Třebaže nad sedmým místem nepanuje v Teplicích po podzimu spokojenost, žádné zemětřesení v kádru nenastalo. Jediným nováčkem je bývalý plzeňský brankář Havel, který na podzim hostoval v Olomouci. Uzdravil se záložník Rampáček, který chyběl celý podzim. Přípravu začalo mužstvo už 28. prosince, ale trio Bílek, Pavel Holomek a Sourada ji zahájilo až včera. Dostali svolení od trenéra Pešiceho, protože měli měli už dřív zaplacenou zahraniční dovolenou s rodinou. Tepličtí hrají turnaj v Praze-Karlíně a čeká je atraktivní zájezd na Floridu.',\n",
       " 'authors_gender': [],\n",
       " 'authors_cum_gender': 0,\n",
       " 'authors': [],\n",
       " 'category': 3,\n",
       " 'day_of_week': 1,\n",
       " 'date': datetime.datetime(2000, 1, 3, 0, 0)}"
      ]
     },
     "execution_count": 37,
     "metadata": {},
     "output_type": "execute_result"
    }
   ],
   "source": [
    "dst[\"train\"][0]"
   ]
  },
  {
   "cell_type": "code",
   "execution_count": 8,
   "metadata": {},
   "outputs": [],
   "source": [
    "day_mapping = [x.lower().capitalize() for x in dst[\"train\"].features[\"day_of_week\"].names]\n",
    "server_mapping = {\n",
    "    \"seznamzpravy\": \"SeznamZprávy.cz\",\n",
    "    \"idnes\": \"iDNES.cz\",\n",
    "    \"aktualne\": \"Aktuálně.cz\",\n",
    "    \"novinky\": \"Novinky.cz\",\n",
    "    \"denik\": \"Deník.cz\",\n",
    "    \"irozhlas\": \"iRozhlas.cz\",\n",
    "    \"None\": \"None\"\n",
    "}\n",
    "gender_mapping = {\n",
    "    \"MAN\": \"Man\",\n",
    "    \"WOMAN\": \"Woman\",\n",
    "    \"MIXED\": \"Mixed\",\n",
    "    \"None\": \"None\"\n",
    "}\n",
    "\n",
    "mapping = {\n",
    "    \"day_of_week\": day_mapping,\n",
    "    \"server\": server_mapping,\n",
    "    \"authors_cum_gender\": gender_mapping\n",
    "}"
   ]
  },
  {
   "cell_type": "code",
   "execution_count": 11,
   "metadata": {},
   "outputs": [],
   "source": [
    "new_dataset = {}\n",
    "for split, dataset in dst.items():\n",
    "    for f in [\"server\", \"authors_cum_gender\", \"day_of_week\"]:\n",
    "        dataset.features[f].names = mapping[f]\n",
    "    new_dataset[split] = dataset"
   ]
  },
  {
   "cell_type": "code",
   "execution_count": 13,
   "metadata": {},
   "outputs": [
    {
     "data": {
      "text/plain": [
       "['None',\n",
       " 'Monday',\n",
       " 'Tuesday',\n",
       " 'Wednesday',\n",
       " 'Thursday',\n",
       " 'Friday',\n",
       " 'Saturday',\n",
       " 'Sunday']"
      ]
     },
     "execution_count": 13,
     "metadata": {},
     "output_type": "execute_result"
    }
   ],
   "source": [
    "new_dataset[\"train\"].features[\"day_of_week\"].names"
   ]
  },
  {
   "cell_type": "code",
   "execution_count": 15,
   "metadata": {},
   "outputs": [
    {
     "name": "stderr",
     "output_type": "stream",
     "text": [
      "Pushing split train to the Hub.\n"
     ]
    },
    {
     "data": {
      "application/vnd.jupyter.widget-view+json": {
       "model_id": "d7e8d0385b304f4a8a71ea36d48f8be1",
       "version_major": 2,
       "version_minor": 0
      },
      "text/plain": [
       "Pushing dataset shards to the dataset hub:   0%|          | 0/8 [00:00<?, ?it/s]"
      ]
     },
     "metadata": {},
     "output_type": "display_data"
    },
    {
     "data": {
      "application/vnd.jupyter.widget-view+json": {
       "model_id": "d2c29592e6244ad6a7e0658a4ce8f5b6",
       "version_major": 2,
       "version_minor": 0
      },
      "text/plain": [
       "Creating parquet from Arrow format:   0%|          | 0/173 [00:00<?, ?ba/s]"
      ]
     },
     "metadata": {},
     "output_type": "display_data"
    },
    {
     "data": {
      "application/vnd.jupyter.widget-view+json": {
       "model_id": "4cfb54e3994041afaba3200f41a4e051",
       "version_major": 2,
       "version_minor": 0
      },
      "text/plain": [
       "Creating parquet from Arrow format:   0%|          | 0/173 [00:00<?, ?ba/s]"
      ]
     },
     "metadata": {},
     "output_type": "display_data"
    },
    {
     "data": {
      "application/vnd.jupyter.widget-view+json": {
       "model_id": "96a85dcd4b2b4ab3a95f89b6e50f95c4",
       "version_major": 2,
       "version_minor": 0
      },
      "text/plain": [
       "Creating parquet from Arrow format:   0%|          | 0/173 [00:00<?, ?ba/s]"
      ]
     },
     "metadata": {},
     "output_type": "display_data"
    },
    {
     "data": {
      "application/vnd.jupyter.widget-view+json": {
       "model_id": "382a2d10079c435e9dc351705da17749",
       "version_major": 2,
       "version_minor": 0
      },
      "text/plain": [
       "Creating parquet from Arrow format:   0%|          | 0/173 [00:00<?, ?ba/s]"
      ]
     },
     "metadata": {},
     "output_type": "display_data"
    },
    {
     "data": {
      "application/vnd.jupyter.widget-view+json": {
       "model_id": "027d3d166c82462187f225145369afbf",
       "version_major": 2,
       "version_minor": 0
      },
      "text/plain": [
       "Creating parquet from Arrow format:   0%|          | 0/173 [00:00<?, ?ba/s]"
      ]
     },
     "metadata": {},
     "output_type": "display_data"
    },
    {
     "data": {
      "application/vnd.jupyter.widget-view+json": {
       "model_id": "f6c631d8c7fa4483a9679057844952ba",
       "version_major": 2,
       "version_minor": 0
      },
      "text/plain": [
       "Creating parquet from Arrow format:   0%|          | 0/173 [00:00<?, ?ba/s]"
      ]
     },
     "metadata": {},
     "output_type": "display_data"
    },
    {
     "data": {
      "application/vnd.jupyter.widget-view+json": {
       "model_id": "43355b324ad3424bb2202d76ba1e83a8",
       "version_major": 2,
       "version_minor": 0
      },
      "text/plain": [
       "Creating parquet from Arrow format:   0%|          | 0/173 [00:00<?, ?ba/s]"
      ]
     },
     "metadata": {},
     "output_type": "display_data"
    },
    {
     "data": {
      "application/vnd.jupyter.widget-view+json": {
       "model_id": "4fea9f3360cb4cae875ded2bca0b6078",
       "version_major": 2,
       "version_minor": 0
      },
      "text/plain": [
       "Creating parquet from Arrow format:   0%|          | 0/173 [00:00<?, ?ba/s]"
      ]
     },
     "metadata": {},
     "output_type": "display_data"
    }
   ],
   "source": [
    "from datasets import DatasetDict\n",
    "DatasetDict(new_dataset).push_to_hub(\"hynky/czech_news_dataset\")"
   ]
  }
 ],
 "metadata": {
  "kernelspec": {
   "display_name": "Python 3 (ipykernel)",
   "language": "python",
   "name": "python3"
  },
  "language_info": {
   "codemirror_mode": {
    "name": "ipython",
    "version": 3
   },
   "file_extension": ".py",
   "mimetype": "text/x-python",
   "name": "python",
   "nbconvert_exporter": "python",
   "pygments_lexer": "ipython3",
   "version": "3.10.4"
  },
  "orig_nbformat": 4,
  "vscode": {
   "interpreter": {
    "hash": "4ef6dd07bac4272f716e725ea8b79349a1e1a5da9c3680ee7af3d80a9646d624"
   }
  }
 },
 "nbformat": 4,
 "nbformat_minor": 2
}
