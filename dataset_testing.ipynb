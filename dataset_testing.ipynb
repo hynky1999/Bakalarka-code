{
 "cells": [
  {
   "cell_type": "code",
   "execution_count": 1,
   "metadata": {},
   "outputs": [
    {
     "name": "stderr",
     "output_type": "stream",
     "text": [
      "Found cached dataset parquet (/home/kydliceh/.cache/huggingface/datasets/hynky___parquet/hynky--czech_news_dataset-7e1b6d781523c0de/0.0.0/2a3b91fbd88a2c90d1dbbb32b460cf621d31bd5b05b934492fdef7d8d6f236ec)\n"
     ]
    }
   ],
   "source": [
    "from datasets import load_dataset\n",
    "\n",
    "dataset = load_dataset(\"hynky/czech_news_dataset\", split=\"train\")"
   ]
  },
  {
   "cell_type": "code",
   "execution_count": 2,
   "metadata": {},
   "outputs": [],
   "source": [
    "dates = dataset[\"date\"]\n",
    "import pandas as pd\n",
    "df = pd.DataFrame(dates, columns=[\"date\"])\n",
    "\n",
    "df[\"date\"] = pd.to_datetime(df[\"date\"])\n"
   ]
  },
  {
   "cell_type": "code",
   "execution_count": null,
   "metadata": {},
   "outputs": [],
   "source": []
  },
  {
   "cell_type": "code",
   "execution_count": 4,
   "metadata": {},
   "outputs": [
    {
     "data": {
      "text/plain": [
       "<AxesSubplot: >"
      ]
     },
     "execution_count": 4,
     "metadata": {},
     "output_type": "execute_result"
    },
    {
     "data": {
      "image/png": "[encoded data removed]",
      "text/plain": [
       "<Figure size 640x480 with 1 Axes>"
      ]
     },
     "metadata": {},
     "output_type": "display_data"
    }
   ],
   "source": [
    "# plot the distribution of the dates\n",
    "df[\"date\"]"
   ]
  },
  {
   "cell_type": "code",
   "execution_count": 1,
   "metadata": {},
   "outputs": [
    {
     "name": "stdout",
     "output_type": "stream",
     "text": [
      "Requirement already satisfied: datasets in /lnet/aic/personal/kydliceh/non_runable/NLP_venv/lib/python3.10/site-packages (2.8.0)\n",
      "Requirement already satisfied: requests>=2.19.0 in /lnet/aic/personal/kydliceh/non_runable/NLP_venv/lib/python3.10/site-packages (from datasets) (2.28.1)\n",
      "Requirement already satisfied: fsspec[http]>=2021.11.1 in /lnet/aic/personal/kydliceh/non_runable/NLP_venv/lib/python3.10/site-packages (from datasets) (2022.11.0)\n",
      "Requirement already satisfied: pandas in /lnet/aic/personal/kydliceh/non_runable/NLP_venv/lib/python3.10/site-packages (from datasets) (1.5.2)\n",
      "Requirement already satisfied: huggingface-hub<1.0.0,>=0.2.0 in /lnet/aic/personal/kydliceh/non_runable/NLP_venv/lib/python3.10/site-packages (from datasets) (0.11.1)\n",
      "Requirement already satisfied: aiohttp in /lnet/aic/personal/kydliceh/non_runable/NLP_venv/lib/python3.10/site-packages (from datasets) (3.8.3)\n",
      "Requirement already satisfied: tqdm>=4.62.1 in /lnet/aic/personal/kydliceh/non_runable/NLP_venv/lib/python3.10/site-packages (from datasets) (4.64.1)\n",
      "Requirement already satisfied: xxhash in /lnet/aic/personal/kydliceh/non_runable/NLP_venv/lib/python3.10/site-packages (from datasets) (3.2.0)\n",
      "Requirement already satisfied: responses<0.19 in /lnet/aic/personal/kydliceh/non_runable/NLP_venv/lib/python3.10/site-packages (from datasets) (0.18.0)\n",
      "Requirement already satisfied: dill<0.3.7 in /lnet/aic/personal/kydliceh/non_runable/NLP_venv/lib/python3.10/site-packages (from datasets) (0.3.6)\n",
      "Requirement already satisfied: multiprocess in /lnet/aic/personal/kydliceh/non_runable/NLP_venv/lib/python3.10/site-packages (from datasets) (0.70.14)\n",
      "Requirement already satisfied: pyyaml>=5.1 in /lnet/aic/personal/kydliceh/non_runable/NLP_venv/lib/python3.10/site-packages (from datasets) (6.0)\n",
      "Requirement already satisfied: numpy>=1.17 in /lnet/aic/personal/kydliceh/non_runable/NLP_venv/lib/python3.10/site-packages (from datasets) (1.24.1)\n",
      "Requirement already satisfied: pyarrow>=6.0.0 in /lnet/aic/personal/kydliceh/non_runable/NLP_venv/lib/python3.10/site-packages (from datasets) (10.0.1)\n",
      "Requirement already satisfied: packaging in /lnet/aic/personal/kydliceh/non_runable/NLP_venv/lib/python3.10/site-packages (from datasets) (22.0)\n",
      "Requirement already satisfied: frozenlist>=1.1.1 in /lnet/aic/personal/kydliceh/non_runable/NLP_venv/lib/python3.10/site-packages (from aiohttp->datasets) (1.3.3)\n",
      "Requirement already satisfied: charset-normalizer<3.0,>=2.0 in /lnet/aic/personal/kydliceh/non_runable/NLP_venv/lib/python3.10/site-packages (from aiohttp->datasets) (2.1.1)\n",
      "Requirement already satisfied: multidict<7.0,>=4.5 in /lnet/aic/personal/kydliceh/non_runable/NLP_venv/lib/python3.10/site-packages (from aiohttp->datasets) (6.0.4)\n",
      "Requirement already satisfied: attrs>=17.3.0 in /lnet/aic/personal/kydliceh/non_runable/NLP_venv/lib/python3.10/site-packages (from aiohttp->datasets) (22.2.0)\n",
      "Requirement already satisfied: async-timeout<5.0,>=4.0.0a3 in /lnet/aic/personal/kydliceh/non_runable/NLP_venv/lib/python3.10/site-packages (from aiohttp->datasets) (4.0.2)\n",
      "Requirement already satisfied: yarl<2.0,>=1.0 in /lnet/aic/personal/kydliceh/non_runable/NLP_venv/lib/python3.10/site-packages (from aiohttp->datasets) (1.8.2)\n",
      "Requirement already satisfied: aiosignal>=1.1.2 in /lnet/aic/personal/kydliceh/non_runable/NLP_venv/lib/python3.10/site-packages (from aiohttp->datasets) (1.3.1)\n",
      "Requirement already satisfied: typing-extensions>=3.7.4.3 in /lnet/aic/personal/kydliceh/non_runable/NLP_venv/lib/python3.10/site-packages (from huggingface-hub<1.0.0,>=0.2.0->datasets) (4.4.0)\n",
      "Requirement already satisfied: filelock in /lnet/aic/personal/kydliceh/non_runable/NLP_venv/lib/python3.10/site-packages (from huggingface-hub<1.0.0,>=0.2.0->datasets) (3.9.0)\n",
      "Requirement already satisfied: idna<4,>=2.5 in /lnet/aic/personal/kydliceh/non_runable/NLP_venv/lib/python3.10/site-packages (from requests>=2.19.0->datasets) (3.4)\n",
      "Requirement already satisfied: urllib3<1.27,>=1.21.1 in /lnet/aic/personal/kydliceh/non_runable/NLP_venv/lib/python3.10/site-packages (from requests>=2.19.0->datasets) (1.26.13)\n",
      "Requirement already satisfied: certifi>=2017.4.17 in /lnet/aic/personal/kydliceh/non_runable/NLP_venv/lib/python3.10/site-packages (from requests>=2.19.0->datasets) (2022.12.7)\n",
      "Requirement already satisfied: python-dateutil>=2.8.1 in /lnet/aic/personal/kydliceh/non_runable/NLP_venv/lib/python3.10/site-packages (from pandas->datasets) (2.8.2)\n",
      "Requirement already satisfied: pytz>=2020.1 in /lnet/aic/personal/kydliceh/non_runable/NLP_venv/lib/python3.10/site-packages (from pandas->datasets) (2022.7)\n",
      "Requirement already satisfied: six>=1.5 in /lnet/aic/personal/kydliceh/non_runable/NLP_venv/lib/python3.10/site-packages (from python-dateutil>=2.8.1->pandas->datasets) (1.16.0)\n",
      "\u001b[33mWARNING: You are using pip version 22.0.4; however, version 22.3.1 is available.\n",
      "You should consider upgrading via the '/lnet/aic/personal/kydliceh/non_runable/NLP_venv/bin/python3 -m pip install --upgrade pip' command.\u001b[0m\u001b[33m\n",
      "\u001b[0m"
     ]
    }
   ],
   "source": [
    "!pip install datasets"
   ]
  },
  {
   "cell_type": "code",
   "execution_count": 2,
   "metadata": {},
   "outputs": [],
   "source": [
    "from datasets import load_dataset"
   ]
  },
  {
   "cell_type": "code",
   "execution_count": 3,
   "metadata": {},
   "outputs": [
    {
     "name": "stderr",
     "output_type": "stream",
     "text": [
      "Found cached dataset dataset_script (/home/kydliceh/.cache/huggingface/datasets/dataset_script/clean/0.0.0/203e9d8b9d0a0a5139835f22f8a9546f3e8ab12bff87f186a4554826f9934182)\n"
     ]
    }
   ],
   "source": [
    "x = load_dataset(\"dataset_script.py\", split=\"train\")"
   ]
  },
  {
   "cell_type": "code",
   "execution_count": 4,
   "metadata": {},
   "outputs": [
    {
     "data": {
      "text/plain": [
       "1783006"
      ]
     },
     "execution_count": 4,
     "metadata": {},
     "output_type": "execute_result"
    }
   ],
   "source": [
    "len(x)"
   ]
  },
  {
   "cell_type": "code",
   "execution_count": 102,
   "metadata": {},
   "outputs": [
    {
     "data": {
      "text/plain": [
       "array([ 0,  1,  2,  3,  4,  5,  6,  7,  8,  9, 10, 11, 12, 13, 14, 15, 16,\n",
       "       17, 18, 19, 20, 21, 23, 24, 25, 26, 27, 28, 29, 30, 31, 33, 35, 36,\n",
       "       37, 38, 39, 40, 41, 42, 43, 44, 45, 46, 47, 49])"
      ]
     },
     "execution_count": 102,
     "metadata": {},
     "output_type": "execute_result"
    }
   ],
   "source": [
    "import numpy as np\n",
    "len(np.unique([z for z in x[\"category\"] if z is not None]))"
   ]
  },
  {
   "cell_type": "code",
   "execution_count": 7,
   "metadata": {},
   "outputs": [
    {
     "name": "stdout",
     "output_type": "stream",
     "text": [
      "Requirement already satisfied: datasets in /lnet/aic/personal/kydliceh/non_runable/NLP_venv/lib/python3.10/site-packages (2.10.0)\n",
      "Requirement already satisfied: tqdm>=4.62.1 in /lnet/aic/personal/kydliceh/non_runable/NLP_venv/lib/python3.10/site-packages (from datasets) (4.64.1)\n",
      "Requirement already satisfied: pandas in /lnet/aic/personal/kydliceh/non_runable/NLP_venv/lib/python3.10/site-packages (from datasets) (1.5.2)\n",
      "Requirement already satisfied: xxhash in /lnet/aic/personal/kydliceh/non_runable/NLP_venv/lib/python3.10/site-packages (from datasets) (3.2.0)\n",
      "Requirement already satisfied: pyyaml>=5.1 in /lnet/aic/personal/kydliceh/non_runable/NLP_venv/lib/python3.10/site-packages (from datasets) (6.0)\n",
      "Requirement already satisfied: dill<0.3.7,>=0.3.0 in /lnet/aic/personal/kydliceh/non_runable/NLP_venv/lib/python3.10/site-packages (from datasets) (0.3.6)\n",
      "Requirement already satisfied: multiprocess in /lnet/aic/personal/kydliceh/non_runable/NLP_venv/lib/python3.10/site-packages (from datasets) (0.70.14)\n",
      "Requirement already satisfied: aiohttp in /lnet/aic/personal/kydliceh/non_runable/NLP_venv/lib/python3.10/site-packages (from datasets) (3.8.3)\n",
      "Requirement already satisfied: numpy>=1.17 in /lnet/aic/personal/kydliceh/non_runable/NLP_venv/lib/python3.10/site-packages (from datasets) (1.24.1)\n",
      "Requirement already satisfied: pyarrow>=6.0.0 in /lnet/aic/personal/kydliceh/non_runable/NLP_venv/lib/python3.10/site-packages (from datasets) (10.0.1)\n",
      "Requirement already satisfied: requests>=2.19.0 in /lnet/aic/personal/kydliceh/non_runable/NLP_venv/lib/python3.10/site-packages (from datasets) (2.28.1)\n",
      "Requirement already satisfied: packaging in /lnet/aic/personal/kydliceh/non_runable/NLP_venv/lib/python3.10/site-packages (from datasets) (22.0)\n",
      "Requirement already satisfied: responses<0.19 in /lnet/aic/personal/kydliceh/non_runable/NLP_venv/lib/python3.10/site-packages (from datasets) (0.18.0)\n",
      "Requirement already satisfied: fsspec[http]>=2021.11.1 in /lnet/aic/personal/kydliceh/non_runable/NLP_venv/lib/python3.10/site-packages (from datasets) (2022.11.0)\n",
      "Requirement already satisfied: huggingface-hub<1.0.0,>=0.2.0 in /lnet/aic/personal/kydliceh/non_runable/NLP_venv/lib/python3.10/site-packages (from datasets) (0.11.1)\n",
      "Requirement already satisfied: async-timeout<5.0,>=4.0.0a3 in /lnet/aic/personal/kydliceh/non_runable/NLP_venv/lib/python3.10/site-packages (from aiohttp->datasets) (4.0.2)\n",
      "Requirement already satisfied: multidict<7.0,>=4.5 in /lnet/aic/personal/kydliceh/non_runable/NLP_venv/lib/python3.10/site-packages (from aiohttp->datasets) (6.0.4)\n",
      "Requirement already satisfied: attrs>=17.3.0 in /lnet/aic/personal/kydliceh/non_runable/NLP_venv/lib/python3.10/site-packages (from aiohttp->datasets) (22.2.0)\n",
      "Requirement already satisfied: yarl<2.0,>=1.0 in /lnet/aic/personal/kydliceh/non_runable/NLP_venv/lib/python3.10/site-packages (from aiohttp->datasets) (1.8.2)\n",
      "Requirement already satisfied: charset-normalizer<3.0,>=2.0 in /lnet/aic/personal/kydliceh/non_runable/NLP_venv/lib/python3.10/site-packages (from aiohttp->datasets) (2.1.1)\n",
      "Requirement already satisfied: aiosignal>=1.1.2 in /lnet/aic/personal/kydliceh/non_runable/NLP_venv/lib/python3.10/site-packages (from aiohttp->datasets) (1.3.1)\n",
      "Requirement already satisfied: frozenlist>=1.1.1 in /lnet/aic/personal/kydliceh/non_runable/NLP_venv/lib/python3.10/site-packages (from aiohttp->datasets) (1.3.3)\n",
      "Requirement already satisfied: filelock in /lnet/aic/personal/kydliceh/non_runable/NLP_venv/lib/python3.10/site-packages (from huggingface-hub<1.0.0,>=0.2.0->datasets) (3.9.0)\n",
      "Requirement already satisfied: typing-extensions>=3.7.4.3 in /lnet/aic/personal/kydliceh/non_runable/NLP_venv/lib/python3.10/site-packages (from huggingface-hub<1.0.0,>=0.2.0->datasets) (4.4.0)\n",
      "Requirement already satisfied: certifi>=2017.4.17 in /lnet/aic/personal/kydliceh/non_runable/NLP_venv/lib/python3.10/site-packages (from requests>=2.19.0->datasets) (2022.12.7)\n",
      "Requirement already satisfied: urllib3<1.27,>=1.21.1 in /lnet/aic/personal/kydliceh/non_runable/NLP_venv/lib/python3.10/site-packages (from requests>=2.19.0->datasets) (1.26.13)\n",
      "Requirement already satisfied: idna<4,>=2.5 in /lnet/aic/personal/kydliceh/non_runable/NLP_venv/lib/python3.10/site-packages (from requests>=2.19.0->datasets) (3.4)\n",
      "Requirement already satisfied: python-dateutil>=2.8.1 in /lnet/aic/personal/kydliceh/non_runable/NLP_venv/lib/python3.10/site-packages (from pandas->datasets) (2.8.2)\n",
      "Requirement already satisfied: pytz>=2020.1 in /lnet/aic/personal/kydliceh/non_runable/NLP_venv/lib/python3.10/site-packages (from pandas->datasets) (2022.7)\n",
      "Requirement already satisfied: six>=1.5 in /lnet/aic/personal/kydliceh/non_runable/NLP_venv/lib/python3.10/site-packages (from python-dateutil>=2.8.1->pandas->datasets) (1.16.0)\n"
     ]
    }
   ],
   "source": [
    "!pip install datasets"
   ]
  },
  {
   "cell_type": "code",
   "execution_count": 15,
   "metadata": {},
   "outputs": [
    {
     "name": "stdout",
     "output_type": "stream",
     "text": [
      "Requirement already satisfied: datasets in /lnet/aic/personal/kydliceh/non_runable/NLP_venv/lib/python3.10/site-packages (2.10.1)\n",
      "Requirement already satisfied: fsspec[http]>=2021.11.1 in /lnet/aic/personal/kydliceh/non_runable/NLP_venv/lib/python3.10/site-packages (from datasets) (2022.11.0)\n",
      "Requirement already satisfied: aiohttp in /lnet/aic/personal/kydliceh/non_runable/NLP_venv/lib/python3.10/site-packages (from datasets) (3.8.3)\n",
      "Requirement already satisfied: dill<0.3.7,>=0.3.0 in /lnet/aic/personal/kydliceh/non_runable/NLP_venv/lib/python3.10/site-packages (from datasets) (0.3.6)\n",
      "Requirement already satisfied: numpy>=1.17 in /lnet/aic/personal/kydliceh/non_runable/NLP_venv/lib/python3.10/site-packages (from datasets) (1.24.1)\n",
      "Requirement already satisfied: huggingface-hub<1.0.0,>=0.2.0 in /lnet/aic/personal/kydliceh/non_runable/NLP_venv/lib/python3.10/site-packages (from datasets) (0.11.1)\n",
      "Requirement already satisfied: tqdm>=4.62.1 in /lnet/aic/personal/kydliceh/non_runable/NLP_venv/lib/python3.10/site-packages (from datasets) (4.64.1)\n",
      "Requirement already satisfied: multiprocess in /lnet/aic/personal/kydliceh/non_runable/NLP_venv/lib/python3.10/site-packages (from datasets) (0.70.14)\n",
      "Requirement already satisfied: packaging in /lnet/aic/personal/kydliceh/non_runable/NLP_venv/lib/python3.10/site-packages (from datasets) (22.0)\n",
      "Requirement already satisfied: pandas in /lnet/aic/personal/kydliceh/non_runable/NLP_venv/lib/python3.10/site-packages (from datasets) (1.5.2)\n",
      "Requirement already satisfied: pyarrow>=6.0.0 in /lnet/aic/personal/kydliceh/non_runable/NLP_venv/lib/python3.10/site-packages (from datasets) (10.0.1)\n",
      "Requirement already satisfied: xxhash in /lnet/aic/personal/kydliceh/non_runable/NLP_venv/lib/python3.10/site-packages (from datasets) (3.2.0)\n",
      "Requirement already satisfied: pyyaml>=5.1 in /lnet/aic/personal/kydliceh/non_runable/NLP_venv/lib/python3.10/site-packages (from datasets) (6.0)\n",
      "Requirement already satisfied: requests>=2.19.0 in /lnet/aic/personal/kydliceh/non_runable/NLP_venv/lib/python3.10/site-packages (from datasets) (2.28.1)\n",
      "Requirement already satisfied: responses<0.19 in /lnet/aic/personal/kydliceh/non_runable/NLP_venv/lib/python3.10/site-packages (from datasets) (0.18.0)\n",
      "Requirement already satisfied: attrs>=17.3.0 in /lnet/aic/personal/kydliceh/non_runable/NLP_venv/lib/python3.10/site-packages (from aiohttp->datasets) (22.2.0)\n",
      "Requirement already satisfied: yarl<2.0,>=1.0 in /lnet/aic/personal/kydliceh/non_runable/NLP_venv/lib/python3.10/site-packages (from aiohttp->datasets) (1.8.2)\n",
      "Requirement already satisfied: multidict<7.0,>=4.5 in /lnet/aic/personal/kydliceh/non_runable/NLP_venv/lib/python3.10/site-packages (from aiohttp->datasets) (6.0.4)\n",
      "Requirement already satisfied: async-timeout<5.0,>=4.0.0a3 in /lnet/aic/personal/kydliceh/non_runable/NLP_venv/lib/python3.10/site-packages (from aiohttp->datasets) (4.0.2)\n",
      "Requirement already satisfied: aiosignal>=1.1.2 in /lnet/aic/personal/kydliceh/non_runable/NLP_venv/lib/python3.10/site-packages (from aiohttp->datasets) (1.3.1)\n",
      "Requirement already satisfied: frozenlist>=1.1.1 in /lnet/aic/personal/kydliceh/non_runable/NLP_venv/lib/python3.10/site-packages (from aiohttp->datasets) (1.3.3)\n",
      "Requirement already satisfied: charset-normalizer<3.0,>=2.0 in /lnet/aic/personal/kydliceh/non_runable/NLP_venv/lib/python3.10/site-packages (from aiohttp->datasets) (2.1.1)\n",
      "Requirement already satisfied: typing-extensions>=3.7.4.3 in /lnet/aic/personal/kydliceh/non_runable/NLP_venv/lib/python3.10/site-packages (from huggingface-hub<1.0.0,>=0.2.0->datasets) (4.4.0)\n",
      "Requirement already satisfied: filelock in /lnet/aic/personal/kydliceh/non_runable/NLP_venv/lib/python3.10/site-packages (from huggingface-hub<1.0.0,>=0.2.0->datasets) (3.9.0)\n",
      "Requirement already satisfied: urllib3<1.27,>=1.21.1 in /lnet/aic/personal/kydliceh/non_runable/NLP_venv/lib/python3.10/site-packages (from requests>=2.19.0->datasets) (1.26.13)\n",
      "Requirement already satisfied: idna<4,>=2.5 in /lnet/aic/personal/kydliceh/non_runable/NLP_venv/lib/python3.10/site-packages (from requests>=2.19.0->datasets) (3.4)\n",
      "Requirement already satisfied: certifi>=2017.4.17 in /lnet/aic/personal/kydliceh/non_runable/NLP_venv/lib/python3.10/site-packages (from requests>=2.19.0->datasets) (2022.12.7)\n",
      "Requirement already satisfied: python-dateutil>=2.8.1 in /lnet/aic/personal/kydliceh/non_runable/NLP_venv/lib/python3.10/site-packages (from pandas->datasets) (2.8.2)\n",
      "Requirement already satisfied: pytz>=2020.1 in /lnet/aic/personal/kydliceh/non_runable/NLP_venv/lib/python3.10/site-packages (from pandas->datasets) (2022.7)\n",
      "Requirement already satisfied: six>=1.5 in /lnet/aic/personal/kydliceh/non_runable/NLP_venv/lib/python3.10/site-packages (from python-dateutil>=2.8.1->pandas->datasets) (1.16.0)\n"
     ]
    }
   ],
   "source": [
    "!pip install -U datasets"
   ]
  },
  {
   "cell_type": "code",
   "execution_count": 16,
   "metadata": {},
   "outputs": [
    {
     "ename": "AttributeError",
     "evalue": "partially initialized module 'datasets' has no attribute 'utils' (most likely due to a circular import)",
     "output_type": "error",
     "traceback": [
      "\u001b[0;31m---------------------------------------------------------------------------\u001b[0m",
      "\u001b[0;31mAttributeError\u001b[0m                            Traceback (most recent call last)",
      "Cell \u001b[0;32mIn[16], line 1\u001b[0m\n\u001b[0;32m----> 1\u001b[0m \u001b[39mfrom\u001b[39;00m \u001b[39mdatasets\u001b[39;00m \u001b[39mimport\u001b[39;00m load_from_disk\n",
      "File \u001b[0;32m~/non_runable/NLP_venv/lib/python3.10/site-packages/datasets/__init__.py:52\u001b[0m\n\u001b[1;32m     50\u001b[0m \u001b[39mfrom\u001b[39;00m \u001b[39m.\u001b[39;00m\u001b[39mfingerprint\u001b[39;00m \u001b[39mimport\u001b[39;00m disable_caching, enable_caching, is_caching_enabled, set_caching_enabled\n\u001b[1;32m     51\u001b[0m \u001b[39mfrom\u001b[39;00m \u001b[39m.\u001b[39;00m\u001b[39minfo\u001b[39;00m \u001b[39mimport\u001b[39;00m DatasetInfo, MetricInfo\n\u001b[0;32m---> 52\u001b[0m \u001b[39mfrom\u001b[39;00m \u001b[39m.\u001b[39;00m\u001b[39minspect\u001b[39;00m \u001b[39mimport\u001b[39;00m (\n\u001b[1;32m     53\u001b[0m     get_dataset_config_info,\n\u001b[1;32m     54\u001b[0m     get_dataset_config_names,\n\u001b[1;32m     55\u001b[0m     get_dataset_infos,\n\u001b[1;32m     56\u001b[0m     get_dataset_split_names,\n\u001b[1;32m     57\u001b[0m     inspect_dataset,\n\u001b[1;32m     58\u001b[0m     inspect_metric,\n\u001b[1;32m     59\u001b[0m     list_datasets,\n\u001b[1;32m     60\u001b[0m     list_metrics,\n\u001b[1;32m     61\u001b[0m )\n\u001b[1;32m     62\u001b[0m \u001b[39mfrom\u001b[39;00m \u001b[39m.\u001b[39;00m\u001b[39miterable_dataset\u001b[39;00m \u001b[39mimport\u001b[39;00m IterableDataset\n\u001b[1;32m     63\u001b[0m \u001b[39mfrom\u001b[39;00m \u001b[39m.\u001b[39;00m\u001b[39mload\u001b[39;00m \u001b[39mimport\u001b[39;00m load_dataset, load_dataset_builder, load_from_disk, load_metric\n",
      "File \u001b[0;32m~/non_runable/NLP_venv/lib/python3.10/site-packages/datasets/inspect.py:30\u001b[0m\n\u001b[1;32m     28\u001b[0m \u001b[39mfrom\u001b[39;00m \u001b[39m.\u001b[39;00m\u001b[39mdownload\u001b[39;00m\u001b[39m.\u001b[39;00m\u001b[39mstreaming_download_manager\u001b[39;00m \u001b[39mimport\u001b[39;00m StreamingDownloadManager\n\u001b[1;32m     29\u001b[0m \u001b[39mfrom\u001b[39;00m \u001b[39m.\u001b[39;00m\u001b[39minfo\u001b[39;00m \u001b[39mimport\u001b[39;00m DatasetInfo\n\u001b[0;32m---> 30\u001b[0m \u001b[39mfrom\u001b[39;00m \u001b[39m.\u001b[39;00m\u001b[39mload\u001b[39;00m \u001b[39mimport\u001b[39;00m dataset_module_factory, import_main_class, load_dataset_builder, metric_module_factory\n\u001b[1;32m     31\u001b[0m \u001b[39mfrom\u001b[39;00m \u001b[39m.\u001b[39;00m\u001b[39mutils\u001b[39;00m\u001b[39m.\u001b[39;00m\u001b[39mdeprecation_utils\u001b[39;00m \u001b[39mimport\u001b[39;00m deprecated\n\u001b[1;32m     32\u001b[0m \u001b[39mfrom\u001b[39;00m \u001b[39m.\u001b[39;00m\u001b[39mutils\u001b[39;00m\u001b[39m.\u001b[39;00m\u001b[39mfile_utils\u001b[39;00m \u001b[39mimport\u001b[39;00m relative_to_absolute_path\n",
      "File \u001b[0;32m~/non_runable/NLP_venv/lib/python3.10/site-packages/datasets/load.py:58\u001b[0m\n\u001b[1;32m     56\u001b[0m \u001b[39mfrom\u001b[39;00m \u001b[39m.\u001b[39;00m\u001b[39miterable_dataset\u001b[39;00m \u001b[39mimport\u001b[39;00m IterableDataset\n\u001b[1;32m     57\u001b[0m \u001b[39mfrom\u001b[39;00m \u001b[39m.\u001b[39;00m\u001b[39mmetric\u001b[39;00m \u001b[39mimport\u001b[39;00m Metric\n\u001b[0;32m---> 58\u001b[0m \u001b[39mfrom\u001b[39;00m \u001b[39m.\u001b[39;00m\u001b[39mpackaged_modules\u001b[39;00m \u001b[39mimport\u001b[39;00m (\n\u001b[1;32m     59\u001b[0m     _EXTENSION_TO_MODULE,\n\u001b[1;32m     60\u001b[0m     _MODULE_SUPPORTS_METADATA,\n\u001b[1;32m     61\u001b[0m     _PACKAGED_DATASETS_MODULES,\n\u001b[1;32m     62\u001b[0m     _hash_python_lines,\n\u001b[1;32m     63\u001b[0m )\n\u001b[1;32m     64\u001b[0m \u001b[39mfrom\u001b[39;00m \u001b[39m.\u001b[39;00m\u001b[39msplits\u001b[39;00m \u001b[39mimport\u001b[39;00m Split\n\u001b[1;32m     65\u001b[0m \u001b[39mfrom\u001b[39;00m \u001b[39m.\u001b[39;00m\u001b[39mtasks\u001b[39;00m \u001b[39mimport\u001b[39;00m TaskTemplate\n",
      "File \u001b[0;32m~/non_runable/NLP_venv/lib/python3.10/site-packages/datasets/packaged_modules/__init__.py:6\u001b[0m\n\u001b[1;32m      3\u001b[0m \u001b[39mfrom\u001b[39;00m \u001b[39mhashlib\u001b[39;00m \u001b[39mimport\u001b[39;00m sha256\n\u001b[1;32m      4\u001b[0m \u001b[39mfrom\u001b[39;00m \u001b[39mtyping\u001b[39;00m \u001b[39mimport\u001b[39;00m List\n\u001b[0;32m----> 6\u001b[0m \u001b[39mfrom\u001b[39;00m \u001b[39m.\u001b[39;00m\u001b[39maudiofolder\u001b[39;00m \u001b[39mimport\u001b[39;00m audiofolder\n\u001b[1;32m      7\u001b[0m \u001b[39mfrom\u001b[39;00m \u001b[39m.\u001b[39;00m\u001b[39mcsv\u001b[39;00m \u001b[39mimport\u001b[39;00m csv\n\u001b[1;32m      8\u001b[0m \u001b[39mfrom\u001b[39;00m \u001b[39m.\u001b[39;00m\u001b[39mimagefolder\u001b[39;00m \u001b[39mimport\u001b[39;00m imagefolder\n",
      "File \u001b[0;32m~/non_runable/NLP_venv/lib/python3.10/site-packages/datasets/packaged_modules/audiofolder/audiofolder.py:6\u001b[0m\n\u001b[1;32m      3\u001b[0m \u001b[39mimport\u001b[39;00m \u001b[39mdatasets\u001b[39;00m\n\u001b[1;32m      4\u001b[0m \u001b[39mfrom\u001b[39;00m \u001b[39mdatasets\u001b[39;00m\u001b[39m.\u001b[39;00m\u001b[39mtasks\u001b[39;00m \u001b[39mimport\u001b[39;00m AudioClassification\n\u001b[0;32m----> 6\u001b[0m \u001b[39mfrom\u001b[39;00m \u001b[39m.\u001b[39;00m\u001b[39m.\u001b[39;00m\u001b[39mfolder_based_builder\u001b[39;00m \u001b[39mimport\u001b[39;00m folder_based_builder\n\u001b[1;32m      9\u001b[0m logger \u001b[39m=\u001b[39m datasets\u001b[39m.\u001b[39mutils\u001b[39m.\u001b[39mlogging\u001b[39m.\u001b[39mget_logger(\u001b[39m__name__\u001b[39m)\n\u001b[1;32m     12\u001b[0m \u001b[39mclass\u001b[39;00m \u001b[39mAudioFolderConfig\u001b[39;00m(folder_based_builder\u001b[39m.\u001b[39mFolderBasedBuilderConfig):\n",
      "File \u001b[0;32m~/non_runable/NLP_venv/lib/python3.10/site-packages/datasets/packaged_modules/folder_based_builder/folder_based_builder.py:16\u001b[0m\n\u001b[1;32m     12\u001b[0m \u001b[39mfrom\u001b[39;00m \u001b[39mdatasets\u001b[39;00m\u001b[39m.\u001b[39;00m\u001b[39mfeatures\u001b[39;00m\u001b[39m.\u001b[39;00m\u001b[39mfeatures\u001b[39;00m \u001b[39mimport\u001b[39;00m FeatureType\n\u001b[1;32m     13\u001b[0m \u001b[39mfrom\u001b[39;00m \u001b[39mdatasets\u001b[39;00m\u001b[39m.\u001b[39;00m\u001b[39mtasks\u001b[39;00m\u001b[39m.\u001b[39;00m\u001b[39mbase\u001b[39;00m \u001b[39mimport\u001b[39;00m TaskTemplate\n\u001b[0;32m---> 16\u001b[0m logger \u001b[39m=\u001b[39m datasets\u001b[39m.\u001b[39;49mutils\u001b[39m.\u001b[39mlogging\u001b[39m.\u001b[39mget_logger(\u001b[39m__name__\u001b[39m)\n\u001b[1;32m     19\u001b[0m \u001b[39mif\u001b[39;00m datasets\u001b[39m.\u001b[39mconfig\u001b[39m.\u001b[39mPYARROW_VERSION\u001b[39m.\u001b[39mmajor \u001b[39m>\u001b[39m\u001b[39m=\u001b[39m \u001b[39m7\u001b[39m:\n\u001b[1;32m     21\u001b[0m     \u001b[39mdef\u001b[39;00m \u001b[39mpa_table_to_pylist\u001b[39m(table):\n",
      "\u001b[0;31mAttributeError\u001b[0m: partially initialized module 'datasets' has no attribute 'utils' (most likely due to a circular import)"
     ]
    }
   ],
   "source": [
    "from datasets import load_from_disk"
   ]
  },
  {
   "cell_type": "code",
   "execution_count": 4,
   "metadata": {},
   "outputs": [
    {
     "ename": "AttributeError",
     "evalue": "partially initialized module 'datasets' has no attribute 'utils' (most likely due to a circular import)",
     "output_type": "error",
     "traceback": [
      "\u001b[0;31m---------------------------------------------------------------------------\u001b[0m",
      "\u001b[0;31mAttributeError\u001b[0m                            Traceback (most recent call last)",
      "Cell \u001b[0;32mIn[4], line 1\u001b[0m\n\u001b[0;32m----> 1\u001b[0m \u001b[39mfrom\u001b[39;00m \u001b[39mdatasets\u001b[39;00m \u001b[39mimport\u001b[39;00m load_dataset\n\u001b[1;32m      2\u001b[0m x \u001b[39m=\u001b[39m load_dataset(\u001b[39m\"\u001b[39m\u001b[39mhynky/czech_news_dataset\u001b[39m\u001b[39m\"\u001b[39m, split\u001b[39m=\u001b[39m\u001b[39m\"\u001b[39m\u001b[39mtrain\u001b[39m\u001b[39m\"\u001b[39m)\n",
      "File \u001b[0;32m~/non_runable/NLP_venv/lib/python3.10/site-packages/datasets/__init__.py:52\u001b[0m\n\u001b[1;32m     50\u001b[0m \u001b[39mfrom\u001b[39;00m \u001b[39m.\u001b[39;00m\u001b[39mfingerprint\u001b[39;00m \u001b[39mimport\u001b[39;00m disable_caching, enable_caching, is_caching_enabled, set_caching_enabled\n\u001b[1;32m     51\u001b[0m \u001b[39mfrom\u001b[39;00m \u001b[39m.\u001b[39;00m\u001b[39minfo\u001b[39;00m \u001b[39mimport\u001b[39;00m DatasetInfo, MetricInfo\n\u001b[0;32m---> 52\u001b[0m \u001b[39mfrom\u001b[39;00m \u001b[39m.\u001b[39;00m\u001b[39minspect\u001b[39;00m \u001b[39mimport\u001b[39;00m (\n\u001b[1;32m     53\u001b[0m     get_dataset_config_info,\n\u001b[1;32m     54\u001b[0m     get_dataset_config_names,\n\u001b[1;32m     55\u001b[0m     get_dataset_infos,\n\u001b[1;32m     56\u001b[0m     get_dataset_split_names,\n\u001b[1;32m     57\u001b[0m     inspect_dataset,\n\u001b[1;32m     58\u001b[0m     inspect_metric,\n\u001b[1;32m     59\u001b[0m     list_datasets,\n\u001b[1;32m     60\u001b[0m     list_metrics,\n\u001b[1;32m     61\u001b[0m )\n\u001b[1;32m     62\u001b[0m \u001b[39mfrom\u001b[39;00m \u001b[39m.\u001b[39;00m\u001b[39miterable_dataset\u001b[39;00m \u001b[39mimport\u001b[39;00m IterableDataset\n\u001b[1;32m     63\u001b[0m \u001b[39mfrom\u001b[39;00m \u001b[39m.\u001b[39;00m\u001b[39mload\u001b[39;00m \u001b[39mimport\u001b[39;00m load_dataset, load_dataset_builder, load_from_disk, load_metric\n",
      "File \u001b[0;32m~/non_runable/NLP_venv/lib/python3.10/site-packages/datasets/inspect.py:30\u001b[0m\n\u001b[1;32m     28\u001b[0m \u001b[39mfrom\u001b[39;00m \u001b[39m.\u001b[39;00m\u001b[39mdownload\u001b[39;00m\u001b[39m.\u001b[39;00m\u001b[39mstreaming_download_manager\u001b[39;00m \u001b[39mimport\u001b[39;00m StreamingDownloadManager\n\u001b[1;32m     29\u001b[0m \u001b[39mfrom\u001b[39;00m \u001b[39m.\u001b[39;00m\u001b[39minfo\u001b[39;00m \u001b[39mimport\u001b[39;00m DatasetInfo\n\u001b[0;32m---> 30\u001b[0m \u001b[39mfrom\u001b[39;00m \u001b[39m.\u001b[39;00m\u001b[39mload\u001b[39;00m \u001b[39mimport\u001b[39;00m dataset_module_factory, import_main_class, load_dataset_builder, metric_module_factory\n\u001b[1;32m     31\u001b[0m \u001b[39mfrom\u001b[39;00m \u001b[39m.\u001b[39;00m\u001b[39mutils\u001b[39;00m\u001b[39m.\u001b[39;00m\u001b[39mdeprecation_utils\u001b[39;00m \u001b[39mimport\u001b[39;00m deprecated\n\u001b[1;32m     32\u001b[0m \u001b[39mfrom\u001b[39;00m \u001b[39m.\u001b[39;00m\u001b[39mutils\u001b[39;00m\u001b[39m.\u001b[39;00m\u001b[39mfile_utils\u001b[39;00m \u001b[39mimport\u001b[39;00m relative_to_absolute_path\n",
      "File \u001b[0;32m~/non_runable/NLP_venv/lib/python3.10/site-packages/datasets/load.py:58\u001b[0m\n\u001b[1;32m     56\u001b[0m \u001b[39mfrom\u001b[39;00m \u001b[39m.\u001b[39;00m\u001b[39miterable_dataset\u001b[39;00m \u001b[39mimport\u001b[39;00m IterableDataset\n\u001b[1;32m     57\u001b[0m \u001b[39mfrom\u001b[39;00m \u001b[39m.\u001b[39;00m\u001b[39mmetric\u001b[39;00m \u001b[39mimport\u001b[39;00m Metric\n\u001b[0;32m---> 58\u001b[0m \u001b[39mfrom\u001b[39;00m \u001b[39m.\u001b[39;00m\u001b[39mpackaged_modules\u001b[39;00m \u001b[39mimport\u001b[39;00m (\n\u001b[1;32m     59\u001b[0m     _EXTENSION_TO_MODULE,\n\u001b[1;32m     60\u001b[0m     _MODULE_SUPPORTS_METADATA,\n\u001b[1;32m     61\u001b[0m     _PACKAGED_DATASETS_MODULES,\n\u001b[1;32m     62\u001b[0m     _hash_python_lines,\n\u001b[1;32m     63\u001b[0m )\n\u001b[1;32m     64\u001b[0m \u001b[39mfrom\u001b[39;00m \u001b[39m.\u001b[39;00m\u001b[39msplits\u001b[39;00m \u001b[39mimport\u001b[39;00m Split\n\u001b[1;32m     65\u001b[0m \u001b[39mfrom\u001b[39;00m \u001b[39m.\u001b[39;00m\u001b[39mtasks\u001b[39;00m \u001b[39mimport\u001b[39;00m TaskTemplate\n",
      "File \u001b[0;32m~/non_runable/NLP_venv/lib/python3.10/site-packages/datasets/packaged_modules/__init__.py:6\u001b[0m\n\u001b[1;32m      3\u001b[0m \u001b[39mfrom\u001b[39;00m \u001b[39mhashlib\u001b[39;00m \u001b[39mimport\u001b[39;00m sha256\n\u001b[1;32m      4\u001b[0m \u001b[39mfrom\u001b[39;00m \u001b[39mtyping\u001b[39;00m \u001b[39mimport\u001b[39;00m List\n\u001b[0;32m----> 6\u001b[0m \u001b[39mfrom\u001b[39;00m \u001b[39m.\u001b[39;00m\u001b[39maudiofolder\u001b[39;00m \u001b[39mimport\u001b[39;00m audiofolder\n\u001b[1;32m      7\u001b[0m \u001b[39mfrom\u001b[39;00m \u001b[39m.\u001b[39;00m\u001b[39mcsv\u001b[39;00m \u001b[39mimport\u001b[39;00m csv\n\u001b[1;32m      8\u001b[0m \u001b[39mfrom\u001b[39;00m \u001b[39m.\u001b[39;00m\u001b[39mimagefolder\u001b[39;00m \u001b[39mimport\u001b[39;00m imagefolder\n",
      "File \u001b[0;32m~/non_runable/NLP_venv/lib/python3.10/site-packages/datasets/packaged_modules/audiofolder/audiofolder.py:6\u001b[0m\n\u001b[1;32m      3\u001b[0m \u001b[39mimport\u001b[39;00m \u001b[39mdatasets\u001b[39;00m\n\u001b[1;32m      4\u001b[0m \u001b[39mfrom\u001b[39;00m \u001b[39mdatasets\u001b[39;00m\u001b[39m.\u001b[39;00m\u001b[39mtasks\u001b[39;00m \u001b[39mimport\u001b[39;00m AudioClassification\n\u001b[0;32m----> 6\u001b[0m \u001b[39mfrom\u001b[39;00m \u001b[39m.\u001b[39;00m\u001b[39m.\u001b[39;00m\u001b[39mfolder_based_builder\u001b[39;00m \u001b[39mimport\u001b[39;00m folder_based_builder\n\u001b[1;32m      9\u001b[0m logger \u001b[39m=\u001b[39m datasets\u001b[39m.\u001b[39mutils\u001b[39m.\u001b[39mlogging\u001b[39m.\u001b[39mget_logger(\u001b[39m__name__\u001b[39m)\n\u001b[1;32m     12\u001b[0m \u001b[39mclass\u001b[39;00m \u001b[39mAudioFolderConfig\u001b[39;00m(folder_based_builder\u001b[39m.\u001b[39mFolderBasedBuilderConfig):\n",
      "File \u001b[0;32m~/non_runable/NLP_venv/lib/python3.10/site-packages/datasets/packaged_modules/folder_based_builder/folder_based_builder.py:16\u001b[0m\n\u001b[1;32m     12\u001b[0m \u001b[39mfrom\u001b[39;00m \u001b[39mdatasets\u001b[39;00m\u001b[39m.\u001b[39;00m\u001b[39mfeatures\u001b[39;00m\u001b[39m.\u001b[39;00m\u001b[39mfeatures\u001b[39;00m \u001b[39mimport\u001b[39;00m FeatureType\n\u001b[1;32m     13\u001b[0m \u001b[39mfrom\u001b[39;00m \u001b[39mdatasets\u001b[39;00m\u001b[39m.\u001b[39;00m\u001b[39mtasks\u001b[39;00m\u001b[39m.\u001b[39;00m\u001b[39mbase\u001b[39;00m \u001b[39mimport\u001b[39;00m TaskTemplate\n\u001b[0;32m---> 16\u001b[0m logger \u001b[39m=\u001b[39m datasets\u001b[39m.\u001b[39;49mutils\u001b[39m.\u001b[39mlogging\u001b[39m.\u001b[39mget_logger(\u001b[39m__name__\u001b[39m)\n\u001b[1;32m     19\u001b[0m \u001b[39mif\u001b[39;00m datasets\u001b[39m.\u001b[39mconfig\u001b[39m.\u001b[39mPYARROW_VERSION\u001b[39m.\u001b[39mmajor \u001b[39m>\u001b[39m\u001b[39m=\u001b[39m \u001b[39m7\u001b[39m:\n\u001b[1;32m     21\u001b[0m     \u001b[39mdef\u001b[39;00m \u001b[39mpa_table_to_pylist\u001b[39m(table):\n",
      "\u001b[0;31mAttributeError\u001b[0m: partially initialized module 'datasets' has no attribute 'utils' (most likely due to a circular import)"
     ]
    }
   ],
   "source": [
    "from datasets import load_dataset"
   ]
  },
  {
   "cell_type": "code",
   "execution_count": 1,
   "metadata": {},
   "outputs": [],
   "source": [
    "import pickle\n"
   ]
  },
  {
   "cell_type": "code",
   "execution_count": 9,
   "metadata": {},
   "outputs": [],
   "source": [
    "preds = pickle.load(open(\"predictions/test_human/category_predictions.pkl\", \"rb\"))"
   ]
  },
  {
   "cell_type": "code",
   "execution_count": 17,
   "metadata": {},
   "outputs": [
    {
     "data": {
      "text/plain": [
       "tensor([24, 24, 24,  4, 24,  4, 24, 24, 24, 24, 24,  4,  4, 24, 24,  4, 24,  4,\n",
       "        24, 24, 24, 24,  4,  4, 24, 24, 24, 24, 24, 24, 24,  4, 24,  4,  4, 24,\n",
       "        24,  4, 24,  0, 24, 24, 24, 24, 24, 24, 24, 24, 24, 24,  4, 24, 24,  4,\n",
       "        24, 24, 24, 24, 24, 24,  4, 24, 24, 24, 24, 24, 24,  4, 24, 24, 24, 24,\n",
       "        24, 24, 24, 24,  4, 24, 24, 24,  4,  4,  4, 24, 24, 24,  4, 24, 24, 24,\n",
       "        24,  4, 24,  4,  4,  4, 24,  4,  0, 24])"
      ]
     },
     "execution_count": 17,
     "metadata": {},
     "output_type": "execute_result"
    }
   ],
   "source": [
    "import torch\n",
    "torch.argmax(preds[0], dim=1)"
   ]
  },
  {
   "cell_type": "code",
   "execution_count": 18,
   "metadata": {},
   "outputs": [
    {
     "data": {
      "text/plain": [
       "Dataset({\n",
       "    features: ['content', 'labels', 'input_ids', 'attention_mask'],\n",
       "    num_rows: 100\n",
       "})"
      ]
     },
     "execution_count": 18,
     "metadata": {},
     "output_type": "execute_result"
    }
   ],
   "source": [
    "from datasets import load_from_disk\n",
    "dst = load_from_disk(\"../.cache/category/ufal/robeczech-base/512/start/test_human\")"
   ]
  }
 ],
 "metadata": {
  "kernelspec": {
   "display_name": "Python 3 (ipykernel)",
   "language": "python",
   "name": "python3"
  },
  "orig_nbformat": 4,
  "vscode": {
   "interpreter": {
    "hash": "4ef6dd07bac4272f716e725ea8b79349a1e1a5da9c3680ee7af3d80a9646d624"
   }
  }
 },
 "nbformat": 4,
 "nbformat_minor": 2
}
