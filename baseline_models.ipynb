{
 "cells": [
  {
   "cell_type": "code",
   "execution_count": 1,
   "metadata": {},
   "outputs": [
    {
     "name": "stdout",
     "output_type": "stream",
     "text": [
      "Requirement already satisfied: scikit-learn in ./venv/lib/python3.10/site-packages (1.2.0)\n",
      "Requirement already satisfied: threadpoolctl>=2.0.0 in ./venv/lib/python3.10/site-packages (from scikit-learn) (3.1.0)\n",
      "Requirement already satisfied: joblib>=1.1.1 in ./venv/lib/python3.10/site-packages (from scikit-learn) (1.2.0)\n",
      "Requirement already satisfied: numpy>=1.17.3 in ./venv/lib/python3.10/site-packages (from scikit-learn) (1.23.4)\n",
      "Requirement already satisfied: scipy>=1.3.2 in ./venv/lib/python3.10/site-packages (from scikit-learn) (1.9.3)\n",
      "\u001b[33mWARNING: You are using pip version 22.0.4; however, version 22.3.1 is available.\n",
      "You should consider upgrading via the '/lnet/aic/personal/kydliceh/Articles_Analysis/venv/bin/python3 -m pip install --upgrade pip' command.\u001b[0m\u001b[33m\n",
      "\u001b[0m"
     ]
    }
   ],
   "source": [
    "!pip install scikit-learn"
   ]
  },
  {
   "cell_type": "code",
   "execution_count": 6,
   "metadata": {},
   "outputs": [
    {
     "name": "stderr",
     "output_type": "stream",
     "text": [
      "Warning : `load_model` does not return WordVectorModel or SupervisedModel any more, but a `FastText` object which is very similar.\n"
     ]
    }
   ],
   "source": [
    "from sklearn.feature_extraction.text import TfidfVectorizer\n",
    "from nltk.tokenize.toktok import ToktokTokenizer\n",
    "from preprocess_utils import load_jsonb\n",
    "from pathlib import Path\n",
    "import functools"
   ]
  },
  {
   "cell_type": "code",
   "execution_count": 7,
   "metadata": {},
   "outputs": [],
   "source": [
    "models_folder = Path(\"models\") / \"pickled_models\"\n",
    "utils_folder = Path(\"utils\")"
   ]
  },
  {
   "cell_type": "code",
   "execution_count": 8,
   "metadata": {},
   "outputs": [],
   "source": [
    "folder = Path(\"final_dataset\")\n",
    "\n",
    "trainP = folder / \"train.jsonb\"\n",
    "devP =  folder /\"dev.jsonb\"\n",
    "testP = folder /\"test.jsonb\"\n",
    "toktok = ToktokTokenizer()\n",
    "tokenizer = functools.partial(toktok.tokenize)\n",
    "stop_words = []\n",
    "with open(utils_folder / \"stopwords.txt\", \"r\") as f:\n",
    "    for line in f:\n",
    "        stop_words.append(line.strip())\n",
    "\n",
    "\n",
    "# Fit just once\n",
    "vectorizer = TfidfVectorizer(max_features=10000, tokenizer=tokenizer, stop_words=stop_words, lowercase=True, strip_accents=\"unicode\")\n",
    "\n",
    "vectorizer_name = \"tfidf_vectorizer.pkl\"\n",
    "\n"
   ]
  },
  {
   "cell_type": "code",
   "execution_count": 11,
   "metadata": {},
   "outputs": [],
   "source": [
    "\n",
    "data_train = load_jsonb(trainP)\n",
    "vectorizer.fit((x[\"content\"] for x in data_train))\n",
    "pickle.dump(vectorizer, open(models_folder / vectorizer_name , \"wb\"))"
   ]
  },
  {
   "cell_type": "code",
   "execution_count": 3,
   "metadata": {},
   "outputs": [],
   "source": [
    "import pickle"
   ]
  },
  {
   "cell_type": "code",
   "execution_count": 1,
   "metadata": {},
   "outputs": [],
   "source": [
    "MAX_TRAIN=100000\n",
    "MAXTEST=10000"
   ]
  },
  {
   "cell_type": "code",
   "execution_count": 11,
   "metadata": {},
   "outputs": [
    {
     "name": "stderr",
     "output_type": "stream",
     "text": [
      "/lnet/aic/personal/kydliceh/Articles_Analysis/venv/lib/python3.10/site-packages/sklearn/feature_extraction/text.py:409: UserWarning: Your stop_words may be inconsistent with your preprocessing. Tokenizing the stop words generated tokens [\"'\", 'ackoli', 'aniz', 'aspon', 'behem', 'blizko', 'bohuzel', 'cau', 'chces', 'chteji', 'chtit', 'chut', 'ctrnact', 'ctyri', 'dal', 'dale', 'dekovat', 'dekujeme', 'dekuji', 'devatenact', 'devet', 'dobry', 'dvanact', 'dve', 'hodne', 'ja', 'jedenact', 'jenz', 'jestlize', 'jim', 'kazdy', 'krome', 'kvuli', 'maji', 'malo', 'mam', 'mame', 'mas', 'mne', 'mozna', 'musi', 'nami', 'nase', 'necht', 'neco', 'nedela', 'nedelaji', 'nedelam', 'nedelame', 'nedelas', 'nedelate', 'nejak', 'nekde', 'nekdo', 'nemaji', 'nemame', 'nemate', 'nemel', 'nemu', 'nestaci', 'nevadi', 'ni', 'nim', 'osmnact', 'patnact', 'pet', 'porad', 'pozde', 'prede', 'prese', 'prosim', 'proste', 'rovne', 'sedmnact', 'sest', 'sestnact', 'smeji', 'smi', 'ste', 'svuj', 'ted', 'tisic', 'tisice', 'tobe', 'treba', 'tri', 'trinact', 'trosku', 'tva', 'tve', 'tvuj', 'urcite', 'vami', 'vasi', 'vecer', 'vlastne', 'vsechen', 'vsechno', 'vsichni', 'vubec', 'vzdy', 'zac', 'zatimco'] not in stop_words.\n",
      "  warnings.warn(\n",
      "  6%|▌         | 99999/1781963 [04:24<1:14:00, 378.78it/s]\n",
      "  4%|▍         | 9999/222746 [00:42<15:05, 234.82it/s]\n"
     ]
    }
   ],
   "source": [
    "import itertools\n",
    "\n",
    "vectorizer = pickle.load(open(models_folder / vectorizer_name, \"rb\"))\n",
    "data_train = itertools.islice(load_jsonb(trainP), MAX_TRAIN)\n",
    "data_dev = load_jsonb(devP)\n",
    "data_test = itertools.islice(load_jsonb(testP), MAXTEST)\n",
    "\n",
    "X_train = vectorizer.transform((x[\"content\"] for x in data_train))\n",
    "\n",
    "#X_dev = vectorizer.transform((x[\"content\"] for x in data_dev))\n",
    "X_test = vectorizer.transform((x[\"content\"] for x in data_test))"
   ]
  },
  {
   "cell_type": "code",
   "execution_count": 52,
   "metadata": {},
   "outputs": [],
   "source": [
    "data_test = itertools.islice(load_jsonb(trainP), MAX_TRAIN, MAXTEST + MAX_TRAIN)"
   ]
  },
  {
   "cell_type": "code",
   "execution_count": 53,
   "metadata": {},
   "outputs": [
    {
     "name": "stderr",
     "output_type": "stream",
     "text": [
      "  6%|▌         | 109999/1781963 [00:30<07:45, 3595.23it/s] \n"
     ]
    }
   ],
   "source": [
    "X_test = vectorizer.transform((x[\"content\"] for x in data_test))"
   ]
  },
  {
   "cell_type": "code",
   "execution_count": 14,
   "metadata": {},
   "outputs": [],
   "source": [
    "import matplotlib.pyplot as plt\n",
    "import numpy as np\n",
    "\n",
    "def report_stats(y):\n",
    "    uniq, counts = np.unique(y, return_counts=True)\n",
    "    max_i = np.argmax(counts)\n",
    "    print(f\"Length: {len(y)}\")\n",
    "    print(f\"Length Unique values: {len(uniq)}\")\n",
    "    print(uniq)\n",
    "    print(f\"Baseline with max class {uniq[max_i]}: {counts[max_i] / len(y)}\")\n",
    "\n",
    "def plot_distribution(y):\n",
    "    un, counts = np.unique(y, return_counts=True)\n",
    "    plt.bar(un, counts)\n",
    "    plt.show()"
   ]
  },
  {
   "cell_type": "code",
   "execution_count": 79,
   "metadata": {},
   "outputs": [],
   "source": [
    "from typing import List, Type\n",
    "from models.dataset import Dataset\n",
    "from models.baseline_models import Model\n",
    "from sklearn.metrics import f1_score\n",
    "import functools\n",
    "\n",
    "\n",
    "\n",
    "def train_model(model: Model, dataset: Dataset, validate_dataset: Dataset | None=None, hyperparams: List[dict]=[], metric: Callable | None = functools.partial(f1_score, average=\"macro\")):\n",
    "    best_params = model.get_params()\n",
    "    best_score = float(\"inf\")\n",
    "    if len(hyperparams) == 0:\n",
    "        hyperparams = [{}]\n",
    "\n",
    "    default_params = model.get_params()\n",
    "    real_val_d = validate_dataset\n",
    "    if real_val_d is None:\n",
    "        print(\"No validation dataset using training dataset\")\n",
    "        real_val_d = dataset\n",
    "\n",
    "    for params in hyperparams:\n",
    "        # Reset to default params\n",
    "        model.set_params(**default_params)\n",
    "        model.set_params(**params)\n",
    "        model.fit(dataset.X, dataset.y)\n",
    "            \n",
    "        score = test_model(model, real_val_d, show_stats=False,metric=metric)\n",
    "        if score > best_score:\n",
    "            best_score = score\n",
    "            best_params = model.get_params()\n",
    "\n",
    "    model.set_params(**best_params)\n",
    "    return model"
   ]
  },
  {
   "cell_type": "code",
   "execution_count": 73,
   "metadata": {},
   "outputs": [],
   "source": [
    "from typing import Callable, Any\n",
    "\n",
    "\n",
    "def test_model(model: Model, dataset: Dataset, show_stats=True, metric: Callable[[np.ndarray, np.ndarray], Any] | None = None ):\n",
    "    if show_stats:\n",
    "        plot_distribution(dataset.y)\n",
    "        report_stats(dataset.y)\n",
    "\n",
    "    if metric is None:\n",
    "        return model.score(dataset.X, dataset.y)\n",
    "\n",
    "    return metric(dataset.y, model.predict(dataset.X))"
   ]
  },
  {
   "cell_type": "code",
   "execution_count": 19,
   "metadata": {},
   "outputs": [],
   "source": [
    "%load_ext autoreload\n",
    "%autoreload 2"
   ]
  },
  {
   "cell_type": "code",
   "execution_count": 105,
   "metadata": {},
   "outputs": [
    {
     "name": "stderr",
     "output_type": "stream",
     "text": [
      "100%|██████████| 1783007/1783007 [02:37<00:00, 11340.98it/s]\n",
      "100%|██████████| 222876/222876 [00:23<00:00, 9417.27it/s] \n"
     ]
    }
   ],
   "source": [
    "# Server prediction\n",
    "from models.dataset import ArticleTFIDFDataset, remove_y_None, select_col\n",
    "from models.baseline_models import ServerModel\n",
    "\n",
    "serverDatasetTrain = ArticleTFIDFDataset(X_train, trainP, filter=remove_y_None, transform_Y=select_col(\"server\"))\n",
    "\n",
    "serverDatasetDev = ArticleTFIDFDataset(X_dev, devP, filter=remove_y_None, transform_Y=select_col(\"server\"))\n",
    "\n",
    "serverDatasetTest = ArticleTFIDFDataset(X_test, testP, filter=remove_y_None, transform_Y=select_col(\"server\"))\n"
   ]
  },
  {
   "cell_type": "code",
   "execution_count": 106,
   "metadata": {},
   "outputs": [],
   "source": [
    "model_file = models_folder / \"server_model.pkl\"\n",
    "model = ServerModel()"
   ]
  },
  {
   "cell_type": "code",
   "execution_count": null,
   "metadata": {},
   "outputs": [],
   "source": [
    "import itertools\n",
    "# Get dictionary of potential hyperparameters and return a list of dictionaries with all possible combinations\n",
    "def create_hyperparams(**kwargs):\n",
    "    keys = kwargs.keys()\n",
    "    values = kwargs.values()\n",
    "    hyperparams = []\n",
    "    for v in itertools.product(*values):\n",
    "        hyperparams.append(dict(zip(keys, v)))\n",
    "    return hyperparams\n"
   ]
  },
  {
   "cell_type": "code",
   "execution_count": 12,
   "metadata": {},
   "outputs": [
    {
     "name": "stderr",
     "output_type": "stream",
     "text": [
      "100%|██████████| 1783007/1783007 [01:42<00:00, 17341.43it/s]\n"
     ]
    },
    {
     "data": {
      "image/png": "[encoded data removed]",
      "text/plain": [
       "<Figure size 640x480 with 1 Axes>"
      ]
     },
     "metadata": {},
     "output_type": "display_data"
    },
    {
     "name": "stdout",
     "output_type": "stream",
     "text": [
      "Unique values: 6\n"
     ]
    },
    {
     "name": "stderr",
     "output_type": "stream",
     "text": [
      "[Parallel(n_jobs=8)]: Using backend LokyBackend with 8 concurrent workers.\n"
     ]
    },
    {
     "name": "stdout",
     "output_type": "stream",
     "text": [
      "RUNNING THE L-BFGS-B CODE\n",
      "\n",
      "           * * *\n",
      "\n",
      "Machine precision = 2.220D-16\n",
      " N =        90006     M =           10\n",
      "\n",
      "At X0         0 variables are exactly at the bounds\n",
      "\n",
      "At iterate    0    f=  3.19472D+06    |proj g|=  5.67489D+05\n"
     ]
    },
    {
     "name": "stderr",
     "output_type": "stream",
     "text": [
      " This problem is unconstrained.\n"
     ]
    },
    {
     "name": "stdout",
     "output_type": "stream",
     "text": [
      "\n",
      "At iterate   50    f=  1.33081D+06    |proj g|=  9.55481D+03\n",
      "\n",
      "At iterate  100    f=  1.17999D+06    |proj g|=  3.16247D+03\n",
      "\n",
      "At iterate  150    f=  1.13288D+06    |proj g|=  3.48766D+03\n",
      "\n",
      "At iterate  200    f=  1.11292D+06    |proj g|=  3.75101D+03\n",
      "\n",
      "At iterate  250    f=  1.10359D+06    |proj g|=  6.66007D+02\n",
      "\n",
      "At iterate  300    f=  1.09901D+06    |proj g|=  1.30925D+03\n",
      "\n",
      "At iterate  350    f=  1.09698D+06    |proj g|=  2.38931D+03\n",
      "\n",
      "At iterate  400    f=  1.09575D+06    |proj g|=  5.72603D+02\n",
      "\n",
      "At iterate  450    f=  1.09490D+06    |proj g|=  5.86979D+02\n",
      "\n",
      "At iterate  500    f=  1.09454D+06    |proj g|=  5.75044D+02\n",
      "\n",
      "At iterate  550    f=  1.09437D+06    |proj g|=  1.76281D+02\n",
      "\n",
      "At iterate  600    f=  1.09424D+06    |proj g|=  2.33681D+02\n",
      "\n",
      "At iterate  650    f=  1.09416D+06    |proj g|=  1.97602D+02\n",
      "\n",
      "At iterate  700    f=  1.09412D+06    |proj g|=  1.00238D+02\n",
      "\n",
      "At iterate  750    f=  1.09409D+06    |proj g|=  1.00949D+02\n",
      "\n",
      "At iterate  800    f=  1.09408D+06    |proj g|=  2.70417D+01\n",
      "\n",
      "At iterate  850    f=  1.09407D+06    |proj g|=  2.58409D+01\n",
      "\n",
      "At iterate  900    f=  1.09407D+06    |proj g|=  1.38786D+01\n",
      "\n",
      "At iterate  950    f=  1.09406D+06    |proj g|=  3.49642D+01\n",
      "\n",
      "At iterate 1000    f=  1.09406D+06    |proj g|=  3.42909D+01\n",
      "\n",
      "           * * *\n",
      "\n",
      "Tit   = total number of iterations\n",
      "Tnf   = total number of function evaluations\n",
      "Tnint = total number of segments explored during Cauchy searches\n",
      "Skip  = number of BFGS updates skipped\n",
      "Nact  = number of active bounds at final generalized Cauchy point\n",
      "Projg = norm of the final projected gradient\n",
      "F     = final function value\n",
      "\n",
      "           * * *\n",
      "\n",
      "   N    Tit     Tnf  Tnint  Skip  Nact     Projg        F\n",
      "90006   1000   1082      1     0     0   3.429D+01   1.094D+06\n",
      "  F =   1094062.2970114634     \n",
      "\n",
      "STOP: TOTAL NO. of ITERATIONS REACHED LIMIT                 \n"
     ]
    },
    {
     "name": "stderr",
     "output_type": "stream",
     "text": [
      "/lnet/aic/personal/kydliceh/Articles_Analysis/venv/lib/python3.10/site-packages/sklearn/linear_model/_logistic.py:458: ConvergenceWarning: lbfgs failed to converge (status=1):\n",
      "STOP: TOTAL NO. of ITERATIONS REACHED LIMIT.\n",
      "\n",
      "Increase the number of iterations (max_iter) or scale the data as shown in:\n",
      "    https://scikit-learn.org/stable/modules/preprocessing.html\n",
      "Please also refer to the documentation for alternative solver options:\n",
      "    https://scikit-learn.org/stable/modules/linear_model.html#logistic-regression\n",
      "  n_iter_i = _check_optimize_result(\n",
      "[Parallel(n_jobs=8)]: Done   1 out of   1 | elapsed: 103.7min finished\n"
     ]
    },
    {
     "name": "stdout",
     "output_type": "stream",
     "text": [
      "0.7923608824867204\n"
     ]
    },
    {
     "name": "stderr",
     "output_type": "stream",
     "text": [
      "100%|██████████| 222876/222876 [00:16<00:00, 13634.84it/s]\n"
     ]
    },
    {
     "data": {
      "image/png": "[encoded data removed]",
      "text/plain": [
       "<Figure size 640x480 with 1 Axes>"
      ]
     },
     "metadata": {},
     "output_type": "display_data"
    },
    {
     "name": "stdout",
     "output_type": "stream",
     "text": [
      "Unique values: 6\n",
      "0.6758511459286778\n"
     ]
    }
   ],
   "source": [
    "# Training\n",
    "hyperparams = create_hyperparams(\n",
    "    C=[0.1, 1]\n",
    ")\n",
    "\n",
    "model = train_model(model, serverDatasetTrain, serverDatasetDev)\n",
    "model.save(model_file)"
   ]
  },
  {
   "cell_type": "code",
   "execution_count": 107,
   "metadata": {},
   "outputs": [
    {
     "data": {
      "image/png": "[encoded data removed]",
      "text/plain": [
       "<Figure size 640x480 with 1 Axes>"
      ]
     },
     "metadata": {},
     "output_type": "display_data"
    },
    {
     "name": "stdout",
     "output_type": "stream",
     "text": [
      "Unique values: 6\n",
      "Length: 1783007\n",
      "              precision    recall  f1-score   support\n",
      "\n",
      "    aktualne       0.74      0.66      0.70     99671\n",
      "       denik       0.84      0.92      0.88    864657\n",
      "       idnes       0.71      0.57      0.63    268150\n",
      "    irozhlas       0.74      0.66      0.70    154710\n",
      "     novinky       0.76      0.78      0.77    364876\n",
      "seznamzpravy       0.74      0.44      0.55     30943\n",
      "\n",
      "    accuracy                           0.79   1783007\n",
      "   macro avg       0.75      0.67      0.70   1783007\n",
      "weighted avg       0.79      0.79      0.79   1783007\n",
      "\n"
     ]
    },
    {
     "data": {
      "image/png": "[encoded data removed]",
      "text/plain": [
       "<Figure size 640x480 with 1 Axes>"
      ]
     },
     "metadata": {},
     "output_type": "display_data"
    },
    {
     "name": "stdout",
     "output_type": "stream",
     "text": [
      "Unique values: 6\n",
      "Length: 222876\n",
      "              precision    recall  f1-score   support\n",
      "\n",
      "    aktualne       0.43      0.53      0.47      9340\n",
      "       denik       0.86      0.80      0.83    160723\n",
      "       idnes       0.28      0.38      0.32     19934\n",
      "    irozhlas       0.30      0.44      0.36      8131\n",
      "     novinky       0.07      0.51      0.12      2086\n",
      "seznamzpravy       0.69      0.23      0.34     22662\n",
      "\n",
      "    accuracy                           0.68    222876\n",
      "   macro avg       0.44      0.48      0.41    222876\n",
      "weighted avg       0.74      0.68      0.69    222876\n",
      "\n"
     ]
    }
   ],
   "source": [
    "model.load(model_file)\n",
    "test_model(model, serverDatasetTrain)\n",
    "test_model(model, serverDatasetTest)"
   ]
  },
  {
   "cell_type": "code",
   "execution_count": 31,
   "metadata": {},
   "outputs": [
    {
     "name": "stderr",
     "output_type": "stream",
     "text": [
      "  6%|▌         | 99999/1781963 [00:07<01:58, 14157.51it/s]\n"
     ]
    }
   ],
   "source": [
    "cats = list(filter(lambda x: x is not None,  map(lambda x: x[\"category\"], itertools.islice(load_jsonb(trainP), MAX_TRAIN))))"
   ]
  },
  {
   "cell_type": "code",
   "execution_count": 54,
   "metadata": {},
   "outputs": [],
   "source": [
    "from models.dataset import get_top_unique\n",
    "unique = get_top_unique(cats, 50)"
   ]
  },
  {
   "cell_type": "code",
   "execution_count": 55,
   "metadata": {},
   "outputs": [],
   "source": [
    "with open(utils_folder / \"categories.txt\", \"w\") as f:\n",
    "    for cat in unique:\n",
    "        f.write(cat + \"\\n\")"
   ]
  },
  {
   "cell_type": "code",
   "execution_count": 57,
   "metadata": {},
   "outputs": [],
   "source": [
    "unique = set(unique)"
   ]
  },
  {
   "cell_type": "code",
   "execution_count": 59,
   "metadata": {},
   "outputs": [
    {
     "name": "stderr",
     "output_type": "stream",
     "text": [
      "  6%|▌         | 99999/1781963 [00:06<01:51, 15137.20it/s]\n",
      "  6%|▌         | 109999/1781963 [00:07<01:55, 14534.41it/s]\n"
     ]
    }
   ],
   "source": [
    "# Category prediction\n",
    "from models.dataset import ArticleTFIDFDataset, remove_y_None, select_col, sequence_transform, filter_by_set, sequence_filter\n",
    "\n",
    "categoryDatasetTrain = ArticleTFIDFDataset(X_train, trainP, filter=sequence_filter([filter_by_set(unique), remove_y_None]), transform_Y=select_col(\"category\"), start=0, end=MAX_TRAIN)\n",
    "\n",
    "categoryDatasetTest = ArticleTFIDFDataset(X_test, trainP, filter=sequence_filter([filter_by_set(unique), remove_y_None]),transform_Y=select_col(\"category\"), start=MAX_TRAIN, end=MAX_TRAIN + MAXTEST)\n"
   ]
  },
  {
   "cell_type": "code",
   "execution_count": 60,
   "metadata": {},
   "outputs": [
    {
     "data": {
      "text/plain": [
       "(93063, 9434)"
      ]
     },
     "execution_count": 60,
     "metadata": {},
     "output_type": "execute_result"
    }
   ],
   "source": [
    "len(categoryDatasetTrain.y), len(categoryDatasetTest.y)"
   ]
  },
  {
   "cell_type": "code",
   "execution_count": 83,
   "metadata": {},
   "outputs": [],
   "source": [
    "from models.baseline_models import CategoryModel\n",
    "model_file = models_folder / \"category_model.pkl\"\n",
    "model = CategoryModel()"
   ]
  },
  {
   "cell_type": "code",
   "execution_count": 84,
   "metadata": {},
   "outputs": [
    {
     "name": "stdout",
     "output_type": "stream",
     "text": [
      "No validation dataset using training dataset\n"
     ]
    },
    {
     "name": "stderr",
     "output_type": "stream",
     "text": [
      "[Parallel(n_jobs=8)]: Using backend LokyBackend with 8 concurrent workers.\n"
     ]
    },
    {
     "name": "stdout",
     "output_type": "stream",
     "text": [
      "RUNNING THE L-BFGS-B CODE\n",
      "\n",
      "           * * *\n",
      "\n",
      "Machine precision = 2.220D-16\n",
      " N =       500050     M =           10\n",
      "\n",
      "At X0         0 variables are exactly at the bounds\n",
      "\n",
      "At iterate    0    f=  3.64065D+05    |proj g|=  8.26074D+03\n"
     ]
    },
    {
     "name": "stderr",
     "output_type": "stream",
     "text": [
      " This problem is unconstrained.\n"
     ]
    },
    {
     "name": "stdout",
     "output_type": "stream",
     "text": [
      "\n",
      "At iterate   50    f=  1.10765D+05    |proj g|=  4.51526D+02\n",
      "\n",
      "At iterate  100    f=  9.93434D+04    |proj g|=  1.58475D+02\n",
      "\n",
      "At iterate  150    f=  9.82283D+04    |proj g|=  4.13718D+01\n",
      "\n",
      "At iterate  200    f=  9.81239D+04    |proj g|=  1.86685D+01\n",
      "\n",
      "At iterate  250    f=  9.81135D+04    |proj g|=  3.47524D+00\n",
      "\n",
      "At iterate  300    f=  9.81127D+04    |proj g|=  2.03546D+00\n",
      "\n",
      "At iterate  350    f=  9.81126D+04    |proj g|=  5.86988D-01\n",
      "\n",
      "           * * *\n",
      "\n",
      "Tit   = total number of iterations\n",
      "Tnf   = total number of function evaluations\n",
      "Tnint = total number of segments explored during Cauchy searches\n",
      "Skip  = number of BFGS updates skipped\n",
      "Nact  = number of active bounds at final generalized Cauchy point\n",
      "Projg = norm of the final projected gradient\n",
      "F     = final function value\n",
      "\n",
      "           * * *\n",
      "\n",
      "   N    Tit     Tnf  Tnint  Skip  Nact     Projg        F\n",
      "*****    353    369      1     0     0   3.314D-01   9.811D+04\n",
      "  F =   98112.598192028468     \n",
      "\n",
      "CONVERGENCE: REL_REDUCTION_OF_F_<=_FACTR*EPSMCH             \n"
     ]
    },
    {
     "name": "stderr",
     "output_type": "stream",
     "text": [
      "[Parallel(n_jobs=8)]: Done   1 out of   1 | elapsed: 10.3min finished\n"
     ]
    }
   ],
   "source": [
    "# Training\n",
    "model = train_model(model, categoryDatasetTrain)\n",
    "model.save(model_file)"
   ]
  },
  {
   "cell_type": "code",
   "execution_count": 85,
   "metadata": {},
   "outputs": [
    {
     "data": {
      "image/png": "[encoded data removed]",
      "text/plain": [
       "<Figure size 640x480 with 1 Axes>"
      ]
     },
     "metadata": {},
     "output_type": "display_data"
    },
    {
     "name": "stdout",
     "output_type": "stream",
     "text": [
      "Length: 93063\n",
      "Length Unique values: 50\n",
      "['audio foto video' 'auto' 'automoto' 'banky a spoření' 'bonusweb'\n",
      " 'cestování' 'domácí' 'ekonomika' 'film a tv' 'finance' 'fotbal'\n",
      " 'hardware' 'hokej' 'hudba' 'hypotéky a půjčky' 'internet' 'internet a pc'\n",
      " 'irák po válce' 'koktejl' 'komerční články' 'krimi' 'kultura' 'lyže'\n",
      " 'mobil' 'návštěvy' 'odložna' 'ona' 'ostatní' 'plné hry' 'po česku'\n",
      " 'podniky' 'pojištění' 'práce a podnikání' 'revue' 'rádce' 'software'\n",
      " 'společnost' 'sport' 'svět' 'tech & trendy' 'technet' 'věda & vesmír'\n",
      " 'zahraniční' 'zahraničí' 'zdraví' 'zprávy' 'zprávy z domova'\n",
      " 'zprávy ze světa' 'češtiny' 'žena']\n",
      "Baseline with max class domácí: 0.10876503014087231\n"
     ]
    },
    {
     "name": "stderr",
     "output_type": "stream",
     "text": [
      "/lnet/aic/personal/kydliceh/Articles_Analysis/venv/lib/python3.10/site-packages/sklearn/metrics/_classification.py:1344: UndefinedMetricWarning: Precision and F-score are ill-defined and being set to 0.0 in labels with no predicted samples. Use `zero_division` parameter to control this behavior.\n",
      "  _warn_prf(average, modifier, msg_start, len(result))\n",
      "/lnet/aic/personal/kydliceh/Articles_Analysis/venv/lib/python3.10/site-packages/sklearn/metrics/_classification.py:1344: UndefinedMetricWarning: Precision and F-score are ill-defined and being set to 0.0 in labels with no predicted samples. Use `zero_division` parameter to control this behavior.\n",
      "  _warn_prf(average, modifier, msg_start, len(result))\n",
      "/lnet/aic/personal/kydliceh/Articles_Analysis/venv/lib/python3.10/site-packages/sklearn/metrics/_classification.py:1344: UndefinedMetricWarning: Precision and F-score are ill-defined and being set to 0.0 in labels with no predicted samples. Use `zero_division` parameter to control this behavior.\n",
      "  _warn_prf(average, modifier, msg_start, len(result))\n"
     ]
    },
    {
     "name": "stdout",
     "output_type": "stream",
     "text": [
      "                   precision    recall  f1-score   support\n",
      "\n",
      " audio foto video       1.00      0.21      0.34        96\n",
      "             auto       0.74      0.28      0.41       239\n",
      "         automoto       0.85      0.84      0.85      1381\n",
      "  banky a spoření       0.70      0.42      0.52       324\n",
      "         bonusweb       0.86      0.85      0.86       761\n",
      "        cestování       0.84      0.13      0.23       234\n",
      "           domácí       0.78      0.78      0.78     10122\n",
      "        ekonomika       0.77      0.86      0.81      9672\n",
      "        film a tv       0.00      0.00      0.00       165\n",
      "          finance       0.60      0.63      0.61       974\n",
      "           fotbal       1.00      0.31      0.47       168\n",
      "         hardware       0.79      0.70      0.74       400\n",
      "            hokej       0.91      0.62      0.73       268\n",
      "            hudba       0.00      0.00      0.00       102\n",
      "hypotéky a půjčky       0.67      0.46      0.55       441\n",
      "         internet       0.00      0.00      0.00       123\n",
      "    internet a pc       0.80      0.87      0.83      2439\n",
      "    irák po válce       0.80      0.50      0.61      1190\n",
      "          koktejl       0.73      0.84      0.78      6725\n",
      "  komerční články       1.00      0.28      0.44       166\n",
      "            krimi       0.85      0.93      0.89      9518\n",
      "          kultura       0.83      0.94      0.88      7791\n",
      "             lyže       0.78      0.54      0.64       148\n",
      "            mobil       0.85      0.75      0.80       927\n",
      "         návštěvy       1.00      0.62      0.77       122\n",
      "          odložna       0.72      0.12      0.20       589\n",
      "              ona       0.71      0.10      0.18       143\n",
      "          ostatní       0.96      0.33      0.49       239\n",
      "         plné hry       0.91      0.84      0.87       359\n",
      "         po česku       1.00      0.04      0.08       177\n",
      "          podniky       0.00      0.00      0.00       118\n",
      "        pojištění       0.69      0.33      0.45       162\n",
      "práce a podnikání       0.93      0.26      0.40       211\n",
      "            revue       0.85      0.22      0.35       555\n",
      "            rádce       1.00      0.03      0.05       116\n",
      "         software       0.77      0.39      0.51       171\n",
      "       společnost       0.00      0.00      0.00       181\n",
      "            sport       0.77      0.76      0.76       769\n",
      "             svět       0.78      0.32      0.45       313\n",
      "    tech & trendy       0.00      0.00      0.00       110\n",
      "          technet       0.66      0.58      0.62       939\n",
      "    věda & vesmír       0.95      0.19      0.32       195\n",
      "       zahraniční       0.77      0.83      0.80      9787\n",
      "        zahraničí       0.81      0.04      0.08       596\n",
      "           zdraví       0.00      0.00      0.00        88\n",
      "           zprávy       1.00      0.05      0.09       128\n",
      "  zprávy z domova       0.83      0.80      0.81      9146\n",
      "  zprávy ze světa       0.81      0.87      0.84      9730\n",
      "          češtiny       0.99      0.67      0.80       129\n",
      "             žena       0.78      0.80      0.79      3616\n",
      "\n",
      "         accuracy                           0.79     93063\n",
      "        macro avg       0.72      0.44      0.49     93063\n",
      "     weighted avg       0.79      0.79      0.78     93063\n",
      "\n"
     ]
    },
    {
     "data": {
      "image/png": "[encoded data removed]",
      "text/plain": [
       "<Figure size 640x480 with 1 Axes>"
      ]
     },
     "metadata": {},
     "output_type": "display_data"
    },
    {
     "name": "stdout",
     "output_type": "stream",
     "text": [
      "Length: 9434\n",
      "Length Unique values: 46\n",
      "['auto' 'automoto' 'banky a spoření' 'bonusweb' 'cestování' 'domácí'\n",
      " 'ekonomika' 'film a tv' 'finance' 'fotbal' 'hokej' 'hudba'\n",
      " 'hypotéky a půjčky' 'internet' 'internet a pc' 'koktejl'\n",
      " 'komerční články' 'krimi' 'kultura' 'lyže' 'mobil' 'návštěvy' 'odložna'\n",
      " 'ona' 'ostatní' 'plné hry' 'po česku' 'podniky' 'pojištění'\n",
      " 'práce a podnikání' 'revue' 'rádce' 'software' 'společnost' 'sport'\n",
      " 'svět' 'tech & trendy' 'technet' 'zahraniční' 'zahraničí' 'zdraví'\n",
      " 'zprávy' 'zprávy z domova' 'zprávy ze světa' 'češtiny' 'žena']\n",
      "Baseline with max class zahraniční: 0.15242739029043884\n",
      "                   precision    recall  f1-score   support\n",
      "\n",
      "             auto       0.67      0.15      0.24        27\n",
      "         automoto       0.85      0.76      0.80       346\n",
      "  banky a spoření       0.77      0.33      0.47        30\n",
      "         bonusweb       0.39      0.48      0.43        25\n",
      "        cestování       1.00      0.08      0.15        49\n",
      "           domácí       0.72      0.76      0.74      1292\n",
      "        ekonomika       0.78      0.78      0.78      1355\n",
      "        film a tv       0.00      0.00      0.00        16\n",
      "          finance       0.19      0.52      0.28        42\n",
      "           fotbal       0.00      0.00      0.00         5\n",
      "         hardware       0.00      0.00      0.00         0\n",
      "            hokej       1.00      0.17      0.29         6\n",
      "            hudba       0.00      0.00      0.00        11\n",
      "hypotéky a půjčky       0.81      0.25      0.38        52\n",
      "         internet       0.00      0.00      0.00         2\n",
      "    internet a pc       0.87      0.85      0.86       365\n",
      "    irák po válce       0.00      0.00      0.00         0\n",
      "          koktejl       0.59      0.69      0.64       730\n",
      "  komerční články       0.00      0.00      0.00         1\n",
      "            krimi       0.83      0.89      0.86      1126\n",
      "          kultura       0.80      0.86      0.83       766\n",
      "             lyže       0.00      0.00      0.00         2\n",
      "            mobil       0.64      0.79      0.71        71\n",
      "         návštěvy       1.00      0.62      0.77         8\n",
      "          odložna       0.00      0.00      0.00        55\n",
      "              ona       1.00      0.07      0.13        29\n",
      "          ostatní       0.67      0.11      0.18        19\n",
      "         plné hry       0.80      0.47      0.59        17\n",
      "         po česku       0.00      0.00      0.00         9\n",
      "          podniky       0.00      0.00      0.00         2\n",
      "        pojištění       0.25      0.05      0.09        19\n",
      "práce a podnikání       0.50      0.05      0.09        40\n",
      "            revue       0.00      0.00      0.00        50\n",
      "            rádce       0.00      0.00      0.00         9\n",
      "         software       0.11      0.33      0.17         3\n",
      "       společnost       0.00      0.00      0.00         9\n",
      "            sport       0.44      0.58      0.50        19\n",
      "             svět       0.20      0.50      0.29        10\n",
      "    tech & trendy       0.00      0.00      0.00        39\n",
      "          technet       0.50      0.26      0.34        82\n",
      "       zahraniční       0.82      0.71      0.76      1438\n",
      "        zahraničí       0.00      0.00      0.00        44\n",
      "           zdraví       0.00      0.00      0.00         9\n",
      "           zprávy       0.00      0.00      0.00        40\n",
      "  zprávy z domova       0.52      0.66      0.58       324\n",
      "  zprávy ze světa       0.53      0.76      0.62       412\n",
      "          češtiny       1.00      0.18      0.30        17\n",
      "             žena       0.65      0.73      0.69       412\n",
      "\n",
      "         accuracy                           0.72      9434\n",
      "        macro avg       0.41      0.30      0.30      9434\n",
      "     weighted avg       0.72      0.72      0.71      9434\n",
      "\n"
     ]
    },
    {
     "name": "stderr",
     "output_type": "stream",
     "text": [
      "/lnet/aic/personal/kydliceh/Articles_Analysis/venv/lib/python3.10/site-packages/sklearn/metrics/_classification.py:1344: UndefinedMetricWarning: Precision and F-score are ill-defined and being set to 0.0 in labels with no predicted samples. Use `zero_division` parameter to control this behavior.\n",
      "  _warn_prf(average, modifier, msg_start, len(result))\n",
      "/lnet/aic/personal/kydliceh/Articles_Analysis/venv/lib/python3.10/site-packages/sklearn/metrics/_classification.py:1344: UndefinedMetricWarning: Recall and F-score are ill-defined and being set to 0.0 in labels with no true samples. Use `zero_division` parameter to control this behavior.\n",
      "  _warn_prf(average, modifier, msg_start, len(result))\n",
      "/lnet/aic/personal/kydliceh/Articles_Analysis/venv/lib/python3.10/site-packages/sklearn/metrics/_classification.py:1344: UndefinedMetricWarning: Precision and F-score are ill-defined and being set to 0.0 in labels with no predicted samples. Use `zero_division` parameter to control this behavior.\n",
      "  _warn_prf(average, modifier, msg_start, len(result))\n",
      "/lnet/aic/personal/kydliceh/Articles_Analysis/venv/lib/python3.10/site-packages/sklearn/metrics/_classification.py:1344: UndefinedMetricWarning: Recall and F-score are ill-defined and being set to 0.0 in labels with no true samples. Use `zero_division` parameter to control this behavior.\n",
      "  _warn_prf(average, modifier, msg_start, len(result))\n",
      "/lnet/aic/personal/kydliceh/Articles_Analysis/venv/lib/python3.10/site-packages/sklearn/metrics/_classification.py:1344: UndefinedMetricWarning: Precision and F-score are ill-defined and being set to 0.0 in labels with no predicted samples. Use `zero_division` parameter to control this behavior.\n",
      "  _warn_prf(average, modifier, msg_start, len(result))\n",
      "/lnet/aic/personal/kydliceh/Articles_Analysis/venv/lib/python3.10/site-packages/sklearn/metrics/_classification.py:1344: UndefinedMetricWarning: Recall and F-score are ill-defined and being set to 0.0 in labels with no true samples. Use `zero_division` parameter to control this behavior.\n",
      "  _warn_prf(average, modifier, msg_start, len(result))\n"
     ]
    }
   ],
   "source": [
    "\n",
    "model.load(model_file)\n",
    "print(test_model(model, categoryDatasetTrain))\n",
    "print(test_model(model, categoryDatasetTest))"
   ]
  },
  {
   "cell_type": "code",
   "execution_count": 87,
   "metadata": {},
   "outputs": [
    {
     "name": "stderr",
     "output_type": "stream",
     "text": [
      "  6%|▌         | 99999/1781963 [00:09<02:38, 10583.92it/s]\n",
      "  6%|▌         | 109999/1781963 [00:09<02:26, 11419.44it/s]\n"
     ]
    }
   ],
   "source": [
    "# Gender prediction\n",
    "from models.baseline_models import AuthorGenderModel\n",
    "from models.dataset import sequence_transform, gender_type_transform\n",
    "\n",
    "from models.baseline_models import DayModel\n",
    "genderDatasetTrain = ArticleTFIDFDataset(X_train, trainP, filter=remove_y_None, transform_Y=sequence_transform([select_col(\"author_genders\"), gender_type_transform]), end=MAX_TRAIN)\n",
    "\n",
    "genderDatasetTest = ArticleTFIDFDataset(X_test, trainP, filter=remove_y_None, transform_Y=sequence_transform([select_col(\"author_genders\"), gender_type_transform]), start=MAX_TRAIN, end=MAX_TRAIN + MAXTEST)\n"
   ]
  },
  {
   "cell_type": "code",
   "execution_count": 96,
   "metadata": {},
   "outputs": [],
   "source": [
    "from models.baseline_models import AuthorGenderModelSimple\n",
    "model = AuthorGenderModelSimple()\n",
    "model_file = models_folder / \"author_gender_model.pkl\""
   ]
  },
  {
   "cell_type": "code",
   "execution_count": 97,
   "metadata": {},
   "outputs": [
    {
     "name": "stdout",
     "output_type": "stream",
     "text": [
      "No validation dataset using training dataset\n"
     ]
    },
    {
     "name": "stderr",
     "output_type": "stream",
     "text": [
      "[Parallel(n_jobs=8)]: Using backend LokyBackend with 8 concurrent workers.\n",
      "3936.48s - pydevd: Sending message related to process being replaced timed-out after 5 seconds\n",
      "3936.46s - pydevd: Sending message related to process being replaced timed-out after 5 seconds\n",
      "3936.54s - pydevd: Sending message related to process being replaced timed-out after 5 seconds\n",
      "3936.62s - pydevd: Sending message related to process being replaced timed-out after 5 seconds\n",
      "3936.70s - pydevd: Sending message related to process being replaced timed-out after 5 seconds\n",
      "3936.71s - pydevd: Sending message related to process being replaced timed-out after 5 seconds\n",
      "3936.74s - pydevd: Sending message related to process being replaced timed-out after 5 seconds\n",
      "3936.80s - pydevd: Sending message related to process being replaced timed-out after 5 seconds\n"
     ]
    },
    {
     "name": "stdout",
     "output_type": "stream",
     "text": [
      "RUNNING THE L-BFGS-B CODE\n",
      "\n",
      "           * * *\n",
      "\n",
      "Machine precision = 2.220D-16\n",
      " N =        30003     M =           10\n",
      "\n",
      "At X0         0 variables are exactly at the bounds\n",
      "\n",
      "At iterate    0    f=  5.43560D+04    |proj g|=  1.18127D+04\n"
     ]
    },
    {
     "name": "stderr",
     "output_type": "stream",
     "text": [
      " This problem is unconstrained.\n"
     ]
    },
    {
     "name": "stdout",
     "output_type": "stream",
     "text": [
      "\n",
      "At iterate   50    f=  3.36563D+04    |proj g|=  1.89643D+02\n",
      "\n",
      "At iterate  100    f=  3.29074D+04    |proj g|=  9.16681D+01\n",
      "\n",
      "At iterate  150    f=  3.28782D+04    |proj g|=  1.23916D+01\n",
      "\n",
      "At iterate  200    f=  3.28764D+04    |proj g|=  1.41632D+00\n",
      "\n",
      "At iterate  250    f=  3.28762D+04    |proj g|=  6.19838D-01\n",
      "\n",
      "           * * *\n",
      "\n",
      "Tit   = total number of iterations\n",
      "Tnf   = total number of function evaluations\n",
      "Tnint = total number of segments explored during Cauchy searches\n",
      "Skip  = number of BFGS updates skipped\n",
      "Nact  = number of active bounds at final generalized Cauchy point\n",
      "Projg = norm of the final projected gradient\n",
      "F     = final function value\n",
      "\n",
      "           * * *\n",
      "\n",
      "   N    Tit     Tnf  Tnint  Skip  Nact     Projg        F\n",
      "30003    270    311      1     0     0   2.084D-01   3.288D+04\n",
      "  F =   32876.211754254575     \n",
      "\n",
      "CONVERGENCE: REL_REDUCTION_OF_F_<=_FACTR*EPSMCH             \n"
     ]
    },
    {
     "name": "stderr",
     "output_type": "stream",
     "text": [
      "[Parallel(n_jobs=8)]: Done   1 out of   1 | elapsed:   39.7s finished\n"
     ]
    }
   ],
   "source": [
    "model = train_model(model, genderDatasetTrain)\n",
    "model.save(model_file)"
   ]
  },
  {
   "cell_type": "code",
   "execution_count": 102,
   "metadata": {},
   "outputs": [
    {
     "data": {
      "image/png": "[encoded data removed]",
      "text/plain": [
       "<Figure size 640x480 with 1 Axes>"
      ]
     },
     "metadata": {},
     "output_type": "display_data"
    },
    {
     "name": "stdout",
     "output_type": "stream",
     "text": [
      "Length: 49477\n",
      "Length Unique values: 3\n",
      "[1 2 3]\n",
      "Baseline with max class 1: 0.572083998625624\n",
      "              precision    recall  f1-score   support\n",
      "\n",
      "           1       0.78      0.91      0.84     28305\n",
      "           2       0.75      0.44      0.56     10879\n",
      "           3       0.68      0.65      0.66     10293\n",
      "\n",
      "    accuracy                           0.75     49477\n",
      "   macro avg       0.73      0.67      0.69     49477\n",
      "weighted avg       0.75      0.75      0.74     49477\n",
      "\n"
     ]
    },
    {
     "data": {
      "image/png": "[encoded data removed]",
      "text/plain": [
       "<Figure size 640x480 with 1 Axes>"
      ]
     },
     "metadata": {},
     "output_type": "display_data"
    },
    {
     "name": "stdout",
     "output_type": "stream",
     "text": [
      "Length: 3314\n",
      "Length Unique values: 3\n",
      "[1 2 3]\n",
      "Baseline with max class 1: 0.6882920941460471\n",
      "              precision    recall  f1-score   support\n",
      "\n",
      "           1       0.77      0.86      0.81      2281\n",
      "           2       0.58      0.32      0.41       772\n",
      "           3       0.34      0.44      0.39       261\n",
      "\n",
      "    accuracy                           0.70      3314\n",
      "   macro avg       0.56      0.54      0.53      3314\n",
      "weighted avg       0.69      0.70      0.68      3314\n",
      "\n"
     ]
    }
   ],
   "source": [
    "model.load(model_file)\n",
    "print(test_model(model, genderDatasetTrain))\n",
    "print(test_model(model, genderDatasetTest))"
   ]
  },
  {
   "cell_type": "code",
   "execution_count": 76,
   "metadata": {},
   "outputs": [],
   "source": [
    "# Day prediction\n",
    "from models.dataset import ArticleTFIDFDataset, remove_y_None, select_col\n",
    "from models.baseline_models import DayModel\n",
    "\n",
    "dateDatasetTrain = ArticleTFIDFDataset(X_train, trainP, filter=remove_y_None, transform_Y=select_col(\"day\"))\n",
    "\n",
    "dateDatasetTest = ArticleTFIDFDataset(X_test, testP, filter=remove_y_None, transform_Y=select_col(\"day\"))"
   ]
  },
  {
   "cell_type": "code",
   "execution_count": null,
   "metadata": {},
   "outputs": [],
   "source": [
    "day_model_file = models_folder / \"day_model.pkl\"\n",
    "day_model = DayModel()"
   ]
  },
  {
   "cell_type": "code",
   "execution_count": 54,
   "metadata": {},
   "outputs": [
    {
     "name": "stderr",
     "output_type": "stream",
     "text": [
      "100%|██████████| 1783007/1783007 [03:19<00:00, 8939.23it/s] \n"
     ]
    },
    {
     "data": {
      "image/png": "[encoded data removed]",
      "text/plain": [
       "<Figure size 640x480 with 1 Axes>"
      ]
     },
     "metadata": {},
     "output_type": "display_data"
    },
    {
     "name": "stdout",
     "output_type": "stream",
     "text": [
      "Unique values: 6\n"
     ]
    },
    {
     "name": "stderr",
     "output_type": "stream",
     "text": [
      "[Parallel(n_jobs=8)]: Using backend LokyBackend with 8 concurrent workers.\n"
     ]
    },
    {
     "name": "stdout",
     "output_type": "stream",
     "text": [
      "RUNNING THE L-BFGS-B CODE\n",
      "\n",
      "           * * *\n",
      "\n",
      "Machine precision = 2.220D-16\n",
      " N =       105007     M =           10\n",
      "\n",
      "At X0         0 variables are exactly at the bounds\n",
      "\n",
      "At iterate    0    f=  3.46957D+06    |proj g|=  1.01382D+05\n"
     ]
    },
    {
     "name": "stderr",
     "output_type": "stream",
     "text": [
      " This problem is unconstrained.\n"
     ]
    },
    {
     "name": "stdout",
     "output_type": "stream",
     "text": [
      "\n",
      "At iterate   50    f=  3.28665D+06    |proj g|=  3.88254D+03\n",
      "\n",
      "At iterate  100    f=  3.24127D+06    |proj g|=  4.31174D+03\n",
      "\n",
      "At iterate  150    f=  3.20629D+06    |proj g|=  8.61626D+02\n",
      "\n",
      "At iterate  200    f=  3.19545D+06    |proj g|=  8.84008D+03\n",
      "\n",
      "At iterate  250    f=  3.18933D+06    |proj g|=  4.98023D+03\n",
      "\n",
      "At iterate  300    f=  3.18625D+06    |proj g|=  1.52871D+03\n",
      "\n",
      "At iterate  350    f=  3.18493D+06    |proj g|=  8.82482D+02\n",
      "\n",
      "At iterate  400    f=  3.18427D+06    |proj g|=  1.24268D+03\n",
      "\n",
      "At iterate  450    f=  3.18389D+06    |proj g|=  8.24275D+02\n",
      "\n",
      "At iterate  500    f=  3.18362D+06    |proj g|=  4.61937D+02\n",
      "\n",
      "At iterate  550    f=  3.18341D+06    |proj g|=  8.99311D+02\n",
      "\n",
      "At iterate  600    f=  3.18331D+06    |proj g|=  9.76963D+01\n",
      "\n",
      "At iterate  650    f=  3.18326D+06    |proj g|=  4.30613D+02\n",
      "\n",
      "At iterate  700    f=  3.18323D+06    |proj g|=  9.41131D+01\n",
      "\n",
      "At iterate  750    f=  3.18322D+06    |proj g|=  2.26700D+02\n",
      "\n",
      "At iterate  800    f=  3.18321D+06    |proj g|=  1.55707D+02\n",
      "\n",
      "At iterate  850    f=  3.18320D+06    |proj g|=  3.87336D+01\n",
      "\n",
      "At iterate  900    f=  3.18320D+06    |proj g|=  8.48554D+01\n",
      "\n",
      "At iterate  950    f=  3.18320D+06    |proj g|=  3.17236D+01\n",
      "\n",
      "           * * *\n",
      "\n",
      "Tit   = total number of iterations\n",
      "Tnf   = total number of function evaluations\n",
      "Tnint = total number of segments explored during Cauchy searches\n",
      "Skip  = number of BFGS updates skipped\n",
      "Nact  = number of active bounds at final generalized Cauchy point\n",
      "Projg = norm of the final projected gradient\n",
      "F     = final function value\n",
      "\n",
      "           * * *\n",
      "\n",
      "   N    Tit     Tnf  Tnint  Skip  Nact     Projg        F\n",
      "*****    958   1032      1     0     0   1.736D+01   3.183D+06\n",
      "  F =   3183196.4665143467     \n",
      "\n",
      "CONVERGENCE: REL_REDUCTION_OF_F_<=_FACTR*EPSMCH             \n"
     ]
    },
    {
     "name": "stderr",
     "output_type": "stream",
     "text": [
      "[Parallel(n_jobs=8)]: Done   1 out of   1 | elapsed: 115.9min finished\n"
     ]
    },
    {
     "name": "stdout",
     "output_type": "stream",
     "text": [
      "              precision    recall  f1-score   support\n",
      "\n",
      "           0       0.29      0.30      0.29    277087\n",
      "           1       0.29      0.31      0.30    296637\n",
      "           2       0.29      0.33      0.31    301446\n",
      "           3       0.28      0.32      0.30    298062\n",
      "           4       0.29      0.29      0.29    281756\n",
      "           5       0.33      0.20      0.25    174686\n",
      "           6       0.34      0.21      0.26    153333\n",
      "\n",
      "    accuracy                           0.29   1783007\n",
      "   macro avg       0.30      0.28      0.29   1783007\n",
      "weighted avg       0.30      0.29      0.29   1783007\n",
      "\n"
     ]
    },
    {
     "name": "stderr",
     "output_type": "stream",
     "text": [
      "100%|██████████| 222876/222876 [00:31<00:00, 7085.75it/s]\n"
     ]
    },
    {
     "data": {
      "image/png": "[encoded data removed]",
      "text/plain": [
       "<Figure size 640x480 with 1 Axes>"
      ]
     },
     "metadata": {},
     "output_type": "display_data"
    },
    {
     "name": "stdout",
     "output_type": "stream",
     "text": [
      "Unique values: 6\n",
      "              precision    recall  f1-score   support\n",
      "\n",
      "           0       0.17      0.19      0.18     35348\n",
      "           1       0.16      0.18      0.17     35966\n",
      "           2       0.15      0.16      0.16     35497\n",
      "           3       0.14      0.19      0.16     33995\n",
      "           4       0.14      0.14      0.14     33831\n",
      "           5       0.11      0.06      0.08     25652\n",
      "           6       0.09      0.05      0.06     22587\n",
      "\n",
      "    accuracy                           0.15    222876\n",
      "   macro avg       0.14      0.14      0.14    222876\n",
      "weighted avg       0.14      0.15      0.14    222876\n",
      "\n"
     ]
    }
   ],
   "source": [
    "# Training\n",
    "day_model = train_model(day_model, dateDatasetTrain)\n",
    "day_model.save(day_model_file)"
   ]
  },
  {
   "cell_type": "code",
   "execution_count": 82,
   "metadata": {},
   "outputs": [
    {
     "data": {
      "image/png": "[encoded data removed]",
      "text/plain": [
       "<Figure size 640x480 with 1 Axes>"
      ]
     },
     "metadata": {},
     "output_type": "display_data"
    },
    {
     "name": "stdout",
     "output_type": "stream",
     "text": [
      "Unique values: 7\n",
      "Length: 1783007\n",
      "              precision    recall  f1-score   support\n",
      "\n",
      "           0       0.29      0.30      0.29    277087\n",
      "           1       0.29      0.31      0.30    296637\n",
      "           2       0.29      0.33      0.31    301446\n",
      "           3       0.28      0.32      0.30    298062\n",
      "           4       0.29      0.29      0.29    281756\n",
      "           5       0.33      0.20      0.25    174686\n",
      "           6       0.34      0.21      0.26    153333\n",
      "\n",
      "    accuracy                           0.29   1783007\n",
      "   macro avg       0.30      0.28      0.29   1783007\n",
      "weighted avg       0.30      0.29      0.29   1783007\n",
      "\n"
     ]
    },
    {
     "data": {
      "image/png": "[encoded data removed]",
      "text/plain": [
       "<Figure size 640x480 with 1 Axes>"
      ]
     },
     "metadata": {},
     "output_type": "display_data"
    },
    {
     "name": "stdout",
     "output_type": "stream",
     "text": [
      "Unique values: 7\n",
      "Length: 222876\n",
      "              precision    recall  f1-score   support\n",
      "\n",
      "           0       0.18      0.22      0.20     31842\n",
      "           1       0.19      0.23      0.21     34731\n",
      "           2       0.20      0.20      0.20     37104\n",
      "           3       0.22      0.25      0.23     38875\n",
      "           4       0.19      0.19      0.19     33745\n",
      "           5       0.18      0.11      0.14     24196\n",
      "           6       0.22      0.13      0.16     22383\n",
      "\n",
      "    accuracy                           0.20    222876\n",
      "   macro avg       0.20      0.19      0.19    222876\n",
      "weighted avg       0.20      0.20      0.19    222876\n",
      "\n"
     ]
    }
   ],
   "source": [
    "day_model.load(day_model_file)\n",
    "test_model(day_model, dateDatasetTrain)\n",
    "test_model(day_model, dateDatasetTest)"
   ]
  }
 ],
 "metadata": {
  "kernelspec": {
   "display_name": "Python 3 (ipykernel)",
   "language": "python",
   "name": "python3"
  },
  "language_info": {
   "codemirror_mode": {
    "name": "ipython",
    "version": 3
   },
   "file_extension": ".py",
   "mimetype": "text/x-python",
   "name": "python",
   "nbconvert_exporter": "python",
   "pygments_lexer": "ipython3",
   "version": "3.10.4"
  },
  "vscode": {
   "interpreter": {
    "hash": "916dbcbb3f70747c44a77c7bcd40155683ae19c65e1c03b4aa3499c5328201f1"
   }
  }
 },
 "nbformat": 4,
 "nbformat_minor": 2
}
