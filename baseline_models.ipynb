{
 "cells": [
  {
   "cell_type": "code",
   "execution_count": null,
   "metadata": {},
   "outputs": [],
   "source": [
    "from sklearn.feature_extraction.text import TfidfVectorizer\n",
    "from preprocess_utils import load_jsonb\n",
    "from pathlib import Path"
   ]
  },
  {
   "cell_type": "code",
   "execution_count": null,
   "metadata": {},
   "outputs": [],
   "source": [
    "\n",
    "\n",
    "trainP = Path(\"final_train.jsonb\")\n",
    "devP = Path(\"final_dev.jsonb\")\n",
    "testP = Path(\"final_test.jsonb\")\n",
    "\n",
    "# Fit just once\n",
    "vectorizer = TfidfVectorizer()\n",
    "X_train = vectorizer.fit_transform((js[\"content\"] for js in load_jsonb(trainP)))\n",
    "\n",
    "X_dev = vectorizer.transform((js[\"content\"] for js in load_jsonb(devP)))\n",
    "X_test = vectorizer.transform((js[\"content\"] for js in load_jsonb(testP)))"
   ]
  },
  {
   "cell_type": "code",
   "execution_count": null,
   "metadata": {},
   "outputs": [],
   "source": [
    "# Server prediction\n",
    "from models.baseline_models import ServerModel \n",
    "from sklearn.metrics import accuracy_score\n",
    "col = \"server\"\n",
    "Y_train = (js[col] for js in load_jsonb(trainP))\n",
    "model = ServerModel()\n",
    "model.fit(X_train, Y_train)\n",
    "\n",
    "Y_dev = (js[col] for js in load_jsonb(devP))\n",
    "Y_pred = model.predict(X_dev)\n",
    "print(accuracy_score(Y_dev, Y_pred))\n",
    "\n",
    "Y_test = (js[col] for js in load_jsonb(testP))\n",
    "Y_pred = model.predict(X_test)\n",
    "print(accuracy_score(Y_test, Y_pred))\n",
    "\n"
   ]
  },
  {
   "cell_type": "code",
   "execution_count": null,
   "metadata": {},
   "outputs": [],
   "source": [
    "\n",
    "# Cateogry prediction\n",
    "from models.baseline_models import CategoryModel\n",
    "from sklearn.metrics import accuracy_score\n",
    "col = \"category\"\n",
    "Y_train = (js[col] for js in load_jsonb(trainP))\n",
    "model = CategoryModel()\n",
    "model.fit(X_train, Y_train)\n",
    "\n",
    "Y_dev = (js[col] for js in load_jsonb(devP))\n",
    "Y_pred = model.predict(X_dev)\n",
    "print(accuracy_score(Y_dev, Y_pred))\n",
    "\n",
    "Y_test = (js[col] for js in load_jsonb(testP))\n",
    "Y_pred = model.predict(X_test)\n",
    "print(accuracy_score(Y_test, Y_pred))"
   ]
  },
  {
   "cell_type": "code",
   "execution_count": null,
   "metadata": {},
   "outputs": [],
   "source": [
    "\n",
    "# Gender prediction\n",
    "from models.baseline_models import AuthorGenderModel, GenderTransformer\n",
    "from sklearn.metrics import accuracy_score\n",
    "col = \"author_genders\"\n",
    "transformer = GenderTransformer()\n",
    "Y_train = transformer.transform(js[col] for js in load_jsonb(trainP))\n",
    "model = AuthorGenderModel()\n",
    "model.fit(X_train, Y_train)\n",
    "\n",
    "Y_dev = transformer.transform(js[col] for js in load_jsonb(devP))\n",
    "Y_pred = model.predict(X_dev)\n",
    "print(accuracy_score(Y_dev, Y_pred))\n",
    "\n",
    "Y_test = transformer.transform(js[col] for js in load_jsonb(testP))\n",
    "Y_pred = model.predict(X_test)\n",
    "print(accuracy_score(Y_test, Y_pred))"
   ]
  },
  {
   "cell_type": "code",
   "execution_count": null,
   "metadata": {},
   "outputs": [],
   "source": [
    "\n",
    "# Author prediction\n",
    "from models.baseline_models import AuthorModel\n",
    "from sklearn.metrics import accuracy_score\n",
    "col = \"author\"\n",
    "Y_train = (js[col] for js in load_jsonb(trainP))\n",
    "model = AuthorModel()\n",
    "model.fit(X_train, Y_train)\n",
    "\n",
    "Y_dev = (js[col] for js in load_jsonb(devP))\n",
    "Y_pred = model.predict(X_dev)\n",
    "print(accuracy_score(Y_dev, Y_pred))\n",
    "\n",
    "Y_test = (js[col] for js in load_jsonb(testP))\n",
    "Y_pred = model.predict(X_test)\n",
    "print(accuracy_score(Y_test, Y_pred))"
   ]
  }
 ],
 "metadata": {
  "kernelspec": {
   "display_name": "Python 3.10.8",
   "language": "python",
   "name": "python3"
  },
  "language_info": {
   "name": "python",
   "version": "3.10.8"
  },
  "orig_nbformat": 4,
  "vscode": {
   "interpreter": {
    "hash": "916dbcbb3f70747c44a77c7bcd40155683ae19c65e1c03b4aa3499c5328201f1"
   }
  }
 },
 "nbformat": 4,
 "nbformat_minor": 2
}
