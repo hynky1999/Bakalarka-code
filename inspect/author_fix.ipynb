{
 "cells": [
  {
   "cell_type": "code",
   "execution_count": 12,
   "metadata": {},
   "outputs": [
    {
     "name": "stderr",
     "output_type": "stream",
     "text": [
      "100%|██████████| 74519/74519 [00:09<00:00, 7743.41it/s]\n",
      "100%|██████████| 32393/32393 [00:03<00:00, 8858.61it/s]\n",
      "100%|██████████| 980477/980477 [01:51<00:00, 8779.72it/s]\n",
      "100%|██████████| 199257/199257 [00:24<00:00, 8152.69it/s]\n",
      "100%|██████████| 421433/421433 [00:37<00:00, 11105.08it/s]\n",
      "100%|██████████| 491049/491049 [01:08<00:00, 7162.64it/s]\n",
      "100%|██████████| 161096/161096 [00:20<00:00, 7996.28it/s]\n"
     ]
    }
   ],
   "source": [
    "from preprocess_utils import load_jsonb, save_jsonb\n",
    "from pathlib import Path\n",
    "cz_folder = Path(\"article_json_cz\")\n",
    "\n",
    "author_folder = Path(\"article_json_author\")\n",
    "for file in cz_folder.iterdir():\n",
    "    if file.is_file():\n",
    "        save_jsonb(postprocess_authors(None_author(file)), author_folder / file.name)"
   ]
  },
  {
   "cell_type": "code",
   "execution_count": 4,
   "metadata": {},
   "outputs": [],
   "source": [
    "from preprocess_utils import get_unique_authors\n",
    "from pathlib import Path"
   ]
  },
  {
   "cell_type": "code",
   "execution_count": 13,
   "metadata": {},
   "outputs": [
    {
     "name": "stderr",
     "output_type": "stream",
     "text": [
      "100%|██████████| 199257/199257 [00:08<00:00, 24184.08it/s]\n",
      "100%|██████████| 491049/491049 [00:26<00:00, 18328.45it/s]\n",
      "100%|██████████| 74519/74519 [00:03<00:00, 19935.37it/s]\n",
      "100%|██████████| 161096/161096 [00:08<00:00, 18504.38it/s]\n",
      "100%|██████████| 980477/980477 [00:42<00:00, 23082.02it/s]\n",
      "100%|██████████| 421433/421433 [00:15<00:00, 26995.53it/s]\n",
      "100%|██████████| 32393/32393 [00:01<00:00, 20629.67it/s]"
     ]
    },
    {
     "name": "stdout",
     "output_type": "stream",
     "text": [
      "13898\n",
      "[('Milan Kopp', 10555), ('Milan Holakovský', 10201), ('Stanislav Dvořák', 7775), ('Mirka Spáčilová', 7730), ('Martin Hromádka', 7707), ('Marika Táborská', 6853), ('Markéta Kaclová', 6219), ('Libor Kopl', 5847), ('Josef Kopecký', 5331), ('Václav Havránek', 5028), ('Martin Ruščin', 4611), ('Rastislav Zárodňanský', 4592), ('Jaroslav Špulák', 4273), ('Daniel Seifert', 4130), ('Štěpánka Saadouni', 4099), ('Honza Srp', 4007), ('Miloslav Novák', 3945), ('Daniela Tauberová', 3943), ('Zdeněk Kellner', 3849), ('Vladimír Majer', 3821), ('Alexandr Vanžura', 3682), ('Roman Brhel', 3660), ('Petr Turek', 3597), ('Jan Charvát', 3547), ('Ondřej Zach', 3526), ('Rudolf Muzika', 3493), ('Michal Hrabal', 3439), ('Jiří Kohout', 3427), ('Kateřina Nič Husárová', 3408), ('Martin Vokurka', 3382), ('Tomáš Januszek', 3293), ('Michal Burda', 3272), ('Jaroslav Zeman', 3233), ('Jiří Seidl', 3192), ('Iveta Nádvorníková', 3189), ('Pavel Kortus', 3177), ('Luboš Kurzweil', 3166), ('Jaroslav Perdoch', 3150), ('Milan Kilián', 3131), ('Iva Kovářová', 3129), ('Daniela Loudová', 3049), ('Edwin Otta', 3033), ('František Kuba', 3030), ('Jan Sedlák', 2940), ('Jaroslav Kára', 2933), ('Petr Kinšt', 2890), ('Roman Šafhauser', 2880), ('Tomáš Macek', 2880), ('Kamil Dubský', 2863), ('Roman Všetečka', 2857), ('Roman Cichocki', 2847), ('Radek Halva', 2839), ('Petr Krňávek', 2830), ('Petr Bílek', 2826), ('Ivan Němeček', 2813), ('Jiří Fejgl', 2788), ('Ivan Pavelek', 2786), ('Zdeněk Plachý', 2782), ('Stanislav Kamenský', 2705), ('Pavel Mikeš', 2643), ('Miroslav Elsnic', 2636), ('Patrik Biskup', 2630), ('Aleš Honus', 2618), ('Kamil Jáša', 2617), ('Libor Běčák', 2607), ('Romana Netolická', 2602), ('Vojtěch Man', 2599), ('Zdeněk Zamastil', 2566), ('Martin Vokáč', 2540), ('Petr Tomeš', 2526), ('Petr Vaňous', 2493), ('Vladimír Malinovský', 2491), ('Jiří Drozdík', 2460), ('Hana Kubová', 2452), ('Helena Zelená Křížová', 2450), ('Petr Málek', 2435), ('Jana Vandlíčková', 2423), ('František Bílek', 2376), ('Bohumil Ortman', 2375), ('Martin Moštěk', 2366), ('Marek Nečina', 2366), ('Dalibor Krutiš', 2336), ('Igor Maňour', 2333), ('Jaroslav Tomas', 2332), ('Tomáš Otradovský', 2330), ('Marek Burza', 2304), ('Věra Míšková', 2301), ('Jiří Fišara', 2292), ('Jana Kotalová', 2284), ('Ondřej Bezr', 2265), ('Čeněk Třeček', 2263), ('Ivana Kalinová', 2257), ('Lenka Novotná', 2254), ('Pavel Bohun', 2253), ('Jakub Kynčl', 2245), ('Simona Bartošová', 2223), ('Lukáš Ivánek', 2221), ('Eliška Gáfriková', 2221), ('Nela Herrmannová', 2208), ('Milena Cibulková', 2182)]\n"
     ]
    },
    {
     "name": "stderr",
     "output_type": "stream",
     "text": [
      "\n"
     ]
    }
   ],
   "source": [
    "authors = dict()\n",
    "author_folder = Path(\"article_json_author\")\n",
    "for file in author_folder.iterdir():\n",
    "    if file.is_file():\n",
    "        authors = authors | get_unique_authors(file)\n",
    "\n",
    "sorted_authors = sorted(authors.items(), key=lambda x: x[1], reverse=True)\n",
    "print(len(sorted_authors))\n",
    "print(sorted_authors[:100])"
   ]
  },
  {
   "cell_type": "code",
   "execution_count": 15,
   "metadata": {},
   "outputs": [
    {
     "name": "stderr",
     "output_type": "stream",
     "text": [
      "58881it [10:44, 91.31it/s]  \n"
     ]
    }
   ],
   "source": [
    "import pandas as pd"
   ]
  },
  {
   "cell_type": "code",
   "execution_count": 16,
   "metadata": {},
   "outputs": [],
   "source": [
    "df_all = pd.DataFrame(sorted_authors, columns=[\"author\", \"count\"])"
   ]
  },
  {
   "cell_type": "code",
   "execution_count": 26,
   "metadata": {},
   "outputs": [
    {
     "data": {
      "image/png": "[encoded data removed]",
      "text/plain": [
       "<Figure size 640x480 with 1 Axes>"
      ]
     },
     "metadata": {},
     "output_type": "display_data"
    }
   ],
   "source": [
    "df_count =df_all.groupby(\"count\").count().plot(loglog=True)\n",
    "#df_count.hist(bins=5000)"
   ]
  }
 ],
 "metadata": {
  "kernelspec": {
   "display_name": "Python 3.10.6 64-bit",
   "language": "python",
   "name": "python3"
  },
  "language_info": {
   "codemirror_mode": {
    "name": "ipython",
    "version": 3
   },
   "file_extension": ".py",
   "mimetype": "text/x-python",
   "name": "python",
   "nbconvert_exporter": "python",
   "pygments_lexer": "ipython3",
   "version": "3.10.8"
  },
  "orig_nbformat": 4,
  "vscode": {
   "interpreter": {
    "hash": "916dbcbb3f70747c44a77c7bcd40155683ae19c65e1c03b4aa3499c5328201f1"
   }
  }
 },
 "nbformat": 4,
 "nbformat_minor": 2
}
