{
 "cells": [
  {
   "cell_type": "code",
   "execution_count": 1,
   "metadata": {},
   "outputs": [],
   "source": [
    "import sys\n",
    "sys.path.append(\"../\")"
   ]
  },
  {
   "cell_type": "code",
   "execution_count": 2,
   "metadata": {},
   "outputs": [
    {
     "name": "stderr",
     "output_type": "stream",
     "text": [
      "Warning : `load_model` does not return WordVectorModel or SupervisedModel any more, but a `FastText` object which is very similar.\n"
     ]
    }
   ],
   "source": [
    "\n",
    "from preprocess_utils import get_unique_category\n",
    "from pathlib import Path"
   ]
  },
  {
   "cell_type": "code",
   "execution_count": 5,
   "metadata": {},
   "outputs": [
    {
     "ename": "KeyboardInterrupt",
     "evalue": "",
     "output_type": "error",
     "traceback": [
      "\u001b[0;31m---------------------------------------------------------------------------\u001b[0m",
      "\u001b[0;31mKeyboardInterrupt\u001b[0m                         Traceback (most recent call last)",
      "Cell \u001b[0;32mIn [5], line 5\u001b[0m\n\u001b[1;32m      3\u001b[0m \u001b[39mfor\u001b[39;00m file \u001b[39min\u001b[39;00m folder\u001b[39m.\u001b[39miterdir():\n\u001b[1;32m      4\u001b[0m     \u001b[39mif\u001b[39;00m file\u001b[39m.\u001b[39mis_file():\n\u001b[0;32m----> 5\u001b[0m         authors \u001b[39m=\u001b[39m category \u001b[39m|\u001b[39m get_unique_category(file)\n\u001b[1;32m      7\u001b[0m sorted_cat \u001b[39m=\u001b[39m \u001b[39msorted\u001b[39m(category\u001b[39m.\u001b[39mitems(), key\u001b[39m=\u001b[39m\u001b[39mlambda\u001b[39;00m x: x[\u001b[39m1\u001b[39m], reverse\u001b[39m=\u001b[39m\u001b[39mTrue\u001b[39;00m)\n\u001b[1;32m      8\u001b[0m \u001b[39mprint\u001b[39m(\u001b[39mlen\u001b[39m(sorted_cat))\n",
      "File \u001b[0;32m~/Projects/Bakalarka/BakalarskaPrace/inspect/../preprocess_utils.py:169\u001b[0m, in \u001b[0;36m<lambda>\u001b[0;34m(file)\u001b[0m\n\u001b[1;32m    166\u001b[0m get_unique_authors \u001b[39m=\u001b[39m \u001b[39mlambda\u001b[39;00m file: get_unique(file, \u001b[39m\"\u001b[39m\u001b[39mauthor\u001b[39m\u001b[39m\"\u001b[39m)\n\u001b[1;32m    167\u001b[0m get_unique_topics \u001b[39m=\u001b[39m \u001b[39mlambda\u001b[39;00m file: get_unique(file, \u001b[39m\"\u001b[39m\u001b[39mkeywords\u001b[39m\u001b[39m\"\u001b[39m)\n\u001b[0;32m--> 169\u001b[0m get_unique_category \u001b[39m=\u001b[39m \u001b[39mlambda\u001b[39;00m file: get_unique(file, \u001b[39m\"\u001b[39;49m\u001b[39mcategory\u001b[39;49m\u001b[39m\"\u001b[39;49m)\n",
      "File \u001b[0;32m~/Projects/Bakalarka/BakalarskaPrace/inspect/../preprocess_utils.py:152\u001b[0m, in \u001b[0;36mget_unique\u001b[0;34m(file, col)\u001b[0m\n\u001b[1;32m    150\u001b[0m \u001b[39mdef\u001b[39;00m \u001b[39mget_unique\u001b[39m(file, col):\n\u001b[1;32m    151\u001b[0m     u_vals \u001b[39m=\u001b[39m \u001b[39mdict\u001b[39m()\n\u001b[0;32m--> 152\u001b[0m     \u001b[39mfor\u001b[39;00m js \u001b[39min\u001b[39;00m load_jsonb(file):\n\u001b[1;32m    153\u001b[0m         js_list \u001b[39m=\u001b[39m js[col]\n\u001b[1;32m    154\u001b[0m         \u001b[39mif\u001b[39;00m js_list \u001b[39m==\u001b[39m \u001b[39mNone\u001b[39;00m:\n",
      "File \u001b[0;32m~/Projects/Bakalarka/BakalarskaPrace/inspect/../preprocess_utils.py:42\u001b[0m, in \u001b[0;36mload_jsonb\u001b[0;34m(filename, show_progress)\u001b[0m\n\u001b[1;32m     40\u001b[0m total \u001b[39m=\u001b[39m \u001b[39m0\u001b[39m\n\u001b[1;32m     41\u001b[0m \u001b[39mif\u001b[39;00m show_progress:\n\u001b[0;32m---> 42\u001b[0m     total \u001b[39m=\u001b[39m num_of_lines(filename)\n\u001b[1;32m     43\u001b[0m \u001b[39mwith\u001b[39;00m \u001b[39mopen\u001b[39m(filename, \u001b[39m\"\u001b[39m\u001b[39mr\u001b[39m\u001b[39m\"\u001b[39m) \u001b[39mas\u001b[39;00m f:\n\u001b[1;32m     44\u001b[0m     iterable \u001b[39m=\u001b[39m f\n",
      "File \u001b[0;32m~/Projects/Bakalarka/BakalarskaPrace/inspect/../preprocess_utils.py:53\u001b[0m, in \u001b[0;36mnum_of_lines\u001b[0;34m(filename)\u001b[0m\n\u001b[1;32m     51\u001b[0m \u001b[39mdef\u001b[39;00m \u001b[39mnum_of_lines\u001b[39m(filename):\n\u001b[1;32m     52\u001b[0m     \u001b[39mwith\u001b[39;00m \u001b[39mopen\u001b[39m(filename, \u001b[39m\"\u001b[39m\u001b[39mr\u001b[39m\u001b[39m\"\u001b[39m) \u001b[39mas\u001b[39;00m f:\n\u001b[0;32m---> 53\u001b[0m         \u001b[39mreturn\u001b[39;00m \u001b[39msum\u001b[39;49m(\u001b[39m1\u001b[39;49m \u001b[39mfor\u001b[39;49;00m _ \u001b[39min\u001b[39;49;00m f)\n",
      "File \u001b[0;32m~/Projects/Bakalarka/BakalarskaPrace/inspect/../preprocess_utils.py:53\u001b[0m, in \u001b[0;36m<genexpr>\u001b[0;34m(.0)\u001b[0m\n\u001b[1;32m     51\u001b[0m \u001b[39mdef\u001b[39;00m \u001b[39mnum_of_lines\u001b[39m(filename):\n\u001b[1;32m     52\u001b[0m     \u001b[39mwith\u001b[39;00m \u001b[39mopen\u001b[39m(filename, \u001b[39m\"\u001b[39m\u001b[39mr\u001b[39m\u001b[39m\"\u001b[39m) \u001b[39mas\u001b[39;00m f:\n\u001b[0;32m---> 53\u001b[0m         \u001b[39mreturn\u001b[39;00m \u001b[39msum\u001b[39m(\u001b[39m1\u001b[39m \u001b[39mfor\u001b[39;00m _ \u001b[39min\u001b[39;00m f)\n",
      "File \u001b[0;32m~/.conda/envs/NLP/lib/python3.10/codecs.py:319\u001b[0m, in \u001b[0;36mBufferedIncrementalDecoder.decode\u001b[0;34m(self, input, final)\u001b[0m\n\u001b[1;32m    314\u001b[0m \u001b[39mdef\u001b[39;00m \u001b[39m_buffer_decode\u001b[39m(\u001b[39mself\u001b[39m, \u001b[39minput\u001b[39m, errors, final):\n\u001b[1;32m    315\u001b[0m     \u001b[39m# Overwrite this method in subclasses: It must decode input\u001b[39;00m\n\u001b[1;32m    316\u001b[0m     \u001b[39m# and return an (output, length consumed) tuple\u001b[39;00m\n\u001b[1;32m    317\u001b[0m     \u001b[39mraise\u001b[39;00m \u001b[39mNotImplementedError\u001b[39;00m\n\u001b[0;32m--> 319\u001b[0m \u001b[39mdef\u001b[39;00m \u001b[39mdecode\u001b[39m(\u001b[39mself\u001b[39m, \u001b[39minput\u001b[39m, final\u001b[39m=\u001b[39m\u001b[39mFalse\u001b[39;00m):\n\u001b[1;32m    320\u001b[0m     \u001b[39m# decode input (taking the buffer into account)\u001b[39;00m\n\u001b[1;32m    321\u001b[0m     data \u001b[39m=\u001b[39m \u001b[39mself\u001b[39m\u001b[39m.\u001b[39mbuffer \u001b[39m+\u001b[39m \u001b[39minput\u001b[39m\n\u001b[1;32m    322\u001b[0m     (result, consumed) \u001b[39m=\u001b[39m \u001b[39mself\u001b[39m\u001b[39m.\u001b[39m_buffer_decode(data, \u001b[39mself\u001b[39m\u001b[39m.\u001b[39merrors, final)\n",
      "\u001b[0;31mKeyboardInterrupt\u001b[0m: "
     ]
    }
   ],
   "source": [
    "category = dict()\n",
    "folder = Path(\"../article_json_filtered\")\n",
    "for file in folder.iterdir():\n",
    "    if file.is_file():\n",
    "        category = category | get_unique_category(file)\n",
    "\n",
    "sorted_cat = sorted(category.items(), key=lambda x: x[1], reverse=True)\n",
    "print(len(sorted_cat))\n",
    "print(sorted_cat[:100])"
   ]
  },
  {
   "cell_type": "code",
   "execution_count": 4,
   "metadata": {},
   "outputs": [
    {
     "data": {
      "image/png": "[encoded data removed]",
      "text/plain": [
       "<Figure size 640x480 with 1 Axes>"
      ]
     },
     "metadata": {},
     "output_type": "display_data"
    }
   ],
   "source": [
    "import pandas as pd\n",
    "df_all = pd.DataFrame(sorted_cat, columns=[\"cat\", \"count\"])\n",
    "\n",
    "df_count =df_all.groupby(\"count\").count().plot.hist(bins=500)"
   ]
  }
 ],
 "metadata": {
  "kernelspec": {
   "display_name": "Python 3.10.4 ('NLP')",
   "language": "python",
   "name": "python3"
  },
  "language_info": {
   "codemirror_mode": {
    "name": "ipython",
    "version": 3
   },
   "file_extension": ".py",
   "mimetype": "text/x-python",
   "name": "python",
   "nbconvert_exporter": "python",
   "pygments_lexer": "ipython3",
   "version": "3.10.4"
  },
  "orig_nbformat": 4,
  "vscode": {
   "interpreter": {
    "hash": "47d1cf54bf9cf5fce4b000eacb105df7d7e5f1fe165267018e0a6855939e5736"
   }
  }
 },
 "nbformat": 4,
 "nbformat_minor": 2
}
