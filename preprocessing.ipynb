{
 "cells": [
  {
   "cell_type": "code",
   "execution_count": 2,
   "metadata": {},
   "outputs": [],
   "source": [
    "%load_ext autoreload\n",
    "%autoreload 2"
   ]
  },
  {
   "cell_type": "code",
   "execution_count": 2,
   "metadata": {},
   "outputs": [],
   "source": [
    "run_filters = True"
   ]
  },
  {
   "cell_type": "code",
   "execution_count": 3,
   "metadata": {},
   "outputs": [
    {
     "name": "stderr",
     "output_type": "stream",
     "text": [
      "Warning : `load_model` does not return WordVectorModel or SupervisedModel any more, but a `FastText` object which is very similar.\n"
     ]
    }
   ],
   "source": [
    "import json\n",
    "from preprocess_utils import save_jsonb, load_jsonb, filter_by_cz_lang, articles_num\n",
    "from pathlib import Path"
   ]
  },
  {
   "cell_type": "code",
   "execution_count": 5,
   "metadata": {},
   "outputs": [],
   "source": [
    "\n",
    "base_name = Path(\"articles_json\")"
   ]
  },
  {
   "cell_type": "code",
   "execution_count": 5,
   "metadata": {},
   "outputs": [],
   "source": [
    "\n",
    "base_name.mkdir(exist_ok=True)\n",
    "if run_filters:\n",
    "    for folder in Path(\"test_headline\").iterdir():\n",
    "        if not folder.is_dir():\n",
    "            continue\n",
    "\n",
    "        with open(base_name / f\"{folder.name}.json\", \"w\") as json_f:\n",
    "            lines = []\n",
    "            for file in folder.iterdir():\n",
    "                if file.is_file():\n",
    "                    with open(file, \"r\") as f:\n",
    "                        jsoned = json.load(f)\n",
    "                    lines.append(json.dumps(jsoned))\n",
    "            save_jsonb(lines, json_f)\n",
    "            \n"
   ]
  },
  {
   "cell_type": "code",
   "execution_count": 6,
   "metadata": {},
   "outputs": [
    {
     "name": "stdout",
     "output_type": "stream",
     "text": [
      "Collecting package metadata (current_repodata.json): done\n",
      "Solving environment: done\n",
      "\n",
      "## Package Plan ##\n",
      "\n",
      "  environment location: /home/kydliceh/.conda/envs/NLP\n",
      "\n",
      "  added / updated specs:\n",
      "    - fasttext\n",
      "\n",
      "\n",
      "The following packages will be downloaded:\n",
      "\n",
      "    package                    |            build\n",
      "    ---------------------------|-----------------\n",
      "    openssl-1.1.1s             |       h7f8727e_0         3.6 MB\n",
      "    ------------------------------------------------------------\n",
      "                                           Total:         3.6 MB\n",
      "\n",
      "The following packages will be UPDATED:\n",
      "\n",
      "  openssl                                 1.1.1q-h7f8727e_0 --> 1.1.1s-h7f8727e_0\n",
      "\n",
      "\n",
      "\n",
      "Downloading and Extracting Packages\n",
      "openssl-1.1.1s       | 3.6 MB    | ##################################### | 100% \n",
      "Preparing transaction: done\n",
      "Verifying transaction: done\n",
      "Executing transaction: done\n"
     ]
    }
   ],
   "source": [
    "!conda install -y -c conda-forge fasttext"
   ]
  },
  {
   "cell_type": "code",
   "execution_count": 7,
   "metadata": {},
   "outputs": [
    {
     "name": "stdout",
     "output_type": "stream",
     "text": [
      "--2022-11-08 14:15:57--  https://dl.fbaipublicfiles.com/fasttext/supervised-models/lid.176.ftz\n",
      "Resolving dl.fbaipublicfiles.com (dl.fbaipublicfiles.com)... 104.22.75.142, 104.22.74.142, 172.67.9.4, ...\n",
      "Connecting to dl.fbaipublicfiles.com (dl.fbaipublicfiles.com)|104.22.75.142|:443... connected.\n",
      "HTTP request sent, awaiting response... 200 OK\n",
      "Length: 938013 (916K) [binary/octet-stream]\n",
      "Saving to: ‘lid.176.ftz.1’\n",
      "\n",
      "lid.176.ftz.1       100%[===================>] 916.03K  1.07MB/s    in 0.8s    \n",
      "\n",
      "2022-11-08 14:15:59 (1.07 MB/s) - ‘lid.176.ftz.1’ saved [938013/938013]\n",
      "\n"
     ]
    }
   ],
   "source": [
    "!wget https://dl.fbaipublicfiles.com/fasttext/supervised-models/lid.176.ftz"
   ]
  },
  {
   "cell_type": "code",
   "execution_count": 9,
   "metadata": {},
   "outputs": [
    {
     "name": "stdout",
     "output_type": "stream",
     "text": [
      "[('irozhlas.json', 200554), ('denik.json', 1006447), ('aktualne.json', 163792), ('idnes.json', 507828), ('novinky.json', 443767), ('ihned.json', 33672), ('seznamzpravy.json', 75204)]\n"
     ]
    }
   ],
   "source": [
    "print(list(articles_num(base_name)))"
   ]
  },
  {
   "cell_type": "code",
   "execution_count": 6,
   "metadata": {},
   "outputs": [],
   "source": [
    "cz_folder = Path(\"article_json_cz\")"
   ]
  },
  {
   "cell_type": "code",
   "execution_count": 7,
   "metadata": {},
   "outputs": [
    {
     "ename": "NameError",
     "evalue": "name 'run_filters' is not defined",
     "output_type": "error",
     "traceback": [
      "\u001b[0;31m---------------------------------------------------------------------------\u001b[0m",
      "\u001b[0;31mNameError\u001b[0m                                 Traceback (most recent call last)",
      "Cell \u001b[0;32mIn [7], line 1\u001b[0m\n\u001b[0;32m----> 1\u001b[0m \u001b[38;5;28;01mif\u001b[39;00m \u001b[43mrun_filters\u001b[49m:\n\u001b[1;32m      2\u001b[0m     \u001b[38;5;28;01mfor\u001b[39;00m file \u001b[38;5;129;01min\u001b[39;00m base_name\u001b[38;5;241m.\u001b[39miterdir():\n\u001b[1;32m      3\u001b[0m         \u001b[38;5;28;01mif\u001b[39;00m file\u001b[38;5;241m.\u001b[39mis_file():\n",
      "\u001b[0;31mNameError\u001b[0m: name 'run_filters' is not defined"
     ]
    }
   ],
   "source": [
    "for file in base_name.iterdir():\n",
    "    if file.is_file():\n",
    "        save_jsonb(filter_by_cz_lang(file, 0.75, article_only=True), cz_folder / file.name)\n"
   ]
  },
  {
   "cell_type": "code",
   "execution_count": 10,
   "metadata": {},
   "outputs": [
    {
     "name": "stdout",
     "output_type": "stream",
     "text": [
      "[('seznamzpravy.json', 74519), ('ihned.json', 32393), ('denik.json', 980477), ('irozhlas.json', 199257), ('novinky.json', 421433), ('idnes.json', 491049), ('aktualne.json', 161096)]\n"
     ]
    }
   ],
   "source": [
    "print(list(articles_num(cz_folder)))\n"
   ]
  },
  {
   "cell_type": "code",
   "execution_count": null,
   "metadata": {},
   "outputs": [
    {
     "name": "stdout",
     "output_type": "stream",
     "text": [
      "12146\n",
      "[('Milan Kopp', 10176), ('MF DNES', 9624), ('Milan Holakovský', 9487), ('Martin Hromádka', 7527), ('Marika Táborská', 6668), ('Markéta Kaclová', 6177), ('Stanislav Dvořák', 6041), ('Václav Havránek', 4805), ('Libor Kopl', 4647), ('Josef Kopecký', 4136), ('Štěpánka Saadouni', 3834), ('Mirka Spáčilová', 3684), ('Martin Ruščin', 3622), ('Daniel Seifert', 3552), ('Petr Turek', 3422), ('Alexandr Vanžura', 3323), ('Roman Brhel', 3256), ('Jiří Kohout', 3252), ('Daniela Tauberová', 3233), ('Kateřina Nič Husárová', 3200), ('Michal Hrabal', 3121), ('Martin Dorazín', 3053), ('Rudolf Muzika', 3045), ('Martin Vokurka', 3042), ('Jaroslav Špulák', 3021), ('Michal Burda', 2986), ('Tomáš Januszek', 2932), ('Iveta Nádvorníková', 2890), ('Iva Kovářová', 2866), ('Milan Kilián', 2822), ('Edwin Otta', 2820), ('Roman Cichocki', 2779), ('Daniela Loudová', 2779), ('Luboš Kurzweil', 2723), ('Petr Kinšt', 2712), ('Kamil Dubský', 2615), ('Petr Krňávek', 2552), ('Ivan Pavelek', 2550), ('František Kuba', 2504), ('Vojtěch Man', 2494), ('Zdeněk Plachý', 2493), ('Jaroslav Zeman', 2490), ('Jaroslav Kára', 2427), ('Jiří Seidl', 2412), ('Aleš Honus', 2412), ('Jiří Drozdík', 2409), ('Jiří Fejgl', 2409), ('Libor Běčák', 2407), ('Romana Netolická', 2400), ('Kamil Jáša', 2381), ('Helena Zelená Křížová', 2355), ('Stanislav Kamenský', 2354), ('Hana Kubová', 2353), ('Patrik Biskup', 2335), ('Miroslav Elsnic', 2332), ('Jana Vandlíčková', 2298), ('František Bílek', 2243), ('Dalibor Krutiš', 2234), ('Pavel Mikeš', 2220), ('Marek Nečina', 2211), ('Igor Maňour', 2209), ('Vít Pohanka', 2191), ('Jana Kotalová', 2187), ('Miloslav Novák', 2174), ('Ivana Kalinová', 2129), ('Petr Málek', 2124), ('Martin Moštěk', 2124), ('Simona Bartošová', 2121), ('Vladimír Malinovský', 2114), ('Lenka Novotná', 2111), ('Pavel Bohun', 2105), ('Vladimír Majer', 2077), ('Jaroslav Perdoch', 2077), ('Zdeněk Zamastil', 2047), ('Milena Cibulková', 2038), ('Petr Tomeš', 2028), ('Luděk Mahel', 2002), ('Petr Bílek', 1999), ('Zuzana Kyselová', 1985), ('Lukáš Ivánek', 1979), ('Jan Sůra', 1964), ('Bohumil Ortman', 1958), ('Josef Rod', 1931), ('Jana Bežáková', 1926), ('Jakub Kynčl', 1916), ('Eliška Gáfriková', 1901), ('Jaroslav Plašil', 1896), ('Miroslav Jilemnický', 1893), ('Jan Braun', 1891), ('Jiří Nagy', 1854), ('Božena Šopejstalová', 1845), ('Petr Nový', 1842), ('Jan Buriánek', 1837), ('Robert Mikoláš', 1835), ('Honza Srp', 1821), ('Ivan Němeček', 1811), ('Radek Halva', 1787), ('Katka Brezovská', 1780), ('Václava Simeonová', 1778), ('Roman Všetečka', 1775)]\n"
     ]
    }
   ],
   "source": []
  },
  {
   "cell_type": "code",
   "execution_count": null,
   "metadata": {},
   "outputs": [
    {
     "name": "stdout",
     "output_type": "stream",
     "text": [
      "Collecting package metadata (current_repodata.json): done\n",
      "Solving environment: done\n",
      "\n",
      "## Package Plan ##\n",
      "\n",
      "  environment location: /home/kydliceh/.conda/envs/NLP\n",
      "\n",
      "  added / updated specs:\n",
      "    - ipython\n",
      "    - ipywidgets\n",
      "\n",
      "\n",
      "The following packages will be downloaded:\n",
      "\n",
      "    package                    |            build\n",
      "    ---------------------------|-----------------\n",
      "    ipython-8.6.0              |     pyh41d4057_1         559 KB  conda-forge\n",
      "    ------------------------------------------------------------\n",
      "                                           Total:         559 KB\n",
      "\n",
      "The following packages will be UPDATED:\n",
      "\n",
      "  ipython            pkgs/main/linux-64::ipython-8.4.0-py3~ --> conda-forge/noarch::ipython-8.6.0-pyh41d4057_1\n",
      "\n",
      "\n",
      "\n",
      "Downloading and Extracting Packages\n",
      "ipython-8.6.0        | 559 KB    | ##################################### | 100% \n",
      "Preparing transaction: done\n",
      "Verifying transaction: done\n",
      "Executing transaction: done\n"
     ]
    }
   ],
   "source": [
    "!conda install -y -c conda-forge ipywidgets ipython"
   ]
  },
  {
   "cell_type": "code",
   "execution_count": null,
   "metadata": {},
   "outputs": [],
   "source": [
    "from ipywidgets import interact, interactive, fixed, interact_manual\n",
    "from IPython.display import display"
   ]
  },
  {
   "cell_type": "code",
   "execution_count": null,
   "metadata": {},
   "outputs": [
    {
     "data": {
      "application/vnd.jupyter.widget-view+json": {
       "model_id": "ae5f81d333cc4cf6a25f07edee214d1b",
       "version_major": 2,
       "version_minor": 0
      },
      "text/plain": [
       "interactive(children=(Dropdown(description='mode', options=('explore', 'best_authors'), value='explore'), Drop…"
      ]
     },
     "metadata": {},
     "output_type": "display_data"
    }
   ],
   "source": [
    "from dataclasses import dataclass\n",
    "possible_files = [None] + [x for x  in author_folder.iterdir() if x.is_file()]\n",
    "modes = [\"explore\", \"best_authors\"]\n",
    "\n",
    "class CachedData:\n",
    "    def __init__(self, file: Path | None):\n",
    "        self.file = file\n",
    "        self.df = None\n",
    "        if file != None:\n",
    "            self.df = create_df(file)\n",
    "\n",
    "    def update(self, file: Path):\n",
    "        if file != self.file and file != None:\n",
    "            self.df = create_df(file)\n",
    "\n",
    "cached_df = CachedData(None)\n",
    "\n",
    "def best_x_authors(file, num):\n",
    "    auths = get_unique_authors(file)\n",
    "    sorted_auths = sorted(auths.items(), key=lambda x: x[1], reverse=True)\n",
    "    print(f\"Total authors: {len(sorted_auths)}\")\n",
    "    print(f\"Top {num} authors: \")\n",
    "    for i in range(num):\n",
    "        print(sorted_auths[i])\n",
    "\n",
    "\n",
    "def interact_main(mode, file):\n",
    "    if file == None:\n",
    "        return\n",
    "\n",
    "    if mode == \"best_authors\":\n",
    "        best_x_authors(file, 100)\n",
    "\n",
    "    if mode == \"explore\":\n",
    "        cached_df.update(file)\n",
    "        df = cached_df.df\n",
    "        create_exploratory_plots(df)\n",
    "\n",
    "\n",
    "interactive_plot = interactive(interact_main, mode=modes, file=possible_files)\n",
    "display(interactive_plot)\n"
   ]
  },
  {
   "cell_type": "code",
   "execution_count": null,
   "metadata": {},
   "outputs": [],
   "source": [
    "min_length =show_outliers(create_df(author_folder / \"seznamzpravy.json\"), \"article length\", 50)"
   ]
  },
  {
   "cell_type": "code",
   "execution_count": null,
   "metadata": {},
   "outputs": [
    {
     "name": "stdout",
     "output_type": "stream",
     "text": [
      "[{'author': ['Daniela Kučerová', 'Tomáš Trněný'], 'brief': 'Koronavirem se ve světě nakazilo více než 4,5 milionu lidí, z nichž 302 tisíc nákaze podlehlo. Přes 1,7 milionu lidí se uzdravilo. Nejhorší čísla dosud hlásí Spojené státy. Situaci ve světě sledujeme online.', 'category': 'Svět', 'comments_num': None, 'content': 'Vývoj dění ve světě jsme sledovali i včera:', 'headline': 'Brazílie má přes 200 000 nakažených, ministr zdravotnictví rezignoval', 'keywords': [], 'publication_date': '2020-05-15 04:33:06', 'url': 'https://www.seznamzpravy.cz/clanek/cina-mesic-nenahlasila-jedine-umrti-trump-si-s-ni-nechce-povidat-105899'}, {'author': ['Marek Vošahlík'], 'brief': 'Miliony lidí se přesunuly z kanceláří domů a síť čelí obrovskému zatížení. A těží z toho ty společnosti, které nabízejí cloudové služby, kancelářské balíky a komunikační nástroje - zkrátka jedním z velkých vítězů je Microsoft.', 'category': 'Byznys', 'comments_num': None, 'content': 'Microsoft hlásí rekordní čísla\\nDaří se i Slacku', 'headline': 'Miliony hodin konferencí. Práce z domova tlačí na komunikační platformy', 'keywords': [], 'publication_date': '2020-03-30 15:45:34', 'url': 'https://www.seznamzpravy.cz/clanek/miliony-hodin-konferenci-prace-z-domova-tlaci-na-komunikacni-platformy-96766'}, {'author': ['Petr Švihel'], 'brief': 'Město Rotava se snaží odkupovat volné byty. Nechce je nechat obchodníkům s chudobou.', 'category': None, 'comments_num': None, 'content': 'Jednoduchý recept neexistuje\\nPoloprázdná škola', 'headline': 'Více než deset bytů za dva a půl milionu korun. Rotava má plán na obchodníky s chudobou', 'keywords': [], 'publication_date': '2019-02-12 16:17:05', 'url': 'https://www.seznamzpravy.cz/clanek/vice-nez-deset-bytu-za-dva-a-pul-milionu-korun-rotava-ma-plan-na-obchodniky-s-chudobou-65987'}, {'author': ['Radek Nohl'], 'brief': 'Policejní vyšetřovatelé prvně dohledali, jak tekly peníze za prodej obrovských projektů solárních elektráren na severu Čech. Tři firmy i s pozemky prodal podnikatel Martina Shenara firmě ČEZ. Jenže podstatná část peněz neskončila u něj, ale odtekla do Švýcarska.', 'category': 'Večerní zprávy', 'comments_num': None, 'content': 'Jak se rozdělovaly peníze\\nTajemný advokát Delco', 'headline': 'Peníze z největšího solárního byznysu objevila policie ve Švýcarsku', 'keywords': [], 'publication_date': '2017-06-27 16:00:00', 'url': 'https://www.seznamzpravy.cz/clanek/penize-z-nejvetsiho-solarniho-byznysu-objevila-policie-ve-svycarsku-33583'}, {'author': ['Filip Karban'], 'brief': 'Fakultní nemocnice v Motole se definitivně rozhodla experimentální lék Zolgensma malému Oliverovi, který trpí svalovou atrofií, nepodat. Riziko je podle nich příliš velké. Rodina už si vyjednává pomoc v zahraniční.', 'category': None, 'comments_num': None, 'content': 'Spor by mohl uškodit dalším dětem\\nKomunikační šum', 'headline': 'Malý Oliver vzácný lék nedostal. „Neútočte na Motol,“ vzkazují jeho rodiče', 'keywords': [], 'publication_date': '2020-07-07 18:14:35', 'url': 'https://www.seznamzpravy.cz/clanek/maly-oliver-vzacny-lek-nedostal-neutocte-na-motol-vzkazuji-jeho-rodice-111727'}, {'author': ['Petr Švihel'], 'brief': 'Ubytovat normálně hosty, kteří přijeli za rekreací, nemohou. Tak se v Aparthotelu Svatý Vavřinec rozhodli nabízet pobyty jako pracovní cesty.', 'category': 'Byznys', 'comments_num': None, 'content': 'Bezpečnější než cestovat do práce v tramvaji', 'headline': 'Nápad z Krkonoš. Hoteliér zve hosty na vánoční lyžování, ale jako služební cestu', 'keywords': [], 'publication_date': '2020-12-15 19:07:06', 'url': 'https://www.seznamzpravy.cz/clanek/finta-z-krkonos-hotelier-zve-hosty-na-vanocni-lyzovani-ale-jako-sluzebni-cestu-133892'}, {'author': ['Milan Šíma'], 'brief': 'Pořad Svět bez obalu můžete sledovat v premiéře na Televizi Seznam každý čtvrtek od 21:00.', 'category': 'Video', 'comments_num': None, 'content': 'Jak naladit Televizi Seznam? Praktický návod zde.', 'headline': 'Brexit se znovu posouvá. Ukrajinští vojáci vytvořili kopii trůnu ze Hry o trůny. Sledujte nový díl Světa bez obalu', 'keywords': [], 'publication_date': '2019-04-18 19:00:05', 'url': 'https://www.seznamzpravy.cz/clanek/brexit-se-znovu-posouva-ukrajinsti-vojaci-vytvorili-kopii-trunu-ze-hry-o-truny-sledujte-novy-dil-sveta-bez-obalu-70653'}, {'author': ['Vojtěch Blažek'], 'brief': 'Robert Baxa byl zodpovědný za miliardové zakázky na ministerstvu práce v éře Michaely Marksové z ČSSD. Část z nich vyšetřuje policie, další označil Nejvyšší kontrolní úřad za plýtvání.', 'category': None, 'comments_num': None, 'content': 'Malá domů pro bratra?\\nKolem krouží detektivové', 'headline': 'Bývalý ministerský náměstek nastoupil do firmy, která v jeho éře dostala zakázky za stamiliony', 'keywords': [], 'publication_date': '2019-07-12 07:00:00', 'url': 'https://www.seznamzpravy.cz/clanek/byvaly-ministersky-namestek-nastoupil-do-firmy-ktera-v-jeho-ere-dostala-zakazky-za-stamiliony-75744?dop-ab-variant=9&seq-no=3&source=hp'}, {'author': ['Valérie Dvořáková'], 'brief': 'Požár vypukl v domě v pařížské Auteuilově ulici v pondělí přibližně hodinu po půlnoci. S ohněm bojovalo na 200 hasičů, evakuovali zhruba 50 obyvatel budovy. Podle vyšetřovatelů mohla mít příčina neštěstí kriminální pozadí.', 'category': None, 'comments_num': None, 'content': 'Opilá žena před budovou zapalovala popelnici', 'headline': 'Paříž se dnes probudila do nejhoršího požáru za posledních 14 let', 'keywords': [], 'publication_date': '2019-02-05 06:14:38', 'url': 'https://www.seznamzpravy.cz/clanek/pozar-osmipatrove-budovy-v-parizi-si-vyzadal-nejmene-7-obeti-a-30-zranenych-65611?autoplay=1'}, {'author': ['Tomáš Svoboda'], 'brief': 'Viníkovi ekologické havárie na Bečvě, po níž uhynulo 40 tun ryb, hrozí podle ministra životního prostředí až osm let vězení.', 'category': 'Domácí', 'comments_num': None, 'content': 'Nafackoval bych si\\nMusíme revidovat postupy úřadů', 'headline': 'Nevím, jestli se DEZA kvůli Bečvě vyšetřuje. Nejsem podvodník, řekl Brabec', 'keywords': [], 'publication_date': '2020-11-13 15:52:52', 'url': 'https://www.seznamzpravy.cz/clanek/nevim-jestli-se-deza-kvuli-becve-vysetruje-nejsem-podvodnik-rekl-brabec-129485'}, {'author': ['Jindřich Šídlo'], 'brief': 'Byl to náš nejlepší nápad, dostali jsme ho, když jsme stáli ve frontě na Krause – a my nesnášíme čekání. Se Seznamem nemáme nic společného. Nebo jste snad už někdy slyšeli ajťáka říct vtip?', 'category': 'Video', 'comments_num': None, 'content': 'Další díl satirického pořadu Jindřicha Šídla.', 'headline': 'I my máme svoje Šťastné hnízdo. Díky dotacím EU pro malé a střední vtipy. Děkujeme, Marie', 'keywords': ['Kovy', 'Krym', 'Seznam', 'Dotace', 'Jiří Kubík', 'Jan Kraus', 'Čapí hnízdo', 'Janek Rubeš', 'Šťastné pondělí - ranní verze'], 'publication_date': '2019-09-23 08:01:40', 'url': 'https://www.seznamzpravy.cz/clanek/i-my-mame-svoje-stastne-hnizdo-diky-dotacim-eu-pro-male-a-stredni-vtipy-dekujeme-marie-79293'}, {'author': ['Adam Frolík'], 'brief': 'Americké ministerstvo obchodu dnes oznámilo, že prezident Trump zablokuje aplikaci TikTok. Oznámení zpochybnilo naději na kompromisní dohodu se společností Oracle, ByteDance a Trumpovou administrativou.', 'category': 'Byznys', 'comments_num': None, 'content': 'Nejen Trumpovo schválení\\nZápis na americkou burzu', 'headline': 'Konec kauzy TikTok? Trump chce aplikaci zakázat', 'keywords': [], 'publication_date': '2020-09-18 14:31:30', 'url': 'https://www.seznamzpravy.cz/clanek/konec-kauzy-tiktok-trump-chce-aplikaci-zakazat-120441'}, {'author': ['Barbora Nováková'], 'brief': 'Závěry expertů z Organizace spojených národů a dvou nezávislých analytiků z neziskovky C4ADS ukazují na to, že Severní Korea tajně těží, pašuje a prodává písek. Země by tím přímo porušovala sankce, které na ni uvalila OSN.', 'category': None, 'comments_num': None, 'content': 'Skládání střípků\\nKLDR mlčí a Čína vše popírá', 'headline': 'KLDR zase porušuje pravidla. Tajně prodává písek a vydělává miliony', 'keywords': [], 'publication_date': '2020-06-11 04:00:38', 'url': 'https://www.seznamzpravy.cz/clanek/kldr-zase-porusuje-pravidla-tajne-prodava-pisek-a-vydelava-miliony-109090'}, {'author': ['Vojtěch Gavriněv'], 'brief': 'Takzvaná studie kolektivní imunity má odpovědět na otázku, kolik lidí už se setkalo s infekcí covid-19. Prozradí to test na protilátky, které si člověk automaticky vytvoří a jež zůstanou v těle i po odeznění nemoci.', 'category': 'Koronavirus', 'comments_num': None, 'content': 'Jak to bude vypadat\\nCo dělat, když mi zavolají?', 'headline': 'Ve čtvrtek začne velký test pro 27 tisíc Čechů. V Praze očekávají fronty dobrovolníků', 'keywords': [], 'publication_date': '2020-04-21 12:06:30', 'url': 'https://www.seznamzpravy.cz/clanek/ve-ctvrtek-zacne-velky-test-pro-27-tisic-cechu-v-praze-ocekavaji-fronty-dobrovolniku-101487'}, {'author': ['Daryna Dziuba'], 'brief': 'Pomůžeme jim, zatímco oni pomáhají ostatním. Toto je heslo mnoha ruských dobrovolníků, kteří se shromažďují, aby vyslovili vděčnost a podporu zdravotníkům v těžkých časech.', 'category': None, 'comments_num': None, 'content': 'Prémie? Ne všichni splňují kritéria\\n#hrdinové', 'headline': 'A jste v korona týmu? Putinem slíbené odměny pro lékaře se zadrhly', 'keywords': [], 'publication_date': '2020-05-26 04:30:00', 'url': 'https://www.seznamzpravy.cz/clanek/moskva-zije-diky-lekarum-jak-dobrovolnici-pomahaji-zdravotnikum-107455'}, {'author': ['Vojtěch Gavriněv'], 'brief': 'Mezinárodní porota vybrala vítěze Fotografie roku soutěže Czech Press Photo, kterého oznámí v pátek večer. Tomki Němec, Jan Šibík, Milan Jaroš a další slavní fotografové se nezúčastnili na protest proti úrovni soutěže a loňském kontroverzním vítězství Lukáše Zemana.', 'category': None, 'comments_num': None, 'content': 'Jednotlivé snímky si prohlédněte v galerii:', 'headline': 'Tohle jsou finalisté Czech Press Photo, řada fotografů soutěž letos bojkotovala', 'keywords': [], 'publication_date': '2019-11-21 14:21:54', 'url': 'https://www.seznamzpravy.cz/clanek/tohle-jsou-finaliste-czech-press-photo-rada-fotografu-soutez-letos-bojkotovala-83228'}, {'author': ['Vojtěch Blažek'], 'brief': 'Zabavení počítače bude řešit soud. Stížnost na exekutora zatím nepomohla.', 'category': 'Koronavirus', 'comments_num': None, 'content': 'Exekutor: Musím mlčet\\nŽaloba už leží na soudu', 'headline': 'Exekutor zrušil dětem výuku, říká dlužník. Za lockdownu zabavil počítač', 'keywords': [], 'publication_date': '2021-01-09 05:30:51', 'url': 'https://www.seznamzpravy.cz/clanek/exekutor-zrusil-detem-vyuku-rika-dluznik-za-lockdownu-zabavil-pocitac-136066'}, {'author': ['Daniela Kučerová'], 'brief': 'Zatímco genocida muslimů v Číně islámským zemím zjevně nevadí, karikatury proroka Mohameda zaručeně vyvolají hysterii a pálení vlajek. Po vraždě francouzského učitele volají státy v čele s Tureckem po bojkotu francouzského zboží.', 'category': 'Svět', 'comments_num': None, 'content': 'Francie se nevzdá\\nStejně jako Židé za války', 'headline': 'Hysterie po vraždě francouzského učitele. Muslimové se bouří', 'keywords': [], 'publication_date': '2020-10-27 15:56:24', 'url': 'https://www.seznamzpravy.cz/clanek/hysterie-po-vrazde-francouzskeho-ucitele-muslimove-se-bouri-126367'}, {'author': ['Jan Marek'], 'brief': 'Největší bateriové úložiště v České republice je v Plané nad Lužnicí na Táborsku. Otevřel ho tam Siemens pro teplárenskou společnost C-Energy Planá.', 'category': None, 'comments_num': None, 'content': 'Závod o největší bateriové úložiště na světě', 'headline': 'V Česku bylo otevřeno největší bateriové úložiště. Jedné domácnosti by dodalo proud na celý rok', 'keywords': [], 'publication_date': '2019-09-20 12:01:00', 'url': 'https://www.seznamzpravy.cz/clanek/v-cesku-bylo-otevreno-nejvetsi-bateriove-uloziste-jedne-domacnosti-by-dodalo-proud-na-cely-rok-79197'}, {'author': ['Vojtěch Blažek'], 'brief': 'Když nebudeme mít nové sídlo, hrozí úřadu kolaps, tvrdil někdejší předseda antimonopolního úřadu v roce 2015. Já bych si to nepořídil, říká nyní jeho nástupce Petr Mlsna.', 'category': 'Domácí', 'comments_num': None, 'content': 'Byt bude pro hosty\\nPorušil zákon, trest nepřišel', 'headline': 'Po Rafajovi zůstal pomník: vila za 23 milionů a v ní deset úředníků', 'keywords': [], 'publication_date': '2021-03-01 10:05:55', 'url': 'https://www.seznamzpravy.cz/clanek/po-rafajovi-zustal-pomnik-vila-za-23-milionu-a-v-ni-deset-uredniku-143626'}, {'author': ['Milan Šíma'], 'brief': 'Pořad Svět bez obalu můžete sledovat v premiéře na Televizi Seznam každý čtvrtek od 21:00.', 'category': 'Video', 'comments_num': None, 'content': 'Jak naladit Televizi Seznam? Praktický návod zde.', 'headline': 'Likvidátoři reagují na seriál HBO Černobyl. Situace v Libyi pohledem válečné reportérky. A světový šampionát ve středověkém boji', 'keywords': [], 'publication_date': '2019-06-13 19:00:00', 'url': 'https://www.seznamzpravy.cz/clanek/likvidatori-reaguji-na-serial-hbo-cernobyl-situace-v-libyi-pohledem-valecne-reporterky-a-svetovy-sampionat-ve-stredovekem-boji-74125'}, {'author': ['Petra Krmelová'], 'brief': 'Reportáž z výroby v Ryoru, tuzemské jedničce ve výrobě pěsticí kosmetiky.', 'category': None, 'comments_num': None, 'content': 'Tvrdé zátěžové testy\\nTrendy se selským rozumem', 'headline': 'Jak se vaří krém? V české kosmetické jedničce jsou věrni chemii, bio je zakázané slovo', 'keywords': [], 'publication_date': '2019-09-23 09:00:00', 'url': 'https://www.seznamzpravy.cz/clanek/jak-se-vari-krem-v-ceske-kosmeticke-jednicce-jsou-verni-chemii-bio-je-zakazane-slovo-79027'}, {'author': ['Zuzana Hodková'], 'brief': 'Jak u dětí zvýšit zájem o technické vzdělávání a řemesla a připravit je na nástup Průmyslu 4.0? V základní škole Neštěmická v Ústí nad Labem se za katedru postavil robot. Jmenuje se Ruby, měří 120 cm, učí matematiku a děti ho milují.', 'category': None, 'comments_num': None, 'content': 'Mluví a pozná emoce\\nRobot v pilotním programu', 'headline': 'Digitální revoluce. V základní škole se za katedru postavil robot', 'keywords': [], 'publication_date': '2019-11-26 08:00:00', 'url': 'https://www.seznamzpravy.cz/clanek/digitalni-revoluce-za-katedru-zakladni-skoly-se-postavil-robot-83411'}, {'author': ['Lukáš Marek'], 'brief': 'Britský ministr vnitra v pátek varoval, že hodlá zabránit Britům, kteří odešli na Blízký východ a přidali se tam k teroristickým organizacím, v návratu do země. V rozhovoru poskytnutém listu The Times tak reagoval na debatu, kterou vyvolal případ těhotné Britky Shamimy Begumové. Ta odešla do Sýrie v roce 2015 v 15 letech a připojila se k organizaci Islámský stát (IS). Nyní se chce vrátit do vlasti.', 'category': None, 'comments_num': None, 'content': 'Useknuté hlavy v popelnicích Begumovou nešokovaly', 'headline': 'O návrat džihádistů nestojíme, vzkázal britský ministr vnitra islamistce z Londýna', 'keywords': [], 'publication_date': '2019-02-15 17:43:39', 'url': 'https://www.seznamzpravy.cz/clanek/o-navrat-dzihadistu-nestojime-vzkazal-britsky-ministr-vnitra-islamistce-z-londyna-66246'}, {'author': ['Zuzana Kubátová'], 'brief': 'Továrna BioVis z Ústí nad Labem vstupuje na trh s novou generací biopaliv vyráběných z odpadu. Svou bionaftu z použitých fritovacích olejů nabízí Čepru a Unipetrolu. Aby u nich mohl nový produkt alespoň zčásti nahradit bionaftu z řepky olejky – takzvané MEŘO – musela by se ale změnit česká norma. Ta zatím s tzv. biopalivy 2. generace nepočítá.', 'category': 'Byznys', 'comments_num': None, 'content': 'Vyšší cena, méně emisí\\nZ čeho těží Agrofert?', 'headline': 'Nahradí pokročilá biopaliva problematickou bionaftu z řepky? Na to se musí změnit legislativa, říká Plachý', 'keywords': [], 'publication_date': '2019-05-24 08:20:00', 'url': 'https://www.seznamzpravy.cz/clanek/nahradi-pokrocila-biopaliva-problematickou-bionafty-z-repky-na-to-se-musi-zmenit-legislativa-rika-plachy-72219'}, {'author': ['Filip Harzer'], 'brief': 'Kybernetický útok na rezervační systém načas paralyzoval očkování proti covidu-19 v německé spolkové zemi Durynsko. Útoky na podobné systémy se nedají vyloučit ani v dalších zemích, včetně Česka.', 'category': 'Koronavirus', 'comments_num': None, 'content': 'Durynsko na chvostu\\nJak je na tom český systém?', 'headline': 'Kyberútok na systém. Očkování v Durynsku nabralo zpoždění', 'keywords': [], 'publication_date': '2021-01-08 11:30:00', 'url': 'https://www.seznamzpravy.cz/clanek/kyberutok-na-system-ockovani-v-durynsku-nabralo-zpozdeni-136712'}, {'author': ['Marek Martinovský'], 'brief': 'Prezident Spojených států amerických Donald Trump opět nešetřil kritikou vůči tradičním americkým médiím.', 'category': None, 'comments_num': None, 'content': 'Světový hrdina\\nNejlepší výsledky za 500 dní', 'headline': 'Falešná média zradila. Podle „světového hrdiny“ Trumpa špatně informovala o summitu s Kimem', 'keywords': [], 'publication_date': '2018-06-25 13:00:00', 'url': 'https://www.seznamzpravy.cz/clanek/falesna-media-zradila-podle-svetoveho-hrdiny-trumpa-spatne-informovala-o-summitu-s-kimem-50099'}, {'author': ['Jiří Hošek'], 'brief': 'Jeho jméno možná neznají ani někteří příznivci červenobílých. Pracoval už ale i s Tomáši Vaclíkem a Koubkem a z Martina Dúbravky udělal gólmana pro Premier League. Teď je Štěpán Kolář podepsaný pod prudkým kariérním růstem slávistické jedničky Ondřeje Koláře.', 'category': 'Sport', 'comments_num': None, 'content': '„Vidět” fotbal je pro brankáře víc než hra nohama', 'headline': 'Slavia není jen Trpišovský. Ale i Kolář, co trénuje Koláře, brankářskou hvězdu červenobílých', 'keywords': [], 'publication_date': '2019-09-24 13:12:49', 'url': 'https://www.seznamzpravy.cz/clanek/slavia-neni-jen-trpisovsky-ale-i-kolar-co-trenuje-kolare-brankarskou-hvezdu-cervenobilych-79348'}, {'author': ['Silvie Friedmannová'], 'brief': 'S návratem dětí do škol vzrostly prodeje dětských roušek a respirátorů ve specializovaných obchodech až o tisíc procent. Rodiče neváhají za roušky s motivem utratit i tisíce korun.', 'category': 'Byznys', 'comments_num': None, 'content': 'Rodiče neváhají připlatit za design pro děti', 'headline': 'Dětská rouška je nejžádanější zboží dneška. Prodeje rostou o stovky procent', 'keywords': [], 'publication_date': '2021-04-16 12:18:00', 'url': 'https://www.seznamzpravy.cz/clanek/detska-rouska-je-nejzadanejsi-zbozi-dneska-prodeje-rostou-o-stovky-procent-150871'}, {'author': ['Lukáš Marek'], 'brief': 'Češi kontrolují svoje mobilní telefony v práci stále častěji, průměrně každých 18 minut. Loni byl interval o tři minuty delší. Vyplývá to z analýzy společnosti truconneXion.', 'category': None, 'comments_num': None, 'content': 'Od práce rozptylují především chytré telefony', 'headline': 'Češi kontrolují mobil v práci každých 18 minut. Lákají je sociální sítě i komunikační aplikace', 'keywords': [], 'publication_date': '2017-10-18 12:40:00', 'url': 'https://www.seznamzpravy.cz/clanek/cesi-kontroluji-mobil-v-praci-kazdych-18-minut-lakaji-je-socialni-site-i-komunikacni-aplikace-38612'}, {'author': ['Zuzana Lachnitová'], 'brief': 'Tisíce migrantů mířící na hranice Mexika a Spojených států čelí větší hrozbě než samotné cestě. Přestože vědí, že o ně americký prezident nestojí, nevzdávají se naděje. Spojené státy vnímají jako bezpečný svět oproti svým domovinám, ve kterých bují korupce, píše The Guardian.', 'category': 'Svět', 'comments_num': None, 'content': 'Pryč od gangů\\nPolévka pro několik tisíc lidí', 'headline': 'Utíkají před gangy, Trump jim vstříc poslal armádu. Kdo putuje v karavaně do USA?', 'keywords': [], 'publication_date': '2018-11-02 21:22:47', 'url': 'https://www.seznamzpravy.cz/clanek/utikaji-pred-gangy-trump-jim-vstric-poslal-armadu-kdo-putuje-v-karavane-do-usa-59606?utm_source=Seznamzpravy_static&utm_campaign=Doporucene_pod_clankem&utm_medium=variantaE&utm_content=4&dop-ab-variant=1'}, {'author': ['Zuzana Kubátová'], 'brief': 'Na trh s nájemním bydlením začínají v České republice vstupovat velcí hráči. Většina developerských firem začíná chystat projekty bytových domů, které by se nerozprodávaly po jednotlivých bytech do osobního vlastnictví, ale které by celé byly určeny k pronájmu.', 'category': None, 'comments_num': None, 'content': 'Nájemní domy v Praze i Brně\\nDružstva v menšině', 'headline': 'Jak funguje novodobý činžák? Hotelový komfort, ale nájem šedesátimetrového bytu za 30 tisíc', 'keywords': [], 'publication_date': '2019-04-08 07:25:00', 'url': 'https://www.seznamzpravy.cz/clanek/jak-funguje-novodoby-cinzak-hotelovy-komfort-ale-najem-padesatimetroveho-bytu-za-30-tisic-69780?seq-no=2&dop-ab-variant=&source=clanky-home'}, {'author': ['Jiří Kubík'], 'brief': 'Překvapilo mě, jak tvrdé a nekompromisní měl životní postoje, říká Viktor Zavadil. Jaký je pohled dnešní mladé generace na události, které měly před 50 lety vyburcovat českou společnost?', 'category': None, 'comments_num': None, 'content': 'Pořád to ve mně doznívá\\nKvůli roli zhubl 16 kilo', 'headline': '„Palachův čin pochopit nedokážu.“ Jak filmová role národní ikony ovlivnila mladého herce', 'keywords': [], 'publication_date': '2019-01-16 15:56:19', 'url': 'https://www.seznamzpravy.cz/clanek/palachuv-cin-pochopit-nedokazu-jak-filmova-role-narodni-ikony-ovlivnila-mladeho-herce-64313'}, {'author': ['Karolína Štuková', 'Jan Marek'], 'brief': 'Švédský nábytkářský řetězec sice otevřel v Československu až po revoluci, ale s výrobci za železnou oponou spolupracoval celá desetiletí.', 'category': 'Byznys', 'comments_num': None, 'content': 'Česko vyrábí švédský nábytek\\nPrvní obchod v Česku', 'headline': '70 let severského designu. Proč Češi a IKEA patří k sobě?', 'keywords': [], 'publication_date': '2020-09-13 04:13:58', 'url': 'https://www.seznamzpravy.cz/clanek/70-let-severskeho-designu-v-jednom-videu-proc-cesi-a-ikea-patri-k-sobe-118632'}, {'author': ['Eva Moniová'], 'brief': 'Ceny, za něž se prodávají tuzemské nemovitosti, ne vždy odpovídají cenám, na které si konkrétní byt nebo dům cení hypoteční banka. Pokud neseženou peníze jinde, mohou kupující přijít o zálohu za rezervaci nemovitosti.', 'category': 'Byznys', 'comments_num': None, 'content': 'Rezervační poplatek nemá být ve výši provize', 'headline': 'Kupovat bydlení na hypotéku je teď zrádné. Statisíce mizí kvůli ničemu', 'keywords': [], 'publication_date': '2020-10-06 05:12:00', 'url': 'https://www.seznamzpravy.cz/clanek/kupovat-bydleni-na-hypoteku-je-ted-zradne-statisice-mizi-kvuli-nicemu-122308'}, {'author': ['Ondřej Koutník'], 'brief': 'Býval komunální hvězdou, neměl daleko k funkci ve vládě. V poslední době však Petr Vokřál učinil sérii politicky chybných kroků, které ho dovedly až ke dveřím z hnutí ANO.', 'category': None, 'comments_num': None, 'content': 'Premiér na výjezdu\\nGumová kritika\\nProhra v Brně', 'headline': 'Za kulisy pádu tváře Babišova ANO: Vokřálův odchod znervóznil celé hnutí', 'keywords': [], 'publication_date': '2020-06-02 12:06:55', 'url': 'https://www.seznamzpravy.cz/clanek/za-kulisy-padu-tvare-babisova-ano-vokraluv-odchod-znervoznil-cele-hnuti-108270'}, {'author': ['Filip Harzer'], 'brief': 'Slovensko je v názoru na očkování proti covid-19 výrazně geograficky rozdělené, ukazují data. Bratislavští politici proto uspěli s návrhem stahovat nevyužité kapacity z regionů do hlavního města.', 'category': 'Svět', 'comments_num': None, 'content': 'Šedesátinásobný rozdíl\\nMinistr volání vyslyšel', 'headline': 'Slovensko přesouvá vakcíny na západ, chce zastavit očkovací turistiku', 'keywords': [], 'publication_date': '2021-04-23 16:10:49', 'url': 'https://www.seznamzpravy.cz/clanek/slovensko-presouva-vakciny-na-zapad-chce-zastavit-ockovaci-turistiku-151931'}, {'author': ['Michal Komárek'], 'brief': 'Před 64 lety, 3. listopadu 1957, odstartovala z kosmodromu Bajkonur sovětská družice Sputnik 2. Vynesla poprvé na oběžnou dráhu živého tvora. Fenku Lajku, u níž se nepočítalo s návratem. Lajčiny následovnice měly lepší osud.', 'category': 'Magazín', 'comments_num': None, 'content': 'Příběh Lajky jsme detailně popsali v tomto textu:', 'headline': 'Fotky: Lajka, Belka a Strelka. Tak se psal příběh čtyřnohých kosmonautů', 'keywords': ['Lajka', 'Pes', 'Sputnik', 'Vesmír'], 'publication_date': '2021-11-03 16:25:00', 'url': 'https://www.seznamzpravy.cz/clanek/fotky-lajka-belka-a-strelka-tak-se-psal-pribeh-ctyrnohych-kosmonautu-179509'}, {'author': ['Karolína Štuková'], 'brief': 'Agentura Bloomberg zveřejnila odhady, že v druhé polovině roku 2020 dojde k poklesu celosvětové ekonomiky o čtyři procenta. Analýzu pro Seznam Zprávy okomentoval hlavní ekonom UniCredit Bank Pavel Sobíšek.', 'category': None, 'comments_num': None, 'content': 'Alespoň nějaká dobrá zpráva\\nČesko má ještě naději', 'headline': 'Ekonom: Česko má šanci na úspěšný restart, nezaměstnanost ale poroste', 'keywords': [], 'publication_date': '2020-04-28 14:43:00', 'url': 'https://www.seznamzpravy.cz/clanek/ekonom-cesko-ma-sanci-na-uspesny-restart-nezamestnanost-ale-poroste-102959'}, {'author': ['Eva Moniová'], 'brief': 'Spotřebitelé, kteří se cítí poškozeni praktikami různých prodejců, nemusejí čekat na uzákonění institutu hromadných žalob. Podle poslance KDU-ČSL Jana Bartoška stačí žalovat nekalosoutěžní jednání. Politik připravuje příslušnou novelizaci občanského zákoníku, která by tuto možnost ještě zatraktivnila. Lidé z praxe ale jeho nadšení mírní.', 'category': None, 'comments_num': None, 'content': 'Žaloba peníze lidem nevrátí, namítají odborníci', 'headline': 'Obrana proti šmejdům existuje. Ale lidé ji nevyužívají', 'keywords': [], 'publication_date': '2019-11-22 14:00:00', 'url': 'https://www.seznamzpravy.cz/clanek/obrana-proti-smejdum-existuje-ale-lide-ji-nevyuzivaji-83134'}, {'author': ['Adam Maršál'], 'brief': 'Bouřky v Jihomoravském kraji si vyžádaly oběti na životech, uvedla záchranná služba kolem 22:45. Zatím ale není jasný počet. Jsou desítky zraněných.', 'category': 'Domácí', 'comments_num': None, 'content': 'Dění na jižní Moravě sledujeme v online přenosu.', 'headline': 'Další záběry ukazují spoušť, kterou na jižní Moravě natropila bouře', 'keywords': [], 'publication_date': '2021-06-24 21:55:00', 'url': 'https://www.seznamzpravy.cz/clanek/dalsi-zabery-ukazuji-spoust-kterou-na-hane-natropila-boure-168183'}, {'author': ['Renáta Matoušková'], 'brief': 'Podle analytiků nadnárodní bankovní instituce HSBC dojde v případě tvrdého brexitu ve Velké Británii k nedostatku potravin. Do Spojeného království se dováží skoro 80 % potravin a surovin ke zpracování. Bez pracovní dohody také odejdou řidiči kamionů, kteří většinou pochází ze střední Evropy – a bez nich se zastaví distribuce. Na brexit bez dohody doplatí i britské univerzity, kterým se sníží příchod zahraničních studentů.', 'category': None, 'comments_num': None, 'content': 'Hrozí, že řidiči se vrátí do střední Evropy', 'headline': 'Tvrdý brexit bude podle analytiků horší, než se čekalo. Může dojít až k potravinové krizi', 'keywords': [], 'publication_date': '2019-01-05 15:06:37', 'url': 'https://www.seznamzpravy.cz/clanek/tvrdy-brexit-bude-podle-analytiku-horsi-nez-se-cekalo-muze-dojit-az-k-potravinove-krizi-63473'}, {'author': ['Eva Soukeníková'], 'brief': 'Spojené státy americké v pondělí oficiálně mohou zahájit proces odstoupení od Pařížské klimatické dohody. Donald Trump odchod předesílá už roky a celý proces bude trvat ještě další rok. Klimatickou dohodu z roku 2016 podepsalo 195 států po celém světě. Má za úkol především synchronizovaný boj s globálním oteplováním a snižováním emisí skleníkových plynů.', 'category': None, 'comments_num': None, 'content': 'Které státy na dohodu dbají a které naopak?', 'headline': 'Dneškem může začít americké odcházení od Pařížské dohody. Nejvíc se ji snaží plnit Maroko a Gambie', 'keywords': [], 'publication_date': '2019-11-04 20:15:14', 'url': 'https://www.seznamzpravy.cz/clanek/dneskem-muze-zacit-americke-odchazeni-od-parizske-dohody-nejvic-se-ji-snazi-plnit-maroko-a-gambie-82153'}, {'author': ['Šárka Kabátová'], 'brief': 'Češi jsou nejtlustší v historii. Dětí nevyjímaje. Nadváhu má každý druhý Čech. Jak vypadá svět, kde je obezita téměř sprosté slovo? Ještě před zavřením posiloven jsme natáčeli o posedlosti cvičením.', 'category': 'Domácí', 'comments_num': None, 'content': 'Honem k činkám\\nJste to, co máte v nákupním košíku', 'headline': '„Genetická zrůda není urážka.“ Sama mezi závislými na svalech', 'keywords': [], 'publication_date': '2020-10-25 14:45:00', 'url': 'https://www.seznamzpravy.cz/clanek/geneticka-zruda-neni-urazka-sama-mezi-zavislymi-na-svalech-125809'}, {'author': ['Tereza Nováková'], 'brief': 'Riziko globálního jaderného konfliktu v posledních letech dramaticky roste, shodují se vědci. Jak by mohla taková válka reálně vypadat, ukázali skrze animaci odborníci z Princetonské univerzity. K zabití nebo zranění více než 90 milionů lidí by stačily tři hodiny.', 'category': 'Svět', 'comments_num': None, 'content': 'Eskalace napětí mezi Ruskem a USA\\nJasné varování', 'headline': '34 milionů mrtvých za pár hodin. Vědci ukázali, jak by vypadala jaderná válka mezi Ruskem a NATO', 'keywords': [], 'publication_date': '2019-09-15 10:57:47', 'url': 'https://www.seznamzpravy.cz/clanek/34-milionu-mrtvych-za-5-hodin-vedci-ukazali-jak-by-vypadala-jaderna-valka-mezi-ruskem-a-nato-78910?dop-ab-variant=13&seq-no=3&source=hp'}, {'author': ['Milan Šíma'], 'brief': 'Když byl vynalezen parní stroj, tak proti němu také protestovali vozkové od koní, reaguje profesor Marek na odstoupení USA od klimatické dohody.', 'category': None, 'comments_num': None, 'content': 'Klaus klimatologii nerozumí, říká český vědec', 'headline': 'Klimatické změny nás i v Česku připraví o vodu, varuje profesor z Akademie věd', 'keywords': [], 'publication_date': '2017-06-12 11:14:00', 'url': 'https://www.seznamzpravy.cz/clanek/klimaticke-zmeny-nas-i-v-cesku-pripravi-o-vodu-varuje-profesor-z-akademie-ved-32822'}, {'author': ['Lukáš Marek'], 'brief': 'V pátek vešla v platnost cla Evropské unie na americké výrobky obsahující ocel a hliník a řadu dalších typicky amerických výrobků, jako je kupříkladu bourbon, motocykly Harley Davidson nebo arašídové máslo.', 'category': None, 'comments_num': None, 'content': 'Z výrobců whisky budou trpět hlavně malé podniky', 'headline': 'Nová cla EU znepokojují výrobce whisky, lepší láhev bude stát o 10 eur více', 'keywords': [], 'publication_date': '2018-06-22 08:30:03', 'url': 'https://www.seznamzpravy.cz/clanek/nova-cla-eu-znepokojuji-vyrobce-whisky-lepsi-lahev-bude-stat-o-10-eur-vice-49873'}, {'author': ['Marek Vošahlík'], 'brief': 'Firma SpaceX již dříve snížila orbitální výšku satelitů, od čehož si slibuje lepší pokrytí a nižší latenci – tedy reakční čas – připojení. Teď má v plánu spustit testování v místech, kde není výraz turbo internet tak známý.', 'category': 'Byznys', 'comments_num': None, 'content': 'Připojení má zelenou\\nZatím pro USA a Kanadu', 'headline': 'Muskův vesmírný internet je zase o krok blíže pozemským uživatelům', 'keywords': [], 'publication_date': '2020-07-17 18:03:11', 'url': 'https://www.seznamzpravy.cz/clanek/muskuv-vesmirny-internet-je-zase-o-krok-blize-pozemskym-uzivatelum-112674'}, {'author': ['Vojtěch Gavriněv'], 'brief': 'Americký bezdomovec Johnny Bobbitt zažaloval pár, který pro něj ve veřejné sbírce vybral v přepočtu téměř devět milionů korun. Podle Bobbitta si dvojice skoro polovinu peněz nechala nakonec pro sebe. Pár se hájí tím, že by muž bez domova peníze utratil za drogy.', 'category': None, 'comments_num': None, 'content': 'Podle páru utratí bezdomovec peníze za drogy', 'headline': 'Bezdomovec zažaloval pár, který pro něj ve veřejné sbírce vybral v přepočtu devět milionů korun', 'keywords': [], 'publication_date': '2018-08-30 04:48:41', 'url': 'https://www.seznamzpravy.cz/clanek/bezdomovec-zazaloval-par-ktery-pro-nej-ve-verejne-sbirce-vybral-v-prepoctu-devet-milionu-korun-54858'}, {'author': ['Vojtěch Veškrna'], 'brief': 'Pražští radní z kraje týdne rozhodli, že odpočinkový cíl mnoha obyvatel Prahy – chráněná přírodní rezervace Prokopské údolí – se rozšíří. Součástí nově bude dosavadní samostatná přírodní památka Opatřilka – Červený lom.', 'category': 'Obrazem', 'comments_num': None, 'content': 'Pojďte se s námi do Prokopského údolí podívat.', 'headline': 'Projděte se s námi Prokopským údolím, rezervace se rozšiřuje', 'keywords': [], 'publication_date': '2020-03-19 08:00:00', 'url': 'https://www.seznamzpravy.cz/clanek/projdete-se-s-nami-prokopskym-udolim-rezervace-se-rozsiruje-93477'}, {'author': ['Adam Ryšánek'], 'brief': 'Podle návrhu zprávy OSN, získaného agenturou AFP, by se lidstvo mělo v příštích několika stoletích připravit na vážný problém s oceány a permafrostem Země, pokud se nezabrání dalšímu znečišťování ovzduší destabilizujícímu mořské prostředí Země.', 'category': 'Svět', 'comments_num': None, 'content': 'Roční škody se zvýší až tisíckrát\\nVelká čtyřka', 'headline': 'Růst hladiny oceánů, superbouře a násobně horší povodně, uniklá zpráva OSN předpovídá katastrofu', 'keywords': [], 'publication_date': '2019-08-29 18:30:00', 'url': 'https://www.seznamzpravy.cz/clanek/rust-hladiny-oceanu-superboure-a-nasobne-horsi-povodne-unikla-zprava-osn-predpovida-katastrofu-78085'}, {'author': ['Adam Ryšánek'], 'brief': 'Nový Zéland se s koronavirem pere statečně. Za poslední den země zaznamenala pouze tři nově nakažené. Výrazně pomalejší šíření infekce je připisováno přísným karanténním opatřením a dodržování sociálního odstupu.', 'category': None, 'comments_num': None, 'content': 'Ardernová: V dodržování opatření nepolevujte', 'headline': 'Nový Zéland vítězí nad koronavirem. Podle premiérky ještě není vyhráno', 'keywords': [], 'publication_date': '2020-04-23 19:15:16', 'url': 'https://www.seznamzpravy.cz/clanek/novy-zeland-vitezi-nad-koronavirem-podle-premierky-jeste-neni-vyhrano-102047'}, {'author': ['Karolína Štuková'], 'brief': 'Datově revoluční podzim pokračuje. O2 od příštího týdne nabídne neomezený datový tarif od 1 099 Kč.', 'category': None, 'comments_num': None, 'content': 'Neomezená data nabízí i konkurenční Vodafone', 'headline': 'O2 přispěchalo s nabídkou datově neomezeného tarifu, hází rukavici T', 'keywords': [], 'publication_date': '2019-09-12 08:52:49', 'url': 'https://www.seznamzpravy.cz/clanek/o2-prispechalo-s-nabidkou-datove-neomezeneho-tarifu-haze-rukavici-t-mobilu-a-vodafonu-78750'}, {'author': ['Jiří Pšenička'], 'brief': 'Podle Michala Bláhy jsou české elektronické dálniční známky promarněnou příležitostí. Oproti papírovým kuponům podle něj totiž nepřinášejí žádnou zásadní změnu a efektivita výběru dálničních poplatků se nezvýší.', 'category': 'Domácí', 'comments_num': None, 'content': 'Nadsazení není výjimečné\\n50 aut a 100 policistů', 'headline': 'Elektronické dálniční známky jsou vyhozené peníze, říká „hlídač státu“', 'keywords': [], 'publication_date': '2020-12-01 13:30:49', 'url': 'https://www.seznamzpravy.cz/clanek/elektronicke-dalnicni-znamky-jsou-vyhozene-penize-rika-hlidac-statu-131945'}, {'author': ['Zuzana Černá'], 'brief': 'Každých 13 vteřin tam zazvoní telefon. Pro operátory to znamená víc než dva a čtvrt milionu odbavených hovorů za rok. I když číslo – alespoň v Česku – rok od roku klesá. Řeč je o tísňové lince 112, která zítra – tedy jedenáctého února – slaví evropský den. Sto dvanáctka sdružuje pomoc hasičů, záchranářů i policistů.', 'category': None, 'comments_num': None, 'content': '112 jako infolinka, cizinci na ní shání i taxi', 'headline': 'Zazvoní každých 13 vteřin. Tísňová linka 112 v Česku pomáhá už 15 let', 'keywords': [], 'publication_date': '2019-02-10 19:28:33', 'url': 'https://www.seznamzpravy.cz/clanek/zazvoni-kazdych-13-vterin-tisnova-linka-112-v-cesku-pomaha-uz-15-let-65932'}, {'author': ['Daryna Dziuba', 'Tereza Ulrychová'], 'brief': 'Premiér Spojeného království Boris Johnson byl podle britských médií převezen do nemocnice. Jeho mluvčí uvedl, že jde o preventivní opatření. Johnson má podstoupit další test, protože u něj i po 10 dnech přetrvaly příznaky.', 'category': None, 'comments_num': None, 'content': 'V Itálii se dál snižují denní nárůsty mrtvých', 'headline': 'Nakaženého Johnsona převezli do nemocnice na testy. Příznaky neustoupily', 'keywords': [], 'publication_date': '2020-04-05 05:40:27', 'url': 'https://www.seznamzpravy.cz/clanek/spojene-staty-se-pripravuji-na-nejtezsi-tydny-98048'}, {'author': ['Adam Ryšánek'], 'brief': 'Počet požárů v brazilské Amazonii byl v červnu oproti předchozímu roku asi o 20 procent vyšší a dosáhl třináctiletého maxima. S odvoláním na data brazilského institutu INPE to napsal server BBC.', 'category': None, 'comments_num': None, 'content': 'Nehoří jen Amazonie\\nBolsonaro kritiku odmítá', 'headline': 'Přichází sezóna požárů. V Amazonii jich v červnu bylo nejvíce za 13 let', 'keywords': [], 'publication_date': '2020-07-07 10:15:11', 'url': 'https://www.seznamzpravy.cz/clanek/prichazi-sezona-pozaru-v-amazonii-jich-v-cervnu-bylo-nejvice-za-13-let-111365'}, {'author': ['Lukáš Marek'], 'brief': 'Bengálským zálivem se prohnal rychlostí jako dosud žádný v historii a brzy má udeřit na Indii a Bangladéš. Milionům lidí zbývají poslední desítky hodin, aby utekly nebo se skryly před supercyklonem Amphan.', 'category': 'Svět', 'comments_num': None, 'content': 'Masivní evakuaci milionů lidí ztěžuje virus', 'headline': 'Epidemie a supercyklon. Indie a Bangladéš zažijí dvě pohromy naráz', 'keywords': [], 'publication_date': '2020-05-19 11:20:05', 'url': 'https://www.seznamzpravy.cz/clanek/epidemie-a-super-cyklon-indie-a-banglades-zaziji-dve-pohromy-naraz-106471'}, {'author': ['Ondřej Koutník', 'Martina Machová'], 'brief': 'Lubomír Zaorálek zůstane ministrem kultury. Ministrem zahraničí se stane Jakub Kulhánek, současný náměstek na Ministerstvu vnitra.', 'category': 'Volby', 'comments_num': None, 'content': 'Na Birkeho nezbylo místo\\nRuština a čínská spojka', 'headline': 'Další veletoč ve vládě. Zaorálek zůstává na kultuře, zahraničí povede Kulhánek', 'keywords': [], 'publication_date': '2021-04-13 19:01:59', 'url': 'https://www.seznamzpravy.cz/clanek/zaoralek-zustane-na-kulture-zahranici-povede-namestek-z-obrany-kulhanek-150582'}, {'author': ['Adam Junek'], 'brief': 'PPF avizovala, že o podmínkách spojení s Monetou nehodlá jednat. A výhrůžky splnila.', 'category': 'Byznys', 'comments_num': None, 'content': 'Těžká chvíle bankéře Spurného\\nProč obchod padl?', 'headline': 'Proč zkrachoval bankovní obchod desetiletí? PPF bez miliardy a Moneta bez nevěsty', 'keywords': [], 'publication_date': '2019-02-28 07:01:37', 'url': 'https://www.seznamzpravy.cz/clanek/proc-zkrachoval-bankovni-obchod-desetileti-ppf-bez-miliardy-a-moneta-bez-nevesty-67074'}, {'author': ['Tomáš Trněný', 'Daryna Dziuba'], 'brief': 'Nemocí covid-19 se ve světě nakazilo přes 3,6 milionu lidí, více než 257 tisíc jich nákaze podlehlo. Nejhůře zasaženou zemí ve světě zůstávají Spojené státy, kde evidují více než milion nakažených. Dění ve světě sledujeme online.', 'category': 'Svět', 'comments_num': None, 'content': 'Vývoj situace ve světě jsme sledovali také včera:', 'headline': 'Čínský diplomat: Vyšetření původu koronaviru WHO musí počkat', 'keywords': [], 'publication_date': '2020-05-06 04:37:28', 'url': 'https://www.seznamzpravy.cz/clanek/v-usa-pribylo-pres-2-tisice-obeti-dvojnasobek-oproti-utery-104305'}, {'author': ['Tomáš Trněný', 'Daryna Dziuba'], 'brief': 'Nemocí covid-19 se ve světě nakazilo přes 3,5 milionu lidí, více než 250 tisíc jich nákaze podlehlo. Nejhůře zasaženou zemí ve světě zůstávají Spojené státy, kde evidují více než milion nakažených. Dění ve světě sledujeme online.', 'category': 'Svět', 'comments_num': None, 'content': 'Vývoj situace ve světě jsme sledovali také včera:', 'headline': 'Čínská viroložka popírá, že by za pandemií stál únik z laboratoře', 'keywords': [], 'publication_date': '2020-05-05 04:27:23', 'url': 'https://www.seznamzpravy.cz/clanek/v-usa-zemrelo-za-den-nejmene-lidi-za-posledni-mesic-104094'}, {'author': ['Zuzana Hodková'], 'brief': 'Zatímco vy si v obchodech prohlížíte aktuální podzimní kolekci, módní návrháři už mají dávno připravenou tu na příští rok. V módní branži se totiž plánuje minimálně rok dopředu.', 'category': None, 'comments_num': None, 'content': 'Od tužky ke střihu\\nZkouška na živém modelovi', 'headline': 'Jak vzniká nová módní kolekce? Největší česká oděvní firma odkryla svá tajemství', 'keywords': [], 'publication_date': '2019-10-06 13:15:00', 'url': 'https://www.seznamzpravy.cz/clanek/jak-vznika-nova-modni-kolekce-nejvetsi-ceska-odevni-firma-odkryla-sva-tajemstvi-80082?utm_source=www.seznam.cz&utm_medium=sekce-z-internetu'}, {'author': ['Lukáš Marek', 'Petr Dvořák'], 'brief': 'První únorový týden bude chladný, ale poslední dva týdny by měly být podle dlouhodobé předpovědi teplotami nadprůměrné.', 'category': 'Domácí', 'comments_num': None, 'content': 'Sníh může ohrozit řidiče na mnoha místech ČR', 'headline': 'Na západ Čech přijde na konci víkendu sněžení, místy dost vydatné', 'keywords': [], 'publication_date': '2019-02-01 07:20:12', 'url': 'https://www.seznamzpravy.cz/clanek/po-vikendovem-otepleni-bude-prvni-unorovy-tyden-chladny-65381?dop-ab-variant=8&seq-no=1&source=hp'}, {'author': ['Veronika Neprašová'], 'brief': 'Čeští Piráti budou na jaře podruhé kandidovat do Evropského parlamentu. Před čtyřmi lety neuspěli, nyní jsou však třetí nejsilnější stranou ve Sněmovně. O víkendu vybírají lídra kandidátky.', 'category': None, 'comments_num': None, 'content': 'Velké ambice\\nBrusel jako nová pirátská bašta', 'headline': 'Piráti nabrali směr Brusel. Eurovolby chceme vyhrát, vzkazuje šéfpirát Bartoš', 'keywords': [], 'publication_date': '2019-01-18 19:42:39', 'url': 'https://www.seznamzpravy.cz/clanek/pirati-nabrali-smer-brusel-eurovolby-chceme-vyhrat-vzkazuje-sefpirat-bartos-64446'}, {'author': ['Milan Šíma'], 'brief': 'Pořad Svět bez obalu můžete sledovat v premiéře na Televizi Seznam každý čtvrtek od 21:00.', 'category': 'Video', 'comments_num': None, 'content': 'Jak naladit Televizi Seznam? Praktický návod zde.', 'headline': '20 let od bombardování Jugoslávie. Diskriminace LGBT komunity v Rusku. Sledujte nový díl Světa bez obalu', 'keywords': [], 'publication_date': '2019-04-11 19:00:05', 'url': 'https://www.seznamzpravy.cz/clanek/20-let-od-bombardovani-jugoslavie-diskriminace-lgbt-komunity-v-rusku-sledujte-novy-dil-sveta-bez-obalu-70119'}, {'author': ['Janek Kroupa'], 'brief': 'Dvě návštěvy v Anglii, placená cesta, hotel i výlet na Stonehenge. Insolvenční správkyně, která má na starosti řadu konkurzů firem trestně stíhaného podnikatele Františka Savova, čelí trestnímu oznámení za korupci.', 'category': 'Domácí', 'comments_num': None, 'content': 'Podruhé v Londýně\\nPět let mlčeli\\nKdo to má řešit', 'headline': 'Chtěla 7 milionů? Savov obvinil konkurzní správkyni', 'keywords': [], 'publication_date': '2020-12-15 06:30:00', 'url': 'https://www.seznamzpravy.cz/clanek/pripad-konkurzni-spravkyne-savov-ji-obvinil-ze-si-rekla-o-uplatek-133352'}, {'author': ['Radek Nohl'], 'brief': 'Úředníci musí mnohem víc než dosud zkoumat důvody pro zadržení řidičského průkazu. Odkazovat se jen na zákon nestačí.', 'category': None, 'comments_num': None, 'content': 'Vysoudil to právník\\nÚředníci to musí zdůvodnit', 'headline': 'Soud se zastal řidičů s alkoholem. Nemůžou hned přijít o řidičský průkaz', 'keywords': [], 'publication_date': '2018-05-17 04:05:00', 'url': 'https://www.seznamzpravy.cz/clanek/soud-se-zastal-ridicu-s-alkoholem-nemuzou-hned-prijit-o-ridicsky-prukaz-47150'}, {'author': ['Jiří Pšenička'], 'brief': 'Státní dopravce chce odprodat svoji celorepublikovou síť čerpacích stanic, a to firmě Čepro – případně s ní založit společný podnik. Dceřiné firmě ČD Cargo chce zase prodat stovky tzv. výdejních míst, kde se překládá materiál.', 'category': 'Domácí', 'comments_num': None, 'content': 'Jednání s firmou Čepro\\nZtráta konkurenční výhody?', 'headline': 'České dráhy chystají prodej dalšího majetku. Havlíček to původně popíral', 'keywords': [], 'publication_date': '2021-04-23 08:21:21', 'url': 'https://www.seznamzpravy.cz/clanek/ceske-drahy-chystaji-prodej-dalsiho-majetku-havlicek-to-puvodne-popiral-151693'}, {'author': ['Anita Mejzrová', 'Tereza Ulrychová'], 'brief': 'Nemocí covid-19 se ve světě nakazilo téměř 3,5 milionu lidí, více než 240 000 jich nákaze podlehlo. Nejhůře zasaženou zemí ve světě zůstávají Spojené státy, kde evidují více než milion nakažených. Dění ve světě sledujeme online.', 'category': 'Svět', 'comments_num': None, 'content': 'Vývoj situace ve světě jsme sledovali také včera:', 'headline': 'V Itálii zemřelo za den nejméně lidí od března', 'keywords': [], 'publication_date': '2020-05-03 05:24:14', 'url': 'https://www.seznamzpravy.cz/clanek/temer-kazdy-druhy-nakazeny-koronavirem-je-z-evropy-103774'}, {'author': ['Silvie Friedmannová', 'Filip Horáček'], 'brief': 'Stát omezil podnikání neprávem. Nejvyšší správní soud zrušil mimořádné opatření Ministerstva zdravotnictví, kterým stát zakázal veřejné akce a omezil podnikání, obchody a služby. Restauratéři se do boje o odškodnění nehrnou.', 'category': 'Byznys', 'comments_num': None, 'content': 'Rychle otevřete\\nObchodníci: Týden už vydržíme', 'headline': 'Od pondělí by mělo být všechno otevřeno, říká šéf svazu obchodníků', 'keywords': [], 'publication_date': '2021-04-22 14:34:04', 'url': 'https://www.seznamzpravy.cz/clanek/soud-zrusil-opatreni-v-pondeli-by-se-mely-otevrit-obchody-rika-prouza-151728'}, {'author': ['Daryna Dziuba'], 'brief': 'Od konce března Ukrajina varuje před shromažďováním ruských vojsk u ukrajinských hranic, což výrazně zvyšuje napětí na východě země. Moskva a Kyjev se mezitím čím dál víc vzájemně obviňují z provokací.', 'category': 'Svět', 'comments_num': None, 'content': 'Porušení příměří a eskalace konfliktu\\nPlán „NATO“', 'headline': 'Na východě Ukrajiny se střílí, Moskva a Kyjev se obviňují z provokací', 'keywords': [], 'publication_date': '2021-04-10 18:04:31', 'url': 'https://www.seznamzpravy.cz/clanek/na-vychode-ukrajiny-se-strili-moskva-a-kyjev-se-obvinuji-z-provokaci-150217'}, {'author': ['Miloš Čermák'], 'brief': 'Další díl Deníku Miloš Čermáka. Je vám také horko?', 'category': 'Domácí', 'comments_num': None, 'content': 'Rodinné spory kvůli Babišovi\\nOsobní klimatizace', 'headline': 'Deník Miloše Čermáka: Rodinný spor Klusák', 'keywords': [], 'publication_date': '2019-06-28 12:39:31', 'url': 'https://www.seznamzpravy.cz/clanek/denik-milose-cermaka-rodinne-spory-kvuli-babisovi-pruhy-zebry-i-nesnesitelna-vedra-75117'}, {'author': ['Jan Marek'], 'brief': 'Aerolinky i cestovky díky covid pasu vyhlíží lepší zítřky. Turisté na Floridě a Havaji však už cítí rub cestovního boomu – autopůjčovny zdražily. Zatím se však nabízí nečekaná alternativa.', 'category': 'Byznys', 'comments_num': None, 'content': 'Důvod zdražení. Nahrnou se Američané do Evropy?', 'headline': 'Turisté přelstili předražené autopůjčovny. Cestují ve stěhovácích', 'keywords': [], 'publication_date': '2021-04-28 18:03:00', 'url': 'https://www.seznamzpravy.cz/clanek/turiste-prelstili-predrazene-autopujcovny-cestuji-ve-stehovacich-152489'}, {'author': ['Vojtěch Blažek'], 'brief': 'Zdeněk Blahut je od srpna stíhán kvůli nákupu odposlouchávacích zařízení. Podle vyšetřovatelů za ně rozvědka zaplatila, ale nedostala je. Škodu vyčíslili na téměř 200 milionů.', 'category': None, 'comments_num': None, 'content': 'Blahut podvod popírá\\nNeprošel detektorem lži', 'headline': 'Žalobce obstavil majetek obviněného exnáměstka tajné služby', 'keywords': [], 'publication_date': '2019-09-11 15:10:00', 'url': 'https://www.seznamzpravy.cz/clanek/zalobce-obstavil-majetek-obvineneho-exnamestka-tajne-sluzby-78744?dop-ab-variant=14&seq-no=3&source=hp&search--active'}, {'author': ['Zuzana Kubátová'], 'brief': 'Je potřeba zdůraznit, že za současnou situaci na Ministerstvu zahraničních věcí nenese zodpovědnost nikdo jiný než premiér Babiš a prezident Zeman, říká europoslanec Miroslav Poche ve Výzvě Seznamu. Prezident Zeman ho nedávno odmítl jmenovat ministrem zahraničí.', 'category': None, 'comments_num': None, 'content': 'Evropská politika a Babiš\\nÚmrtí českých vojáků', 'headline': 'Se Zemanem najdeme společnou řeč. Migraci zneužili populisté pro své lži, říká kandidát na ministra Poche', 'keywords': [], 'publication_date': '2018-08-08 11:36:14', 'url': 'https://www.seznamzpravy.cz/clanek/se-zemanem-najdeme-spolecnou-rec-migraci-zneuzili-populiste-pro-sve-lzi-rika-kandidat-na-ministra-poche-53562'}, {'author': ['Adam Ryšánek', 'Tereza Ulrychová'], 'brief': 'Onemocněním covid-19 se nakazilo přes 4,3 milionu lidí. Podle Světové zdravotnické organizace je nutné se připravit na možnost, že tu koronavirus bude napořád. Světové dění sledujeme online.', 'category': 'Svět', 'comments_num': None, 'content': 'Vývoj situace ve světě jsme sledovali také včera:', 'headline': 'Počet obětí ve světě překonal hranici 300 000', 'keywords': [], 'publication_date': '2020-05-14 04:26:52', 'url': 'https://www.seznamzpravy.cz/clanek/expert-who-koronavirus-tu-mozna-bude-naporad-105702'}, {'author': ['Jiří Zatloukal'], 'brief': 'Firma českého miliardáře Daniela Křetínského spustí pozastavenou elektrárnu na biomasu ve Francii. Ekologičtí aktivisté elektrárnu kritizovali, ale úřady nakonec rozhodly o spuštění. Jde o největší elektrárnu svého druhu v zemi.', 'category': 'Byznys', 'comments_num': None, 'content': 'Kritika ekologických aktivistů\\nNáhrada za uhlí', 'headline': 'Křetínský spustí největší elektrárnu na biomasu ve Francii, navzdory kritice', 'keywords': [], 'publication_date': '2021-01-06 14:17:29', 'url': 'https://www.seznamzpravy.cz/clanek/kretinsky-spusti-nejvetsi-elektrarnu-na-biomasu-ve-francii-navzdory-kritice-136270'}, {'author': ['Markéta Bidrmanová'], 'brief': 'Lidé u nás žijí ve stereotypních představách, že řemeslo je špinavá práce. Tak to dávno není a my musíme změnit myšlení maminek čtrnáctiletých dětí, říká v Duelu prezident Hospodářské komory Vladimír Dlouhý. Sám nedávno rozpoutal ostrou diskuzi, když navrhl, aby české školy produkovaly méně humanitně zaměřených lidí.', 'category': None, 'comments_num': None, 'content': 'Končí gymnazisté na podpoře?\\nŘemesla na vyhynutí', 'headline': 'Za deset let tady nebudou žádní řemeslníci, varuje šéfka největší personální agentury v Česku', 'keywords': [], 'publication_date': '2019-02-19 12:00:53', 'url': 'https://www.seznamzpravy.cz/clanek/malo-zedniku-moc-gymnazistu-ma-stat-nahnat-mlade-lidi-na-ucnaky-66465?autoplay=1'}, {'author': ['Zuzana Kubátová'], 'brief': 'Jak dopadá krize na skupinu Penta, popsal pro Seznam Zprávy spolumajitel Marek Dospiva. První část rozhovoru jsme publikovali v pátek. Ve druhé části Dospiva líčí dopady na realitní byznys, sázkovou Fortunu či média.', 'category': 'Koronavirus', 'comments_num': None, 'content': 'Globální experiment\\nNení rok 2008\\nRychlejší pád', 'headline': 'Dospiva: Koronavirus nás dostal do globálního experimentu', 'keywords': [], 'publication_date': '2020-04-27 05:12:00', 'url': 'https://www.seznamzpravy.cz/clanek/dospiva-propoustet-nebudeme-ale-ceka-nas-tezky-rok-mozna-dva-102205'}, {'author': ['Tereza Nováková'], 'brief': 'Formálně už Jair Bolsonaro svého syna Eduarda do funkce velvyslance ve Spojených státech navrhl minulý měsíc. Brazilská prokuratura však požádala soud, aby jmenování předběžným opatřením zablokoval.', 'category': 'Svět', 'comments_num': None, 'content': 'Trump se jmenováním Bolsonarova syna souhlasí', 'headline': 'Brazilský prezident chce mít ze svého syna velvyslance v USA, prokuratura je proti', 'keywords': [], 'publication_date': '2019-08-12 18:13:11', 'url': 'https://www.seznamzpravy.cz/clanek/brazilsky-prezident-chce-mit-ze-sveho-syna-velvyslance-v-usa-prokuratura-je-proti-77188'}, {'author': ['Martin Jonáš'], 'brief': 'Natáčeli jsme na nejsušších místech Česka. Podívejte se na záznam studia Seznamu.', 'category': 'Domácí', 'comments_num': None, 'content': 'Výstraha před požáry\\nSklizeň o deset dní dřív', 'headline': 'První oblasti v Česku hlásí nejvyšší stupeň sucha, vody je kriticky málo', 'keywords': [], 'publication_date': '2017-06-27 11:04:07', 'url': 'https://www.seznamzpravy.cz/clanek/prvni-oblasti-v-cesku-uz-ohlasily-nejvyssi-stupen-sucha-voda-dochazi-33559'}, {'author': ['Hana Grohová', 'Tomáš Pacovský'], 'brief': 'Do Rapšachu na Třeboňsku vede silnice tak úzká, že se sem jen těžko vejdou dvě auta najednou. Není to ale potřeba, jezdí tu prakticky jen místní a těch není moc.', 'category': 'Domácí', 'comments_num': None, 'content': 'Přijďte. Máme pozemky\\nŽivotně důležitá škola', 'headline': 'Destinace venkov: Reportáž z vesnic, které našly elixír mladí', 'keywords': [], 'publication_date': '2020-01-03 20:16:13', 'url': 'https://www.seznamzpravy.cz/clanek/destinace-venkov-reportaz-z-vesnic-ktere-nasly-elixir-mladi-85191'}, {'author': ['Tereza Dorňáková', 'Jiří Burýšek'], 'brief': 'V Česku už bylo naočkováno téměř 2 miliony dávek vakcín. Přestože byl čtvrtek rekordním dnem, tempo očkování je stále podstatně nižší než avizoval premiér Andrej Babiš.', 'category': 'Koronavirus', 'comments_num': None, 'content': 'Krajům stále dominuje Praha\\nTempo 35 tisíc denně', 'headline': 'Česko naočkovalo téměř dva miliony dávek. Tempo je ale pomalé', 'keywords': [], 'publication_date': '2021-04-09 15:22:51', 'url': 'https://www.seznamzpravy.cz/clanek/cesko-naockovalo-temer-dva-miliony-davek-tempo-je-ale-pomale-150115'}, {'author': ['Josef Mačí'], 'brief': 'Školy se budou otevírat rychleji, než se předpokládalo. K prvním a druhým třídám se přidá patrně už v pondělí 23. listopadu celý první stupeň, druhý stupeň v rotacích a s nimi i trvale deváťáci a maturanti.', 'category': 'Koronavirus', 'comments_num': None, 'content': 'Deváťáci i maturanti zpátky do škol\\nA co dál', 'headline': 'Už 23. listopadu by se do škol mohli vrátit také deváťáci a maturanti', 'keywords': [], 'publication_date': '2020-11-13 19:03:20', 'url': 'https://www.seznamzpravy.cz/clanek/uz-23-listopadu-by-se-do-skol-mohli-vratit-take-devataci-a-maturanti-129478'}, {'author': ['Vojtěch Blažek', 'Vojtěch Gavriněv'], 'brief': 'Jaroslava Pokorná Jermanová stále nemá jistotu, že bude opět kandidátkou na hejtmanku ve středních Čechách. A do toho přišel další problém s trestním oznámením na redakci, která zveřejnila kritiku hejtmanství kvůli koronaviru.', 'category': None, 'comments_num': None, 'content': 'Nekrade se, říká hejtmanka\\nPozor, zvoní policie', 'headline': 'Pomáhá ANO, nebo škodí? O Jermanové to Babiš jasně neřekl', 'keywords': [], 'publication_date': '2020-05-29 15:20:19', 'url': 'https://www.seznamzpravy.cz/clanek/pomaha-ano-nebo-skodi-o-jermanove-to-babis-jasne-nerekl-107984'}, {'author': ['Petr Novotný'], 'brief': 'Český hotelový a lázeňský byznys roste ve všech výkonnostních parametrech. Stále se však jedná o jeden z konkurenčně velmi těžkých oborů podnikání. Na to, co dnes přináší hotelový byznys, jsme se v burzovním studiu zeptali šéfa sítě Orea Hotels & Resorts Gorjana Lazarova.', 'category': None, 'comments_num': None, 'content': 'Hotel je počítač. Software musí být „spokojený\"', 'headline': 'Digitalizace v hotelnictví je tam, kde byl vytáčený internet v devadesátých letech, říká šéf sítě hotelového řetězce', 'keywords': [], 'publication_date': '2019-10-07 13:00:10', 'url': 'https://www.seznamzpravy.cz/clanek/digitalizace-v-hotelnictvi-je-tam-kde-byl-vytaceny-internet-v-devadesatych-letech-rika-sef-site-hoteloveho-retezce-79810'}, {'author': ['Tereza Ulrychová', 'Daniela Kučerová', 'Anita Mejzrová'], 'brief': 'Počet evidovaných případů nákazy se ve světě blíží k hranici 4,3 milionu. Nejhůře koronavirem zasaženou zemí zůstávají USA, nově se ovšem na druhém místě objevilo Rusko. Světové dění sledujeme online.', 'category': 'Koronavirus', 'comments_num': None, 'content': 'Vývoj situace ve světě jsme sledovali také včera:', 'headline': 'Podle studie o promořenosti virus zasáhl pět procent Španělů', 'keywords': ['Pandemie', 'Rusko', 'Online', 'Koronavirus', 'Španělsko', 'COVID-19', 'Epidemie', 'USA', 'Čína'], 'publication_date': '2020-05-13 04:18:20', 'url': 'https://www.seznamzpravy.cz/clanek/temer-1900-mrtvych-usa-hlasi-skokovy-narust-v-poctu-obeti-za-den-105481'}, {'author': ['Zuzana Kubátová'], 'brief': 'Po téměř deseti letech vývoje spěje baterie HE3DA českého vědce Jana Procházky k průmyslové výrobě. Bohumínský podnikatel Radomír Prus chce už koncem tohoto roku rozjet továrnu Magna Energy Storage v Horní Suché u Havířova. Kolem miliardového projektu je ale pár otazníků.', 'category': None, 'comments_num': None, 'content': 'Zatím jen v laboratoři\\nSkeptičtí průmyslníci', 'headline': 'Unikátní česká baterie HE3DA. Bude to technologický přelom, nebo chiméra?', 'keywords': [], 'publication_date': '2019-03-06 08:30:00', 'url': 'https://www.seznamzpravy.cz/clanek/unikatni-ceska-baterie-he3da-bude-to-technologicky-prelom-nebo-chimera-67249?dop-ab-variant=5&seq-no=1&source=hp'}, {'author': ['Silvie Friedmannová'], 'brief': 'Co má společného malá čokoládovna a rodinná firma zaměřená na pokojové a léčivé rostliny? V době desetitýdenní karantény je podrželi zákazníci, ať už nákupem on-line nebo voucherů na zboží.', 'category': None, 'comments_num': None, 'content': 'Vouchery a slevové kódy\\nDeset milionů pro hospody', 'headline': 'Příběhy s dobrým koncem. Jak si firmy a zákazníci pomáhali před krachem', 'keywords': [], 'publication_date': '2020-05-12 09:33:42', 'url': 'https://www.seznamzpravy.cz/clanek/pribehy-s-dobrym-koncem-jak-si-firmy-a-zakaznici-pomahali-pred-krachem-105165'}, {'author': ['Valérie Dvořáková'], 'brief': 'Moskevský soud dnes podmínečně propustil herce Pavla Ustinova. Ten v pondělí dostal tři roky a šest měsíců vězení. A to za údajné napadení policisty při srpnové protivládní demonstraci. Na videu, které zachycuje jeho zatčení, je vidět, že Ustinova zatkli, když klidně kráčel po ulici a nikoho nenapadl. I přesto, že se jedná o nepříliš známého herce, pondělní verdikt vyvolal vlnu kritiky. Za herce se postavili i příznivci ruského prezidenta Vladimira Putina.', 'category': None, 'comments_num': None, 'content': '„Nehorázná nespravedlnost“\\nSoud ignoroval důkazy', 'headline': 'Vlna kritiky pomohla, ruský soud propustil Ustinova. Zavřeli ho za napadení policisty, které se nestalo', 'keywords': [], 'publication_date': '2019-09-20 09:10:30', 'url': 'https://www.seznamzpravy.cz/clanek/nehorazna-nespravedlnost-hybe-ruskem-muz-sel-klidne-po-ulici-zatkli-ho-a-zavreli-za-napadeni-policisty-79137'}, {'author': ['Vojtěch Veškrna', 'Nikola Zwrtková'], 'brief': '„Přišel jsem si pro dotazy. Ptejte se, co můžeme zlepšit,“ apeloval premiér během své spanilé jízdy na Olomoucko. Ve fotogalerii jsme mapovali, jak český premiér pracuje s voliči v krajích.', 'category': 'Obrazem', 'comments_num': None, 'content': 'Reportáž z návštěvy Olomouckého kraje čtěte ZDE:', 'headline': 'Tohle je kampaň. Jak Babiš znovu vyrazil sbírat hlasy do krajů', 'keywords': ['Andrej Babiš', 'Olomouc'], 'publication_date': '2020-01-12 20:15:00', 'url': 'https://www.seznamzpravy.cz/clanek/tohle-je-kampan-jak-babis-znovu-vyrazil-sbirat-hlasy-do-kraju-86057'}, {'author': ['Daniela Kučerová', 'Klára Mališová'], 'brief': 'Jeden milion. Tolik lidí se podle údajů Johns Hopkins University vyléčilo z covid-19. Virem se po celém světě nakazilo 3,2 milionu lidí a přes 230 tisíc jich zemřelo. Vývoj dění ve světě sledujeme online.', 'category': 'Svět', 'comments_num': None, 'content': 'Dění ve světě jsme sledovali online i včera:', 'headline': 'Američané vyvíjí testy, které by mohly odhalit virus v těle 24 hodin po nakažení', 'keywords': [], 'publication_date': '2020-05-01 05:41:28', 'url': 'https://www.seznamzpravy.cz/clanek/z-koronaviru-se-po-celem-svete-uzdravilo-vice-nez-milion-lidi-103534'}, {'author': ['Milan Šíma'], 'brief': 'Pořad Svět bez obalu můžete sledovat v premiéře na Televizi Seznam každý čtvrtek od 21:00.', 'category': 'Video', 'comments_num': None, 'content': 'Jak naladit Televizi Seznam? Praktický návod zde.', 'headline': 'Příběh muže, který zachraňuje sexuální otrokyně ze spárů ISIS. Sundáním šátku protestovala proti právu šaría, pak musela utéct ze země. Sledujte reportáže z celého světa v novém dílu Světa bez obalu', 'keywords': [], 'publication_date': '2019-03-21 20:00:00', 'url': 'https://www.seznamzpravy.cz/clanek/pribeh-muze-ktery-zachranuje-sexualni-otrokyne-ze-sparu-isis-sundanim-satku-protestovala-proti-pravu-saria-pak-musela-utect-ze-zeme-sledujte-reportaze-z-celeho-sveta-v-novem-dilu-sveta-bez-obalu-68855'}, {'author': ['Josef Mačí'], 'brief': 'Jednu jistotu v době nejistoty už žáci mají – přijímací řízení na střední školy se nemění. Jednotnou přijímací zkoušku sice školy letos nemusí využít, ale většina u ní zůstane. Cermat pak potvrdil, že stejná bude i obtížnost.', 'category': 'Koronavirus', 'comments_num': None, 'content': 'Odborník: Otestujeme jen rodinné zázemí žáků', 'headline': 'Lehčí přijímačky kvůli covidu nebudou. Nejde to, říká šéfka Cermatu', 'keywords': [], 'publication_date': '2021-01-17 15:19:22', 'url': 'https://www.seznamzpravy.cz/clanek/lehci-prijimacky-kvuli-covidu-obtiznost-snizit-nelze-rika-sefka-cermatu-137299'}, {'author': ['Kateřina Mahdalová'], 'brief': 'V České republice v souvislosti s nákazou covidem-19 zemřelo už 25 tisíc osob. Země zatím pokračuje v nepříznivém trendu z posledního čtvrtletí roku 2020. Zesnulých mužů je zhruba o třetinu více než žen.', 'category': 'Koronavirus', 'comments_num': None, 'content': 'Tragický vývoj z roku 2020 pokračuje i na jaře', 'headline': 'V Česku kvůli covidu', 'keywords': [], 'publication_date': '2021-03-23 08:17:42', 'url': 'https://www.seznamzpravy.cz/clanek/v-cesku-kvuli-covidu-19-zemrelo-uz-25-tisic-lidi-muzu-o-tretinu-vice-148091'}, {'author': ['Sofie Krýžová'], 'brief': 'Neexistující miliardy společnosti Wirecard jsou asi největším německým účetním skandálem. Obvinění auditorské společnosti Ernst & Young rozpoutalo pochybnosti o účetnictví Velké čtyřky.', 'category': None, 'comments_num': None, 'content': 'Oddělit účetní od poradců\\nOd auditů k dohledu', 'headline': 'Ztracené miliardy rozproudily pochybnosti o Velké čtyřce', 'keywords': [], 'publication_date': '2020-07-02 06:47:00', 'url': 'https://www.seznamzpravy.cz/clanek/ztracene-miliardy-rozproudily-pochybnosti-o-velke-ctyrce-111232'}, {'author': ['Vojtěch Blažek'], 'brief': 'Detektivové vyšetřovali, jestli dva uznávaní lékaři nepodvedli pacienty v poslední fázi rakoviny. Podle trestního oznámení podaného ostravskou nemocnicí byli v podezření, že za peníze nabízeli neschválenou léčbu.', 'category': 'Domácí', 'comments_num': None, 'content': 'Oznámení: Je to podvod\\n„Obchod s nadějí odmítám“', 'headline': 'Policie očistila lékaře, že dávali lidem s rakovinou falešnou naději', 'keywords': [], 'publication_date': '2021-02-26 06:44:17', 'url': 'https://www.seznamzpravy.cz/clanek/policie-ocistila-lekare-ze-davali-lidem-s-rakovinou-falesnou-nadeji-144287'}, {'author': ['Eva Moniová'], 'brief': 'Menší obchodníci již nebudou potřebovat žádný platební terminál, vše zastane jejich mobil. Platby kartami mohou přijímat kdekoliv, kde je signál. Dosud aplikace fungovala jen v pilotním provozu.', 'category': 'Byznys', 'comments_num': None, 'content': 'Lidé jsou překvapení, když jim podám telefon', 'headline': 'Placení cizím telefonem: Čísla na klávesnici se mění a účtenka nevyjede', 'keywords': [], 'publication_date': '2021-02-16 10:00:00', 'url': 'https://www.seznamzpravy.cz/clanek/placeni-cizim-telefonem-cisla-na-klavesnici-se-meni-a-uctenka-nevyjede-142330'}, {'author': ['Petr Švihel'], 'brief': 'Vinařský areál a podnikatelka v zemědělství dokázaly čerpat jak v prvním, tak i druhém programu COVID. Seznam Zprávy zanalyzovaly společně s CRIF zveřejněné příjemce prvních dvou kol státních záruk.', 'category': None, 'comments_num': None, 'content': 'Zoologické zahrady, zubaři a tři kadeřnictví', 'headline': 'Krokodýlí zoo a vinařství, co uspělo hned dvakrát. Podívejte se, komu stát pomohl', 'keywords': [], 'publication_date': '2020-05-31 12:00:00', 'url': 'https://www.seznamzpravy.cz/clanek/krokodyli-zoo-a-vinarstvi-co-uspelo-hned-dvakrat-podivejte-se-komu-stat-pomohl-108080'}]\n"
     ]
    }
   ],
   "source": [
    "show_df_lines(min_length, \"seznamzpravy.json\")"
   ]
  },
  {
   "cell_type": "code",
   "execution_count": null,
   "metadata": {},
   "outputs": [
    {
     "data": {
      "text/html": [
       "<div>\n",
       "<style scoped>\n",
       "    .dataframe tbody tr th:only-of-type {\n",
       "        vertical-align: middle;\n",
       "    }\n",
       "\n",
       "    .dataframe tbody tr th {\n",
       "        vertical-align: top;\n",
       "    }\n",
       "\n",
       "    .dataframe thead th {\n",
       "        text-align: right;\n",
       "    }\n",
       "</style>\n",
       "<table border=\"1\" class=\"dataframe\">\n",
       "  <thead>\n",
       "    <tr style=\"text-align: right;\">\n",
       "      <th></th>\n",
       "      <th>url</th>\n",
       "      <th>article length</th>\n",
       "      <th>headline length</th>\n",
       "      <th>brief length</th>\n",
       "      <th>num words</th>\n",
       "      <th>avg word length</th>\n",
       "      <th>num of non-alphanumeric</th>\n",
       "      <th>date</th>\n",
       "      <th>comments_num</th>\n",
       "    </tr>\n",
       "  </thead>\n",
       "  <tbody>\n",
       "    <tr>\n",
       "      <th>1302</th>\n",
       "      <td>https://www.seznamzpravy.cz/clanek/budte-rozum...</td>\n",
       "      <td>7</td>\n",
       "      <td>65</td>\n",
       "      <td>220</td>\n",
       "      <td>2</td>\n",
       "      <td>3.000000</td>\n",
       "      <td>0</td>\n",
       "      <td>2021-02-15 13:40:31+00:00</td>\n",
       "      <td>None</td>\n",
       "    </tr>\n",
       "    <tr>\n",
       "      <th>18967</th>\n",
       "      <td>https://www.seznamzpravy.cz/clanek/matrjosky-n...</td>\n",
       "      <td>8</td>\n",
       "      <td>93</td>\n",
       "      <td>201</td>\n",
       "      <td>1</td>\n",
       "      <td>8.000000</td>\n",
       "      <td>0</td>\n",
       "      <td>2019-02-21 05:00:27+00:00</td>\n",
       "      <td>None</td>\n",
       "    </tr>\n",
       "    <tr>\n",
       "      <th>11527</th>\n",
       "      <td>https://www.seznamzpravy.cz/clanek/premier-tru...</td>\n",
       "      <td>10</td>\n",
       "      <td>91</td>\n",
       "      <td>406</td>\n",
       "      <td>2</td>\n",
       "      <td>4.500000</td>\n",
       "      <td>0</td>\n",
       "      <td>2019-09-19 13:39:07+00:00</td>\n",
       "      <td>None</td>\n",
       "    </tr>\n",
       "    <tr>\n",
       "      <th>13018</th>\n",
       "      <td>https://www.seznamzpravy.cz/clanek/nepruhledna...</td>\n",
       "      <td>11</td>\n",
       "      <td>68</td>\n",
       "      <td>199</td>\n",
       "      <td>2</td>\n",
       "      <td>5.000000</td>\n",
       "      <td>0</td>\n",
       "      <td>2020-05-18 15:15:20+00:00</td>\n",
       "      <td>None</td>\n",
       "    </tr>\n",
       "    <tr>\n",
       "      <th>29972</th>\n",
       "      <td>https://www.seznamzpravy.cz/clanek/ci-je-mount...</td>\n",
       "      <td>11</td>\n",
       "      <td>66</td>\n",
       "      <td>219</td>\n",
       "      <td>4</td>\n",
       "      <td>2.250000</td>\n",
       "      <td>1</td>\n",
       "      <td>2020-05-28 04:30:00+00:00</td>\n",
       "      <td>None</td>\n",
       "    </tr>\n",
       "    <tr>\n",
       "      <th>...</th>\n",
       "      <td>...</td>\n",
       "      <td>...</td>\n",
       "      <td>...</td>\n",
       "      <td>...</td>\n",
       "      <td>...</td>\n",
       "      <td>...</td>\n",
       "      <td>...</td>\n",
       "      <td>...</td>\n",
       "      <td>...</td>\n",
       "    </tr>\n",
       "    <tr>\n",
       "      <th>40862</th>\n",
       "      <td>https://www.seznamzpravy.cz/clanek/prohlasili-...</td>\n",
       "      <td>20</td>\n",
       "      <td>67</td>\n",
       "      <td>213</td>\n",
       "      <td>4</td>\n",
       "      <td>4.250000</td>\n",
       "      <td>0</td>\n",
       "      <td>2021-04-11 14:36:43+00:00</td>\n",
       "      <td>None</td>\n",
       "    </tr>\n",
       "    <tr>\n",
       "      <th>30261</th>\n",
       "      <td>https://www.seznamzpravy.cz/clanek/firma-ktera...</td>\n",
       "      <td>21</td>\n",
       "      <td>94</td>\n",
       "      <td>150</td>\n",
       "      <td>3</td>\n",
       "      <td>6.333333</td>\n",
       "      <td>0</td>\n",
       "      <td>2019-04-19 13:45:11+00:00</td>\n",
       "      <td>None</td>\n",
       "    </tr>\n",
       "    <tr>\n",
       "      <th>42640</th>\n",
       "      <td>https://www.seznamzpravy.cz/clanek/ceska-z-tym...</td>\n",
       "      <td>21</td>\n",
       "      <td>77</td>\n",
       "      <td>217</td>\n",
       "      <td>4</td>\n",
       "      <td>4.500000</td>\n",
       "      <td>0</td>\n",
       "      <td>2021-04-13 16:10:00+00:00</td>\n",
       "      <td>None</td>\n",
       "    </tr>\n",
       "    <tr>\n",
       "      <th>3781</th>\n",
       "      <td>https://www.seznamzpravy.cz/clanek/za-kulisy-p...</td>\n",
       "      <td>21</td>\n",
       "      <td>70</td>\n",
       "      <td>118</td>\n",
       "      <td>2</td>\n",
       "      <td>10.000000</td>\n",
       "      <td>0</td>\n",
       "      <td>2019-12-18 10:04:29+00:00</td>\n",
       "      <td>None</td>\n",
       "    </tr>\n",
       "    <tr>\n",
       "      <th>19453</th>\n",
       "      <td>https://www.seznamzpravy.cz/clanek/za-zajezd-o...</td>\n",
       "      <td>21</td>\n",
       "      <td>55</td>\n",
       "      <td>202</td>\n",
       "      <td>4</td>\n",
       "      <td>4.500000</td>\n",
       "      <td>0</td>\n",
       "      <td>2020-06-04 07:00:00+00:00</td>\n",
       "      <td>None</td>\n",
       "    </tr>\n",
       "  </tbody>\n",
       "</table>\n",
       "<p>100 rows × 9 columns</p>\n",
       "</div>"
      ],
      "text/plain": [
       "                                                     url  article length  \\\n",
       "1302   https://www.seznamzpravy.cz/clanek/budte-rozum...               7   \n",
       "18967  https://www.seznamzpravy.cz/clanek/matrjosky-n...               8   \n",
       "11527  https://www.seznamzpravy.cz/clanek/premier-tru...              10   \n",
       "13018  https://www.seznamzpravy.cz/clanek/nepruhledna...              11   \n",
       "29972  https://www.seznamzpravy.cz/clanek/ci-je-mount...              11   \n",
       "...                                                  ...             ...   \n",
       "40862  https://www.seznamzpravy.cz/clanek/prohlasili-...              20   \n",
       "30261  https://www.seznamzpravy.cz/clanek/firma-ktera...              21   \n",
       "42640  https://www.seznamzpravy.cz/clanek/ceska-z-tym...              21   \n",
       "3781   https://www.seznamzpravy.cz/clanek/za-kulisy-p...              21   \n",
       "19453  https://www.seznamzpravy.cz/clanek/za-zajezd-o...              21   \n",
       "\n",
       "       headline length  brief length  num words  avg word length  \\\n",
       "1302                65           220          2         3.000000   \n",
       "18967               93           201          1         8.000000   \n",
       "11527               91           406          2         4.500000   \n",
       "13018               68           199          2         5.000000   \n",
       "29972               66           219          4         2.250000   \n",
       "...                ...           ...        ...              ...   \n",
       "40862               67           213          4         4.250000   \n",
       "30261               94           150          3         6.333333   \n",
       "42640               77           217          4         4.500000   \n",
       "3781                70           118          2        10.000000   \n",
       "19453               55           202          4         4.500000   \n",
       "\n",
       "       num of non-alphanumeric                      date comments_num  \n",
       "1302                         0 2021-02-15 13:40:31+00:00         None  \n",
       "18967                        0 2019-02-21 05:00:27+00:00         None  \n",
       "11527                        0 2019-09-19 13:39:07+00:00         None  \n",
       "13018                        0 2020-05-18 15:15:20+00:00         None  \n",
       "29972                        1 2020-05-28 04:30:00+00:00         None  \n",
       "...                        ...                       ...          ...  \n",
       "40862                        0 2021-04-11 14:36:43+00:00         None  \n",
       "30261                        0 2019-04-19 13:45:11+00:00         None  \n",
       "42640                        0 2021-04-13 16:10:00+00:00         None  \n",
       "3781                         0 2019-12-18 10:04:29+00:00         None  \n",
       "19453                        0 2020-06-04 07:00:00+00:00         None  \n",
       "\n",
       "[100 rows x 9 columns]"
      ]
     },
     "execution_count": 100,
     "metadata": {},
     "output_type": "execute_result"
    }
   ],
   "source": [
    "create_df(author_folder / \"seznamzpravy.json\").sort_values(\"article length\", ascending=True).head(100)"
   ]
  },
  {
   "cell_type": "code",
   "execution_count": null,
   "metadata": {},
   "outputs": [],
   "source": [
    "final_file = Path(\"final.json\")"
   ]
  },
  {
   "cell_type": "code",
   "execution_count": null,
   "metadata": {},
   "outputs": [
    {
     "ename": "KeyboardInterrupt",
     "evalue": "",
     "output_type": "error",
     "traceback": [
      "\u001b[0;31m---------------------------------------------------------------------------\u001b[0m",
      "\u001b[0;31mKeyboardInterrupt\u001b[0m                         Traceback (most recent call last)",
      "Cell \u001b[0;32mIn [69], line 10\u001b[0m\n\u001b[1;32m      8\u001b[0m loaded \u001b[38;5;241m=\u001b[39m load_jsonb(file)\n\u001b[1;32m      9\u001b[0m added_server \u001b[38;5;241m=\u001b[39m \u001b[38;5;28mmap\u001b[39m(\u001b[38;5;28;01mlambda\u001b[39;00m x: add_server_name(x, file), loaded)\n\u001b[0;32m---> 10\u001b[0m \u001b[43msave_jsonb\u001b[49m\u001b[43m(\u001b[49m\u001b[43madded_server\u001b[49m\u001b[43m,\u001b[49m\u001b[43m \u001b[49m\u001b[43mfinal_file\u001b[49m\u001b[43m,\u001b[49m\u001b[43m \u001b[49m\u001b[43mmode\u001b[49m\u001b[38;5;241;43m=\u001b[39;49m\u001b[38;5;124;43m\"\u001b[39;49m\u001b[38;5;124;43ma\u001b[39;49m\u001b[38;5;124;43m\"\u001b[39;49m\u001b[43m)\u001b[49m\n",
      "Cell \u001b[0;32mIn [68], line 7\u001b[0m, in \u001b[0;36msave_jsonb\u001b[0;34m(l, filename, mode)\u001b[0m\n\u001b[1;32m      5\u001b[0m \u001b[38;5;28;01mwith\u001b[39;00m \u001b[38;5;28mopen\u001b[39m(filename, mode) \u001b[38;5;28;01mas\u001b[39;00m f:\n\u001b[1;32m      6\u001b[0m     \u001b[38;5;28;01mfor\u001b[39;00m item \u001b[38;5;129;01min\u001b[39;00m l:\n\u001b[0;32m----> 7\u001b[0m         \u001b[43mf\u001b[49m\u001b[38;5;241;43m.\u001b[39;49m\u001b[43mwrite\u001b[49m\u001b[43m(\u001b[49m\u001b[43mjson\u001b[49m\u001b[38;5;241;43m.\u001b[39;49m\u001b[43mdumps\u001b[49m\u001b[43m(\u001b[49m\u001b[43mitem\u001b[49m\u001b[43m)\u001b[49m\u001b[43m)\u001b[49m\n\u001b[1;32m      8\u001b[0m         f\u001b[38;5;241m.\u001b[39mwrite(\u001b[38;5;124m\"\u001b[39m\u001b[38;5;130;01m\\n\u001b[39;00m\u001b[38;5;124m\"\u001b[39m)\n",
      "\u001b[0;31mKeyboardInterrupt\u001b[0m: "
     ]
    }
   ],
   "source": [
    "def add_server_name(js, filename: Path):\n",
    "    js[\"server\"] = filename.stem\n",
    "    return js\n",
    "if run_filters:\n",
    "    final_file.unlink(missing_ok=True)\n",
    "    for file in author_folder.iterdir():\n",
    "        if file.is_file():\n",
    "            loaded = load_jsonb(file)\n",
    "            added_server = map(lambda x: add_server_name(x, file), loaded)\n",
    "            save_jsonb(added_server, final_file, mode=\"a\")"
   ]
  },
  {
   "cell_type": "code",
   "execution_count": null,
   "metadata": {},
   "outputs": [],
   "source": []
  }
 ],
 "metadata": {
  "kernelspec": {
   "display_name": "Python 3 (ipykernel)",
   "language": "python",
   "name": "python3"
  },
  "orig_nbformat": 4,
  "vscode": {
   "interpreter": {
    "hash": "47d1cf54bf9cf5fce4b000eacb105df7d7e5f1fe165267018e0a6855939e5736"
   }
  }
 },
 "nbformat": 4,
 "nbformat_minor": 2
}
