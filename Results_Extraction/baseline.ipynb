{
 "cells": [
  {
   "cell_type": "code",
   "execution_count": 12,
   "metadata": {},
   "outputs": [
    {
     "name": "stderr",
     "output_type": "stream",
     "text": [
      "Found cached dataset parquet (/home/kydliceh/.cache/huggingface/datasets/hynky___parquet/hynky--czech_news_dataset-2bef7073f90328ac/0.0.0/2a3b91fbd88a2c90d1dbbb32b460cf621d31bd5b05b934492fdef7d8d6f236ec)\n"
     ]
    }
   ],
   "source": [
    "from datasets import load_dataset\n",
    "\n",
    "dataset = load_dataset(\"hynky/czech_news_dataset\", split=\"train\")"
   ]
  },
  {
   "cell_type": "code",
   "execution_count": 8,
   "metadata": {},
   "outputs": [],
   "source": [
    "# get the indices of the top 10 features\n",
    "import pickle\n",
    "import sys\n",
    "sys.path.append(\"../Modelling/Baseline/\")\n",
    "models = {\n",
    "    \"50k\": {\n",
    "        \"category\": \"rgz92chu\",\n",
    "        \"day_of_week\": \"xyg91uvw\",\n",
    "        \"server\": \"8yvpnynw\",\n",
    "        \"authors_cum_gender\": \"evkcoi0s\"\n",
    "    },\n",
    "    \"200k\": {\n",
    "        \"category\": \"fbf1hiz7\",\n",
    "        \"day_of_week\": \"er8hxbbd\",\n",
    "        \"server\": \"irpb5y6l\",\n",
    "        \"authors_cum_gender\": \"evkcoi0s\"\n",
    "    }\n",
    "}\n",
    "\n",
    "data = {\n",
    "    \"50k\": pickle.load(open(\"../Modelling/Baseline/tfidf/small/vectorizer.pkl\", \"rb\")),\n",
    "    \"200k\": pickle.load(open(\"../Modelling/Baseline/tfidf/base/vectorizer.pkl\", \"rb\"))\n",
    "}\n",
    "\n",
    "\n",
    "\n",
    "\n"
   ]
  },
  {
   "cell_type": "code",
   "execution_count": 13,
   "metadata": {},
   "outputs": [],
   "source": [
    "import numpy as np\n",
    "top_table = {}\n",
    "k = 4\n",
    "for size, task in models.items():\n",
    "    top_table[size] = {}\n",
    "    vectorizer = data[size]\n",
    "    for feature, model_id in task.items():\n",
    "        if model_id is None:\n",
    "            top_table[size][feature] = None\n",
    "            continue\n",
    "        model = pickle.load(open(f\"../Modelling/Baseline/models/{feature}/{model_id}/model.pkl\", \"rb\"))\n",
    "        per_cls = {}\n",
    "        for cls_i, cls in enumerate(dataset.features[feature].names[1:]):\n",
    "            top_k = np.argsort(model.coef_[cls_i])[-k:]\n",
    "            # -5 because we have there non tfidf features\n",
    "            top_k_vals = [(vectorizer.get_feature_names_out()[i-5], model.coef_[cls_i][i]) for i in top_k]\n",
    "            per_cls[cls] = top_k_vals\n",
    "        top_table[size][feature] = per_cls"
   ]
  },
  {
   "cell_type": "code",
   "execution_count": 14,
   "metadata": {},
   "outputs": [],
   "source": [
    "table = top_table[\"200k\"]"
   ]
  },
  {
   "cell_type": "code",
   "execution_count": 28,
   "metadata": {},
   "outputs": [],
   "source": [
    "# normalize following unicode character\n",
    "from unicodedata import normalize\n",
    "from html import unescape\n",
    "uni = '〜'\n",
    "uni_n = normalize('NFKC', unescape(uni))\n"
   ]
  },
  {
   "cell_type": "code",
   "execution_count": 34,
   "metadata": {},
   "outputs": [],
   "source": [
    "# normalize uni to character that can be used in latex\n",
    "uni_n = uni_n.replace(\"~\", \"\\\\textasciitilde\")"
   ]
  },
  {
   "cell_type": "code",
   "execution_count": 35,
   "metadata": {},
   "outputs": [
    {
     "data": {
      "text/plain": [
       "'〜'"
      ]
     },
     "execution_count": 35,
     "metadata": {},
     "output_type": "execute_result"
    }
   ],
   "source": [
    "uni_n"
   ]
  },
  {
   "cell_type": "code",
   "execution_count": 36,
   "metadata": {},
   "outputs": [],
   "source": [
    "cat_sort_order = [\n",
    "    \"Home\", \n",
    "    \"Sport\",\n",
    "    \"World\",\n",
    "    \"Culture\",\n",
    "    \"Economics\",\n",
    "    \"Crime\",\n",
    "    \"Technology\",\n",
    "    \"Tabloid News and Curiosities\",\n",
    "    \"Lifestyle\",\n",
    "    \"Car\",\n",
    "    \"Science\",\n",
    "    'Comments',\n",
    "    'Travel',\n",
    "    'Finance',\n",
    "    'Entrepreneurship',\n",
    "    'Housing',\n",
    "    'Coronavirus',\n",
    "    'Business',\n",
    "    'Interviews',\n",
    "    'Podcasts',\n",
    "    'Tabloid News and Curiosities',\n",
    "    'Literature',\n",
    "    'Christmas',\n",
    "    'Fine Arts',\n",
    "    'Bicycle'\n",
    "]"
   ]
  },
  {
   "cell_type": "code",
   "execution_count": 37,
   "metadata": {},
   "outputs": [],
   "source": [
    "translate_task = {\n",
    "    \"category\": \"Category\",\n",
    "    \"day_of_week\": \"Day of week\",\n",
    "    \"server\": \"Server\",\n",
    "    \"authors_cum_gender\": \"Gender\"\n",
    "}"
   ]
  },
  {
   "cell_type": "code",
   "execution_count": 44,
   "metadata": {},
   "outputs": [
    {
     "name": "stderr",
     "output_type": "stream",
     "text": [
      "Found cached dataset parquet (/home/kydliceh/.cache/huggingface/datasets/hynky___parquet/hynky--czech_news_dataset-62438212bae7f23d/0.0.0/2a3b91fbd88a2c90d1dbbb32b460cf621d31bd5b05b934492fdef7d8d6f236ec)\n"
     ]
    },
    {
     "data": {
      "application/vnd.jupyter.widget-view+json": {
       "model_id": "bddb2c72247946268fe77a2827a9d4fd",
       "version_major": 2,
       "version_minor": 0
      },
      "text/plain": [
       "  0%|          | 0/6 [00:00<?, ?it/s]"
      ]
     },
     "metadata": {},
     "output_type": "display_data"
    }
   ],
   "source": [
    "dst = load_dataset(\"hynky/czech_news_dataset\")"
   ]
  },
  {
   "cell_type": "code",
   "execution_count": 44,
   "metadata": {},
   "outputs": [
    {
     "data": {
      "text/plain": [
       "'\" '"
      ]
     },
     "execution_count": 44,
     "metadata": {},
     "output_type": "execute_result"
    }
   ],
   "source": []
  },
  {
   "cell_type": "code",
   "execution_count": 48,
   "metadata": {},
   "outputs": [],
   "source": [
    "dst[\"test\"].features[\"category\"] = dst[\"test\"].features[\"category\"].names"
   ]
  },
  {
   "cell_type": "code",
   "execution_count": 46,
   "metadata": {},
   "outputs": [
    {
     "ename": "ImportError",
     "evalue": "attempted relative import with no known parent package",
     "output_type": "error",
     "traceback": [
      "\u001b[0;31m---------------------------------------------------------------------------\u001b[0m",
      "\u001b[0;31mImportError\u001b[0m                               Traceback (most recent call last)",
      "Cell \u001b[0;32mIn[46], line 1\u001b[0m\n\u001b[0;32m----> 1\u001b[0m \u001b[39mfrom\u001b[39;00m \u001b[39m.\u001b[39;00m\u001b[39m.\u001b[39;00m\u001b[39mdataset_creation\u001b[39;00m\u001b[39m.\u001b[39;00m\u001b[39mpostprocessing_utils\u001b[39;00m \u001b[39mimport\u001b[39;00m normalize_text\n\u001b[1;32m      2\u001b[0m dst[\u001b[39m\"\u001b[39m\u001b[39mtrain\u001b[39m\u001b[39m\"\u001b[39m]\u001b[39m.\u001b[39mmap(\u001b[39mlambda\u001b[39;00m x: {\u001b[39m\"\u001b[39m\u001b[39mcontent_norm\u001b[39m\u001b[39m\"\u001b[39m: normalize_text(x[\u001b[39m\"\u001b[39m\u001b[39mcontent\u001b[39m\u001b[39m\"\u001b[39m])})\n",
      "\u001b[0;31mImportError\u001b[0m: attempted relative import with no known parent package"
     ]
    }
   ],
   "source": [
    "from ..dataset_creation.postprocessing_utils import normalize_text\n",
    "dst = dst[\"train\"].map(lambda x: {\"content_norm\": normalize_text(x[\"content\"])})"
   ]
  },
  {
   "cell_type": "code",
   "execution_count": 45,
   "metadata": {},
   "outputs": [
    {
     "name": "stdout",
     "output_type": "stream",
     "text": [
      "\\begin{table}\n",
      "\\centering\n",
      "\\caption{Top 4 features for Category}\n",
      "\\label{tab:top4_category}\n",
      "\\begin{tabular}{lrrrr}\n",
      "\\toprule\n",
      "{} &               1 &                2 &              3 &               4 \\\\\n",
      "\\midrule\n",
      "Home                         &         mf dnes &     radiožurnálu &       idnes.cz &           klaus \\\\\n",
      "Sport                        &         fotbalu &              nhl &        turnaji &           kluby \\\\\n",
      "World                        &             osn &          . úřady &      : reuters &   vyšetřovatelé \\\\\n",
      "Culture                      &           album &               čt &       koncertu &          snímek \\\\\n",
      "Economics                    &           banka &         analytik &            řsd &       ekonomiky \\\\\n",
      "Crime                        &  mluvčí policie &       řekl právu &  miliónů korun &     řekla právu \\\\\n",
      "Technology                   &           herní &               pc &        windows &           . hra \\\\\n",
      "Tabloid News and Curiosities &            miss &         novinkám &          daily &        zpěvačka \\\\\n",
      "Lifestyle                    &        sexuální &       university &            sex &            sexu \\\\\n",
      "Car                          &     automobilky &       automobilů &          motor &              kw \\\\\n",
      "Science                      &           vědci &       vzdělávání &        fakulty &         školách \\\\\n",
      "Comments                     &             . ) &           babiše &   andrej babiš &          zemana \\\\\n",
      "Travel                       &         turistů &          turisté &              — &   profimedia.cz \\\\\n",
      "Finance                      &            bank &        pojištění &          banka &      pojišťovny \\\\\n",
      "Entrepreneurship             &     úřadu práce &              okd &       pivovaru &           horal \\\\\n",
      "Housing                      &       interiéru &        architekt &            . : &            vily \\\\\n",
      "Coronavirus                  &      koronaviru &      koronavirem &    koronavirus &      nakažených \\\\\n",
      "Business                     &           akcie &              čez &  zaměstnavatel &       meziročně \\\\\n",
      "Interviews                   &           videu &            výzvě &    ? podívejte &       podívejte \\\\\n",
      "Podcasts                     &               〜 &                ■ &    poslechněte &  poslechněte si \\\\\n",
      "Tabloid News and Curiosities &            miss &         novinkám &          daily &        zpěvačka \\\\\n",
      "Literature                   &           román &   nakladatelství &          kniha &          románu \\\\\n",
      "Christmas                    &          vánoce &            dárky &      vánočních &         cukroví \\\\\n",
      "Fine Arts                    &         galerie &  národní galerie &          obraz &             děl \\\\\n",
      "Bicycle                      &               〜 &         cyklisty &       cyklisté &        cyklistů \\\\\n",
      "\\bottomrule\n",
      "\\end{tabular}\n",
      "\\end{table}\n",
      "\n",
      "\\begin{table}\n",
      "\\centering\n",
      "\\caption{Top 4 features for Day of week}\n",
      "\\label{tab:top4_day_of_week}\n",
      "\\begin{tabular}{lrrrr}\n",
      "\\toprule\n",
      "{} &            1 &                2 &               3 &                 4 \\\\\n",
      "\\midrule\n",
      "Monday    &     pondělní &     pondělí ráno &  minulého týdne &    pondělí mluvčí \\\\\n",
      "Tuesday   &       úterní &       úterý ráno &        úterního &          pondělní \\\\\n",
      "Wednesday &    středeční &           úterní &     středu ráno &       řekl středu \\\\\n",
      "Thursday  &    čtvrteční &     čtvrtek ráno &       středeční &         . čtvrtek \\\\\n",
      "Friday    &   pátek ráno &     příští týden &         páteční &         čtvrteční \\\\\n",
      "Saturday  &  sobotu ráno &          páteční &    příští týden &  sobotu dopoledne \\\\\n",
      "Sunday    &      nedělní &  václava moravce &     neděli ráno &          sobotním \\\\\n",
      "\\bottomrule\n",
      "\\end{tabular}\n",
      "\\end{table}\n",
      "\n",
      "\\begin{table}\n",
      "\\centering\n",
      "\\caption{Top 4 features for Server}\n",
      "\\label{tab:top4_server}\n",
      "\\begin{tabular}{lrrrr}\n",
      "\\toprule\n",
      "{} &             1 &              2 &            3 &                 4 \\\\\n",
      "\\midrule\n",
      "SeznamZprávy.cz &         videu &  seznam zprávy &    podívejte &            ” říká \\\\\n",
      "iDNES.cz        &      idnes.cz &        mf dnes &     více zde &        více čtěte \\\\\n",
      "Aktuálně.cz     &   aktuálně.cz &        praha – &      video : &            brno - \\\\\n",
      "Novinky.cz      &    řekl právu &  miliónů korun &     novinkám &           , právo \\\\\n",
      "Deník.cz        &    čtěte také &       deníku . &  řekl deníku &                 ­ \\\\\n",
      "iRozhlas.cz     &  radiožurnálu &    radiožurnál &      | zdroj &  českého rozhlasu \\\\\n",
      "\\bottomrule\n",
      "\\end{tabular}\n",
      "\\end{table}\n",
      "\n",
      "\\begin{table}\n",
      "\\centering\n",
      "\\caption{Top 4 features for Gender}\n",
      "\\label{tab:top4_authors_cum_gender}\n",
      "\\begin{tabular}{lrrrr}\n",
      "\\toprule\n",
      "{} &                 1 &        2 &           3 &          4 \\\\\n",
      "\\midrule\n",
      "Man   &  důchodový systém &   důkazy &  důchodců a &  \" kroutil \\\\\n",
      "Woman &               epa &  došlých &  elektricky &      etapu \\\\\n",
      "Mixed &            band . &  dějství &     děkanka &       bili \\\\\n",
      "\\bottomrule\n",
      "\\end{tabular}\n",
      "\\end{table}\n",
      "\n"
     ]
    },
    {
     "name": "stderr",
     "output_type": "stream",
     "text": [
      "/COMP.TMP/kydliceh_8485/ipykernel_1976287/3034776479.py:23: FutureWarning: In future versions `DataFrame.to_latex` is expected to utilise the base implementation of `Styler.to_latex` for formatting and rendering. The arguments signature may therefore change. It is recommended instead to use `DataFrame.style.to_latex` which also contains additional functionality.\n",
      "  latex = transposed.to_latex(caption=f\"Top {k} features for {name}\", label=f\"tab:top{k}_{task}\", column_format=\"l\" + \"r\" * k)\n",
      "/COMP.TMP/kydliceh_8485/ipykernel_1976287/3034776479.py:23: FutureWarning: In future versions `DataFrame.to_latex` is expected to utilise the base implementation of `Styler.to_latex` for formatting and rendering. The arguments signature may therefore change. It is recommended instead to use `DataFrame.style.to_latex` which also contains additional functionality.\n",
      "  latex = transposed.to_latex(caption=f\"Top {k} features for {name}\", label=f\"tab:top{k}_{task}\", column_format=\"l\" + \"r\" * k)\n",
      "/COMP.TMP/kydliceh_8485/ipykernel_1976287/3034776479.py:23: FutureWarning: In future versions `DataFrame.to_latex` is expected to utilise the base implementation of `Styler.to_latex` for formatting and rendering. The arguments signature may therefore change. It is recommended instead to use `DataFrame.style.to_latex` which also contains additional functionality.\n",
      "  latex = transposed.to_latex(caption=f\"Top {k} features for {name}\", label=f\"tab:top{k}_{task}\", column_format=\"l\" + \"r\" * k)\n",
      "/COMP.TMP/kydliceh_8485/ipykernel_1976287/3034776479.py:23: FutureWarning: In future versions `DataFrame.to_latex` is expected to utilise the base implementation of `Styler.to_latex` for formatting and rendering. The arguments signature may therefore change. It is recommended instead to use `DataFrame.style.to_latex` which also contains additional functionality.\n",
      "  latex = transposed.to_latex(caption=f\"Top {k} features for {name}\", label=f\"tab:top{k}_{task}\", column_format=\"l\" + \"r\" * k)\n"
     ]
    }
   ],
   "source": [
    "import pandas as pd\n",
    "\n",
    "for task in table:\n",
    "    tbl = table[task]\n",
    "    # remove values and keep only the features\n",
    "    new_task = {}\n",
    "    for cls, features in tbl.items():\n",
    "        sorted_features = sorted(features, key=lambda x: x[1], reverse=True)\n",
    "        new_task[cls] = [x[0] for x in sorted_features]\n",
    "\n",
    "    df = pd.DataFrame(new_task)\n",
    "    if task == \"category\":\n",
    "        df = df[cat_sort_order]\n",
    "    name = translate_task[task]\n",
    "    # print latex but start from 1\n",
    "    transposed = df.T\n",
    "    transposed = transposed.rename(columns={i: i+1 for i in range(k)})\n",
    "    # unescape html\n",
    "    transposed = transposed.applymap(lambda x: unescape(x))\n",
    "\n",
    "    # write to file\n",
    "    with open(f\"top{k}_{task}.tex\", \"w\") as f:\n",
    "        latex = transposed.to_latex(caption=f\"Top {k} features for {name}\", label=f\"tab:top{k}_{task}\", column_format=\"l\" + \"r\" * k)\n",
    "        f.write(latex)\n",
    "        print(latex)\n"
   ]
  }
 ],
 "metadata": {
  "kernelspec": {
   "display_name": "Python 3 (ipykernel)",
   "language": "python",
   "name": "python3"
  },
  "language_info": {
   "codemirror_mode": {
    "name": "ipython",
    "version": 3
   },
   "file_extension": ".py",
   "mimetype": "text/x-python",
   "name": "python",
   "nbconvert_exporter": "python",
   "pygments_lexer": "ipython3",
   "version": "3.10.4"
  },
  "orig_nbformat": 4,
  "vscode": {
   "interpreter": {
    "hash": "4ef6dd07bac4272f716e725ea8b79349a1e1a5da9c3680ee7af3d80a9646d624"
   }
  }
 },
 "nbformat": 4,
 "nbformat_minor": 2
}
