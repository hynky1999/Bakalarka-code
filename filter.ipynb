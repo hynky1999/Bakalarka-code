{
 "cells": [
  {
   "cell_type": "code",
   "execution_count": 1,
   "metadata": {},
   "outputs": [],
   "source": [
    "%load_ext autoreload\n",
    "%autoreload 2"
   ]
  },
  {
   "cell_type": "markdown",
   "metadata": {},
   "source": []
  },
  {
   "cell_type": "code",
   "execution_count": 2,
   "metadata": {},
   "outputs": [
    {
     "name": "stderr",
     "output_type": "stream",
     "text": [
      "Warning : `load_model` does not return WordVectorModel or SupervisedModel any more, but a `FastText` object which is very similar.\n"
     ]
    }
   ],
   "source": [
    "from pathlib import Path\n",
    "from filtering import between\n",
    "from datetime import date, datetime\n",
    "\n",
    "folder = Path(\"base\")"
   ]
  },
  {
   "cell_type": "code",
   "execution_count": 3,
   "metadata": {},
   "outputs": [
    {
     "ename": "FileNotFoundError",
     "evalue": "[Errno 2] No such file or directory: 'final.jsonb'",
     "output_type": "error",
     "traceback": [
      "\u001b[0;31m---------------------------------------------------------------------------\u001b[0m",
      "\u001b[0;31mFileNotFoundError\u001b[0m                         Traceback (most recent call last)",
      "Cell \u001b[0;32mIn [3], line 4\u001b[0m\n\u001b[1;32m      2\u001b[0m \u001b[39mfrom\u001b[39;00m \u001b[39mtqdm\u001b[39;00m \u001b[39mimport\u001b[39;00m tqdm\n\u001b[1;32m      3\u001b[0m \u001b[39mfrom\u001b[39;00m \u001b[39murllib\u001b[39;00m\u001b[39m.\u001b[39;00m\u001b[39mparse\u001b[39;00m \u001b[39mimport\u001b[39;00m urlparse\n\u001b[0;32m----> 4\u001b[0m \u001b[39mfor\u001b[39;00m art \u001b[39min\u001b[39;00m load_jsonb(\u001b[39m\"\u001b[39m\u001b[39mfinal.jsonb\u001b[39m\u001b[39m\"\u001b[39m):\n\u001b[1;32m      5\u001b[0m     url \u001b[39m=\u001b[39m art[\u001b[39m\"\u001b[39m\u001b[39murl\u001b[39m\u001b[39m\"\u001b[39m]\n\u001b[1;32m      6\u001b[0m     parsed \u001b[39m=\u001b[39m urlparse(url)\u001b[39m.\u001b[39mnetloc\u001b[39m.\u001b[39msplit(\u001b[39m\"\u001b[39m\u001b[39m.\u001b[39m\u001b[39m\"\u001b[39m)\n",
      "File \u001b[0;32m~/Projects/Bakalarka/BakalarskaPrace/preprocess_utils.py:42\u001b[0m, in \u001b[0;36mload_jsonb\u001b[0;34m(filename, show_progress)\u001b[0m\n\u001b[1;32m     40\u001b[0m total \u001b[39m=\u001b[39m \u001b[39m0\u001b[39m\n\u001b[1;32m     41\u001b[0m \u001b[39mif\u001b[39;00m show_progress:\n\u001b[0;32m---> 42\u001b[0m     total \u001b[39m=\u001b[39m num_of_lines(filename)\n\u001b[1;32m     43\u001b[0m \u001b[39mwith\u001b[39;00m \u001b[39mopen\u001b[39m(filename, \u001b[39m\"\u001b[39m\u001b[39mr\u001b[39m\u001b[39m\"\u001b[39m) \u001b[39mas\u001b[39;00m f:\n\u001b[1;32m     44\u001b[0m     iterable \u001b[39m=\u001b[39m f\n",
      "File \u001b[0;32m~/Projects/Bakalarka/BakalarskaPrace/preprocess_utils.py:52\u001b[0m, in \u001b[0;36mnum_of_lines\u001b[0;34m(filename)\u001b[0m\n\u001b[1;32m     51\u001b[0m \u001b[39mdef\u001b[39;00m \u001b[39mnum_of_lines\u001b[39m(filename):\n\u001b[0;32m---> 52\u001b[0m     \u001b[39mwith\u001b[39;00m \u001b[39mopen\u001b[39;49m(filename, \u001b[39m\"\u001b[39;49m\u001b[39mr\u001b[39;49m\u001b[39m\"\u001b[39;49m) \u001b[39mas\u001b[39;00m f:\n\u001b[1;32m     53\u001b[0m         \u001b[39mreturn\u001b[39;00m \u001b[39msum\u001b[39m(\u001b[39m1\u001b[39m \u001b[39mfor\u001b[39;00m _ \u001b[39min\u001b[39;00m f)\n",
      "\u001b[0;31mFileNotFoundError\u001b[0m: [Errno 2] No such file or directory: 'final.jsonb'"
     ]
    }
   ],
   "source": [
    "from preprocess_utils import load_jsonb, save_jsonb \n",
    "from tqdm import tqdm\n",
    "from urllib.parse import urlparse\n",
    "for art in load_jsonb(\"final.jsonb\"):\n",
    "    url = art[\"url\"]\n",
    "    parsed = urlparse(url).netloc.split(\".\")\n",
    "    server = parsed[-1]\n",
    "    if server == \"cz\":\n",
    "        server = parsed[-2]\n",
    "\n",
    "    save_jsonb([art], folder / f\"{server}.jsonb\", \"a\", show_progress=False)\n",
    "\n",
    "\n",
    "\n",
    "    \n",
    "\n"
   ]
  },
  {
   "cell_type": "code",
   "execution_count": 6,
   "metadata": {},
   "outputs": [
    {
     "name": "stderr",
     "output_type": "stream",
     "text": [
      "100%|██████████| 1/1 [00:00<00:00, 1490.51it/s]\n"
     ]
    }
   ],
   "source": [
    "# Add from cz:403 to aktualne becauose of the same domain\n",
    "\n",
    "for art in load_jsonb(folder / \"cz:443.jsonb\"):\n",
    "    save_jsonb([art], folder / \"aktualne.jsonb\", \"a\", show_progress=False)\n"
   ]
  },
  {
   "cell_type": "code",
   "execution_count": 16,
   "metadata": {},
   "outputs": [
    {
     "name": "stdout",
     "output_type": "stream",
     "text": [
      "[('denik.jsonb', 1636639), ('seznamzpravy.jsonb', 77442), ('irozhlas.jsonb', 201681), ('idnes.jsonb', 530855), ('aktualne.jsonb', 165799), ('novinky.jsonb', 549661)]\n"
     ]
    }
   ],
   "source": [
    "from preprocess_utils import articles_num\n",
    "print(list(articles_num(folder)))"
   ]
  },
  {
   "cell_type": "code",
   "execution_count": 12,
   "metadata": {},
   "outputs": [],
   "source": [
    "# Custom config for each server\n",
    "configs = {\n",
    "    \"idnes\": {},\n",
    "    \"denik\": {},\n",
    "    \"aktualne\": {},\n",
    "    \"irozhlas\": {},\n",
    "    \"seznamzpravy\": {},\n",
    "    \"novinky\": {},\n",
    "}\n",
    "\n",
    "default = {\n",
    "    \"article_length\": between(300, None),\n",
    "    \"avg_word_length\": between(4.0, None),\n",
    "    \"num_words_ratio\": between(0.11, 0.22),\n",
    "    \"headline_length\": between(20, None),\n",
    "    \"brief_length\": between(40, None),\n",
    "    \"non_alpha_ratio\": between(None, 0.045),\n",
    "    \"date\": between(date(2000, 1, 1), date(2022, 8, 31)),\n",
    "}"
   ]
  },
  {
   "cell_type": "code",
   "execution_count": 14,
   "metadata": {},
   "outputs": [
    {
     "name": "stderr",
     "output_type": "stream",
     "text": [
      "100%|██████████| 1636639/1636639 [1:38:57<00:00, 275.64it/s]  \n",
      "100%|██████████| 77442/77442 [06:31<00:00, 198.00it/s]\n",
      "100%|██████████| 201681/201681 [13:53<00:00, 242.01it/s]\n",
      "100%|██████████| 530855/530855 [38:56<00:00, 227.19it/s]  \n",
      "100%|██████████| 165799/165799 [12:17<00:00, 224.82it/s]\n",
      "100%|██████████| 549661/549661 [31:07<00:00, 294.28it/s] \n"
     ]
    }
   ],
   "source": [
    "from typing import Callable, List\n",
    "from filtering import create_filter_by_stats, create_filter_by_cz_lang, create_config \n",
    "from preprocess_utils import load_jsonb, save_jsonb\n",
    "from postprocessing_utils import postprocess_authors, filter_author, add_server, postprocess_brief, postprocess_category, postprocess_headline, postprocess_date, as_Article, JSONArticleEncoder\n",
    "\n",
    "from functools import reduce\n",
    "filtered_folder = Path(\"article_json_filtered\")\n",
    "servers = [f for f in folder.iterdir()]\n",
    "\n",
    "ratio = 0.75\n",
    "for f in servers:\n",
    "    filters = [\n",
    "        create_filter_by_cz_lang(),\n",
    "        create_filter_by_stats(create_config(configs[f.stem], default))\n",
    "    ]\n",
    "\n",
    "    augmentations: List[Callable[[dict], dict]] = [add_server(f.stem), filter_author, postprocess_authors, postprocess_brief, postprocess_category, postprocess_headline, postprocess_date]\n",
    "\n",
    "\n",
    "    articles = load_jsonb(f)\n",
    "    articles = filter(lambda x: all(f(x) for f in filters), articles)\n",
    "\n",
    "\n",
    "    # Apply as df filters as cold be faster    \n",
    "    articles = (reduce(lambda x, f: f(x), augmentations, article) for article in articles)\n",
    "\n",
    "    as_articles = (as_Article(article) for article in articles)\n",
    "    save_jsonb(as_articles, filtered_folder / f\"{f.stem}.jsonb\", encoder=JSONArticleEncoder, show_progress=False)\n",
    "\n",
    "         \n",
    "\n",
    "\n",
    "\n",
    "    "
   ]
  },
  {
   "cell_type": "code",
   "execution_count": 15,
   "metadata": {},
   "outputs": [
    {
     "name": "stderr",
     "output_type": "stream",
     "text": [
      "Warning : `load_model` does not return WordVectorModel or SupervisedModel any more, but a `FastText` object which is very similar.\n"
     ]
    },
    {
     "name": "stdout",
     "output_type": "stream",
     "text": [
      "[('denik.jsonb', 1185153), ('seznamzpravy.jsonb', 67379), ('irozhlas.jsonb', 172458), ('idnes.jsonb', 314479), ('aktualne.jsonb', 118210), ('novinky.jsonb', 372545)]\n"
     ]
    }
   ],
   "source": [
    "\n",
    "from preprocess_utils import articles_num\n",
    "print(list(articles_num(filtered_folder)))"
   ]
  },
  {
   "cell_type": "code",
   "execution_count": 18,
   "metadata": {},
   "outputs": [
    {
     "name": "stderr",
     "output_type": "stream",
     "text": [
      "278it [00:32, 12.33it/s]"
     ]
    }
   ],
   "source": [
    "# category fix\n",
    "fixed_folder = Path(\"category_fixed\")\n",
    "for f in filtered_folder.iterdir():\n",
    "    articles = load_jsonb(f)\n",
    "    articles = (postprocess_category(article) for article in articles)\n",
    "    save_jsonb(articles, fixed_folder / f.name, encoder=JSONArticleEncoder, show_progress=True)\n"
   ]
  },
  {
   "cell_type": "code",
   "execution_count": 17,
   "metadata": {},
   "outputs": [
    {
     "name": "stderr",
     "output_type": "stream",
     "text": [
      " 22%|██▏       | 259652/1185153 [00:55<03:19, 4639.94it/s]\n"
     ]
    },
    {
     "ename": "KeyboardInterrupt",
     "evalue": "",
     "output_type": "error",
     "traceback": [
      "\u001b[0;31m---------------------------------------------------------------------------\u001b[0m",
      "\u001b[0;31mKeyboardInterrupt\u001b[0m                         Traceback (most recent call last)",
      "Cell \u001b[0;32mIn [17], line 10\u001b[0m\n\u001b[1;32m      8\u001b[0m none_articles \u001b[39m=\u001b[39m (article \u001b[39mfor\u001b[39;00m article \u001b[39min\u001b[39;00m all_articles \u001b[39mif\u001b[39;00m article[\u001b[39m\"\u001b[39m\u001b[39mdate\u001b[39m\u001b[39m\"\u001b[39m] \u001b[39mis\u001b[39;00m \u001b[39mNone\u001b[39;00m)\n\u001b[1;32m      9\u001b[0m articles \u001b[39m=\u001b[39m (article \u001b[39mfor\u001b[39;00m article \u001b[39min\u001b[39;00m all_articles \u001b[39mif\u001b[39;00m article[\u001b[39m\"\u001b[39m\u001b[39mdate\u001b[39m\u001b[39m\"\u001b[39m] \u001b[39mis\u001b[39;00m \u001b[39mnot\u001b[39;00m \u001b[39mNone\u001b[39;00m)\n\u001b[0;32m---> 10\u001b[0m sorted_articles \u001b[39m=\u001b[39m \u001b[39msorted\u001b[39;49m(articles, key\u001b[39m=\u001b[39;49m\u001b[39mlambda\u001b[39;49;00m x: date\u001b[39m.\u001b[39;49mfromisoformat(x[\u001b[39m\"\u001b[39;49m\u001b[39mdate\u001b[39;49m\u001b[39m\"\u001b[39;49m]))\n\u001b[1;32m     11\u001b[0m \u001b[39m# Randomly insert none articles\u001b[39;00m\n\u001b[1;32m     12\u001b[0m \u001b[39mfor\u001b[39;00m none_art \u001b[39min\u001b[39;00m none_articles:\n",
      "Cell \u001b[0;32mIn [17], line 9\u001b[0m, in \u001b[0;36m<genexpr>\u001b[0;34m(.0)\u001b[0m\n\u001b[1;32m      7\u001b[0m all_articles \u001b[39m=\u001b[39m (article \u001b[39mfor\u001b[39;00m f \u001b[39min\u001b[39;00m servers \u001b[39mfor\u001b[39;00m article \u001b[39min\u001b[39;00m load_jsonb(f))\n\u001b[1;32m      8\u001b[0m none_articles \u001b[39m=\u001b[39m (article \u001b[39mfor\u001b[39;00m article \u001b[39min\u001b[39;00m all_articles \u001b[39mif\u001b[39;00m article[\u001b[39m\"\u001b[39m\u001b[39mdate\u001b[39m\u001b[39m\"\u001b[39m] \u001b[39mis\u001b[39;00m \u001b[39mNone\u001b[39;00m)\n\u001b[0;32m----> 9\u001b[0m articles \u001b[39m=\u001b[39m (article \u001b[39mfor\u001b[39;00m article \u001b[39min\u001b[39;00m all_articles \u001b[39mif\u001b[39;00m article[\u001b[39m\"\u001b[39m\u001b[39mdate\u001b[39m\u001b[39m\"\u001b[39m] \u001b[39mis\u001b[39;00m \u001b[39mnot\u001b[39;00m \u001b[39mNone\u001b[39;00m)\n\u001b[1;32m     10\u001b[0m sorted_articles \u001b[39m=\u001b[39m \u001b[39msorted\u001b[39m(articles, key\u001b[39m=\u001b[39m\u001b[39mlambda\u001b[39;00m x: date\u001b[39m.\u001b[39mfromisoformat(x[\u001b[39m\"\u001b[39m\u001b[39mdate\u001b[39m\u001b[39m\"\u001b[39m]))\n\u001b[1;32m     11\u001b[0m \u001b[39m# Randomly insert none articles\u001b[39;00m\n",
      "Cell \u001b[0;32mIn [17], line 7\u001b[0m, in \u001b[0;36m<genexpr>\u001b[0;34m(.0)\u001b[0m\n\u001b[1;32m      4\u001b[0m output_folder \u001b[39m=\u001b[39m Path(\u001b[39m\"\u001b[39m\u001b[39mfinal_dataset\u001b[39m\u001b[39m\"\u001b[39m)\n\u001b[1;32m      5\u001b[0m servers \u001b[39m=\u001b[39m [f \u001b[39mfor\u001b[39;00m f \u001b[39min\u001b[39;00m filtered_folder\u001b[39m.\u001b[39miterdir()]\n\u001b[0;32m----> 7\u001b[0m all_articles \u001b[39m=\u001b[39m (article \u001b[39mfor\u001b[39;00m f \u001b[39min\u001b[39;00m servers \u001b[39mfor\u001b[39;00m article \u001b[39min\u001b[39;00m load_jsonb(f))\n\u001b[1;32m      8\u001b[0m none_articles \u001b[39m=\u001b[39m (article \u001b[39mfor\u001b[39;00m article \u001b[39min\u001b[39;00m all_articles \u001b[39mif\u001b[39;00m article[\u001b[39m\"\u001b[39m\u001b[39mdate\u001b[39m\u001b[39m\"\u001b[39m] \u001b[39mis\u001b[39;00m \u001b[39mNone\u001b[39;00m)\n\u001b[1;32m      9\u001b[0m articles \u001b[39m=\u001b[39m (article \u001b[39mfor\u001b[39;00m article \u001b[39min\u001b[39;00m all_articles \u001b[39mif\u001b[39;00m article[\u001b[39m\"\u001b[39m\u001b[39mdate\u001b[39m\u001b[39m\"\u001b[39m] \u001b[39mis\u001b[39;00m \u001b[39mnot\u001b[39;00m \u001b[39mNone\u001b[39;00m)\n",
      "File \u001b[0;32m~/Projects/Bakalarka/BakalarskaPrace/preprocess_utils.py:48\u001b[0m, in \u001b[0;36mload_jsonb\u001b[0;34m(filename, show_progress)\u001b[0m\n\u001b[1;32m     46\u001b[0m     iterable \u001b[39m=\u001b[39m tqdm(f, total\u001b[39m=\u001b[39mtotal)\n\u001b[1;32m     47\u001b[0m \u001b[39mfor\u001b[39;00m line \u001b[39min\u001b[39;00m iterable:\n\u001b[0;32m---> 48\u001b[0m     \u001b[39myield\u001b[39;00m json\u001b[39m.\u001b[39;49mloads(line)\n",
      "File \u001b[0;32m~/.conda/envs/NLP/lib/python3.10/json/__init__.py:346\u001b[0m, in \u001b[0;36mloads\u001b[0;34m(s, cls, object_hook, parse_float, parse_int, parse_constant, object_pairs_hook, **kw)\u001b[0m\n\u001b[1;32m    341\u001b[0m     s \u001b[39m=\u001b[39m s\u001b[39m.\u001b[39mdecode(detect_encoding(s), \u001b[39m'\u001b[39m\u001b[39msurrogatepass\u001b[39m\u001b[39m'\u001b[39m)\n\u001b[1;32m    343\u001b[0m \u001b[39mif\u001b[39;00m (\u001b[39mcls\u001b[39m \u001b[39mis\u001b[39;00m \u001b[39mNone\u001b[39;00m \u001b[39mand\u001b[39;00m object_hook \u001b[39mis\u001b[39;00m \u001b[39mNone\u001b[39;00m \u001b[39mand\u001b[39;00m\n\u001b[1;32m    344\u001b[0m         parse_int \u001b[39mis\u001b[39;00m \u001b[39mNone\u001b[39;00m \u001b[39mand\u001b[39;00m parse_float \u001b[39mis\u001b[39;00m \u001b[39mNone\u001b[39;00m \u001b[39mand\u001b[39;00m\n\u001b[1;32m    345\u001b[0m         parse_constant \u001b[39mis\u001b[39;00m \u001b[39mNone\u001b[39;00m \u001b[39mand\u001b[39;00m object_pairs_hook \u001b[39mis\u001b[39;00m \u001b[39mNone\u001b[39;00m \u001b[39mand\u001b[39;00m \u001b[39mnot\u001b[39;00m kw):\n\u001b[0;32m--> 346\u001b[0m     \u001b[39mreturn\u001b[39;00m _default_decoder\u001b[39m.\u001b[39;49mdecode(s)\n\u001b[1;32m    347\u001b[0m \u001b[39mif\u001b[39;00m \u001b[39mcls\u001b[39m \u001b[39mis\u001b[39;00m \u001b[39mNone\u001b[39;00m:\n\u001b[1;32m    348\u001b[0m     \u001b[39mcls\u001b[39m \u001b[39m=\u001b[39m JSONDecoder\n",
      "File \u001b[0;32m~/.conda/envs/NLP/lib/python3.10/json/decoder.py:337\u001b[0m, in \u001b[0;36mJSONDecoder.decode\u001b[0;34m(self, s, _w)\u001b[0m\n\u001b[1;32m    332\u001b[0m \u001b[39mdef\u001b[39;00m \u001b[39mdecode\u001b[39m(\u001b[39mself\u001b[39m, s, _w\u001b[39m=\u001b[39mWHITESPACE\u001b[39m.\u001b[39mmatch):\n\u001b[1;32m    333\u001b[0m     \u001b[39m\"\"\"Return the Python representation of ``s`` (a ``str`` instance\u001b[39;00m\n\u001b[1;32m    334\u001b[0m \u001b[39m    containing a JSON document).\u001b[39;00m\n\u001b[1;32m    335\u001b[0m \n\u001b[1;32m    336\u001b[0m \u001b[39m    \"\"\"\u001b[39;00m\n\u001b[0;32m--> 337\u001b[0m     obj, end \u001b[39m=\u001b[39m \u001b[39mself\u001b[39;49m\u001b[39m.\u001b[39;49mraw_decode(s, idx\u001b[39m=\u001b[39;49m_w(s, \u001b[39m0\u001b[39;49m)\u001b[39m.\u001b[39;49mend())\n\u001b[1;32m    338\u001b[0m     end \u001b[39m=\u001b[39m _w(s, end)\u001b[39m.\u001b[39mend()\n\u001b[1;32m    339\u001b[0m     \u001b[39mif\u001b[39;00m end \u001b[39m!=\u001b[39m \u001b[39mlen\u001b[39m(s):\n",
      "File \u001b[0;32m~/.conda/envs/NLP/lib/python3.10/json/decoder.py:353\u001b[0m, in \u001b[0;36mJSONDecoder.raw_decode\u001b[0;34m(self, s, idx)\u001b[0m\n\u001b[1;32m    344\u001b[0m \u001b[39m\"\"\"Decode a JSON document from ``s`` (a ``str`` beginning with\u001b[39;00m\n\u001b[1;32m    345\u001b[0m \u001b[39ma JSON document) and return a 2-tuple of the Python\u001b[39;00m\n\u001b[1;32m    346\u001b[0m \u001b[39mrepresentation and the index in ``s`` where the document ended.\u001b[39;00m\n\u001b[0;32m   (...)\u001b[0m\n\u001b[1;32m    350\u001b[0m \n\u001b[1;32m    351\u001b[0m \u001b[39m\"\"\"\u001b[39;00m\n\u001b[1;32m    352\u001b[0m \u001b[39mtry\u001b[39;00m:\n\u001b[0;32m--> 353\u001b[0m     obj, end \u001b[39m=\u001b[39m \u001b[39mself\u001b[39;49m\u001b[39m.\u001b[39;49mscan_once(s, idx)\n\u001b[1;32m    354\u001b[0m \u001b[39mexcept\u001b[39;00m \u001b[39mStopIteration\u001b[39;00m \u001b[39mas\u001b[39;00m err:\n\u001b[1;32m    355\u001b[0m     \u001b[39mraise\u001b[39;00m JSONDecodeError(\u001b[39m\"\u001b[39m\u001b[39mExpecting value\u001b[39m\u001b[39m\"\u001b[39m, s, err\u001b[39m.\u001b[39mvalue) \u001b[39mfrom\u001b[39;00m \u001b[39mNone\u001b[39m\n",
      "\u001b[0;31mKeyboardInterrupt\u001b[0m: "
     ]
    }
   ],
   "source": [
    "# Create splits 70/20/10 by date\n",
    "from datetime import date\n",
    "import random\n",
    "output_folder = Path(\"final_dataset\")\n",
    "servers = [f for f in fixed_folder.iterdir()]\n",
    "\n",
    "all_articles = (article for f in servers for article in load_jsonb(f))\n",
    "none_articles = (article for article in all_articles if article[\"date\"] is None)\n",
    "articles = (article for article in all_articles if article[\"date\"] is not None)\n",
    "sorted_articles = sorted(articles, key=lambda x: date.fromisoformat(x[\"date\"]))\n",
    "# Randomly insert none articles\n",
    "for none_art in none_articles:\n",
    "    index = random.randint(0, len(sorted_articles))\n",
    "    sorted_articles.insert(index, none_art)\n",
    "\n",
    "train = sorted_articles[:int(len(sorted_articles) * 0.7)]\n",
    "dev = sorted_articles[int(len(sorted_articles) * 0.7):int(len(sorted_articles) * 0.9)]\n",
    "test = sorted_articles[int(len(sorted_articles) * 0.9):]\n",
    "\n",
    "save_jsonb(train, output_folder / \"train.jsonb\", show_progress=True)\n",
    "save_jsonb(dev, output_folder / \"dev.jsonb\", show_progress=True)\n",
    "save_jsonb(test, output_folder / \"test.jsonb\", show_progress=True)\n",
    "\n"
   ]
  }
 ],
 "metadata": {
  "kernelspec": {
   "display_name": "Python 3.10.4 ('NLP')",
   "language": "python",
   "name": "python3"
  },
  "language_info": {
   "codemirror_mode": {
    "name": "ipython",
    "version": 3
   },
   "file_extension": ".py",
   "mimetype": "text/x-python",
   "name": "python",
   "nbconvert_exporter": "python",
   "pygments_lexer": "ipython3",
   "version": "3.10.4"
  },
  "orig_nbformat": 4,
  "vscode": {
   "interpreter": {
    "hash": "47d1cf54bf9cf5fce4b000eacb105df7d7e5f1fe165267018e0a6855939e5736"
   }
  }
 },
 "nbformat": 4,
 "nbformat_minor": 2
}
