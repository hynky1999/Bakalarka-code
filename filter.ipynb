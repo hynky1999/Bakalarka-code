{
 "cells": [
  {
   "cell_type": "code",
   "execution_count": 1,
   "metadata": {},
   "outputs": [],
   "source": [
    "%load_ext autoreload\n",
    "%autoreload 2"
   ]
  },
  {
   "cell_type": "code",
   "execution_count": 3,
   "metadata": {},
   "outputs": [],
   "source": [
    "from pathlib import Path\n",
    "from filtering import between\n",
    "from datetime import date, datetime\n",
    "\n",
    "folder = Path(\"base\")"
   ]
  },
  {
   "cell_type": "code",
   "execution_count": 5,
   "metadata": {},
   "outputs": [
    {
     "name": "stderr",
     "output_type": "stream",
     "text": [
      "100%|██████████| 3193720/3193720 [14:31<00:00, 3664.86it/s]\n"
     ]
    }
   ],
   "source": [
    "from preprocess_utils import load_jsonb, save_jsonb \n",
    "from tqdm import tqdm\n",
    "from urllib.parse import urlparse\n",
    "for art in load_jsonb(\"final.jsonb\"):\n",
    "    url = art[\"url\"]\n",
    "    parsed = urlparse(url).netloc.split(\".\")\n",
    "    server = parsed[-1]\n",
    "    if server == \"cz\":\n",
    "        server = parsed[-2]\n",
    "\n",
    "    save_jsonb([art], folder / f\"{server}.jsonb\", \"a\", show_progress=False)\n",
    "\n",
    "\n",
    "\n",
    "    \n",
    "\n"
   ]
  },
  {
   "cell_type": "code",
   "execution_count": 6,
   "metadata": {},
   "outputs": [
    {
     "name": "stderr",
     "output_type": "stream",
     "text": [
      "100%|██████████| 1/1 [00:00<00:00, 1490.51it/s]\n"
     ]
    }
   ],
   "source": [
    "# Add from cz:403 to aktualne becauose of the same domain\n",
    "\n",
    "for art in load_jsonb(folder / \"cz:443.jsonb\"):\n",
    "    save_jsonb([art], folder / \"aktualne.jsonb\", \"a\", show_progress=False)\n"
   ]
  },
  {
   "cell_type": "code",
   "execution_count": 7,
   "metadata": {},
   "outputs": [
    {
     "name": "stdout",
     "output_type": "stream",
     "text": [
      "[('ihned.jsonb', 31643), ('denik.jsonb', 1636639), ('seznamzpravy.jsonb', 77442), ('irozhlas.jsonb', 201681), ('idnes.jsonb', 530855), ('aktualne.jsonb', 165799), ('novinky.jsonb', 549661)]\n"
     ]
    }
   ],
   "source": [
    "from preprocess_utils import articles_num\n",
    "print(list(articles_num(folder)))"
   ]
  },
  {
   "cell_type": "code",
   "execution_count": 10,
   "metadata": {},
   "outputs": [],
   "source": [
    "# Custom config for each server\n",
    "configs = {\n",
    "    \"idnes\": {},\n",
    "    \"denik\": {},\n",
    "    \"aktualne\": {},\n",
    "    \"irozhlas\": {},\n",
    "    \"seznamzpravy\": {},\n",
    "    \"novinky\": {},\n",
    "}\n",
    "\n",
    "default = {\n",
    "    \"article_length\": between(300, None),\n",
    "    \"avg_word_length\": between(4.0, None),\n",
    "    \"word_num_ratio\": between(None, 0.22),\n",
    "    \"headline_length\": between(16, None),\n",
    "    \"brief_length\": between(40, None),\n",
    "    \"non-alpha_ratio\": between(None, 0.045),\n",
    "    \"publication_date\": between(date(2000, 1, 1), date(2022, 8, 31)),\n",
    "}"
   ]
  },
  {
   "cell_type": "code",
   "execution_count": null,
   "metadata": {},
   "outputs": [],
   "source": [
    "from filtering import create_filter_by_stats, create_filter_by_cz_lang, create_config\n",
    "from preprocess_utils import load_jsonb, save_jsonb\n",
    "from postprocessing_utils import postprocess_authors, filter_author, add_server, postprocess_brief, postprocess_category, postprocess_headline, postprocess_date, as_Article\n",
    "\n",
    "ratio = 0.75\n",
    "for f in folder.iterdir():\n",
    "    filters = [\n",
    "        create_filter_by_cz_lang(),\n",
    "        create_filter_by_stats(create_config(configs[f.stem])), \n",
    "        ]\n",
    "\n",
    "    augmentations = [add_server, filter_author, postprocess_authors, postprocess_brief, postprocess_category, postprocess_headline, postprocess_date, as_Article]\n",
    "\n",
    "    articles = load_jsonb(f)\n",
    "    aritcles = (article for article in articles if all(f(article) for f in filters))\n",
    "\n",
    "    articles = (augmentation(article) for article in articles for augmentation in augmentations)\n",
    "    save_jsonb(articles, f\"article_json_filtered/{f.stem}.jsonl\")\n",
    "\n",
    "         \n",
    "\n",
    "\n",
    "\n",
    "    "
   ]
  }
 ],
 "metadata": {
  "kernelspec": {
   "display_name": "Python 3.10.4 ('NLP')",
   "language": "python",
   "name": "python3"
  },
  "language_info": {
   "codemirror_mode": {
    "name": "ipython",
    "version": 3
   },
   "file_extension": ".py",
   "mimetype": "text/x-python",
   "name": "python",
   "nbconvert_exporter": "python",
   "pygments_lexer": "ipython3",
   "version": "3.10.4"
  },
  "orig_nbformat": 4,
  "vscode": {
   "interpreter": {
    "hash": "47d1cf54bf9cf5fce4b000eacb105df7d7e5f1fe165267018e0a6855939e5736"
   }
  }
 },
 "nbformat": 4,
 "nbformat_minor": 2
}
