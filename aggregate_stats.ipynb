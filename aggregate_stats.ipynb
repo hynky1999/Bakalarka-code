{
 "cells": [
  {
   "cell_type": "code",
   "execution_count": 19,
   "metadata": {},
   "outputs": [],
   "source": [
    "from pathlib import Path\n",
    "agg_servers = {}\n",
    "\n",
    "for log in [x for x in Path(\"../Rocnikov-Projekt-2/logs/\").iterdir() if x.suffix == \".err\" and \"aggregator\" in x.name]:\n",
    "    server_name = log.stem.split(\"_\")[1]\n",
    "    with open(log, \"r\") as f:\n",
    "        last_line = f.readlines()[-1]\n",
    "        messages = int(last_line.split(\"-\")[-1].strip().split(\" \")[1])\n",
    "        agg_servers[server_name] = messages\n",
    "        "
   ]
  },
  {
   "cell_type": "code",
   "execution_count": 22,
   "metadata": {},
   "outputs": [
    {
     "name": "stdout",
     "output_type": "stream",
     "text": [
      "{'irozhlas.cz': 1015624, 'denik.cz': 13520220, 'idnes.cz': 26692819, 'seznamzpravy.cz': 280015, 'novinky.cz': 3808423, 'ihned.cz': 2158672, 'aktualne.cz': 1790014}\n"
     ]
    }
   ],
   "source": [
    "print(agg_servers)\n",
    "send = sum(agg_servers.values())"
   ]
  },
  {
   "cell_type": "code",
   "execution_count": 26,
   "metadata": {},
   "outputs": [
    {
     "name": "stdout",
     "output_type": "stream",
     "text": [
      "Sent 49265787 messages\n"
     ]
    }
   ],
   "source": [
    "print(f\"Sent {send} messages\")\n"
   ]
  },
  {
   "cell_type": "code",
   "execution_count": 28,
   "metadata": {},
   "outputs": [
    {
     "name": "stdout",
     "output_type": "stream",
     "text": [
      "(3193720, 8200439)\n"
     ]
    }
   ],
   "source": [
    "stats[0] > stats[1]\n"
   ]
  },
  {
   "cell_type": "code",
   "execution_count": null,
   "metadata": {},
   "outputs": [],
   "source": [
    "print(1)"
   ]
  },
  {
   "cell_type": "code",
   "execution_count": 16,
   "metadata": {},
   "outputs": [],
   "source": [
    "from pathlib import Path\n",
    "stats = (0,0)\n",
    "\n",
    "for log in [x for x in Path(\"../Rocnikov-Projekt-2/logs/\").iterdir() if x.suffix == \".err\" and \"processor\" in x.name]:\n",
    "    with open(log, \"r\") as f:\n",
    "        last_line = f.readlines()[-1]\n",
    "        extracted, processed = last_line.split(\"-\")[-1].strip().split(\" \")[1].split(\"/\")\n",
    "        stats = (stats[0] + int(extracted), stats[1] + int(processed))\n",
    "\n",
    "        "
   ]
  }
 ],
 "metadata": {
  "kernelspec": {
   "display_name": "Python 3 (ipykernel)",
   "language": "python",
   "name": "python3"
  },
  "language_info": {
   "codemirror_mode": {
    "name": "ipython",
    "version": 3
   },
   "file_extension": ".py",
   "mimetype": "text/x-python",
   "name": "python",
   "nbconvert_exporter": "python",
   "pygments_lexer": "ipython3",
   "version": "3.10.4"
  },
  "orig_nbformat": 4
 },
 "nbformat": 4,
 "nbformat_minor": 2
}
